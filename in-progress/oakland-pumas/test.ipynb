{
 "cells": [
  {
   "cell_type": "code",
   "execution_count": 1,
   "metadata": {},
   "outputs": [
    {
     "name": "stderr",
     "output_type": "stream",
     "text": [
      "c:\\Users\\peteramerkhanian\\anaconda3\\lib\\site-packages\\geopandas\\_compat.py:123: UserWarning: The Shapely GEOS version (3.11.1-CAPI-1.17.1) is incompatible with the GEOS version PyGEOS was compiled with (3.10.4-CAPI-1.16.2). Conversions between both will be slow.\n",
      "  warnings.warn(\n",
      "C:\\Users\\peteramerkhanian\\AppData\\Local\\Temp\\ipykernel_16800\\1883136333.py:1: UserWarning: Shapely 2.0 is installed, but because PyGEOS is also installed, GeoPandas will still use PyGEOS by default for now. To force to use and test Shapely 2.0, you have to set the environment variable USE_PYGEOS=0. You can do this before starting the Python process, or in your code before importing geopandas:\n",
      "\n",
      "import os\n",
      "os.environ['USE_PYGEOS'] = '0'\n",
      "import geopandas\n",
      "\n",
      "In a future release, GeoPandas will switch to using Shapely by default. If you are using PyGEOS directly (calling PyGEOS functions on geometries from GeoPandas), this will then stop working and you are encouraged to migrate from PyGEOS to Shapely 2.0 (https://shapely.readthedocs.io/en/latest/migration_pygeos.html).\n",
      "  import geopandas as gpd\n"
     ]
    }
   ],
   "source": [
    "import geopandas as gpd\n",
    "import matplotlib.pyplot as plt\n",
    "\n"
   ]
  },
  {
   "cell_type": "code",
   "execution_count": 2,
   "metadata": {},
   "outputs": [
    {
     "name": "stdout",
     "output_type": "stream",
     "text": [
      "Collecting duckdb\n",
      "  Downloading duckdb-1.0.0-cp39-cp39-win_amd64.whl (10.0 MB)\n",
      "     --------------------------------------- 10.0/10.0 MB 17.2 MB/s eta 0:00:00\n",
      "Installing collected packages: duckdb\n",
      "Successfully installed duckdb-1.0.0\n"
     ]
    }
   ],
   "source": [
    "! pip install duckdb"
   ]
  },
  {
   "cell_type": "code",
   "execution_count": 48,
   "metadata": {},
   "outputs": [],
   "source": [
    "# Load the shapefile\n",
    "shapefile_path = \"tl_2023_06_puma20.zip\"\n",
    "gdf_2020 = gpd.read_file(shapefile_path)"
   ]
  },
  {
   "cell_type": "code",
   "execution_count": 49,
   "metadata": {},
   "outputs": [],
   "source": [
    "# Load the shapefile\n",
    "shapefile_path = \"tl_2021_06_puma10.zip\"\n",
    "gdf_2010 = gpd.read_file(shapefile_path)"
   ]
  },
  {
   "attachments": {},
   "cell_type": "markdown",
   "metadata": {},
   "source": [
    "06 00102\n",
    "\n",
    "Alameda County (Northwest)--Oakland (Northwest) & Emeryville Cities PUMA\n",
    "\n",
    "06 00103\n",
    "\n",
    "Alameda County (Northeast)--Oakland (East) & Piedmont Cities PUMA\n",
    "\n",
    "06 00104\n",
    "\n",
    "Alameda County (North Central)--Oakland City (South Central) PUMA"
   ]
  },
  {
   "cell_type": "code",
   "execution_count": 50,
   "metadata": {},
   "outputs": [],
   "source": [
    "oak_2020 = gdf_2020[gdf_2020['NAMELSAD20'].str.lower().str.contains('oakland')]"
   ]
  },
  {
   "cell_type": "code",
   "execution_count": 51,
   "metadata": {},
   "outputs": [
    {
     "data": {
      "text/html": [
       "<div>\n",
       "<style scoped>\n",
       "    .dataframe tbody tr th:only-of-type {\n",
       "        vertical-align: middle;\n",
       "    }\n",
       "\n",
       "    .dataframe tbody tr th {\n",
       "        vertical-align: top;\n",
       "    }\n",
       "\n",
       "    .dataframe thead th {\n",
       "        text-align: right;\n",
       "    }\n",
       "</style>\n",
       "<table border=\"1\" class=\"dataframe\">\n",
       "  <thead>\n",
       "    <tr style=\"text-align: right;\">\n",
       "      <th></th>\n",
       "      <th>STATEFP20</th>\n",
       "      <th>PUMACE20</th>\n",
       "      <th>GEOID20</th>\n",
       "      <th>GEOIDFQ20</th>\n",
       "      <th>NAMELSAD20</th>\n",
       "      <th>MTFCC20</th>\n",
       "      <th>FUNCSTAT20</th>\n",
       "      <th>ALAND20</th>\n",
       "      <th>AWATER20</th>\n",
       "      <th>INTPTLAT20</th>\n",
       "      <th>INTPTLON20</th>\n",
       "      <th>geometry</th>\n",
       "    </tr>\n",
       "  </thead>\n",
       "  <tbody>\n",
       "    <tr>\n",
       "      <th>185</th>\n",
       "      <td>06</td>\n",
       "      <td>00111</td>\n",
       "      <td>0600111</td>\n",
       "      <td>795P200US0600111</td>\n",
       "      <td>Alameda County (Northwest)--Oakland City (Down...</td>\n",
       "      <td>G6120</td>\n",
       "      <td>S</td>\n",
       "      <td>27240901</td>\n",
       "      <td>8473733</td>\n",
       "      <td>+37.8160336</td>\n",
       "      <td>-122.2938475</td>\n",
       "      <td>POLYGON ((-122.26649 37.83340, -122.26651 37.8...</td>\n",
       "    </tr>\n",
       "    <tr>\n",
       "      <th>230</th>\n",
       "      <td>06</td>\n",
       "      <td>00123</td>\n",
       "      <td>0600123</td>\n",
       "      <td>795P200US0600123</td>\n",
       "      <td>Alameda County (Northwest)--Oakland City (San ...</td>\n",
       "      <td>G6120</td>\n",
       "      <td>S</td>\n",
       "      <td>14985193</td>\n",
       "      <td>677599</td>\n",
       "      <td>+37.7883397</td>\n",
       "      <td>-122.2301309</td>\n",
       "      <td>POLYGON ((-122.23340 37.80438, -122.23329 37.8...</td>\n",
       "    </tr>\n",
       "    <tr>\n",
       "      <th>245</th>\n",
       "      <td>06</td>\n",
       "      <td>00112</td>\n",
       "      <td>0600112</td>\n",
       "      <td>795P200US0600112</td>\n",
       "      <td>Alameda County (Northwest)--Oakland City (Oakl...</td>\n",
       "      <td>G6120</td>\n",
       "      <td>S</td>\n",
       "      <td>60860438</td>\n",
       "      <td>187919</td>\n",
       "      <td>+37.8089449</td>\n",
       "      <td>-122.1921159</td>\n",
       "      <td>POLYGON ((-122.20498 37.79736, -122.20553 37.7...</td>\n",
       "    </tr>\n",
       "    <tr>\n",
       "      <th>268</th>\n",
       "      <td>06</td>\n",
       "      <td>00113</td>\n",
       "      <td>0600113</td>\n",
       "      <td>795P200US0600113</td>\n",
       "      <td>Alameda County (West)--Oakland City (Elmhurst/...</td>\n",
       "      <td>G6120</td>\n",
       "      <td>S</td>\n",
       "      <td>41854495</td>\n",
       "      <td>4598674</td>\n",
       "      <td>+37.7451900</td>\n",
       "      <td>-122.1973468</td>\n",
       "      <td>POLYGON ((-122.16050 37.73761, -122.16079 37.7...</td>\n",
       "    </tr>\n",
       "  </tbody>\n",
       "</table>\n",
       "</div>"
      ],
      "text/plain": [
       "    STATEFP20 PUMACE20  GEOID20         GEOIDFQ20  \\\n",
       "185        06    00111  0600111  795P200US0600111   \n",
       "230        06    00123  0600123  795P200US0600123   \n",
       "245        06    00112  0600112  795P200US0600112   \n",
       "268        06    00113  0600113  795P200US0600113   \n",
       "\n",
       "                                            NAMELSAD20 MTFCC20 FUNCSTAT20  \\\n",
       "185  Alameda County (Northwest)--Oakland City (Down...   G6120          S   \n",
       "230  Alameda County (Northwest)--Oakland City (San ...   G6120          S   \n",
       "245  Alameda County (Northwest)--Oakland City (Oakl...   G6120          S   \n",
       "268  Alameda County (West)--Oakland City (Elmhurst/...   G6120          S   \n",
       "\n",
       "      ALAND20  AWATER20   INTPTLAT20    INTPTLON20  \\\n",
       "185  27240901   8473733  +37.8160336  -122.2938475   \n",
       "230  14985193    677599  +37.7883397  -122.2301309   \n",
       "245  60860438    187919  +37.8089449  -122.1921159   \n",
       "268  41854495   4598674  +37.7451900  -122.1973468   \n",
       "\n",
       "                                              geometry  \n",
       "185  POLYGON ((-122.26649 37.83340, -122.26651 37.8...  \n",
       "230  POLYGON ((-122.23340 37.80438, -122.23329 37.8...  \n",
       "245  POLYGON ((-122.20498 37.79736, -122.20553 37.7...  \n",
       "268  POLYGON ((-122.16050 37.73761, -122.16079 37.7...  "
      ]
     },
     "execution_count": 51,
     "metadata": {},
     "output_type": "execute_result"
    }
   ],
   "source": [
    "oak_2020"
   ]
  },
  {
   "cell_type": "code",
   "execution_count": 215,
   "metadata": {},
   "outputs": [
    {
     "data": {
      "image/png": "[encoded data removed]",
      "text/plain": [
       "<Figure size 640x480 with 1 Axes>"
      ]
     },
     "metadata": {},
     "output_type": "display_data"
    }
   ],
   "source": [
    "\n",
    "ax = oak_2020.plot()\n",
    "for idx, row in oak_2020.iterrows():\n",
    "    label_polygon(ax, row['PUMA'], row, idx, oak_2020, textsize=10)\n",
    "ax.set_axis_off()"
   ]
  },
  {
   "cell_type": "code",
   "execution_count": 59,
   "metadata": {},
   "outputs": [
    {
     "data": {
      "text/html": [
       "<div>\n",
       "<style scoped>\n",
       "    .dataframe tbody tr th:only-of-type {\n",
       "        vertical-align: middle;\n",
       "    }\n",
       "\n",
       "    .dataframe tbody tr th {\n",
       "        vertical-align: top;\n",
       "    }\n",
       "\n",
       "    .dataframe thead th {\n",
       "        text-align: right;\n",
       "    }\n",
       "</style>\n",
       "<table border=\"1\" class=\"dataframe\">\n",
       "  <thead>\n",
       "    <tr style=\"text-align: right;\">\n",
       "      <th></th>\n",
       "      <th>STATEFP10</th>\n",
       "      <th>PUMACE10</th>\n",
       "      <th>GEOID10</th>\n",
       "      <th>NAMELSAD10</th>\n",
       "      <th>MTFCC10</th>\n",
       "      <th>FUNCSTAT10</th>\n",
       "      <th>ALAND10</th>\n",
       "      <th>AWATER10</th>\n",
       "      <th>INTPTLAT10</th>\n",
       "      <th>INTPTLON10</th>\n",
       "      <th>geometry</th>\n",
       "    </tr>\n",
       "  </thead>\n",
       "  <tbody>\n",
       "    <tr>\n",
       "      <th>170</th>\n",
       "      <td>06</td>\n",
       "      <td>00103</td>\n",
       "      <td>0600103</td>\n",
       "      <td>Alameda County (Northeast)--Oakland (East) &amp; P...</td>\n",
       "      <td>G6120</td>\n",
       "      <td>S</td>\n",
       "      <td>71571456</td>\n",
       "      <td>181836</td>\n",
       "      <td>+37.8041308</td>\n",
       "      <td>-122.1916059</td>\n",
       "      <td>POLYGON ((-122.21356 37.85791, -122.21349 37.8...</td>\n",
       "    </tr>\n",
       "    <tr>\n",
       "      <th>183</th>\n",
       "      <td>06</td>\n",
       "      <td>00105</td>\n",
       "      <td>0600105</td>\n",
       "      <td>Alameda County (West)--San Leandro, Alameda &amp; ...</td>\n",
       "      <td>G6120</td>\n",
       "      <td>S</td>\n",
       "      <td>80528395</td>\n",
       "      <td>159194033</td>\n",
       "      <td>+37.7118542</td>\n",
       "      <td>-122.2178896</td>\n",
       "      <td>MULTIPOLYGON (((-122.11170 37.71295, -122.1117...</td>\n",
       "    </tr>\n",
       "    <tr>\n",
       "      <th>184</th>\n",
       "      <td>06</td>\n",
       "      <td>00102</td>\n",
       "      <td>0600102</td>\n",
       "      <td>Alameda County (Northwest)--Oakland (Northwest...</td>\n",
       "      <td>G6120</td>\n",
       "      <td>S</td>\n",
       "      <td>40311300</td>\n",
       "      <td>11469048</td>\n",
       "      <td>+37.8128270</td>\n",
       "      <td>-122.2820917</td>\n",
       "      <td>POLYGON ((-122.22098 37.79936, -122.22095 37.7...</td>\n",
       "    </tr>\n",
       "    <tr>\n",
       "      <th>211</th>\n",
       "      <td>06</td>\n",
       "      <td>00104</td>\n",
       "      <td>0600104</td>\n",
       "      <td>Alameda County (North Central)--Oakland City (...</td>\n",
       "      <td>G6120</td>\n",
       "      <td>S</td>\n",
       "      <td>24002802</td>\n",
       "      <td>239048</td>\n",
       "      <td>+37.7620457</td>\n",
       "      <td>-122.1903690</td>\n",
       "      <td>POLYGON ((-122.18681 37.73286, -122.18678 37.7...</td>\n",
       "    </tr>\n",
       "  </tbody>\n",
       "</table>\n",
       "</div>"
      ],
      "text/plain": [
       "    STATEFP10 PUMACE10  GEOID10  \\\n",
       "170        06    00103  0600103   \n",
       "183        06    00105  0600105   \n",
       "184        06    00102  0600102   \n",
       "211        06    00104  0600104   \n",
       "\n",
       "                                            NAMELSAD10 MTFCC10 FUNCSTAT10  \\\n",
       "170  Alameda County (Northeast)--Oakland (East) & P...   G6120          S   \n",
       "183  Alameda County (West)--San Leandro, Alameda & ...   G6120          S   \n",
       "184  Alameda County (Northwest)--Oakland (Northwest...   G6120          S   \n",
       "211  Alameda County (North Central)--Oakland City (...   G6120          S   \n",
       "\n",
       "      ALAND10   AWATER10   INTPTLAT10    INTPTLON10  \\\n",
       "170  71571456     181836  +37.8041308  -122.1916059   \n",
       "183  80528395  159194033  +37.7118542  -122.2178896   \n",
       "184  40311300   11469048  +37.8128270  -122.2820917   \n",
       "211  24002802     239048  +37.7620457  -122.1903690   \n",
       "\n",
       "                                              geometry  \n",
       "170  POLYGON ((-122.21356 37.85791, -122.21349 37.8...  \n",
       "183  MULTIPOLYGON (((-122.11170 37.71295, -122.1117...  \n",
       "184  POLYGON ((-122.22098 37.79936, -122.22095 37.7...  \n",
       "211  POLYGON ((-122.18681 37.73286, -122.18678 37.7...  "
      ]
     },
     "execution_count": 59,
     "metadata": {},
     "output_type": "execute_result"
    }
   ],
   "source": [
    "gdf_2010[gdf_2010['NAMELSAD10'].str.lower().str.contains('oakland')]"
   ]
  },
  {
   "cell_type": "code",
   "execution_count": 54,
   "metadata": {},
   "outputs": [],
   "source": [
    "# Load the shapefile\n",
    "shapefile_path = \"tl_2023_06_place.zip\"\n",
    "places = gpd.read_file(shapefile_path)"
   ]
  },
  {
   "cell_type": "code",
   "execution_count": 55,
   "metadata": {},
   "outputs": [
    {
     "data": {
      "text/html": [
       "<div>\n",
       "<style scoped>\n",
       "    .dataframe tbody tr th:only-of-type {\n",
       "        vertical-align: middle;\n",
       "    }\n",
       "\n",
       "    .dataframe tbody tr th {\n",
       "        vertical-align: top;\n",
       "    }\n",
       "\n",
       "    .dataframe thead th {\n",
       "        text-align: right;\n",
       "    }\n",
       "</style>\n",
       "<table border=\"1\" class=\"dataframe\">\n",
       "  <thead>\n",
       "    <tr style=\"text-align: right;\">\n",
       "      <th></th>\n",
       "      <th>STATEFP</th>\n",
       "      <th>PLACEFP</th>\n",
       "      <th>PLACENS</th>\n",
       "      <th>GEOID</th>\n",
       "      <th>GEOIDFQ</th>\n",
       "      <th>NAME</th>\n",
       "      <th>NAMELSAD</th>\n",
       "      <th>LSAD</th>\n",
       "      <th>CLASSFP</th>\n",
       "      <th>PCICBSA</th>\n",
       "      <th>MTFCC</th>\n",
       "      <th>FUNCSTAT</th>\n",
       "      <th>ALAND</th>\n",
       "      <th>AWATER</th>\n",
       "      <th>INTPTLAT</th>\n",
       "      <th>INTPTLON</th>\n",
       "      <th>geometry</th>\n",
       "    </tr>\n",
       "  </thead>\n",
       "  <tbody>\n",
       "    <tr>\n",
       "      <th>326</th>\n",
       "      <td>06</td>\n",
       "      <td>53000</td>\n",
       "      <td>02411292</td>\n",
       "      <td>0653000</td>\n",
       "      <td>1600000US0653000</td>\n",
       "      <td>Oakland</td>\n",
       "      <td>Oakland city</td>\n",
       "      <td>25</td>\n",
       "      <td>C1</td>\n",
       "      <td>Y</td>\n",
       "      <td>G4110</td>\n",
       "      <td>A</td>\n",
       "      <td>144944705</td>\n",
       "      <td>57160794</td>\n",
       "      <td>+37.7698464</td>\n",
       "      <td>-122.2256900</td>\n",
       "      <td>POLYGON ((-122.35588 37.83573, -122.35073 37.8...</td>\n",
       "    </tr>\n",
       "  </tbody>\n",
       "</table>\n",
       "</div>"
      ],
      "text/plain": [
       "    STATEFP PLACEFP   PLACENS    GEOID           GEOIDFQ     NAME  \\\n",
       "326      06   53000  02411292  0653000  1600000US0653000  Oakland   \n",
       "\n",
       "         NAMELSAD LSAD CLASSFP PCICBSA  MTFCC FUNCSTAT      ALAND    AWATER  \\\n",
       "326  Oakland city   25      C1       Y  G4110        A  144944705  57160794   \n",
       "\n",
       "        INTPTLAT      INTPTLON  \\\n",
       "326  +37.7698464  -122.2256900   \n",
       "\n",
       "                                              geometry  \n",
       "326  POLYGON ((-122.35588 37.83573, -122.35073 37.8...  "
      ]
     },
     "execution_count": 55,
     "metadata": {},
     "output_type": "execute_result"
    }
   ],
   "source": [
    "places[places['NAMELSAD'].str.lower().str.contains('oakland')]"
   ]
  },
  {
   "cell_type": "code",
   "execution_count": 212,
   "metadata": {},
   "outputs": [
    {
     "data": {
      "text/plain": [
       "<AxesSubplot: >"
      ]
     },
     "execution_count": 212,
     "metadata": {},
     "output_type": "execute_result"
    },
    {
     "data": {
      "image/png": "[encoded data removed]",
      "text/plain": [
       "<Figure size 640x480 with 1 Axes>"
      ]
     },
     "metadata": {},
     "output_type": "display_data"
    }
   ],
   "source": [
    "fig, ax  = plt.subplots()\n",
    "# gdf_2010[gdf_2010['NAMELSAD10'].str.lower().str.contains('oakland')].plot(ax=ax, alpha=1, color=\"orange\", edgecolor=\"red\")\n",
    "places[places['NAMELSAD'].str.lower().str.contains('oakland')].plot(ax=ax, alpha=1, color='red', linewidth=3, edgecolor=\"black\")\n",
    "gdf_2020[gdf_2020['NAMELSAD20'].str.lower().str.contains('oakland')].plot(ax=ax, alpha=1, color=\"blue\", edgecolor=\"green\")\n"
   ]
  },
  {
   "cell_type": "code",
   "execution_count": 60,
   "metadata": {},
   "outputs": [],
   "source": [
    "import pandas as pd"
   ]
  },
  {
   "cell_type": "code",
   "execution_count": 61,
   "metadata": {},
   "outputs": [],
   "source": [
    "df = pd.read_csv(\"usa_00015.csv\")"
   ]
  },
  {
   "cell_type": "code",
   "execution_count": 189,
   "metadata": {},
   "outputs": [],
   "source": [
    "df_oak = df[(df['COUNTYFIP'] == 1) &\n",
    "   df['PUMA']\n",
    "   .astype(str)\n",
    "   .isin(oak_2020['PUMACE20'].str.strip(\"0\").tolist()) &\n",
    "   ((df['FTOTINC'] < 9999999) & (df['FTOTINC'] > 0))\n",
    "   ] "
   ]
  },
  {
   "cell_type": "code",
   "execution_count": 190,
   "metadata": {},
   "outputs": [],
   "source": [
    "incomes = df_oak.groupby('PUMA')['FTOTINC'].mean().round().reset_index()"
   ]
  },
  {
   "cell_type": "code",
   "execution_count": 191,
   "metadata": {},
   "outputs": [],
   "source": [
    "import seaborn as sns"
   ]
  },
  {
   "cell_type": "code",
   "execution_count": 192,
   "metadata": {},
   "outputs": [
    {
     "name": "stderr",
     "output_type": "stream",
     "text": [
      "C:\\Users\\peteramerkhanian\\AppData\\Local\\Temp\\ipykernel_18480\\3529083284.py:1: SettingWithCopyWarning: \n",
      "A value is trying to be set on a copy of a slice from a DataFrame.\n",
      "Try using .loc[row_indexer,col_indexer] = value instead\n",
      "\n",
      "See the caveats in the documentation: https://pandas.pydata.org/pandas-docs/stable/user_guide/indexing.html#returning-a-view-versus-a-copy\n",
      "  df_oak['PUMA'] = df_oak['PUMA'].astype(str)\n"
     ]
    }
   ],
   "source": [
    "df_oak['PUMA'] = df_oak['PUMA'].astype(str)"
   ]
  },
  {
   "cell_type": "code",
   "execution_count": 193,
   "metadata": {},
   "outputs": [
    {
     "data": {
      "text/html": [
       "<div>\n",
       "<style scoped>\n",
       "    .dataframe tbody tr th:only-of-type {\n",
       "        vertical-align: middle;\n",
       "    }\n",
       "\n",
       "    .dataframe tbody tr th {\n",
       "        vertical-align: top;\n",
       "    }\n",
       "\n",
       "    .dataframe thead th {\n",
       "        text-align: right;\n",
       "    }\n",
       "</style>\n",
       "<table border=\"1\" class=\"dataframe\">\n",
       "  <thead>\n",
       "    <tr style=\"text-align: right;\">\n",
       "      <th></th>\n",
       "      <th>PUMA</th>\n",
       "      <th>FTOTINC</th>\n",
       "    </tr>\n",
       "  </thead>\n",
       "  <tbody>\n",
       "    <tr>\n",
       "      <th>0</th>\n",
       "      <td>111</td>\n",
       "      <td>157739.0</td>\n",
       "    </tr>\n",
       "    <tr>\n",
       "      <th>1</th>\n",
       "      <td>112</td>\n",
       "      <td>263020.0</td>\n",
       "    </tr>\n",
       "    <tr>\n",
       "      <th>2</th>\n",
       "      <td>113</td>\n",
       "      <td>107296.0</td>\n",
       "    </tr>\n",
       "    <tr>\n",
       "      <th>3</th>\n",
       "      <td>123</td>\n",
       "      <td>109716.0</td>\n",
       "    </tr>\n",
       "  </tbody>\n",
       "</table>\n",
       "</div>"
      ],
      "text/plain": [
       "  PUMA   FTOTINC\n",
       "0  111  157739.0\n",
       "1  112  263020.0\n",
       "2  113  107296.0\n",
       "3  123  109716.0"
      ]
     },
     "execution_count": 193,
     "metadata": {},
     "output_type": "execute_result"
    }
   ],
   "source": [
    "incomes['PUMA'] = incomes['PUMA'].astype(str)\n",
    "incomes"
   ]
  },
  {
   "cell_type": "code",
   "execution_count": 194,
   "metadata": {},
   "outputs": [
    {
     "name": "stderr",
     "output_type": "stream",
     "text": [
      "c:\\Users\\peteramerkhanian\\anaconda3\\lib\\site-packages\\geopandas\\geodataframe.py:1443: SettingWithCopyWarning: \n",
      "A value is trying to be set on a copy of a slice from a DataFrame.\n",
      "Try using .loc[row_indexer,col_indexer] = value instead\n",
      "\n",
      "See the caveats in the documentation: https://pandas.pydata.org/pandas-docs/stable/user_guide/indexing.html#returning-a-view-versus-a-copy\n",
      "  super().__setitem__(key, value)\n"
     ]
    }
   ],
   "source": [
    "oak_2020['PUMA'] = oak_2020.copy()['PUMACE20'].str.strip(\"0\")"
   ]
  },
  {
   "attachments": {},
   "cell_type": "markdown",
   "metadata": {},
   "source": []
  },
  {
   "cell_type": "code",
   "execution_count": 195,
   "metadata": {},
   "outputs": [],
   "source": [
    "def label_polygon(ax, label, row, idx, iter_df, textsize=10):\n",
    "    if row.geometry.geom_type == 'MultiPolygon':\n",
    "        for polygon in iter_df['geometry'][idx].geoms:\n",
    "            ax.annotate(text=label,\n",
    "                        size=textsize,\n",
    "                        xy=(polygon.centroid.x, polygon.centroid.y),\n",
    "                        horizontalalignment='center', verticalalignment='center')\n",
    "    else:\n",
    "        ax.annotate(text=label,\n",
    "                    size=textsize,\n",
    "                    xy=(row.geometry.centroid.x, row.geometry.centroid.y),\n",
    "                    horizontalalignment='center', verticalalignment='center')"
   ]
  },
  {
   "cell_type": "code",
   "execution_count": 197,
   "metadata": {},
   "outputs": [
    {
     "data": {
      "image/png": "[encoded data removed]",
      "text/plain": [
       "<Figure size 640x480 with 2 Axes>"
      ]
     },
     "metadata": {},
     "output_type": "display_data"
    }
   ],
   "source": [
    "ax = oak_2020.merge(incomes, on=\"PUMA\").plot(column='FTOTINC', legend=True)\n",
    "for idx, row in oak_2020.iterrows():\n",
    "    label_polygon(ax, row['PUMA'], row, idx, oak_2020, textsize=10)"
   ]
  },
  {
   "cell_type": "code",
   "execution_count": 198,
   "metadata": {},
   "outputs": [
    {
     "data": {
      "text/plain": [
       "<AxesSubplot: xlabel='PUMA', ylabel='FTOTINC'>"
      ]
     },
     "execution_count": 198,
     "metadata": {},
     "output_type": "execute_result"
    },
    {
     "data": {
      "image/png": "[encoded data removed]",
      "text/plain": [
       "<Figure size 640x480 with 1 Axes>"
      ]
     },
     "metadata": {},
     "output_type": "display_data"
    }
   ],
   "source": [
    "sns.barplot(x=\"PUMA\", y=\"FTOTINC\", data=df_oak)"
   ]
  },
  {
   "cell_type": "code",
   "execution_count": 199,
   "metadata": {},
   "outputs": [
    {
     "data": {
      "text/plain": [
       "<AxesSubplot: xlabel='FTOTINC', ylabel='PUMA'>"
      ]
     },
     "execution_count": 199,
     "metadata": {},
     "output_type": "execute_result"
    },
    {
     "data": {
      "image/png": "[encoded data removed]",
      "text/plain": [
       "<Figure size 640x480 with 1 Axes>"
      ]
     },
     "metadata": {},
     "output_type": "display_data"
    }
   ],
   "source": [
    "sns.boxplot(x=\"FTOTINC\", y=\"PUMA\", data=df_oak)"
   ]
  },
  {
   "cell_type": "code",
   "execution_count": 211,
   "metadata": {},
   "outputs": [
    {
     "data": {
      "text/plain": [
       "<matplotlib.lines.Line2D at 0x20d2aeabd30>"
      ]
     },
     "execution_count": 211,
     "metadata": {},
     "output_type": "execute_result"
    },
    {
     "data": {
      "image/png": "[encoded data removed]",
      "text/plain": [
       "<Figure size 640x480 with 1 Axes>"
      ]
     },
     "metadata": {},
     "output_type": "display_data"
    }
   ],
   "source": [
    "fig, ax = plt.subplots()\n",
    "sns.kdeplot(x=\"FTOTINC\", data=df_oak, ax=ax)\n",
    "ax.axvline(39570)\n",
    "ax.axvline(24470)"
   ]
  },
  {
   "cell_type": "code",
   "execution_count": 201,
   "metadata": {},
   "outputs": [
    {
     "name": "stderr",
     "output_type": "stream",
     "text": [
      "C:\\Users\\peteramerkhanian\\AppData\\Local\\Temp\\ipykernel_18480\\3674410578.py:1: SettingWithCopyWarning: \n",
      "A value is trying to be set on a copy of a slice from a DataFrame.\n",
      "Try using .loc[row_indexer,col_indexer] = value instead\n",
      "\n",
      "See the caveats in the documentation: https://pandas.pydata.org/pandas-docs/stable/user_guide/indexing.html#returning-a-view-versus-a-copy\n",
      "  df_oak['sup_pov'] = (df_oak['FTOTINC'] < 39570).astype(int)\n",
      "C:\\Users\\peteramerkhanian\\AppData\\Local\\Temp\\ipykernel_18480\\3674410578.py:2: SettingWithCopyWarning: \n",
      "A value is trying to be set on a copy of a slice from a DataFrame.\n",
      "Try using .loc[row_indexer,col_indexer] = value instead\n",
      "\n",
      "See the caveats in the documentation: https://pandas.pydata.org/pandas-docs/stable/user_guide/indexing.html#returning-a-view-versus-a-copy\n",
      "  df_oak['pov'] = (df_oak['FTOTINC'] < 24470).astype(int)\n"
     ]
    }
   ],
   "source": [
    "df_oak['sup_pov'] = (df_oak['FTOTINC'] < 39570).astype(int)\n",
    "df_oak['pov'] = (df_oak['FTOTINC'] < 24470).astype(int)"
   ]
  },
  {
   "cell_type": "code",
   "execution_count": 202,
   "metadata": {},
   "outputs": [],
   "source": [
    "df_oak_18 = df_oak[df_oak['AGE'] > 18]"
   ]
  },
  {
   "cell_type": "code",
   "execution_count": 203,
   "metadata": {},
   "outputs": [
    {
     "data": {
      "text/plain": [
       "0.1286730590782555"
      ]
     },
     "execution_count": 203,
     "metadata": {},
     "output_type": "execute_result"
    }
   ],
   "source": [
    "df_oak_18['pov'].mean()"
   ]
  },
  {
   "cell_type": "code",
   "execution_count": 206,
   "metadata": {},
   "outputs": [
    {
     "data": {
      "text/plain": [
       "0.19764924218991647"
      ]
     },
     "execution_count": 206,
     "metadata": {},
     "output_type": "execute_result"
    }
   ],
   "source": [
    "df_oak_18['sup_pov'].mean()"
   ]
  },
  {
   "cell_type": "code",
   "execution_count": 205,
   "metadata": {},
   "outputs": [
    {
     "data": {
      "text/plain": [
       "0.1433069508286406"
      ]
     },
     "execution_count": 205,
     "metadata": {},
     "output_type": "execute_result"
    }
   ],
   "source": [
    "(df_oak_18['pov'] * df_oak_18['PERWT']).sum()  / df_oak_18['PERWT'].sum()"
   ]
  },
  {
   "cell_type": "code",
   "execution_count": 208,
   "metadata": {},
   "outputs": [],
   "source": [
    "poverty = df_oak_18.groupby('PUMA')['sup_pov'].mean().round().reset_index()"
   ]
  },
  {
   "cell_type": "code",
   "execution_count": 210,
   "metadata": {},
   "outputs": [
    {
     "data": {
      "text/plain": [
       "<AxesSubplot: xlabel='PUMA', ylabel='pov'>"
      ]
     },
     "execution_count": 210,
     "metadata": {},
     "output_type": "execute_result"
    },
    {
     "data": {
      "image/png": "[encoded data removed]",
      "text/plain": [
       "<Figure size 640x480 with 1 Axes>"
      ]
     },
     "metadata": {},
     "output_type": "display_data"
    }
   ],
   "source": [
    "sns.barplot(x=\"PUMA\", y=\"pov\", data=df_oak)"
   ]
  },
  {
   "cell_type": "code",
   "execution_count": 209,
   "metadata": {},
   "outputs": [
    {
     "data": {
      "text/plain": [
       "<AxesSubplot: xlabel='PUMA', ylabel='sup_pov'>"
      ]
     },
     "execution_count": 209,
     "metadata": {},
     "output_type": "execute_result"
    },
    {
     "data": {
      "image/png": "[encoded data removed]",
      "text/plain": [
       "<Figure size 640x480 with 1 Axes>"
      ]
     },
     "metadata": {},
     "output_type": "display_data"
    }
   ],
   "source": [
    "sns.barplot(x=\"PUMA\", y=\"sup_pov\", data=df_oak)"
   ]
  },
  {
   "attachments": {},
   "cell_type": "markdown",
   "metadata": {},
   "source": [
    "Show the change to PUMAs\n",
    "Match the place-based "
   ]
  },
  {
   "cell_type": "code",
   "execution_count": 188,
   "metadata": {},
   "outputs": [
    {
     "data": {
      "text/html": [
       "<div>\n",
       "<style scoped>\n",
       "    .dataframe tbody tr th:only-of-type {\n",
       "        vertical-align: middle;\n",
       "    }\n",
       "\n",
       "    .dataframe tbody tr th {\n",
       "        vertical-align: top;\n",
       "    }\n",
       "\n",
       "    .dataframe thead th {\n",
       "        text-align: right;\n",
       "    }\n",
       "</style>\n",
       "<table border=\"1\" class=\"dataframe\">\n",
       "  <thead>\n",
       "    <tr style=\"text-align: right;\">\n",
       "      <th></th>\n",
       "      <th>YEAR</th>\n",
       "      <th>SAMPLE</th>\n",
       "      <th>SERIAL</th>\n",
       "      <th>CBSERIAL</th>\n",
       "      <th>HHWT</th>\n",
       "      <th>CLUSTER</th>\n",
       "      <th>STATEFIP</th>\n",
       "      <th>COUNTYFIP</th>\n",
       "      <th>PUMA</th>\n",
       "      <th>STRATA</th>\n",
       "      <th>...</th>\n",
       "      <th>AGE</th>\n",
       "      <th>RACE</th>\n",
       "      <th>RACED</th>\n",
       "      <th>HISPAN</th>\n",
       "      <th>HISPAND</th>\n",
       "      <th>INCTOT</th>\n",
       "      <th>FTOTINC</th>\n",
       "      <th>INCWAGE</th>\n",
       "      <th>pov</th>\n",
       "      <th>sup_pov</th>\n",
       "    </tr>\n",
       "  </thead>\n",
       "  <tbody>\n",
       "    <tr>\n",
       "      <th>386106</th>\n",
       "      <td>2022</td>\n",
       "      <td>202201</td>\n",
       "      <td>74737</td>\n",
       "      <td>2022010000467</td>\n",
       "      <td>56.0</td>\n",
       "      <td>2022000747371</td>\n",
       "      <td>6</td>\n",
       "      <td>1</td>\n",
       "      <td>111</td>\n",
       "      <td>11106</td>\n",
       "      <td>...</td>\n",
       "      <td>56</td>\n",
       "      <td>2</td>\n",
       "      <td>200</td>\n",
       "      <td>0</td>\n",
       "      <td>0</td>\n",
       "      <td>480</td>\n",
       "      <td>9999999</td>\n",
       "      <td>0</td>\n",
       "      <td>1</td>\n",
       "      <td>1</td>\n",
       "    </tr>\n",
       "    <tr>\n",
       "      <th>386107</th>\n",
       "      <td>2022</td>\n",
       "      <td>202201</td>\n",
       "      <td>74738</td>\n",
       "      <td>2022010000473</td>\n",
       "      <td>15.0</td>\n",
       "      <td>2022000747381</td>\n",
       "      <td>6</td>\n",
       "      <td>1</td>\n",
       "      <td>113</td>\n",
       "      <td>11306</td>\n",
       "      <td>...</td>\n",
       "      <td>34</td>\n",
       "      <td>8</td>\n",
       "      <td>802</td>\n",
       "      <td>0</td>\n",
       "      <td>0</td>\n",
       "      <td>1200</td>\n",
       "      <td>9999999</td>\n",
       "      <td>0</td>\n",
       "      <td>1</td>\n",
       "      <td>1</td>\n",
       "    </tr>\n",
       "    <tr>\n",
       "      <th>386374</th>\n",
       "      <td>2022</td>\n",
       "      <td>202201</td>\n",
       "      <td>75005</td>\n",
       "      <td>2022010002730</td>\n",
       "      <td>38.0</td>\n",
       "      <td>2022000750051</td>\n",
       "      <td>6</td>\n",
       "      <td>1</td>\n",
       "      <td>113</td>\n",
       "      <td>11306</td>\n",
       "      <td>...</td>\n",
       "      <td>40</td>\n",
       "      <td>1</td>\n",
       "      <td>100</td>\n",
       "      <td>0</td>\n",
       "      <td>0</td>\n",
       "      <td>41300</td>\n",
       "      <td>9999999</td>\n",
       "      <td>0</td>\n",
       "      <td>0</td>\n",
       "      <td>0</td>\n",
       "    </tr>\n",
       "    <tr>\n",
       "      <th>386488</th>\n",
       "      <td>2022</td>\n",
       "      <td>202201</td>\n",
       "      <td>75119</td>\n",
       "      <td>2022010003509</td>\n",
       "      <td>20.0</td>\n",
       "      <td>2022000751191</td>\n",
       "      <td>6</td>\n",
       "      <td>1</td>\n",
       "      <td>111</td>\n",
       "      <td>11106</td>\n",
       "      <td>...</td>\n",
       "      <td>88</td>\n",
       "      <td>1</td>\n",
       "      <td>100</td>\n",
       "      <td>0</td>\n",
       "      <td>0</td>\n",
       "      <td>5800</td>\n",
       "      <td>9999999</td>\n",
       "      <td>0</td>\n",
       "      <td>1</td>\n",
       "      <td>1</td>\n",
       "    </tr>\n",
       "    <tr>\n",
       "      <th>386585</th>\n",
       "      <td>2022</td>\n",
       "      <td>202201</td>\n",
       "      <td>75216</td>\n",
       "      <td>2022010004295</td>\n",
       "      <td>11.0</td>\n",
       "      <td>2022000752161</td>\n",
       "      <td>6</td>\n",
       "      <td>1</td>\n",
       "      <td>123</td>\n",
       "      <td>12306</td>\n",
       "      <td>...</td>\n",
       "      <td>59</td>\n",
       "      <td>2</td>\n",
       "      <td>200</td>\n",
       "      <td>0</td>\n",
       "      <td>0</td>\n",
       "      <td>480</td>\n",
       "      <td>9999999</td>\n",
       "      <td>0</td>\n",
       "      <td>1</td>\n",
       "      <td>1</td>\n",
       "    </tr>\n",
       "    <tr>\n",
       "      <th>...</th>\n",
       "      <td>...</td>\n",
       "      <td>...</td>\n",
       "      <td>...</td>\n",
       "      <td>...</td>\n",
       "      <td>...</td>\n",
       "      <td>...</td>\n",
       "      <td>...</td>\n",
       "      <td>...</td>\n",
       "      <td>...</td>\n",
       "      <td>...</td>\n",
       "      <td>...</td>\n",
       "      <td>...</td>\n",
       "      <td>...</td>\n",
       "      <td>...</td>\n",
       "      <td>...</td>\n",
       "      <td>...</td>\n",
       "      <td>...</td>\n",
       "      <td>...</td>\n",
       "      <td>...</td>\n",
       "      <td>...</td>\n",
       "      <td>...</td>\n",
       "    </tr>\n",
       "    <tr>\n",
       "      <th>776855</th>\n",
       "      <td>2022</td>\n",
       "      <td>202201</td>\n",
       "      <td>233818</td>\n",
       "      <td>2022001444954</td>\n",
       "      <td>380.0</td>\n",
       "      <td>2022002338181</td>\n",
       "      <td>6</td>\n",
       "      <td>1</td>\n",
       "      <td>111</td>\n",
       "      <td>11106</td>\n",
       "      <td>...</td>\n",
       "      <td>31</td>\n",
       "      <td>4</td>\n",
       "      <td>400</td>\n",
       "      <td>0</td>\n",
       "      <td>0</td>\n",
       "      <td>1260</td>\n",
       "      <td>1260</td>\n",
       "      <td>1000</td>\n",
       "      <td>1</td>\n",
       "      <td>1</td>\n",
       "    </tr>\n",
       "    <tr>\n",
       "      <th>777122</th>\n",
       "      <td>2022</td>\n",
       "      <td>202201</td>\n",
       "      <td>233914</td>\n",
       "      <td>2022001446041</td>\n",
       "      <td>86.0</td>\n",
       "      <td>2022002339141</td>\n",
       "      <td>6</td>\n",
       "      <td>1</td>\n",
       "      <td>113</td>\n",
       "      <td>11306</td>\n",
       "      <td>...</td>\n",
       "      <td>85</td>\n",
       "      <td>2</td>\n",
       "      <td>200</td>\n",
       "      <td>0</td>\n",
       "      <td>0</td>\n",
       "      <td>18800</td>\n",
       "      <td>18800</td>\n",
       "      <td>0</td>\n",
       "      <td>1</td>\n",
       "      <td>1</td>\n",
       "    </tr>\n",
       "    <tr>\n",
       "      <th>777146</th>\n",
       "      <td>2022</td>\n",
       "      <td>202201</td>\n",
       "      <td>233924</td>\n",
       "      <td>2022001446193</td>\n",
       "      <td>56.0</td>\n",
       "      <td>2022002339241</td>\n",
       "      <td>6</td>\n",
       "      <td>1</td>\n",
       "      <td>123</td>\n",
       "      <td>12306</td>\n",
       "      <td>...</td>\n",
       "      <td>43</td>\n",
       "      <td>3</td>\n",
       "      <td>361</td>\n",
       "      <td>1</td>\n",
       "      <td>100</td>\n",
       "      <td>225000</td>\n",
       "      <td>225000</td>\n",
       "      <td>220000</td>\n",
       "      <td>0</td>\n",
       "      <td>0</td>\n",
       "    </tr>\n",
       "    <tr>\n",
       "      <th>777151</th>\n",
       "      <td>2022</td>\n",
       "      <td>202201</td>\n",
       "      <td>233926</td>\n",
       "      <td>2022001446218</td>\n",
       "      <td>76.0</td>\n",
       "      <td>2022002339261</td>\n",
       "      <td>6</td>\n",
       "      <td>1</td>\n",
       "      <td>113</td>\n",
       "      <td>11306</td>\n",
       "      <td>...</td>\n",
       "      <td>41</td>\n",
       "      <td>7</td>\n",
       "      <td>700</td>\n",
       "      <td>1</td>\n",
       "      <td>100</td>\n",
       "      <td>1100</td>\n",
       "      <td>54740</td>\n",
       "      <td>0</td>\n",
       "      <td>1</td>\n",
       "      <td>1</td>\n",
       "    </tr>\n",
       "    <tr>\n",
       "      <th>777152</th>\n",
       "      <td>2022</td>\n",
       "      <td>202201</td>\n",
       "      <td>233926</td>\n",
       "      <td>2022001446218</td>\n",
       "      <td>76.0</td>\n",
       "      <td>2022002339261</td>\n",
       "      <td>6</td>\n",
       "      <td>1</td>\n",
       "      <td>113</td>\n",
       "      <td>11306</td>\n",
       "      <td>...</td>\n",
       "      <td>35</td>\n",
       "      <td>7</td>\n",
       "      <td>700</td>\n",
       "      <td>1</td>\n",
       "      <td>100</td>\n",
       "      <td>53000</td>\n",
       "      <td>54740</td>\n",
       "      <td>53000</td>\n",
       "      <td>0</td>\n",
       "      <td>0</td>\n",
       "    </tr>\n",
       "  </tbody>\n",
       "</table>\n",
       "<p>3111 rows × 26 columns</p>\n",
       "</div>"
      ],
      "text/plain": [
       "        YEAR  SAMPLE  SERIAL       CBSERIAL   HHWT        CLUSTER  STATEFIP  \\\n",
       "386106  2022  202201   74737  2022010000467   56.0  2022000747371         6   \n",
       "386107  2022  202201   74738  2022010000473   15.0  2022000747381         6   \n",
       "386374  2022  202201   75005  2022010002730   38.0  2022000750051         6   \n",
       "386488  2022  202201   75119  2022010003509   20.0  2022000751191         6   \n",
       "386585  2022  202201   75216  2022010004295   11.0  2022000752161         6   \n",
       "...      ...     ...     ...            ...    ...            ...       ...   \n",
       "776855  2022  202201  233818  2022001444954  380.0  2022002338181         6   \n",
       "777122  2022  202201  233914  2022001446041   86.0  2022002339141         6   \n",
       "777146  2022  202201  233924  2022001446193   56.0  2022002339241         6   \n",
       "777151  2022  202201  233926  2022001446218   76.0  2022002339261         6   \n",
       "777152  2022  202201  233926  2022001446218   76.0  2022002339261         6   \n",
       "\n",
       "        COUNTYFIP PUMA  STRATA  ...  AGE  RACE  RACED  HISPAN  HISPAND  \\\n",
       "386106          1  111   11106  ...   56     2    200       0        0   \n",
       "386107          1  113   11306  ...   34     8    802       0        0   \n",
       "386374          1  113   11306  ...   40     1    100       0        0   \n",
       "386488          1  111   11106  ...   88     1    100       0        0   \n",
       "386585          1  123   12306  ...   59     2    200       0        0   \n",
       "...           ...  ...     ...  ...  ...   ...    ...     ...      ...   \n",
       "776855          1  111   11106  ...   31     4    400       0        0   \n",
       "777122          1  113   11306  ...   85     2    200       0        0   \n",
       "777146          1  123   12306  ...   43     3    361       1      100   \n",
       "777151          1  113   11306  ...   41     7    700       1      100   \n",
       "777152          1  113   11306  ...   35     7    700       1      100   \n",
       "\n",
       "        INCTOT  FTOTINC  INCWAGE  pov  sup_pov  \n",
       "386106     480  9999999        0    1        1  \n",
       "386107    1200  9999999        0    1        1  \n",
       "386374   41300  9999999        0    0        0  \n",
       "386488    5800  9999999        0    1        1  \n",
       "386585     480  9999999        0    1        1  \n",
       "...        ...      ...      ...  ...      ...  \n",
       "776855    1260     1260     1000    1        1  \n",
       "777122   18800    18800        0    1        1  \n",
       "777146  225000   225000   220000    0        0  \n",
       "777151    1100    54740        0    1        1  \n",
       "777152   53000    54740    53000    0        0  \n",
       "\n",
       "[3111 rows x 26 columns]"
      ]
     },
     "execution_count": 188,
     "metadata": {},
     "output_type": "execute_result"
    }
   ],
   "source": [
    "df_oak_18"
   ]
  },
  {
   "cell_type": "code",
   "execution_count": null,
   "metadata": {},
   "outputs": [],
   "source": []
  }
 ],
 "metadata": {
  "kernelspec": {
   "display_name": "info251",
   "language": "python",
   "name": "info251"
  },
  "language_info": {
   "codemirror_mode": {
    "name": "ipython",
    "version": 3
   },
   "file_extension": ".py",
   "mimetype": "text/x-python",
   "name": "python",
   "nbconvert_exporter": "python",
   "pygments_lexer": "ipython3",
   "version": "3.9.15"
  },
  "orig_nbformat": 4
 },
 "nbformat": 4,
 "nbformat_minor": 2
}

{
  "cells": [
    {
      "cell_type": "markdown",
      "metadata": {},
      "source": [
        "<!-- ---\n",
        "title: Evaluating BART's West Oakland Fare Gate\n",
        "bibliography: ../../blog.bib\n",
        "author: Peter Amerkhanian\n",
        "date: 2024-6-16\n",
        "draft: true\n",
        "categories:\n",
        "  - Python\n",
        "format:\n",
        "  html:\n",
        "    toc: true\n",
        "    toc-depth: 3\n",
        "    code-fold: false\n",
        "    code-tools: true\n",
        "jupyter: python3"
      ],
      "id": "7d1376af"
    },
    {
      "cell_type": "markdown",
      "metadata": {},
      "source": [
        "---\n"
      ],
      "id": "91a20948"
    },
    {
      "cell_type": "code",
      "metadata": {},
      "source": [
        "import pandas as pd\n",
        "import numpy as np\n",
        "import dask.dataframe as dd\n",
        "import seaborn as sns\n",
        "import matplotlib.pyplot as plt\n",
        "import matplotlib\n",
        "import matplotlib.ticker as ticker\n",
        "plt.style.use('default')\n",
        "from datetime import datetime\n",
        "from typing import Tuple, Union\n",
        "from collections.abc import Iterable"
      ],
      "id": "608a9e70",
      "execution_count": null,
      "outputs": []
    },
    {
      "cell_type": "code",
      "metadata": {},
      "source": [
        "df = dd.read_parquet(\"../dask-data-io/data/parquet_data\")\n",
        "df.head()"
      ],
      "id": "6131470f",
      "execution_count": null,
      "outputs": []
    },
    {
      "cell_type": "code",
      "metadata": {},
      "source": [
        "# Change to SQL?\n",
        "df_rpd = df.groupby(['Date', 'Start', 'End'])['Riders'].sum().compute()"
      ],
      "id": "2d1ab6af",
      "execution_count": null,
      "outputs": []
    },
    {
      "cell_type": "code",
      "metadata": {},
      "source": [
        "df_rpd.reset_index()"
      ],
      "id": "f89644f2",
      "execution_count": null,
      "outputs": []
    },
    {
      "cell_type": "code",
      "metadata": {},
      "source": [
        "df_rpd = df_rpd.reset_index()"
      ],
      "id": "458fde5d",
      "execution_count": null,
      "outputs": []
    },
    {
      "cell_type": "code",
      "metadata": {},
      "source": [
        "woak_fare_gate_completed = datetime(2023, 12, 28)"
      ],
      "id": "f66bcbaf",
      "execution_count": null,
      "outputs": []
    },
    {
      "cell_type": "code",
      "metadata": {},
      "source": [
        "woak_fare_gate_completed"
      ],
      "id": "808aa391",
      "execution_count": null,
      "outputs": []
    },
    {
      "cell_type": "code",
      "metadata": {},
      "source": [
        "df_rpd['Date'] = pd.to_datetime(df_rpd['Date'])"
      ],
      "id": "d8e078ae",
      "execution_count": null,
      "outputs": []
    },
    {
      "cell_type": "code",
      "metadata": {},
      "source": [
        "df_rpd['WOAK_gate'] = df_rpd['Date'] >= woak_fare_gate_completed"
      ],
      "id": "5a777fe1",
      "execution_count": null,
      "outputs": []
    },
    {
      "cell_type": "code",
      "metadata": {},
      "source": [
        "df_rpd['Start'].unique()"
      ],
      "id": "a26b699a",
      "execution_count": null,
      "outputs": []
    },
    {
      "cell_type": "code",
      "metadata": {},
      "source": [
        "from sklearn.preprocessing import StandardScaler"
      ],
      "id": "5d4bc1d6",
      "execution_count": null,
      "outputs": []
    },
    {
      "cell_type": "code",
      "metadata": {},
      "source": [
        "def isolate_station(name, df_rpd=df_rpd):\n",
        "    df_woak = df_rpd[df_rpd['Start'] == name]\n",
        "    df_woak_all = df_woak.groupby(['Date', 'Start'])['Riders'].sum().reset_index()\n",
        "    df_woak_all['WOAK_gate'] = df_woak_all['Date'] >= woak_fare_gate_completed\n",
        "    df_woak_all = df_woak_all.set_index('Date').drop(columns=['Start'])\n",
        "    scaler = StandardScaler()\n",
        "    scaler.fit(df_woak_all[['Riders']])\n",
        "    df_woak_all['Riders_std'] = scaler.transform(df_woak_all[['Riders']])[:, 0]\n",
        "    return df_woak_all\n",
        "\n",
        "def agg_station_pct(df, sample, date_start = \"2023-08-01\", date_end = \"2024-05-01\"):\n",
        "    df_agg = df.resample(sample)['Riders'].sum().pct_change()\n",
        "    df_agg = df_agg.loc[date_start:date_end]\n",
        "    return df_agg\n",
        "\n",
        "def agg_station_std(df, sample, date_start = \"2023-08-01\", date_end = \"2024-05-01\"):\n",
        "    df_agg = df.resample(sample)['Riders'].sum()\n",
        "    df_agg = df_agg.loc[date_start:date_end]\n",
        "    return df_agg"
      ],
      "id": "6927ecc8",
      "execution_count": null,
      "outputs": []
    },
    {
      "cell_type": "code",
      "metadata": {},
      "source": [
        "fig, ax = plt.subplots(figsize=(8, 4))\n",
        "label_other = True\n",
        "for station in ['FTVL', '12TH', '19TH', 'LAKE']:\n",
        "    if label_other:\n",
        "        agg_station_std(isolate_station(station), 'W').plot(ax=ax, color=\"grey\", alpha=.5, label=\"Other Oakland Stations\")\n",
        "    else:\n",
        "        agg_station_std(isolate_station(station), 'W').plot(ax=ax, color=\"grey\", alpha=.5, label=\"_Hidden\")\n",
        "    label_other = False\n",
        "agg_station_std(isolate_station('WOAK'), 'W').plot(ax=ax, label=\"WOAK\")\n",
        "ax.axvline(woak_fare_gate_completed, color=\"black\", linestyle=\"--\", label=\"WOAK Fare Gates Installed\")\n",
        "ax.grid(alpha=.4)\n",
        "ax.legend();"
      ],
      "id": "a9cf11f0",
      "execution_count": null,
      "outputs": []
    },
    {
      "cell_type": "markdown",
      "metadata": {},
      "source": [
        " -->"
      ],
      "id": "acc84113"
    }
  ],
  "metadata": {
    "kernelspec": {
      "name": "info251",
      "language": "python",
      "display_name": "info251"
    }
  },
  "nbformat": 4,
  "nbformat_minor": 5
}
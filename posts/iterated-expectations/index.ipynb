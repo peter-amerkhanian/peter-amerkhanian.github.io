{
  "cells": [
    {
      "attachments": {},
      "cell_type": "markdown",
      "metadata": {},
      "source": [
        "---\n",
        "title: \"Iterated Expectations\"\n",
        "bibliography: \"../../blog.bib\"\n",
        "author: \"Peter Amerkhanian\"\n",
        "date: \"2023-12-1\"\n",
        "image: thumbnail.png\n",
        "categories: ['Python', 'Probability']\n",
        "format:\n",
        "  html:\n",
        "    toc: true\n",
        "    toc-depth: 3\n",
        "    code-fold: false\n",
        "    code-tools: true\n",
        "---"
      ]
    },
    {
      "cell_type": "code",
      "execution_count": 1,
      "metadata": {
        "id": "dEcfAAWucLQ-"
      },
      "outputs": [],
      "source": [
        "import pandas as pd\n",
        "import numpy as np"
      ]
    },
    {
      "attachments": {},
      "cell_type": "markdown",
      "metadata": {
        "id": "SQ648Vg6JD1Y"
      },
      "source": [
        "I recently came across a list of [10 theorems/proofs](https://twitter.com/causalinf/status/1259448663270658050) that you \"need to know\" if you do econometrics. These were compiled by [Jeffrey Wooldridge](https://econ.msu.edu/faculty/wooldridge/), an economist and textbook author whose introductory textbook has been fundamental to my interest in econometrics. As an exercise, I'm working through these 10 items, compiling resources, textbook passages, and data exercises that I think can make them easier to understand. The first item I'm trying to write my notes on is the Law of Iterated Expectations, but I'll be prefacing/augmenting the notes with some discussion of basic probability for completeness.  \n",
        "\n",
        "My core reference is [*Introduction to Probability, Second Edition*](https://projects.iq.harvard.edu/stat110/home) By Joseph K. Blitzstein, Jessica Hwang.\n",
        "\n",
        "<hr>\n",
        "\n",
        "To start, I'll simulate some data."
      ]
    },
    {
      "cell_type": "code",
      "execution_count": 2,
      "metadata": {
        "colab": {
          "base_uri": "https://localhost:8080/",
          "height": 238
        },
        "id": "RY8FqSFXq6qZ",
        "outputId": "a97c9460-71a2-48e9-d54c-84f0b982d33b"
      },
      "outputs": [
        {
          "data": {
            "text/html": [
              "<div>\n",
              "<style scoped>\n",
              "    .dataframe tbody tr th:only-of-type {\n",
              "        vertical-align: middle;\n",
              "    }\n",
              "\n",
              "    .dataframe tbody tr th {\n",
              "        vertical-align: top;\n",
              "    }\n",
              "\n",
              "    .dataframe thead th {\n",
              "        text-align: right;\n",
              "    }\n",
              "</style>\n",
              "<table border=\"1\" class=\"dataframe\">\n",
              "  <thead>\n",
              "    <tr style=\"text-align: right;\">\n",
              "      <th></th>\n",
              "      <th>Age</th>\n",
              "    </tr>\n",
              "    <tr>\n",
              "      <th>Person_ID</th>\n",
              "      <th></th>\n",
              "    </tr>\n",
              "  </thead>\n",
              "  <tbody>\n",
              "    <tr>\n",
              "      <th>1</th>\n",
              "      <td>77</td>\n",
              "    </tr>\n",
              "    <tr>\n",
              "      <th>2</th>\n",
              "      <td>74</td>\n",
              "    </tr>\n",
              "    <tr>\n",
              "      <th>3</th>\n",
              "      <td>75</td>\n",
              "    </tr>\n",
              "    <tr>\n",
              "      <th>4</th>\n",
              "      <td>77</td>\n",
              "    </tr>\n",
              "    <tr>\n",
              "      <th>5</th>\n",
              "      <td>73</td>\n",
              "    </tr>\n",
              "  </tbody>\n",
              "</table>\n",
              "</div>"
            ],
            "text/plain": [
              "           Age\n",
              "Person_ID     \n",
              "1           77\n",
              "2           74\n",
              "3           75\n",
              "4           77\n",
              "5           73"
            ]
          },
          "execution_count": 2,
          "metadata": {},
          "output_type": "execute_result"
        }
      ],
      "source": [
        "# Set a random seed for reproducability\n",
        "np.random.seed(42)\n",
        "# Define the number of people in the dataset\n",
        "num_people = 100\n",
        "# Generate random ages - X ~ Uniform(min, max)\n",
        "ages = np.random.randint(71, 79, num_people)\n",
        "# Create DataFrame\n",
        "data = {'Person_ID': range(1, num_people + 1), 'Age': ages}\n",
        "people_df = pd.DataFrame(data).set_index(\"Person_ID\")\n",
        "\n",
        "people_df.head()"
      ]
    },
    {
      "attachments": {},
      "cell_type": "markdown",
      "metadata": {
        "id": "WFhotRiYKW9O"
      },
      "source": [
        "Let's say that these data represent life spans, thus $\\text{age}_i$ is an individual's lifespan, e.g. $\\text{age}_2=$"
      ]
    },
    {
      "cell_type": "code",
      "execution_count": 3,
      "metadata": {
        "colab": {
          "base_uri": "https://localhost:8080/"
        },
        "id": "FLREJsD0c2FC",
        "outputId": "3f549aa3-4243-4b22-be31-98d8d4177cc8"
      },
      "outputs": [
        {
          "data": {
            "text/plain": [
              "Age    74\n",
              "Name: 2, dtype: int32"
            ]
          },
          "execution_count": 3,
          "metadata": {},
          "output_type": "execute_result"
        }
      ],
      "source": [
        "people_df.loc[2]"
      ]
    },
    {
      "attachments": {},
      "cell_type": "markdown",
      "metadata": {
        "id": "TuR6DvAKL9ce"
      },
      "source": [
        "## Expectation\n",
        "The mean of a random variable, like age above, is also referred to as its \"expected value,\" denoted $E(\\text{age})$."
      ]
    },
    {
      "cell_type": "code",
      "execution_count": 4,
      "metadata": {
        "colab": {
          "base_uri": "https://localhost:8080/"
        },
        "id": "Ui9s7w9VL_Jx",
        "outputId": "4726c13d-4ee9-4090-b66b-439f5ba7f946"
      },
      "outputs": [
        {
          "data": {
            "text/plain": [
              "74.6"
            ]
          },
          "execution_count": 4,
          "metadata": {},
          "output_type": "execute_result"
        }
      ],
      "source": [
        "people_df['Age'].mean()"
      ]
    },
    {
      "attachments": {},
      "cell_type": "markdown",
      "metadata": {
        "id": "0Yk_mXkYRtdp"
      },
      "source": [
        "The mean above is specifically called an *arithmetic mean*, defined as follows:  \n",
        "$$ \\bar{x} = \\frac{1}{n} \\sum_i^n x_i$$"
      ]
    },
    {
      "cell_type": "code",
      "execution_count": 5,
      "metadata": {
        "colab": {
          "base_uri": "https://localhost:8080/"
        },
        "id": "oKdkDK28RuK4",
        "outputId": "6e499402-2a79-4a86-ae02-e1fc9feedc9b"
      },
      "outputs": [
        {
          "data": {
            "text/plain": [
              "74.60000000000001"
            ]
          },
          "execution_count": 5,
          "metadata": {},
          "output_type": "execute_result"
        }
      ],
      "source": [
        "(1/len(people_df)) * people_df['Age'].sum()"
      ]
    },
    {
      "attachments": {},
      "cell_type": "markdown",
      "metadata": {
        "id": "sml3KrROMWoQ"
      },
      "source": [
        "But the arithmetic mean is just a special case of the more general weighted mean:\n",
        "\n",
        "\\begin{align*}\n",
        "\\text{weighted-mean}(x) &= \\sum_i^n x_i p_i \\\\\n",
        "\\end{align*}\n",
        "\n",
        "Where the weights, $p_1, p_2, ...,p_n$ are non-negative numbers that sum to 1. We can see that the arithmetic mean is the specific case of the weighted mean where all weights are equal  \n",
        "\n",
        "\\begin{align*}\n",
        "\\text{If } [p_1=p_2=...=p_n] &\\text{ And } [\\sum_i^n p_i =1]\\\\\n",
        "\\text{weighted-mean}(x) &= \\sum_i^n x_i \\frac{1}{n}\\\\\n",
        "\\text{weighted-mean}(x) &= \\frac{1}{n} \\sum_i^n x_i = \\bar{x}\\\\\n",
        "\\end{align*}\n",
        "\n",
        "We use the more general weighted mean when we define expectation."
      ]
    },
    {
      "attachments": {},
      "cell_type": "markdown",
      "metadata": {
        "id": "MEDmOFn9cOTl"
      },
      "source": [
        " >the expected value of $X$ is a weighted average of the possible values that\n",
        "$X$ can take on, weighted by their probabilities  \n",
        ">-- @blitzstein_introduction_2019\n",
        "\n",
        "More formally, given a random variable, $X$, with distinct possible values, $x_1, x_2, ... x_n$, the *expected value* $E(X)$ is defined as:\n",
        "\n",
        "\\begin{align*}\n",
        "E(X) = & x_1P(X = x_1) + \\\\\n",
        "&x_2P(X = x_2) +\\\\\n",
        "&... + x_nP(X = x_n) \\\\\n",
        "= &\\sum_{i=1}^n x_iP(X = x_i)\n",
        "\\end{align*}\n"
      ]
    },
    {
      "attachments": {},
      "cell_type": "markdown",
      "metadata": {
        "id": "ni1sna5MScxk"
      },
      "source": [
        "Now we'll demonstrate this formula on our data. It's useful here to move from our individual-level dataset, where each row is a person, to the following, where each row is a lifespan, which the probability that an individual has that lifespan."
      ]
    },
    {
      "cell_type": "code",
      "execution_count": 6,
      "metadata": {
        "colab": {
          "base_uri": "https://localhost:8080/"
        },
        "id": "vh4zic4eB40L",
        "outputId": "2d777fad-8a65-4652-c2fc-80599a5182f2"
      },
      "outputs": [
        {
          "data": {
            "text/plain": [
              "Age\n",
              "71    0.08\n",
              "72    0.13\n",
              "73    0.11\n",
              "74    0.19\n",
              "75    0.12\n",
              "76    0.13\n",
              "77    0.13\n",
              "78    0.11\n",
              "Name: proportion, dtype: float64"
            ]
          },
          "execution_count": 6,
          "metadata": {},
          "output_type": "execute_result"
        }
      ],
      "source": [
        "prob_table = people_df['Age'].value_counts(normalize=True)\n",
        "prob_table = prob_table.sort_index()\n",
        "prob_table"
      ]
    },
    {
      "attachments": {},
      "cell_type": "markdown",
      "metadata": {
        "id": "bAObk3q_VVLj"
      },
      "source": [
        "Adapting the formula above to our data, we must solve the following:\n",
        "\n",
        "\\begin{align*}\n",
        "E(\\text{Age}) = &\\text{Age}_1P(\\text{Age}=\\text{Age}_1) + \\\\\n",
        "&\\text{Age}_2P(\\text{Age}=\\text{Age}_2) + \\\\\n",
        "&... + \\text{Age}_nP(\\text{Age}=\\text{Age}_n) \\\\\n",
        "= &\\sum_{i=1}^n \\text{Age}_iP(\\text{Age}=\\text{Age}_i)\n",
        "\\end{align*}\n",
        "\n",
        "Which we can do transparently using a for-loop:"
      ]
    },
    {
      "cell_type": "code",
      "execution_count": 7,
      "metadata": {
        "colab": {
          "base_uri": "https://localhost:8080/"
        },
        "id": "mg0MiRT3VEFh",
        "outputId": "0e906bdb-3826-4e70-9c9a-58299d1a6b35"
      },
      "outputs": [
        {
          "data": {
            "text/plain": [
              "74.60000000000001"
            ]
          },
          "execution_count": 7,
          "metadata": {},
          "output_type": "execute_result"
        }
      ],
      "source": [
        "summation = 0\n",
        "for i in range(len(prob_table)):\n",
        "  summation += prob_table.index[i] * prob_table.values[i]\n",
        "summation"
      ]
    },
    {
      "attachments": {},
      "cell_type": "markdown",
      "metadata": {
        "id": "C0Ek7M-uXGiG"
      },
      "source": [
        "As a quick aside -- this can also be expressed as the dot product of two vectors, where the dot product is defined as follows:  \n",
        "\n",
        "$$\n",
        "\\begin{align*}\n",
        "\\vec{\\text{Age}}\\cdot P(\\vec{\\text{Age}}) = &\\text{Age}_1P(\\text{Age}=\\text{Age}_1) + \\\\\n",
        "&\\text{Age}_2P(\\text{Age}=\\text{Age}_2) + \\\\\n",
        "&... + \\text{Age}_3P(\\text{Age}=\\text{Age}_3)\n",
        "\\end{align*}\n",
        "$$"
      ]
    },
    {
      "cell_type": "code",
      "execution_count": 8,
      "metadata": {
        "colab": {
          "base_uri": "https://localhost:8080/"
        },
        "id": "Q7qyG17VWaNz",
        "outputId": "b40101c9-86c6-4833-c5f8-b90739434835"
      },
      "outputs": [
        {
          "data": {
            "text/plain": [
              "74.6"
            ]
          },
          "execution_count": 8,
          "metadata": {},
          "output_type": "execute_result"
        }
      ],
      "source": [
        "prob_table.index.values @ prob_table.values"
      ]
    },
    {
      "attachments": {},
      "cell_type": "markdown",
      "metadata": {
        "id": "rBqQNm8okdwd"
      },
      "source": [
        "Though we will stick to the summation notation paired with python for-loops for consistency"
      ]
    },
    {
      "attachments": {},
      "cell_type": "markdown",
      "metadata": {
        "id": "dB_VqTKDol3I"
      },
      "source": [
        "## Conditional Expectation\n"
      ]
    },
    {
      "attachments": {},
      "cell_type": "markdown",
      "metadata": {
        "id": "MWd6NLsQx-f2"
      },
      "source": [
        "We often have more than one variable available to us in an analysis. Below I simulate the variable gender:"
      ]
    },
    {
      "cell_type": "code",
      "execution_count": 9,
      "metadata": {
        "colab": {
          "base_uri": "https://localhost:8080/",
          "height": 238
        },
        "id": "rU-dzOWGrCXZ",
        "outputId": "6ed72f41-d50c-46ef-c586-dd1182715f6b"
      },
      "outputs": [
        {
          "data": {
            "text/html": [
              "<div>\n",
              "<style scoped>\n",
              "    .dataframe tbody tr th:only-of-type {\n",
              "        vertical-align: middle;\n",
              "    }\n",
              "\n",
              "    .dataframe tbody tr th {\n",
              "        vertical-align: top;\n",
              "    }\n",
              "\n",
              "    .dataframe thead th {\n",
              "        text-align: right;\n",
              "    }\n",
              "</style>\n",
              "<table border=\"1\" class=\"dataframe\">\n",
              "  <thead>\n",
              "    <tr style=\"text-align: right;\">\n",
              "      <th></th>\n",
              "      <th>Age</th>\n",
              "      <th>Gender</th>\n",
              "    </tr>\n",
              "    <tr>\n",
              "      <th>Person_ID</th>\n",
              "      <th></th>\n",
              "      <th></th>\n",
              "    </tr>\n",
              "  </thead>\n",
              "  <tbody>\n",
              "    <tr>\n",
              "      <th>1</th>\n",
              "      <td>77</td>\n",
              "      <td>Male</td>\n",
              "    </tr>\n",
              "    <tr>\n",
              "      <th>2</th>\n",
              "      <td>74</td>\n",
              "      <td>Female</td>\n",
              "    </tr>\n",
              "    <tr>\n",
              "      <th>3</th>\n",
              "      <td>75</td>\n",
              "      <td>Male</td>\n",
              "    </tr>\n",
              "    <tr>\n",
              "      <th>4</th>\n",
              "      <td>77</td>\n",
              "      <td>Female</td>\n",
              "    </tr>\n",
              "    <tr>\n",
              "      <th>5</th>\n",
              "      <td>73</td>\n",
              "      <td>Female</td>\n",
              "    </tr>\n",
              "  </tbody>\n",
              "</table>\n",
              "</div>"
            ],
            "text/plain": [
              "           Age  Gender\n",
              "Person_ID             \n",
              "1           77    Male\n",
              "2           74  Female\n",
              "3           75    Male\n",
              "4           77  Female\n",
              "5           73  Female"
            ]
          },
          "execution_count": 9,
          "metadata": {},
          "output_type": "execute_result"
        }
      ],
      "source": [
        "np.random.seed(45)\n",
        "people_df['Gender'] = np.random.choice(['Female', 'Male'], len(people_df))\n",
        "people_df.head()"
      ]
    },
    {
      "attachments": {},
      "cell_type": "markdown",
      "metadata": {
        "id": "JbhWv5il273a"
      },
      "source": [
        "Each row in our dataset represents an individual person, and we now have access to both their gender and their life-span. It follows that we may be interested in how life-span varies across gender. In code, this entails a groupby operation, grouping on gender before calculting the mean age:"
      ]
    },
    {
      "cell_type": "code",
      "execution_count": 10,
      "metadata": {
        "colab": {
          "base_uri": "https://localhost:8080/"
        },
        "id": "BLCXWIyn3PLE",
        "outputId": "138ae177-ffb1-4c05-af42-5a63cf34eeee"
      },
      "outputs": [
        {
          "data": {
            "text/plain": [
              "Gender\n",
              "Female    74.672727\n",
              "Male      74.511111\n",
              "Name: Age, dtype: float64"
            ]
          },
          "execution_count": 10,
          "metadata": {},
          "output_type": "execute_result"
        }
      ],
      "source": [
        "people_df.groupby('Gender')['Age'].mean()"
      ]
    },
    {
      "attachments": {},
      "cell_type": "markdown",
      "metadata": {
        "id": "cJhjwXKko1Ig"
      },
      "source": [
        "The code in this case resembles the formal notation of a conditional expectation:\n",
        "$E(\\text{Age} \\mid \\text{Gender}=\\text{Gender}_j)$, where each $\\text{Gender}=\\text{Gender}_j$ is a distinct event.  \n",
        "\n",
        "If we are interested specifically in the mean life-span given the event that gender is equal to male (a roundabout way of saying the average life-span for males in the data), we could calculate the following"
      ]
    },
    {
      "attachments": {},
      "cell_type": "markdown",
      "metadata": {
        "id": "JxTcPzzakVfa"
      },
      "source": [
        "$E(\\text{Age} \\mid \\text{Gender}=\\text{Male})$"
      ]
    },
    {
      "cell_type": "code",
      "execution_count": 11,
      "metadata": {
        "colab": {
          "base_uri": "https://localhost:8080/"
        },
        "id": "MUCa-KTetWSn",
        "outputId": "d8029a54-97aa-42f5-8179-46efcf0260f1"
      },
      "outputs": [
        {
          "data": {
            "text/plain": [
              "74.5111111111111"
            ]
          },
          "execution_count": 11,
          "metadata": {},
          "output_type": "execute_result"
        }
      ],
      "source": [
        "people_df.groupby('Gender')['Age'].mean()['Male']"
      ]
    },
    {
      "attachments": {},
      "cell_type": "markdown",
      "metadata": {
        "id": "oD_mP4_4hB8J"
      },
      "source": [
        "These groupby operations in `pandas` obscure some of the conceptual stuff happening inside the conditional expectation, which we'll delve deeper into now.  \n",
        "\n",
        "So what exactly is the conditional expectation, $E(X \\mid Y=y)$?  \n",
        "\n",
        "Before answering this, it will be useful to refresh the related concept of conditional probability:  \n",
        "\n",
        "> If $X=x$ and $Y=y$ are events with $P(Y=y)>0$, then the conditional probability of $X=x$ given $Y=y$ is denoted by $P(X=x \\mid Y=y)$, defined as  \n",
        "> $$ P(X=x \\mid Y=y) = \\frac{P(X=x , Y=y)}{P(Y=y)} $$  \n",
        ">-- @blitzstein_introduction_2019\n",
        "\n",
        "This formula specifically describes the probability of the event, $X=x$, given the *evidence*, an observed event $Y=y$.  \n",
        "\n",
        "We want to shift to describing a mean conditional on that evidence, and we include that information via the weights in the expectation.  \n",
        "\n",
        ">Recall that the expectation $E(X)$ is a weighted average of the possible values of $X$, where the weights are the PMF values $P(X = x)$. After learning that an event $Y=y$ occurred, we want to **use weights that have been updated to reflect this new information**.   \n",
        "> \n",
        ">-- @blitzstein_introduction_2019\n",
        "\n",
        "The key point here is that **just the weights that each $x_i$ gets multiplied by will change**, going from the probability $P(X=x)$ to the **conditional probability $P(X=x \\mid Y=y)$**.\n",
        "\n",
        "Armed with conditional probability formula above, we can define how to compute the conditional expected value\n",
        "$$\n",
        "\\begin{align*}\n",
        "E(X \\mid Y=y) &= \\sum_{x} x P(X=x \\mid Y=y) \\\\\n",
        "&= \\sum_{x} x \\frac{P(X=x , Y=y)}{P(Y=y)}\n",
        "\\end{align*}\n",
        "$$"
      ]
    },
    {
      "attachments": {},
      "cell_type": "markdown",
      "metadata": {
        "id": "50i4_VDzm0yB"
      },
      "source": [
        "Returning to our example with data, we substitute terms to find the following:\n",
        "$$\n",
        "\\begin{align*}\n",
        "E(\\text{Age} \\mid \\text{Gender}=\\text{Male}) &= \\sum_{i=1}^n \\text{Age}_iP(\\text{Age}=\\text{Age}_i \\mid \\text{Gender}=\\text{Male}) \\\\\n",
        "&= \\sum_{i=1}^n \\text{Age}_i \\frac{P(\\text{Age}=\\text{Age}_i, \\text{Gender}=\\text{Male})}{P(\\text{Gender}=\\text{Male})}\n",
        "\\end{align*}\n",
        "$$\n"
      ]
    },
    {
      "attachments": {},
      "cell_type": "markdown",
      "metadata": {
        "id": "TrZkiCbmtjhe"
      },
      "source": [
        "We can explicitly compute this with a for-loop in python, as we did for $E(X)$, but this time we will need to do a little up front work and define components we need for calculating the weights, $\\frac{P(\\text{Age}=\\text{Age}_i, \\text{Gender}=\\text{Male})}{P(\\text{Gender}=\\text{Male})}$  \n",
        "\n",
        "### Components\n",
        "1.  The joint probability distribution: $P(\\text{Age}=\\text{Age}_i, \\text{Gender} = \\text{Male})$\n",
        "2. The probability of the event, $P(\\text{Gender}=\\text{Male})$\n",
        "\n",
        "Where 1.) is the following:"
      ]
    },
    {
      "cell_type": "code",
      "execution_count": 12,
      "metadata": {
        "colab": {
          "base_uri": "https://localhost:8080/"
        },
        "id": "fnyMvXhEiTPo",
        "outputId": "2c3a9573-c3e0-4c22-a447-daa6f48cf39c"
      },
      "outputs": [
        {
          "data": {
            "text/plain": [
              "Age\n",
              "71    0.03\n",
              "72    0.07\n",
              "73    0.05\n",
              "74    0.08\n",
              "75    0.07\n",
              "76    0.05\n",
              "77    0.06\n",
              "78    0.04\n",
              "Name: Male, dtype: float64"
            ]
          },
          "execution_count": 12,
          "metadata": {},
          "output_type": "execute_result"
        }
      ],
      "source": [
        "P_Age_Gender = pd.crosstab(people_df['Age'],\n",
        "                           people_df['Gender'],\n",
        "                           normalize='all')\n",
        "P_Age_Gender['Male']"
      ]
    },
    {
      "attachments": {},
      "cell_type": "markdown",
      "metadata": {
        "id": "ml0KK1K7uLFJ"
      },
      "source": [
        "and 2.) is:"
      ]
    },
    {
      "cell_type": "code",
      "execution_count": 13,
      "metadata": {
        "colab": {
          "base_uri": "https://localhost:8080/"
        },
        "id": "V1RoyOjLuLNq",
        "outputId": "0c11a04f-b918-40ea-dfdf-1a7b2912ca45"
      },
      "outputs": [
        {
          "data": {
            "text/plain": [
              "0.45"
            ]
          },
          "execution_count": 13,
          "metadata": {},
          "output_type": "execute_result"
        }
      ],
      "source": [
        "P_Gender = people_df['Gender'].value_counts(normalize=True)\n",
        "P_Gender.loc['Male']"
      ]
    },
    {
      "attachments": {},
      "cell_type": "markdown",
      "metadata": {
        "id": "BD1GVMi9jbwQ"
      },
      "source": [
        "With those two pieces, we'll convert the following into a for-loop:\n",
        "$$\n",
        "\\sum_{i=1}^n \\text{Age}_i \\frac{P(\\text{Age}=\\text{Age}_i, \\text{Gender}=\\text{Male})}{P(\\text{Gender}=\\text{Male})}\n",
        "$$"
      ]
    },
    {
      "cell_type": "code",
      "execution_count": 14,
      "metadata": {
        "colab": {
          "base_uri": "https://localhost:8080/"
        },
        "id": "uw4n9VTwsZfh",
        "outputId": "af0ae79b-a683-4c40-ecdc-35e25359838f"
      },
      "outputs": [
        {
          "data": {
            "text/plain": [
              "74.51111111111112"
            ]
          },
          "execution_count": 14,
          "metadata": {},
          "output_type": "execute_result"
        }
      ],
      "source": [
        "E_age_male = 0\n",
        "n = len(P_Age_Gender['Male'])\n",
        "for i in range(n):\n",
        "  weight = P_Age_Gender['Male'].values[i] / P_Gender.loc['Male']\n",
        "  E_age_male += P_Age_Gender['Male'].index[i] * weight\n",
        "E_age_male"
      ]
    },
    {
      "attachments": {},
      "cell_type": "markdown",
      "metadata": {
        "id": "T6GVBDJek_3B"
      },
      "source": [
        "We confirm that this is equal to the result of the more direct groupby:"
      ]
    },
    {
      "cell_type": "code",
      "execution_count": 15,
      "metadata": {
        "colab": {
          "base_uri": "https://localhost:8080/"
        },
        "id": "_D61IjtclFA-",
        "outputId": "1d8a66e6-b7c5-4dfe-acfe-732e860eff9f"
      },
      "outputs": [
        {
          "data": {
            "text/plain": [
              "74.5111111111111"
            ]
          },
          "execution_count": 15,
          "metadata": {},
          "output_type": "execute_result"
        }
      ],
      "source": [
        "people_df.groupby('Gender')['Age'].mean()['Male']"
      ]
    },
    {
      "attachments": {},
      "cell_type": "markdown",
      "metadata": {
        "id": "vxYXI1FcC1Ce"
      },
      "source": [
        "## The Law of Iterated Expectations"
      ]
    },
    {
      "attachments": {},
      "cell_type": "markdown",
      "metadata": {
        "id": "_oA7KCK-C4r0"
      },
      "source": [
        "The law of iterated expectations, also referred to as the law of total expectation, the tower property, Adam's law, or, my favorite, LIE, states the following:\n",
        "$$E(X) = E(E(X \\mid Y))$$\n",
        "Which is to say, **the weighted average of $X$ is equal to the weighted average of the weighted averages of $X$ conditional on each value of $Y$**. This isn't a particularly useful sentence, so let's return to our example data. We plug in our values as follows:\n",
        "$$E(\\text{Age}) = E(E(\\text{Age} \\mid \\text{Gender}))$$\n",
        "Now it is useful to break this into some components that we've seen before. We previously found\n",
        "$$\n",
        "E(\\text{Age} \\mid \\text{Gender}=\\text{Male}) =  \\sum_{i=1}^n \\text{Age}_i \\frac{P(\\text{Age}=\\text{Age}_i, \\text{Gender}=\\text{Male})}{P(\\text{Gender}=\\text{Male})}\n",
        "$$\n",
        "\n",
        "Over all $\\text{Gender}_j$, we have the more generalizable expression:\n",
        "$$\n",
        "E(\\text{Age} \\mid \\text{Gender}=\\text{Gender}_j)\n",
        "$$\n",
        "\n",
        "Which can tell us about any gender, not just $\\text{Gender}=\\text{Male}$. This is equivalent to the expression:\n",
        "\n",
        "$$\n",
        "\\begin{align*}\n",
        "E(\\text{Age} \\mid \\text{Gender} = \\text{Gender}_j) = \\sum_{i=1}^n \\text{Age}_i \\frac{P(\\text{Age}=\\text{Age}_i, \\text{Gender}=\\text{Gender}_j) }{P(\\text{Gender}=\\text{Gender}_j)}\n",
        "\\end{align*}\n",
        "$$  \n",
        "\n",
        "Given this, let's return to the informal definition of the LIE, but break it into parts. The weighted average of $X$ is equal to:  \n",
        "1. The weighted average of\n",
        "2. the weighted averages of $X$ conditional on each value of $Y$\".\n",
        "\n",
        "The expression above, $E(\\text{Age} \\mid \\text{Gender}=\\text{Gender}_j)$ is equivalent to 2.) \"the weighted averages of $X$ conditional on each value of $Y$.\"\n",
        "So what we need to do now is find the weighted average of that expression. We'll set up in the next few lines\n",
        "\n",
        "\n",
        "\\begin{align*}\n",
        "E(\\text{Age}) &=E( \\underbrace{E(\\text{Age} \\mid \\text{Gender}=\\text{Gender}\\_j)}_{\\text{weighted averages conditional on each gender}} ) \\\\\n",
        "&=E(\\sum_{i} \\text{Age}_i \\frac{P(\\text{Age}=\\text{Age}_i, \\text{Gender}=\\text{Gender}_j) }{P(\\text{Gender}=\\text{Gender}_j)}) \\\\\n",
        "\\end{align*}\n",
        "\n",
        "\n",
        "With that set up, we'll now write out the last weighted average explicitly. Note that the variation in $\\text{Age}_i$ has been accounted for -- we are now averaging over gender, $\\text{Gender}_j$.\n",
        "\n",
        "\\begin{align*}\n",
        "&=\\sum_j (\\sum_{i} \\text{Age}_i \\frac{P(\\text{Age}=\\text{Age}_i, \\text{Gender}=\\text{Gender}_j) }{P(\\text{Gender}=\\text{Gender}_j)}) P(\\text{Gender}=\\text{Gender}_j) \\\\\n",
        "&=\\sum_j \\sum_{i} \\text{Age}_i P(\\text{Age}=\\text{Age}_i, \\text{Gender}=\\text{Gender}_j) \\\\\n",
        "\\end{align*}\n",
        "\n",
        "Since $j$ only appears in one of these two terms, we can rewrite this as follows:  \n",
        "\n",
        "\\begin{align*}\n",
        "&=  \\sum_{i} \\text{Age}_i \\sum_j P(\\text{Age}=\\text{Age}_i, \\text{Gender}=\\text{Gender}_j)\n",
        "\\end{align*}\n",
        "\n",
        "Here I'll pause, because the next steps can be clarified with code. $P(\\text{Age}=\\text{Age}_i, \\text{Gender}=\\text{Gender}_j)$ is the joint probability distribution of age and gender, and it helps to take a look at exactly what it is in pandas:"
      ]
    },
    {
      "cell_type": "code",
      "execution_count": 16,
      "metadata": {
        "colab": {
          "base_uri": "https://localhost:8080/",
          "height": 488
        },
        "id": "PRnPrVB6O0US",
        "outputId": "318093ff-ee73-4a5d-efb4-57a4978d535f"
      },
      "outputs": [
        {
          "data": {
            "text/html": [
              "<div>\n",
              "<style scoped>\n",
              "    .dataframe tbody tr th:only-of-type {\n",
              "        vertical-align: middle;\n",
              "    }\n",
              "\n",
              "    .dataframe tbody tr th {\n",
              "        vertical-align: top;\n",
              "    }\n",
              "\n",
              "    .dataframe thead th {\n",
              "        text-align: right;\n",
              "    }\n",
              "</style>\n",
              "<table border=\"1\" class=\"dataframe\">\n",
              "  <thead>\n",
              "    <tr style=\"text-align: right;\">\n",
              "      <th>Gender</th>\n",
              "      <th>Female</th>\n",
              "      <th>Male</th>\n",
              "    </tr>\n",
              "    <tr>\n",
              "      <th>Age</th>\n",
              "      <th></th>\n",
              "      <th></th>\n",
              "    </tr>\n",
              "  </thead>\n",
              "  <tbody>\n",
              "    <tr>\n",
              "      <th>71</th>\n",
              "      <td>0.05</td>\n",
              "      <td>0.03</td>\n",
              "    </tr>\n",
              "    <tr>\n",
              "      <th>72</th>\n",
              "      <td>0.06</td>\n",
              "      <td>0.07</td>\n",
              "    </tr>\n",
              "    <tr>\n",
              "      <th>73</th>\n",
              "      <td>0.06</td>\n",
              "      <td>0.05</td>\n",
              "    </tr>\n",
              "    <tr>\n",
              "      <th>74</th>\n",
              "      <td>0.11</td>\n",
              "      <td>0.08</td>\n",
              "    </tr>\n",
              "    <tr>\n",
              "      <th>75</th>\n",
              "      <td>0.05</td>\n",
              "      <td>0.07</td>\n",
              "    </tr>\n",
              "    <tr>\n",
              "      <th>76</th>\n",
              "      <td>0.08</td>\n",
              "      <td>0.05</td>\n",
              "    </tr>\n",
              "    <tr>\n",
              "      <th>77</th>\n",
              "      <td>0.07</td>\n",
              "      <td>0.06</td>\n",
              "    </tr>\n",
              "    <tr>\n",
              "      <th>78</th>\n",
              "      <td>0.07</td>\n",
              "      <td>0.04</td>\n",
              "    </tr>\n",
              "  </tbody>\n",
              "</table>\n",
              "</div>"
            ],
            "text/plain": [
              "Gender  Female  Male\n",
              "Age                 \n",
              "71        0.05  0.03\n",
              "72        0.06  0.07\n",
              "73        0.06  0.05\n",
              "74        0.11  0.08\n",
              "75        0.05  0.07\n",
              "76        0.08  0.05\n",
              "77        0.07  0.06\n",
              "78        0.07  0.04"
            ]
          },
          "execution_count": 16,
          "metadata": {},
          "output_type": "execute_result"
        }
      ],
      "source": [
        "P_Age_Gender"
      ]
    },
    {
      "attachments": {},
      "cell_type": "markdown",
      "metadata": {
        "id": "HiVECJw9esTV"
      },
      "source": [
        "\n",
        "Let's compute the summation of $P(\\text{Age}=\\text{Age}_i, \\text{Gender}=\\text{Gender}_j)$ over $\\text{Gender}_j$ and see what we get."
      ]
    },
    {
      "cell_type": "code",
      "execution_count": 17,
      "metadata": {
        "colab": {
          "base_uri": "https://localhost:8080/"
        },
        "id": "wveYuKOde9YQ",
        "outputId": "c058acd8-f0aa-4362-81ea-edb5b16b6b50"
      },
      "outputs": [
        {
          "data": {
            "text/plain": [
              "Age\n",
              "71    0.08\n",
              "72    0.13\n",
              "73    0.11\n",
              "74    0.19\n",
              "75    0.12\n",
              "76    0.13\n",
              "77    0.13\n",
              "78    0.11\n",
              "dtype: float64"
            ]
          },
          "execution_count": 17,
          "metadata": {},
          "output_type": "execute_result"
        }
      ],
      "source": [
        "P_Age_Gender[\"Male\"] + P_Age_Gender[\"Female\"]"
      ]
    },
    {
      "attachments": {},
      "cell_type": "markdown",
      "metadata": {
        "id": "xaxQePSfhPYE"
      },
      "source": [
        "Interestingly, that is the exact same thing we get if we simply compute the probability of each age, $P(\\text{Age}=\\text{Age}_i)$"
      ]
    },
    {
      "cell_type": "code",
      "execution_count": 18,
      "metadata": {
        "colab": {
          "base_uri": "https://localhost:8080/"
        },
        "id": "Z27WAnf4n717",
        "outputId": "9d0cdcc8-be0b-422d-e6da-798afe426af1"
      },
      "outputs": [
        {
          "data": {
            "text/plain": [
              "Age\n",
              "71    0.08\n",
              "72    0.13\n",
              "73    0.11\n",
              "74    0.19\n",
              "75    0.12\n",
              "76    0.13\n",
              "77    0.13\n",
              "78    0.11\n",
              "Name: proportion, dtype: float64"
            ]
          },
          "execution_count": 18,
          "metadata": {},
          "output_type": "execute_result"
        }
      ],
      "source": [
        "people_df['Age'].value_counts(normalize=True).sort_index()"
      ]
    },
    {
      "attachments": {},
      "cell_type": "markdown",
      "metadata": {
        "id": "JSlsrYVgoYhD"
      },
      "source": [
        "So when you sum $P(\\text{Age}=\\text{Age}_i, \\text{Gender}=\\text{Gender}_j)$ only over $\\text{Gender}_j$, you're just left with $P(\\text{Age}=\\text{Age}_i)$. This result stems from the definition of the *Marginal PMF*:  \n",
        "\n",
        ">For the discrete random variables $X$ and $Y$, the marginal PMF of $X$ is:  \n",
        ">$$P(X=x) = \\sum_y P(X=x, Y=y)$$\n",
        ">-- @blitzstein_introduction_2019\n",
        "\n",
        "and with this definition in mind we can finish the proof for the LIE:\n",
        "$$\n",
        "\\begin{align*}\n",
        "E(\\text{Age})  &= \\sum_{i} \\text{Age}_i \\sum_j P(\\text{Age}=\\text{Age}_i, \\text{Gender}=\\text{Gender}_j) \\\\\n",
        "&= \\sum_{i} \\text{Age}_i  P(\\text{Age}=\\text{Age}_i) \\\\\n",
        "&= E(\\text{Age})\n",
        "\\end{align*}\n",
        "$$"
      ]
    },
    {
      "attachments": {},
      "cell_type": "markdown",
      "metadata": {
        "id": "sjxqZo9yqhB5"
      },
      "source": [
        "We can directly show the last bit, $E(\\text{Age}) = \\sum_j \\sum_{i} \\text{Age}_i P(\\text{Age}=\\text{Age}_i, \\text{Gender}=\\text{Gender}_j)$ using the joint probability distribution object from before:"
      ]
    },
    {
      "cell_type": "code",
      "execution_count": 19,
      "metadata": {
        "colab": {
          "base_uri": "https://localhost:8080/",
          "height": 237
        },
        "id": "EUbhAE494f0G",
        "outputId": "1efa5e04-fe40-424d-bf11-5c915bbebf2c"
      },
      "outputs": [
        {
          "data": {
            "text/html": [
              "<div>\n",
              "<style scoped>\n",
              "    .dataframe tbody tr th:only-of-type {\n",
              "        vertical-align: middle;\n",
              "    }\n",
              "\n",
              "    .dataframe tbody tr th {\n",
              "        vertical-align: top;\n",
              "    }\n",
              "\n",
              "    .dataframe thead th {\n",
              "        text-align: right;\n",
              "    }\n",
              "</style>\n",
              "<table border=\"1\" class=\"dataframe\">\n",
              "  <thead>\n",
              "    <tr style=\"text-align: right;\">\n",
              "      <th>Gender</th>\n",
              "      <th>Female</th>\n",
              "      <th>Male</th>\n",
              "    </tr>\n",
              "    <tr>\n",
              "      <th>Age</th>\n",
              "      <th></th>\n",
              "      <th></th>\n",
              "    </tr>\n",
              "  </thead>\n",
              "  <tbody>\n",
              "    <tr>\n",
              "      <th>71</th>\n",
              "      <td>0.05</td>\n",
              "      <td>0.03</td>\n",
              "    </tr>\n",
              "    <tr>\n",
              "      <th>72</th>\n",
              "      <td>0.06</td>\n",
              "      <td>0.07</td>\n",
              "    </tr>\n",
              "    <tr>\n",
              "      <th>73</th>\n",
              "      <td>0.06</td>\n",
              "      <td>0.05</td>\n",
              "    </tr>\n",
              "    <tr>\n",
              "      <th>74</th>\n",
              "      <td>0.11</td>\n",
              "      <td>0.08</td>\n",
              "    </tr>\n",
              "    <tr>\n",
              "      <th>75</th>\n",
              "      <td>0.05</td>\n",
              "      <td>0.07</td>\n",
              "    </tr>\n",
              "  </tbody>\n",
              "</table>\n",
              "</div>"
            ],
            "text/plain": [
              "Gender  Female  Male\n",
              "Age                 \n",
              "71        0.05  0.03\n",
              "72        0.06  0.07\n",
              "73        0.06  0.05\n",
              "74        0.11  0.08\n",
              "75        0.05  0.07"
            ]
          },
          "execution_count": 19,
          "metadata": {},
          "output_type": "execute_result"
        }
      ],
      "source": [
        "P_Age_Gender.head()"
      ]
    },
    {
      "cell_type": "code",
      "execution_count": 20,
      "metadata": {
        "colab": {
          "base_uri": "https://localhost:8080/"
        },
        "id": "ryiTldrtGaBn",
        "outputId": "61eb2712-1780-4b89-9c07-8040c54512c2"
      },
      "outputs": [
        {
          "data": {
            "text/plain": [
              "74.6"
            ]
          },
          "execution_count": 20,
          "metadata": {},
          "output_type": "execute_result"
        }
      ],
      "source": [
        "(P_Age_Gender\n",
        " .sum(axis=1) # sum over j\n",
        " .reset_index() # bring out Age_i\n",
        " .product(axis=1) # Age_i * P(Age=Age_i)\n",
        " .sum() # sum over i\n",
        " )"
      ]
    },
    {
      "cell_type": "code",
      "execution_count": 31,
      "metadata": {},
      "outputs": [
        {
          "data": {
            "image/png": "[encoded data removed]",
            "text/plain": [
              "<Figure size 300x300 with 1 Axes>"
            ]
          },
          "metadata": {},
          "output_type": "display_data"
        }
      ],
      "source": [
        "#| output: false\n",
        "#| echo: false\n",
        "import seaborn as sns\n",
        "import matplotlib.pyplot as plt\n",
        "fig, ax = plt.subplots(figsize=(3, 3))\n",
        "temp = people_df.assign(Age = people_df['Age'] + 5 * (people_df['Gender'] == 'Male'))\n",
        "df = pd.concat([temp,\n",
        "                temp.assign(Gender = \"All\")]\n",
        "                )\n",
        "sns.stripplot(data=df, x='Gender', y='Age', hue='Gender', alpha=.3, ax=ax, jitter = .3)\n",
        "sns.pointplot(data=df, x='Gender', y='Age', hue='Gender', errorbar=None, marker=\"D\")\n",
        "# ax.set(ylim=(71, 77))\n",
        "ax.set_axis_off()\n",
        "fig.savefig('thumbnail.png', bbox_inches='tight', dpi=300)\n"
      ]
    },
    {
      "cell_type": "code",
      "execution_count": 22,
      "metadata": {
        "colab": {
          "base_uri": "https://localhost:8080/"
        },
        "id": "QD-RN-8wqAzZ",
        "outputId": "a3e2cad5-d6d4-40c2-9ead-5174c7bad086"
      },
      "outputs": [
        {
          "data": {
            "text/plain": [
              "74.6"
            ]
          },
          "execution_count": 22,
          "metadata": {},
          "output_type": "execute_result"
        }
      ],
      "source": [
        "people_df['Age'].mean()"
      ]
    }
  ],
  "metadata": {
    "colab": {
      "provenance": []
    },
    "kernelspec": {
      "display_name": "info251",
      "language": "python",
      "name": "info251"
    },
    "language_info": {
      "codemirror_mode": {
        "name": "ipython",
        "version": 3
      },
      "file_extension": ".py",
      "mimetype": "text/x-python",
      "name": "python",
      "nbconvert_exporter": "python",
      "pygments_lexer": "ipython3",
      "version": "3.9.15"
    }
  },
  "nbformat": 4,
  "nbformat_minor": 0
}

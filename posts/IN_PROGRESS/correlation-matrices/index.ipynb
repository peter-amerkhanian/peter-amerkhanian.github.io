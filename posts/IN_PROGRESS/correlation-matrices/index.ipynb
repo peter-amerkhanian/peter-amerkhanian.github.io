{
 "cells": [
  {
   "attachments": {},
   "cell_type": "markdown",
   "metadata": {},
   "source": [
    "---\n",
    "title: \"The Correlation Matrix\"\n",
    "bibliography: \"../../blog.bib\"\n",
    "author: \"Peter Amerkhanian\"\n",
    "date: \"2024-3-25\"\n",
    "draft: true\n",
    "categories: ['Python', 'Linear Algebra']\n",
    "format:\n",
    "  html:\n",
    "    toc: true\n",
    "    toc-depth: 3\n",
    "    code-fold: false\n",
    "    code-tools: true\n",
    "editor: \n",
    "  markdown: \n",
    "    wrap: 72\n",
    "---"
   ]
  },
  {
   "cell_type": "code",
   "execution_count": 1,
   "metadata": {},
   "outputs": [],
   "source": [
    "#| code-fold: true\n",
    "import numpy as np\n",
    "import pandas as pd\n",
    "import ucimlrepo\n",
    "import sympy as sp\n",
    "import matplotlib.pyplot as plt"
   ]
  },
  {
   "attachments": {},
   "cell_type": "markdown",
   "metadata": {},
   "source": [
    "The following is largely based on exercises in [@cohen_practical_2022], an excellent overview of applied, numerical linear algebra in python. This exercise is an overview of how to compute the covariance matrix of a dataset, and contains enough fundamental linear algebra topics -- matrix multiplication, matrices as functions, etc. -- that I wanted to commit it to a blog for my future reference.  \n",
    "\n",
    "This will be a long post with almost no computational value. Almost all of the methods and objects I cover come up in analytical, not numerical, linear algebra. Either way, I think that it's useful to go through these to get some understanding of how to combine matrix operations to get interesting output.\n",
    "\n",
    "# Question and Data\n",
    "The exercise dataset used in the textbook is [\"Communities and Crime,\" from the UC Irvine Machine Learning Repository](https://archive.ics.uci.edu/dataset/183/communities+and+crime), which includes data on  \n",
    "\n",
    "> Communities within the United States. The data combines socio-economic data from the 1990 US Census, law enforcement data from the 1990 US LEMAS survey, and crime data from the 1995 FBI UCR.  \n",
    ">\n",
    "\n",
    "In the exercise, we are tasked with creating a covariance matrix of the data."
   ]
  },
  {
   "cell_type": "code",
   "execution_count": 2,
   "metadata": {},
   "outputs": [],
   "source": [
    "#| code-fold: true\n",
    "# Fetch the dataset \n",
    "communities_and_crime: ucimlrepo.dotdict = ucimlrepo.fetch_ucirepo(id=183) \n",
    "df: pd.DataFrame = pd.concat([communities_and_crime.data.features,\n",
    "                              communities_and_crime.data.features], axis=1)\n",
    "# Isolate numerical features and clear duplicate columns\n",
    "df_num: pd.DataFrame = df.copy().select_dtypes(include='number')\n",
    "df_num = df_num.loc[:,~df_num.columns.duplicated()]\n",
    "df_num = df_num.iloc[:, 2:]"
   ]
  },
  {
   "attachments": {},
   "cell_type": "markdown",
   "metadata": {},
   "source": [
    "To make the operations as clear as possible, I'm going to overview the process using only the first five rows before computing the full covariance matrix."
   ]
  },
  {
   "cell_type": "code",
   "execution_count": 3,
   "metadata": {},
   "outputs": [
    {
     "data": {
      "text/html": [
       "<div>\n",
       "<style scoped>\n",
       "    .dataframe tbody tr th:only-of-type {\n",
       "        vertical-align: middle;\n",
       "    }\n",
       "\n",
       "    .dataframe tbody tr th {\n",
       "        vertical-align: top;\n",
       "    }\n",
       "\n",
       "    .dataframe thead th {\n",
       "        text-align: right;\n",
       "    }\n",
       "</style>\n",
       "<table border=\"1\" class=\"dataframe\">\n",
       "  <thead>\n",
       "    <tr style=\"text-align: right;\">\n",
       "      <th></th>\n",
       "      <th>population</th>\n",
       "      <th>householdsize</th>\n",
       "      <th>racepctblack</th>\n",
       "      <th>racePctWhite</th>\n",
       "      <th>racePctAsian</th>\n",
       "      <th>racePctHisp</th>\n",
       "      <th>agePct12t21</th>\n",
       "      <th>agePct12t29</th>\n",
       "      <th>agePct16t24</th>\n",
       "      <th>agePct65up</th>\n",
       "      <th>...</th>\n",
       "      <th>NumStreet</th>\n",
       "      <th>PctForeignBorn</th>\n",
       "      <th>PctBornSameState</th>\n",
       "      <th>PctSameHouse85</th>\n",
       "      <th>PctSameCity85</th>\n",
       "      <th>PctSameState85</th>\n",
       "      <th>LandArea</th>\n",
       "      <th>PopDens</th>\n",
       "      <th>PctUsePubTrans</th>\n",
       "      <th>LemasPctOfficDrugUn</th>\n",
       "    </tr>\n",
       "  </thead>\n",
       "  <tbody>\n",
       "    <tr>\n",
       "      <th>0</th>\n",
       "      <td>0.19</td>\n",
       "      <td>0.33</td>\n",
       "      <td>0.02</td>\n",
       "      <td>0.90</td>\n",
       "      <td>0.12</td>\n",
       "      <td>0.17</td>\n",
       "      <td>0.34</td>\n",
       "      <td>0.47</td>\n",
       "      <td>0.29</td>\n",
       "      <td>0.32</td>\n",
       "      <td>...</td>\n",
       "      <td>0.0</td>\n",
       "      <td>0.12</td>\n",
       "      <td>0.42</td>\n",
       "      <td>0.50</td>\n",
       "      <td>0.51</td>\n",
       "      <td>0.64</td>\n",
       "      <td>0.12</td>\n",
       "      <td>0.26</td>\n",
       "      <td>0.20</td>\n",
       "      <td>0.32</td>\n",
       "    </tr>\n",
       "    <tr>\n",
       "      <th>1</th>\n",
       "      <td>0.00</td>\n",
       "      <td>0.16</td>\n",
       "      <td>0.12</td>\n",
       "      <td>0.74</td>\n",
       "      <td>0.45</td>\n",
       "      <td>0.07</td>\n",
       "      <td>0.26</td>\n",
       "      <td>0.59</td>\n",
       "      <td>0.35</td>\n",
       "      <td>0.27</td>\n",
       "      <td>...</td>\n",
       "      <td>0.0</td>\n",
       "      <td>0.21</td>\n",
       "      <td>0.50</td>\n",
       "      <td>0.34</td>\n",
       "      <td>0.60</td>\n",
       "      <td>0.52</td>\n",
       "      <td>0.02</td>\n",
       "      <td>0.12</td>\n",
       "      <td>0.45</td>\n",
       "      <td>0.00</td>\n",
       "    </tr>\n",
       "    <tr>\n",
       "      <th>2</th>\n",
       "      <td>0.00</td>\n",
       "      <td>0.42</td>\n",
       "      <td>0.49</td>\n",
       "      <td>0.56</td>\n",
       "      <td>0.17</td>\n",
       "      <td>0.04</td>\n",
       "      <td>0.39</td>\n",
       "      <td>0.47</td>\n",
       "      <td>0.28</td>\n",
       "      <td>0.32</td>\n",
       "      <td>...</td>\n",
       "      <td>0.0</td>\n",
       "      <td>0.14</td>\n",
       "      <td>0.49</td>\n",
       "      <td>0.54</td>\n",
       "      <td>0.67</td>\n",
       "      <td>0.56</td>\n",
       "      <td>0.01</td>\n",
       "      <td>0.21</td>\n",
       "      <td>0.02</td>\n",
       "      <td>0.00</td>\n",
       "    </tr>\n",
       "    <tr>\n",
       "      <th>3</th>\n",
       "      <td>0.04</td>\n",
       "      <td>0.77</td>\n",
       "      <td>1.00</td>\n",
       "      <td>0.08</td>\n",
       "      <td>0.12</td>\n",
       "      <td>0.10</td>\n",
       "      <td>0.51</td>\n",
       "      <td>0.50</td>\n",
       "      <td>0.34</td>\n",
       "      <td>0.21</td>\n",
       "      <td>...</td>\n",
       "      <td>0.0</td>\n",
       "      <td>0.19</td>\n",
       "      <td>0.30</td>\n",
       "      <td>0.73</td>\n",
       "      <td>0.64</td>\n",
       "      <td>0.65</td>\n",
       "      <td>0.02</td>\n",
       "      <td>0.39</td>\n",
       "      <td>0.28</td>\n",
       "      <td>0.00</td>\n",
       "    </tr>\n",
       "    <tr>\n",
       "      <th>4</th>\n",
       "      <td>0.01</td>\n",
       "      <td>0.55</td>\n",
       "      <td>0.02</td>\n",
       "      <td>0.95</td>\n",
       "      <td>0.09</td>\n",
       "      <td>0.05</td>\n",
       "      <td>0.38</td>\n",
       "      <td>0.38</td>\n",
       "      <td>0.23</td>\n",
       "      <td>0.36</td>\n",
       "      <td>...</td>\n",
       "      <td>0.0</td>\n",
       "      <td>0.11</td>\n",
       "      <td>0.72</td>\n",
       "      <td>0.64</td>\n",
       "      <td>0.61</td>\n",
       "      <td>0.53</td>\n",
       "      <td>0.04</td>\n",
       "      <td>0.09</td>\n",
       "      <td>0.02</td>\n",
       "      <td>0.00</td>\n",
       "    </tr>\n",
       "  </tbody>\n",
       "</table>\n",
       "<p>5 rows × 99 columns</p>\n",
       "</div>"
      ],
      "text/plain": [
       "   population  householdsize  racepctblack  racePctWhite  racePctAsian  \\\n",
       "0        0.19           0.33          0.02          0.90          0.12   \n",
       "1        0.00           0.16          0.12          0.74          0.45   \n",
       "2        0.00           0.42          0.49          0.56          0.17   \n",
       "3        0.04           0.77          1.00          0.08          0.12   \n",
       "4        0.01           0.55          0.02          0.95          0.09   \n",
       "\n",
       "   racePctHisp  agePct12t21  agePct12t29  agePct16t24  agePct65up  ...  \\\n",
       "0         0.17         0.34         0.47         0.29        0.32  ...   \n",
       "1         0.07         0.26         0.59         0.35        0.27  ...   \n",
       "2         0.04         0.39         0.47         0.28        0.32  ...   \n",
       "3         0.10         0.51         0.50         0.34        0.21  ...   \n",
       "4         0.05         0.38         0.38         0.23        0.36  ...   \n",
       "\n",
       "   NumStreet  PctForeignBorn  PctBornSameState  PctSameHouse85  PctSameCity85  \\\n",
       "0        0.0            0.12              0.42            0.50           0.51   \n",
       "1        0.0            0.21              0.50            0.34           0.60   \n",
       "2        0.0            0.14              0.49            0.54           0.67   \n",
       "3        0.0            0.19              0.30            0.73           0.64   \n",
       "4        0.0            0.11              0.72            0.64           0.61   \n",
       "\n",
       "   PctSameState85  LandArea  PopDens  PctUsePubTrans  LemasPctOfficDrugUn  \n",
       "0            0.64      0.12     0.26            0.20                 0.32  \n",
       "1            0.52      0.02     0.12            0.45                 0.00  \n",
       "2            0.56      0.01     0.21            0.02                 0.00  \n",
       "3            0.65      0.02     0.39            0.28                 0.00  \n",
       "4            0.53      0.04     0.09            0.02                 0.00  \n",
       "\n",
       "[5 rows x 99 columns]"
      ]
     },
     "execution_count": 3,
     "metadata": {},
     "output_type": "execute_result"
    }
   ],
   "source": [
    "example = df_num.head()\n",
    "example"
   ]
  },
  {
   "attachments": {},
   "cell_type": "markdown",
   "metadata": {},
   "source": [
    "## Bivariate Covariance via Summation\n",
    "Say we have two columns, `householdsize` and `population`, and we'd like to know to what degree they are associated."
   ]
  },
  {
   "cell_type": "code",
   "execution_count": 63,
   "metadata": {},
   "outputs": [
    {
     "data": {
      "text/html": [
       "<div>\n",
       "<style scoped>\n",
       "    .dataframe tbody tr th:only-of-type {\n",
       "        vertical-align: middle;\n",
       "    }\n",
       "\n",
       "    .dataframe tbody tr th {\n",
       "        vertical-align: top;\n",
       "    }\n",
       "\n",
       "    .dataframe thead th {\n",
       "        text-align: right;\n",
       "    }\n",
       "</style>\n",
       "<table border=\"1\" class=\"dataframe\">\n",
       "  <thead>\n",
       "    <tr style=\"text-align: right;\">\n",
       "      <th></th>\n",
       "      <th>population</th>\n",
       "      <th>householdsize</th>\n",
       "    </tr>\n",
       "  </thead>\n",
       "  <tbody>\n",
       "    <tr>\n",
       "      <th>0</th>\n",
       "      <td>0.19</td>\n",
       "      <td>0.33</td>\n",
       "    </tr>\n",
       "    <tr>\n",
       "      <th>1</th>\n",
       "      <td>0.00</td>\n",
       "      <td>0.16</td>\n",
       "    </tr>\n",
       "    <tr>\n",
       "      <th>2</th>\n",
       "      <td>0.00</td>\n",
       "      <td>0.42</td>\n",
       "    </tr>\n",
       "    <tr>\n",
       "      <th>3</th>\n",
       "      <td>0.04</td>\n",
       "      <td>0.77</td>\n",
       "    </tr>\n",
       "    <tr>\n",
       "      <th>4</th>\n",
       "      <td>0.01</td>\n",
       "      <td>0.55</td>\n",
       "    </tr>\n",
       "  </tbody>\n",
       "</table>\n",
       "</div>"
      ],
      "text/plain": [
       "   population  householdsize\n",
       "0        0.19           0.33\n",
       "1        0.00           0.16\n",
       "2        0.00           0.42\n",
       "3        0.04           0.77\n",
       "4        0.01           0.55"
      ]
     },
     "execution_count": 63,
     "metadata": {},
     "output_type": "execute_result"
    }
   ],
   "source": [
    "x = example['population']\n",
    "y = example['householdsize']\n",
    "example[['population', 'householdsize']]"
   ]
  },
  {
   "attachments": {},
   "cell_type": "markdown",
   "metadata": {},
   "source": [
    "I can compute their covariance statistic via the following equation, where $x$ is, say `population`, and $y$ is `householdsize`"
   ]
  },
  {
   "attachments": {},
   "cell_type": "markdown",
   "metadata": {},
   "source": [
    "$$\n",
    "c_{x, y} = (n-1)^{-1} \\sum_{i=1} ^n (x_i - \\bar{x})(y_i - \\bar{y})\n",
    "$${#eq-one}\n",
    "[@cohen_practical_2022, chapter 7]"
   ]
  },
  {
   "attachments": {},
   "cell_type": "markdown",
   "metadata": {},
   "source": [
    "I create a function as follows to flexibly compute this formula for two arrays of data."
   ]
  },
  {
   "cell_type": "code",
   "execution_count": 64,
   "metadata": {},
   "outputs": [],
   "source": [
    "def bivariate_cov(x: np.array, y: np.array) -> float:\n",
    "    x_bar: float = x.mean()\n",
    "    y_bar: float = y.mean()\n",
    "    n = len(x)\n",
    "    summation = 0\n",
    "    for i in range(n):\n",
    "        summation += (x.loc[i] - x_bar) * (y.loc[i] - y_bar)\n",
    "    return summation / (n-1)"
   ]
  },
  {
   "attachments": {},
   "cell_type": "markdown",
   "metadata": {},
   "source": [
    "For these two variables, we find the covariance as follows:"
   ]
  },
  {
   "cell_type": "code",
   "execution_count": 65,
   "metadata": {},
   "outputs": [
    {
     "name": "stdout",
     "output_type": "stream",
     "text": [
      "cov(x, y): -0.0020099999999999996\n"
     ]
    }
   ],
   "source": [
    "print(\"cov(x, y):\", bivariate_cov(x, y))"
   ]
  },
  {
   "attachments": {},
   "cell_type": "markdown",
   "metadata": {},
   "source": [
    "I'll check my answer with a built in function, `numpy.cov()`:"
   ]
  },
  {
   "cell_type": "code",
   "execution_count": 66,
   "metadata": {},
   "outputs": [
    {
     "data": {
      "text/plain": [
       "array([[ 0.00657, -0.00201],\n",
       "       [-0.00201,  0.05293]])"
      ]
     },
     "execution_count": 66,
     "metadata": {},
     "output_type": "execute_result"
    }
   ],
   "source": [
    "np.cov(x, y)"
   ]
  },
  {
   "attachments": {},
   "cell_type": "markdown",
   "metadata": {},
   "source": [
    "This is clearly different! Rather than a scalar, this function returned a matrix. However, the upper and lower triangles of the matrix are the same as the covariance value we computed. Indeed, what numpy returned for covariance is the following matrix:\n",
    "$$\n",
    "\\left[\n",
    "\\begin{matrix}\n",
    "    var(x) & cov(x, y) \\\\\n",
    "    cov(y, x) & var(y) \\\\\n",
    "\\end{matrix}\n",
    "\\right]\n",
    "$$\n",
    "\n",
    "We can compute the variances of $x$ and $y$ to confirm this (note that variance is, in a sense, a vector's covariance with itself) "
   ]
  },
  {
   "cell_type": "code",
   "execution_count": 67,
   "metadata": {},
   "outputs": [
    {
     "name": "stdout",
     "output_type": "stream",
     "text": [
      "var(x): 0.006570000000000002\n",
      "var(y): 0.05293000000000001\n"
     ]
    }
   ],
   "source": [
    "print(\"var(x):\", bivariate_cov(x, x))\n",
    "print(\"var(y):\", bivariate_cov(y, y))"
   ]
  },
  {
   "attachments": {},
   "cell_type": "markdown",
   "metadata": {},
   "source": [
    "## The Vector Formula for Bivariate Covariance\n",
    "To get our output to match numpy's we'll start by generalizing the covariance equation to input vectors. Recall the no linear algebra, summation equation, (@eq-one):"
   ]
  },
  {
   "attachments": {},
   "cell_type": "markdown",
   "metadata": {},
   "source": [
    "$$\n",
    "\\begin{align*}\n",
    "c_{x, y} &= (n-1)^{-1} \\sum_{i=1} ^n (x_i - \\bar{x})(y_i - \\bar{y}) \\\\\n",
    "\\end{align*}  \n",
    "$$  \n",
    "\n",
    "To convert this into an equation that uses vectors, we'll note that the $\\sum_{i=1}^n(\\cdots)_i(\\cdots)_i$ term above corresponds to a \"dot product\" in linear algebra. We write this out as follows:\n",
    "$$\n",
    "\\begin{align*}\n",
    "c_{x, y} &= (n-1)^{-1}(\\mathbf {x}_{n \\times 1} - \\bar{\\mathbf {x}})^\\intercal (\\mathbf {y}_{n \\times 1} - \\bar{\\mathbf {y}}) \\\\\n",
    "\\end{align*}  \n",
    "$$\n",
    "\n",
    "[@cohen_practical_2022, chapter 7]  \n",
    "\n",
    "Note the following notational conventions:  \n",
    "\n",
    "- the boldface x, $\\mathbf {x}_{n \\times 1}$ refers to a vector with all the elements $x_i$, $i \\in [1,2, \\cdots, n]$\n",
    "- $\\bar{\\mathbf {x}}$ and $\\bar{x}$ are equivalent -- both represent the mean of the vector.\n",
    "- $^\\intercal$ represents the transpose -- we'll get to what it means and why it's important in the section on the matrix formulation, but you can ignore it for now.\n",
    "\n",
    "To compute this formula, I'll denote the vectors and their means below:"
   ]
  },
  {
   "cell_type": "code",
   "execution_count": 83,
   "metadata": {},
   "outputs": [
    {
     "name": "stdout",
     "output_type": "stream",
     "text": [
      "x: [0.19 0.   0.   0.04 0.01] mean(x)= 0.048\n",
      "y: [0.33 0.16 0.42 0.77 0.55] mean(y)= 0.446\n",
      "n =  5\n"
     ]
    }
   ],
   "source": [
    "print(\"x:\", x.values, \"mean(x)=\", x.mean())\n",
    "print(\"y:\", y.values,  \"mean(y)=\", y.mean())\n",
    "print(\"n = \", len(x))"
   ]
  },
  {
   "attachments": {},
   "cell_type": "markdown",
   "metadata": {},
   "source": [
    "And we can now plug everything into that vector formula for covariance:"
   ]
  },
  {
   "attachments": {},
   "cell_type": "markdown",
   "metadata": {},
   "source": [
    "$$\n",
    "\\begin{align*}\n",
    "c_{x, y} &= (n-1)^{-1}(\\mathbf {x}_{n \\times 1} - \\bar{\\mathbf {x}})^\\intercal (\\mathbf {y}_{n \\times 1} - \\bar{\\mathbf {y}}) \\\\\n",
    "c_{x,y} &= \\frac{1}{4} (\\left[\\begin{matrix}0.19\\\\0\\\\0\\\\0.04\\\\0.01\\end{matrix}\\right] - 0.048)^\\intercal (\\left[\\begin{matrix}0.33\\\\0.16\\\\0.42\\\\0.77\\\\0.55\\end{matrix}\\right] - 0.446) \\\\\n",
    "c_{x,y} &= \\frac{1}{4} (\\left[\\begin{matrix}0.142\\\\-0.048\\\\-0.048\\\\-0.008\\\\-0.038\\end{matrix}\\right]^\\intercal \\left[\\begin{matrix}-0.116\\\\-0.286\\\\-0.026\\\\0.324\\\\0.104\\end{matrix}\\right]) \\\\\n",
    "&= \\frac{1}{4} ((0.142) (-0.116) + (-0.048) (-0.286) \\\\\n",
    "&\\quad \\quad + (-0.048) (-0.026) + (-0.008) (0.324) \\\\\n",
    "&\\quad \\quad + (-0.038) (0.104) )  \\\\\n",
    "&\\approx \\frac{1}{4} (-0.00804) \\\\\n",
    "&\\approx -0.00201\n",
    "\\end{align*}\n",
    "$$"
   ]
  },
  {
   "attachments": {},
   "cell_type": "markdown",
   "metadata": {},
   "source": [
    "In python we can confirm our result, where `@` computes the dot product in python's `numpy` library:"
   ]
  },
  {
   "cell_type": "code",
   "execution_count": 84,
   "metadata": {},
   "outputs": [
    {
     "data": {
      "text/plain": [
       "-0.0020099999999999996"
      ]
     },
     "execution_count": 84,
     "metadata": {},
     "output_type": "execute_result"
    }
   ],
   "source": [
    "x_bar: float = x.mean()\n",
    "y_bar: float = y.mean()\n",
    "n = len(x)\n",
    "((x - x_bar).T @ (y - y_bar)) / (n - 1)"
   ]
  },
  {
   "attachments": {},
   "cell_type": "markdown",
   "metadata": {},
   "source": [
    "and we quickly confirm that this outputs the same value as the summation equation we implemented earlier"
   ]
  },
  {
   "cell_type": "code",
   "execution_count": 100,
   "metadata": {},
   "outputs": [],
   "source": [
    "assert  bivariate_cov(x, y) == ((x - x_bar).T @ (y - y_bar)) / (n - 1)"
   ]
  },
  {
   "attachments": {},
   "cell_type": "markdown",
   "metadata": {},
   "source": [
    "## The Matrix Formulation\n",
    "In my view, the vector formulation is not particularly useful, so we will quickly move on to the matrix formulation. This formula can take in an arbitrary number of variables and compute the covariance between each of them, and it's going to give us the same output as `np.cov()`. \n",
    "\n",
    "Before we get to the equation, we'll start by defining a matrix, $X$, made up of the vectors $\\mathbf{x}$ and $\\mathbf{y}$:  \n",
    "$$\n",
    "X_{n \\times 2} = \n",
    "\\left[\n",
    "\\begin{matrix}\n",
    "\\vert & \\vert \\\\\n",
    "    \\mathbf{x}   & \\mathbf{y}   \\\\\n",
    "    \\vert & \\vert\n",
    "\\end{matrix}\n",
    "\\right]_{n \\times 2} = \\left[\n",
    "\\begin{matrix}\n",
    "    x_1   & y_1   \\\\\n",
    "    x_2   & y_2   \\\\\n",
    "    \\vdots   & \\vdots   \\\\\n",
    "    x_n   & y_n   \\\\\n",
    "\\end{matrix}\n",
    "\\right]_{n \\times 2}\n",
    "$$  \n",
    "\n",
    "This is really just our full dataset:"
   ]
  },
  {
   "cell_type": "code",
   "execution_count": 85,
   "metadata": {},
   "outputs": [
    {
     "data": {
      "text/html": [
       "<div>\n",
       "<style scoped>\n",
       "    .dataframe tbody tr th:only-of-type {\n",
       "        vertical-align: middle;\n",
       "    }\n",
       "\n",
       "    .dataframe tbody tr th {\n",
       "        vertical-align: top;\n",
       "    }\n",
       "\n",
       "    .dataframe thead th {\n",
       "        text-align: right;\n",
       "    }\n",
       "</style>\n",
       "<table border=\"1\" class=\"dataframe\">\n",
       "  <thead>\n",
       "    <tr style=\"text-align: right;\">\n",
       "      <th></th>\n",
       "      <th>population</th>\n",
       "      <th>householdsize</th>\n",
       "    </tr>\n",
       "  </thead>\n",
       "  <tbody>\n",
       "    <tr>\n",
       "      <th>0</th>\n",
       "      <td>0.19</td>\n",
       "      <td>0.33</td>\n",
       "    </tr>\n",
       "    <tr>\n",
       "      <th>1</th>\n",
       "      <td>0.00</td>\n",
       "      <td>0.16</td>\n",
       "    </tr>\n",
       "    <tr>\n",
       "      <th>2</th>\n",
       "      <td>0.00</td>\n",
       "      <td>0.42</td>\n",
       "    </tr>\n",
       "    <tr>\n",
       "      <th>3</th>\n",
       "      <td>0.04</td>\n",
       "      <td>0.77</td>\n",
       "    </tr>\n",
       "    <tr>\n",
       "      <th>4</th>\n",
       "      <td>0.01</td>\n",
       "      <td>0.55</td>\n",
       "    </tr>\n",
       "  </tbody>\n",
       "</table>\n",
       "</div>"
      ],
      "text/plain": [
       "   population  householdsize\n",
       "0        0.19           0.33\n",
       "1        0.00           0.16\n",
       "2        0.00           0.42\n",
       "3        0.04           0.77\n",
       "4        0.01           0.55"
      ]
     },
     "execution_count": 85,
     "metadata": {},
     "output_type": "execute_result"
    }
   ],
   "source": [
    "X = example[['population', 'householdsize']]\n",
    "X"
   ]
  },
  {
   "attachments": {},
   "cell_type": "markdown",
   "metadata": {},
   "source": [
    "Lets now consider what objects were necessary in the \"no linear algebra\", summation equation, (@eq-one):  \n",
    "$$\n",
    "c_{x, y} = (n-1)^{-1} \\sum_{i=1} ^n (x_i - \\bar{x})(y_i - \\bar{y})\n",
    "$$  \n",
    "\n",
    "The key components:  \n",
    "\n",
    "1. $(n-1)^{-1}$, a straightforward scalar value.\n",
    "2. $x_i - \\bar{x}$ and $y_i - \\bar{y}$. we have already seen that these are vectors denoting the deviations of each element in a vector, e.g. $\\mathbf{x}$ from the mean, $\\bar{x}$\n",
    "3. $\\sum_{i=1} ^n (\\cdots)_i(\\cdots)_i$. As we stated earlier this is a \"dot product.\""
   ]
  },
  {
   "attachments": {},
   "cell_type": "markdown",
   "metadata": {},
   "source": [
    "Let's think about how we can define component 2., $x_i - \\bar{x}$ and $y_i - \\bar{y}$, in terms of matrices.  \n",
    "\n",
    "We want to subtract x elements from the mean of x, and y elements from the mean of y. In the vector setting above, we set this up as the difference between a vector and its scalar mean: \n",
    "\n",
    "$$\n",
    "\\left[\n",
    "\\begin{matrix}\n",
    "    x_1  \\\\\n",
    "    x_2   \\\\\n",
    "    \\vdots   \\\\\n",
    "    x_n \n",
    "\\end{matrix}\n",
    "\\right]_{n \\times 1} - \\bar{\\mathbf{x}} = \\left[\n",
    "\\begin{matrix}\n",
    "x_1 - \\bar{\\mathbf{x}}   \\\\\n",
    "    x_2 - \\bar{\\mathbf{x}}    \\\\\n",
    "    \\vdots   \\\\\n",
    "    x_n - \\bar{\\mathbf{x}}     \\\\\n",
    "\\end{matrix}\n",
    "\\right]_{n \\times 1}\n",
    "$$\n",
    "\n",
    "\n",
    "We now move to a matrix formulation of this operation so that we can operate on more than one column of data at once. Matrix subtraction is thankfully straightforward,  \n",
    "  \n",
    "> You add [or subtract] two matrices by adding their corresponding elements. [...] Matrix addition [and subtraction] is defined only between two\n",
    "matrices of the same size\n",
    ">\n",
    "> -- [@cohen_practical_2022, chapter 5]\n",
    "\n",
    "Given that, we can set $x_i - \\bar{x}$ and $y_i - \\bar{y}$ up in a matrix formulation as follows:  \n",
    "\n",
    "$$ \n",
    "x_i - \\bar{x} \\text{ and } y_i - \\bar{y} \\rightarrow \n",
    "\\left[\n",
    "\\begin{matrix}\n",
    "    x_1   & y_1   \\\\\n",
    "    x_2   & y_2   \\\\\n",
    "    \\vdots   & \\vdots   \\\\\n",
    "    x_n   & y_n   \\\\\n",
    "\\end{matrix}\n",
    "\\right]_{n \\times 2} - \n",
    "\\left[\n",
    "\\begin{matrix}\n",
    "    \\bar{\\mathbf{x}}   & \\bar{\\mathbf{y}}   \\\\\n",
    "    \\bar{\\mathbf{x}}   & \\bar{\\mathbf{y}}   \\\\\n",
    "    \\vdots   & \\vdots   \\\\\n",
    "    \\bar{\\mathbf{x}}   & \\bar{\\mathbf{y}}   \\\\\n",
    "\\end{matrix}\n",
    "\\right]_{n \\times 2} = \n",
    "\\left[\n",
    "\\begin{matrix}\n",
    "x_1 - \\bar{\\mathbf{x}}   & y_1 - \\bar{\\mathbf{y}}   \\\\\n",
    "    x_2 - \\bar{\\mathbf{x}}   & y_2 - \\bar{\\mathbf{y}}   \\\\\n",
    "    \\vdots   & \\vdots   \\\\\n",
    "    x_n - \\bar{\\mathbf{x}}   & y_n - \\bar{\\mathbf{y}}   \\\\\n",
    "\\end{matrix}\n",
    "\\right]_{n \\times 2}\n",
    "$$\n",
    "\n",
    "But how do we produce the $n \\times 2$ matrix of column means that this equation requires?  \n",
    "$$\n",
    "\\left[\n",
    "\\begin{matrix}\n",
    "    \\bar{\\mathbf{x}}   & \\bar{\\mathbf{y}}   \\\\\n",
    "    \\bar{\\mathbf{x}}   & \\bar{\\mathbf{y}}   \\\\\n",
    "    \\vdots   & \\vdots   \\\\\n",
    "    \\bar{\\mathbf{x}}   & \\bar{\\mathbf{y}}   \\\\\n",
    "\\end{matrix}\n",
    "\\right]_{n \\times 2}\n",
    "$${#eq-mat-means}\n",
    "\n",
    "We can of course devise some code that will give us that matrix, but thinking about how to produce this analytically, with linear algebra, yields some useful insights, so lets try...  \n",
    "\n",
    "Given that these means are functions of the elements of $\\mathbf{x}$ and $\\mathbf{y}$ respectively, we are going to try to create a function that takes in the matrix $X$ and outputs the matrix of means above. What's interesting is that with linear algebra, we can conceive of *functions as matrices*, so really we are looking for a matrix we can multiply with $X$ to produce (@eq-mat-means). This is going to be very notationally useful when we write the matrix formulation for covariance, but we will build up to that by first producing (@eq-mat-means)."
   ]
  },
  {
   "attachments": {},
   "cell_type": "markdown",
   "metadata": {},
   "source": [
    "### The mean as a matrix transformation\n",
    "To build that function/matrix, lets start by considering a standard definition of the average and translate it into a function that takes in a vector, multiplies it with another vector, and outputs the average of the input vector. The simple summation formulation for the mean is as follows:  \n",
    "$$\n",
    "\\bar{x} = \\frac{1}{n}\\sum_{i=1}^n x_i = \\sum_{i=1}^n \\frac{1}{n}x_i\n",
    "$$\n",
    "The summation, $\\sum_{i=1}^n \\frac{1}{n}x_i$, maps directly to a simple dot product:  \n",
    "$$\n",
    "\\begin{align*}\n",
    "\\bar{x} &= \\sum_{i=1}^n \\frac{1}{n}x_i \\\\\n",
    "&= \\frac{1}{n}x_1 + \\frac{1}{n}x_2 + \\cdots \\frac{1}{n}x_n \\\\\n",
    "&= \\left[\\begin{matrix}\\frac{1}{n} & \\frac{1}{n} & \\cdots & \\frac{1}{n}\\end{matrix}\\right]_{1 \\times n} \\left[\\begin{matrix}x_1\\\\x_2\\\\\\vdots\\\\x_n\\end{matrix}\\right]_{n \\times 1}\n",
    "\\end{align*}\n",
    "$$\n",
    "This is interesting (really), because it looks like if we multiply $\\left[\\begin{matrix}\\frac{1}{n} & \\frac{1}{n} & \\cdots & \\frac{1}{n}\\end{matrix}\\right]_{1 \\times n}$ by any $n \\times 1$ vector, we get the mean. So it seems like the following is a function that takes in a vector, multiplies it with another vector, and outputs the average of the input vector:\n",
    "$$\n",
    "\\bar{x} = f(\\mathbf{x}_{n \\times 1}) = \\left[\\begin{matrix}\\frac{1}{n} & \\frac{1}{n} & \\cdots & \\frac{1}{n}\\end{matrix}\\right]_{1 \\times n} \\mathbf{x}_{n \\times 1}\n",
    "$${#eq-simple-mean}\n",
    " \n",
    "Lets confirm this behavior with code:"
   ]
  },
  {
   "cell_type": "code",
   "execution_count": 86,
   "metadata": {},
   "outputs": [
    {
     "name": "stdout",
     "output_type": "stream",
     "text": [
      "n = 5\n",
      "[1/n, 1/n, ... 1/n] =  [0.2 0.2 0.2 0.2 0.2]\n"
     ]
    }
   ],
   "source": [
    "print(\"n =\", len(x))\n",
    "print(\"[1/n, 1/n, ... 1/n] = \", 1/len(x) * np.ones(len(x)).T)"
   ]
  },
  {
   "cell_type": "code",
   "execution_count": 89,
   "metadata": {},
   "outputs": [
    {
     "name": "stdout",
     "output_type": "stream",
     "text": [
      "f(x) =  0.04800000000000001\n",
      "mean =  0.048\n",
      "^ these are equal\n"
     ]
    }
   ],
   "source": [
    "print(\n",
    "    \"f(x) = \", 1/len(x) * np.ones(len(x)).T @ x\n",
    "    )\n",
    "print(\"mean = \", x.mean())\n",
    "print(\"^ these are equal\")"
   ]
  },
  {
   "attachments": {},
   "cell_type": "markdown",
   "metadata": {},
   "source": [
    "Now that we've confirmed that the function works, lets formalize it and make its notation clear. Consider a vector of 1s, $\\mathbf{1}$:  \n",
    "$$\n",
    "\\mathbf{1}_{n \\times 1} = \\left[\\begin{matrix}1\\\\1\\\\\\vdots\\\\1\\end{matrix}\\right]_{n \\times 1} \\\\\n",
    "$$\n",
    "If we mutliply that by $1/n$, we get something like the vector that defines our function:  \n",
    "$$\n",
    "n^{-1}\\mathbf{1}_{n \\times 1} = \\left[\\begin{matrix}\\frac{1}{n} \\\\ \\frac{1}{n} \\\\ \\vdots \\\\ \\frac{1}{n}\\end{matrix}\\right]_{n \\times 1}\n",
    "$$  \n",
    "The only problem with this is that its vertical rather than horizontal, so we'll use the transpose to get what we previously saw in our function, (@eq-simple-mean):\n",
    "$$\n",
    "n^{-1}\\mathbf{1}_{n \\times 1}^\\intercal = \\left[\\begin{matrix}\\frac{1}{n} & \\frac{1}{n} & \\cdots & \\frac{1}{n}\\end{matrix}\\right]_{1 \\times n}\n",
    "$$  \n",
    "\n",
    "With that notation, we'll now define the function in clear notation:\n",
    "$$\n",
    "\\begin{align*}\n",
    "f(\\mathbf{x}_{n \\times 1}) &= n^{-1}\\mathbf{1}_{n \\times 1}^\\intercal \\mathbf{x}_{n \\times 1}\n",
    "\\end{align*}\n",
    "$$\n",
    "\n",
    "So the average can be conceived of as the matrix transformation that transforms a $n \\times 1$ vector into its scalar mean.\n",
    "$$\n",
    "T: \\mathbb{R}^n \\rightarrow \\mathbb{R}^1 \\quad \\text{defined by} \\quad T(\\mathbf{x}_{n \\times 1}) = n^{-1}\\mathbf{1}_{n \\times 1}^\\intercal \\mathbf{x}_{n \\times 1}\n",
    "$$  \n",
    "\n",
    "Looks weird and potentially useless, but this sort of thinking becomes more useful when we move on to finding a matrix transformation that gets us the element-wise deviations from the mean,  (@eq-mat-means)."
   ]
  },
  {
   "attachments": {},
   "cell_type": "markdown",
   "metadata": {},
   "source": [
    "### Deviation from the mean as a matrix transformation\n",
    "\n",
    "$f(\\mathbf{x}_{n \\times 1}) = n^{-1}\\mathbf{1}_{n \\times 1}^\\intercal \\mathbf{x}_{n \\times 1}$ yields a scalar, $\\bar{x}$, but I want the matrix:\n",
    "$$\n",
    "\\left[\n",
    "\\begin{matrix}\n",
    "    \\bar{\\mathbf{x}}   & \\bar{\\mathbf{y}}   \\\\\n",
    "    \\bar{\\mathbf{x}}   & \\bar{\\mathbf{y}}   \\\\\n",
    "    \\vdots   & \\vdots   \\\\\n",
    "    \\bar{\\mathbf{x}}   & \\bar{\\mathbf{y}}   \\\\\n",
    "\\end{matrix}\n",
    "\\right]_{n \\times 2}\n",
    "$$\n",
    "To move towards that output, lets start with getting a function that can output the first column:\n",
    "$$\n",
    "\\left[\n",
    "\\begin{matrix}\n",
    "    \\bar{\\mathbf{x}}   \\\\\n",
    "    \\bar{\\mathbf{x}} \\\\\n",
    "    \\vdots    \\\\\n",
    "    \\bar{\\mathbf{x}}    \\\\\n",
    "\\end{matrix}\n",
    "\\right]_{n \\times 1}\n",
    "$$\n",
    "\n",
    "#### An aside about matrix multiplication rules\n",
    "To get this specified output, an $n \\times 1$ vector, lets cover some basics of matrix multiplication.  \n",
    "In matrix multiplication, the following properties hold with regards to dimensions of the input and output:  \n",
    "\n",
    "1. Operations are only valid if the column dimension of the left input matrix matches the row dimension of the right input matrix.\n",
    "2. The output has the row dimension of the left matrix and the column dimension of the right matrix.\n",
    "\n",
    "-- [@cohen_practical_2022, chapter 5]  \n",
    "\n",
    "For example, in all of our previous vector $\\times$ vector operations, our dimensionality was as follows:  \n",
    "$$\n",
    "\\begin{align*}\n",
    "(1 \\times \\fbox{n})(\\fbox{n} \\times 1) \\quad& (n = n) \\rightarrow \\text{Operation is valid} \\\\\n",
    "(\\fbox{1} \\times n)(n \\times \\fbox{1}) \\quad& (1 \\times 1) \\rightarrow \\text{Output is scalar} \n",
    "\\end{align*}\n",
    "$$\n",
    "(Sometimes we had to transpose one of the vectors for this to be the case).  \n",
    "\n",
    "If we want to produce an $n \\times 1$ matrix from a multiplication operation involving an $n \\times 1$ input, we would need a matrix with the following, underlined dimensionality:  \n",
    "$$\n",
    "\\underline{(n \\times n)} (n \\times 1) \\rightarrow \\text{Valid operation with output: } (n \\times 1)\n",
    "$$\n",
    "Upon some reflection, the $n \\times n$ matrix must be the matrix where every element is $1/n$. The following operation gives us the desired column vector with all elements set as the original column mean:\n",
    "$$\n",
    "\\left[\n",
    "\\begin{matrix}\n",
    "    \\frac{1}{n}   & \\frac{1}{n}   & \\cdots & \\frac{1}{n}\\\\\n",
    "    \\frac{1}{n}   & \\frac{1}{n}   & \\cdots & \\frac{1}{n}\\\\\n",
    "    \\vdots   & \\vdots   & \\cdots & \\frac{1}{n}\\\\\n",
    "    \\frac{1}{n}   & \\frac{1}{n}   & \\cdots & \\frac{1}{n}\n",
    "\\end{matrix}\n",
    "\\right]_{n \\times n} \\left[\\begin{matrix}x_1\\\\x_2\\\\\\vdots\\\\x_n\\end{matrix}\\right]_{n \\times 1} = \n",
    "\\left[\n",
    "\\begin{matrix}\n",
    "    \\sum_{i=1}^n \\frac{x}{n}  \\\\\n",
    "    \\sum_{i=1}^n \\frac{x}{n} \\\\\n",
    "    \\vdots  \\\\\n",
    "    \\sum_{i=1}^n \\frac{x}{n}  \\\\\n",
    "\\end{matrix}\n",
    "\\right]_{n \\times 1} = \\left[\n",
    "\\begin{matrix}\n",
    "    \\bar{\\mathbf{x}}   \\\\\n",
    "    \\bar{\\mathbf{x}} \\\\\n",
    "    \\vdots    \\\\\n",
    "    \\bar{\\mathbf{x}}    \\\\\n",
    "\\end{matrix}\n",
    "\\right]_{n \\times 1}\n",
    "$$"
   ]
  },
  {
   "attachments": {},
   "cell_type": "markdown",
   "metadata": {},
   "source": [
    "#### Notation of the transformation\n",
    "Thus that matrix of $1/n$ values is the matrix transformation that we will need in our covariance matrix equation. We'll now formalize the construction of that matrix so that we can write it in an equation, and show that it generalizes to multiple input columns.  \n",
    "\n",
    "We can construct a square matrix of 1s by multiplying the 1s vector with its transpose, $(n \\times 1)(1 \\times n) \\rightarrow (n \\times n)$:\n",
    "$$\n",
    "\\begin{align*}\n",
    "\\mathbf{1}_{n \\times 1} \\mathbf{1}_{n \\times 1}^\\intercal &= \\left[\\begin{matrix}1\\\\1\\\\\\vdots\\\\1\\end{matrix}\\right]_{n \\times 1} \\left[\\begin{matrix}1 & 1 & \\cdots & 1\\end{matrix}\\right]_{1 \\times n} = \\left[\n",
    "\\begin{matrix}\n",
    "    1   & 1   & \\cdots & 1\\\\\n",
    "    1   & 1   & \\cdots & 1\\\\\n",
    "    \\vdots   & \\vdots   & \\cdots & 1\\\\\n",
    "    1   & 1   & \\cdots & 1\n",
    "\\end{matrix}\n",
    "\\right]_{n \\times n}\n",
    "\\end{align*}\n",
    "$$\n",
    "This is a very useful matrix given that we want to define a matrix transformation where every element of the matrix is $1/n$. scalar matrix multiplication is intuitive and comes out as follows:\n",
    "\n",
    "$$\n",
    "\\begin{align*}\n",
    "n^{-1} \\mathbf{1}_{n \\times 1} \\mathbf{1}_{n \\times 1}^\\intercal &= n^{-1}\\left[\n",
    "\\begin{matrix}\n",
    "    1   & 1   & \\cdots & 1\\\\\n",
    "    1   & 1   & \\cdots & 1\\\\\n",
    "    \\vdots   & \\vdots   & \\cdots & 1\\\\\n",
    "    1   & 1   & \\cdots & 1\n",
    "\\end{matrix}\n",
    "\\right]_{n \\times n} = \\left[\n",
    "\\begin{matrix}\n",
    "    \\frac{1}{n}   & \\frac{1}{n}   & \\cdots & \\frac{1}{n}\\\\\n",
    "    \\frac{1}{n}   & \\frac{1}{n}   & \\cdots & \\frac{1}{n}\\\\\n",
    "    \\vdots   & \\vdots   & \\cdots & \\frac{1}{n}\\\\\n",
    "    \\frac{1}{n}   & \\frac{1}{n}   & \\cdots & \\frac{1}{n}\n",
    "\\end{matrix}\n",
    "\\right]_{n \\times n}\n",
    "\\end{align*}\n",
    "$$  \n",
    "\n",
    "Thus the transformation that creates the \"matrix of means,\" (@eq-mat-means) is $n^{-1} \\mathbf{1}_{n \\times 1} \\mathbf{1}_{n \\times 1}^\\intercal$ applied to an input matrix, $X$:  \n",
    "$$\n",
    "\\begin{align*}\n",
    " n^{-1} \\mathbf{1}_{n \\times 1} \\mathbf{1}_{n \\times 1}^\\intercal X_{n \\times 2} &= \\left[\n",
    "\\begin{matrix}\n",
    "    \\frac{1}{n}   & \\frac{1}{n}   & \\cdots & \\frac{1}{n}\\\\\n",
    "    \\frac{1}{n}   & \\frac{1}{n}   & \\cdots & \\frac{1}{n}\\\\\n",
    "    \\vdots   & \\vdots   & \\cdots & \\frac{1}{n}\\\\\n",
    "    \\frac{1}{n}   & \\frac{1}{n}   & \\cdots & \\frac{1}{n}\n",
    "\\end{matrix}\n",
    "\\right]_{n \\times n}\n",
    "\\left[\n",
    "\\begin{matrix}\n",
    "    x_1   & y_1   \\\\\n",
    "    x_2   & y_2   \\\\\n",
    "    \\vdots   & \\vdots   \\\\\n",
    "    x_n   & y_n   \\\\\n",
    "\\end{matrix}\n",
    "\\right]_{n \\times 2} \\\\\n",
    "&= \\left[\n",
    "\\begin{matrix}\n",
    "    \\sum_{i=1}^n \\frac{x}{n}   & \\sum_{i=1}^n \\frac{y}{n}   \\\\\n",
    "    \\sum_{i=1}^n \\frac{x}{n}   & \\sum_{i=1}^n \\frac{y}{n}  \\\\\n",
    "    \\vdots   & \\vdots   \\\\\n",
    "    \\sum_{i=1}^n \\frac{x}{n}   & \\sum_{i=1}^n \\frac{y}{n}   \\\\\n",
    "\\end{matrix}\n",
    "\\right]_{n \\times 2} \\\\\n",
    "&= \\left[\n",
    "\\begin{matrix}\n",
    "    \\bar{\\mathbf{x}}   & \\bar{\\mathbf{y}}   \\\\\n",
    "    \\bar{\\mathbf{x}}   & \\bar{\\mathbf{y}}   \\\\\n",
    "    \\vdots   & \\vdots   \\\\\n",
    "    \\bar{\\mathbf{x}}   & \\bar{\\mathbf{y}}   \\\\\n",
    "\\end{matrix}\n",
    "\\right]_{n \\times 2}\n",
    "\\end{align*}\n",
    "$$\n",
    "\n",
    "Finally, we'll use our \"matrix of means\" to yield the original matrix of interest, where each element is the deviation from its column mean:  \n",
    "\n",
    "$$\n",
    "\\begin{align*}\n",
    "\\left[\n",
    "\\begin{matrix}\n",
    "x_1 - \\bar{\\mathbf{x}}   & y_1 - \\bar{\\mathbf{y}}   \\\\\n",
    "    x_2 - \\bar{\\mathbf{x}}   & y_2 - \\bar{\\mathbf{y}}   \\\\\n",
    "    \\vdots   & \\vdots   \\\\\n",
    "    x_n - \\bar{\\mathbf{x}}   & y_n - \\bar{\\mathbf{y}}   \\\\\n",
    "\\end{matrix}\n",
    "\\right]_{n \\times 2} &= \n",
    "\\left[\n",
    "\\begin{matrix}\n",
    "    x_1   & y_1   \\\\\n",
    "    x_2   & y_2   \\\\\n",
    "    \\vdots   & \\vdots   \\\\\n",
    "    x_n   & y_n   \\\\\n",
    "\\end{matrix}\n",
    "\\right]_{n \\times 2} - \n",
    "\\left[\n",
    "\\begin{matrix}\n",
    "    \\bar{\\mathbf{x}}   & \\bar{\\mathbf{y}}   \\\\\n",
    "    \\bar{\\mathbf{x}}   & \\bar{\\mathbf{y}}   \\\\\n",
    "    \\vdots   & \\vdots   \\\\\n",
    "    \\bar{\\mathbf{x}}   & \\bar{\\mathbf{y}}   \\\\\n",
    "\\end{matrix}\n",
    "\\right]_{n \\times 2}  \\\\\n",
    " &= X_{n \\times m} -  n^{-1} \\mathbf{1}_{n \\times 1} \\mathbf{1}_{n \\times 1}^\\intercal X_{n \\times m} \\\\\n",
    " &=  (I_{n \\times m} -  n^{-1} \\mathbf{1}_{n \\times 1} \\mathbf{1}_{n \\times 1}^\\intercal ) X_{n \\times m}\\\\\n",
    "  &= (I -  n^{-1} \\mathbf{1}_{n} \\mathbf{1}_{n}^\\intercal ) X\n",
    "\\end{align*}\n",
    "$$\n",
    "\n",
    "This yields the function for mean centering the matrix:  \n",
    "$$\n",
    "T: \\mathbb{R}^n \\rightarrow \\mathbb{R}^n \\quad \\text{defined by} \\quad T(X) = (I -  n^{-1} \\mathbf{1}_{n} \\mathbf{1}_{n}^\\intercal ) X\n",
    "$$ "
   ]
  },
  {
   "cell_type": "code",
   "execution_count": 101,
   "metadata": {},
   "outputs": [
    {
     "name": "stdout",
     "output_type": "stream",
     "text": [
      "1s matrix ->\n",
      "[[0.2 0.2 0.2 0.2 0.2]\n",
      " [0.2 0.2 0.2 0.2 0.2]\n",
      " [0.2 0.2 0.2 0.2 0.2]\n",
      " [0.2 0.2 0.2 0.2 0.2]\n",
      " [0.2 0.2 0.2 0.2 0.2]]\n",
      "\n",
      "X ->\n",
      "   population  householdsize\n",
      "0        0.19           0.33\n",
      "1        0.00           0.16\n",
      "2        0.00           0.42\n",
      "3        0.04           0.77\n",
      "4        0.01           0.55\n"
     ]
    }
   ],
   "source": [
    "print(\"1s matrix ->\")\n",
    "print((1/n) * np.ones(shape=(n, 1)) @ np.ones(shape=(n, 1)).T)\n",
    "print()\n",
    "print(\"X ->\")\n",
    "print(X)"
   ]
  },
  {
   "cell_type": "code",
   "execution_count": 102,
   "metadata": {},
   "outputs": [
    {
     "data": {
      "text/html": [
       "<div>\n",
       "<style scoped>\n",
       "    .dataframe tbody tr th:only-of-type {\n",
       "        vertical-align: middle;\n",
       "    }\n",
       "\n",
       "    .dataframe tbody tr th {\n",
       "        vertical-align: top;\n",
       "    }\n",
       "\n",
       "    .dataframe thead th {\n",
       "        text-align: right;\n",
       "    }\n",
       "</style>\n",
       "<table border=\"1\" class=\"dataframe\">\n",
       "  <thead>\n",
       "    <tr style=\"text-align: right;\">\n",
       "      <th></th>\n",
       "      <th>population</th>\n",
       "      <th>householdsize</th>\n",
       "    </tr>\n",
       "  </thead>\n",
       "  <tbody>\n",
       "    <tr>\n",
       "      <th>0</th>\n",
       "      <td>0.142</td>\n",
       "      <td>-0.116</td>\n",
       "    </tr>\n",
       "    <tr>\n",
       "      <th>1</th>\n",
       "      <td>-0.048</td>\n",
       "      <td>-0.286</td>\n",
       "    </tr>\n",
       "    <tr>\n",
       "      <th>2</th>\n",
       "      <td>-0.048</td>\n",
       "      <td>-0.026</td>\n",
       "    </tr>\n",
       "    <tr>\n",
       "      <th>3</th>\n",
       "      <td>-0.008</td>\n",
       "      <td>0.324</td>\n",
       "    </tr>\n",
       "    <tr>\n",
       "      <th>4</th>\n",
       "      <td>-0.038</td>\n",
       "      <td>0.104</td>\n",
       "    </tr>\n",
       "  </tbody>\n",
       "</table>\n",
       "</div>"
      ],
      "text/plain": [
       "   population  householdsize\n",
       "0       0.142         -0.116\n",
       "1      -0.048         -0.286\n",
       "2      -0.048         -0.026\n",
       "3      -0.008          0.324\n",
       "4      -0.038          0.104"
      ]
     },
     "execution_count": 102,
     "metadata": {},
     "output_type": "execute_result"
    }
   ],
   "source": [
    "(np.identity(n) - (1/n) * np.ones(shape=(n, 1)) @ np.ones(shape=(n, 1)).T) @ X"
   ]
  },
  {
   "attachments": {},
   "cell_type": "markdown",
   "metadata": {},
   "source": [
    "**Notes:**  \n",
    "`numpy` and `pandas` support some invalid linear algebra operations, such as matrix addition/subtraction between different size matrices (these packages use a method called [broadcasting](https://numpy.org/doc/stable/user/basics.broadcasting.html) to make the operations valid), so we can confirm that our function produced the expected output by simply subtracting the dataframe `X` from its column means."
   ]
  },
  {
   "cell_type": "code",
   "execution_count": 103,
   "metadata": {},
   "outputs": [
    {
     "data": {
      "text/html": [
       "<div>\n",
       "<style scoped>\n",
       "    .dataframe tbody tr th:only-of-type {\n",
       "        vertical-align: middle;\n",
       "    }\n",
       "\n",
       "    .dataframe tbody tr th {\n",
       "        vertical-align: top;\n",
       "    }\n",
       "\n",
       "    .dataframe thead th {\n",
       "        text-align: right;\n",
       "    }\n",
       "</style>\n",
       "<table border=\"1\" class=\"dataframe\">\n",
       "  <thead>\n",
       "    <tr style=\"text-align: right;\">\n",
       "      <th></th>\n",
       "      <th>population</th>\n",
       "      <th>householdsize</th>\n",
       "    </tr>\n",
       "  </thead>\n",
       "  <tbody>\n",
       "    <tr>\n",
       "      <th>0</th>\n",
       "      <td>0.142</td>\n",
       "      <td>-0.116</td>\n",
       "    </tr>\n",
       "    <tr>\n",
       "      <th>1</th>\n",
       "      <td>-0.048</td>\n",
       "      <td>-0.286</td>\n",
       "    </tr>\n",
       "    <tr>\n",
       "      <th>2</th>\n",
       "      <td>-0.048</td>\n",
       "      <td>-0.026</td>\n",
       "    </tr>\n",
       "    <tr>\n",
       "      <th>3</th>\n",
       "      <td>-0.008</td>\n",
       "      <td>0.324</td>\n",
       "    </tr>\n",
       "    <tr>\n",
       "      <th>4</th>\n",
       "      <td>-0.038</td>\n",
       "      <td>0.104</td>\n",
       "    </tr>\n",
       "  </tbody>\n",
       "</table>\n",
       "</div>"
      ],
      "text/plain": [
       "   population  householdsize\n",
       "0       0.142         -0.116\n",
       "1      -0.048         -0.286\n",
       "2      -0.048         -0.026\n",
       "3      -0.008          0.324\n",
       "4      -0.038          0.104"
      ]
     },
     "execution_count": 103,
     "metadata": {},
     "output_type": "execute_result"
    }
   ],
   "source": [
    "X - X.mean()"
   ]
  },
  {
   "attachments": {},
   "cell_type": "markdown",
   "metadata": {},
   "source": [
    "### Covariance as a matrix transformation\n",
    "\n",
    "$$\n",
    "\\begin{align*}\n",
    "\\left[\n",
    "\\begin{matrix}\n",
    "x_1 - \\bar{\\mathbf{x}}   & y_1 - \\bar{\\mathbf{y}}   \\\\\n",
    "    x_2 - \\bar{\\mathbf{x}}   & y_2 - \\bar{\\mathbf{y}}   \\\\\n",
    "    \\vdots   & \\vdots   \\\\\n",
    "    x_n - \\bar{\\mathbf{x}}   & y_n - \\bar{\\mathbf{y}}   \\\\\n",
    "\\end{matrix}\n",
    "\\right]_{n \\times 2}^\\intercal\n",
    "\\left[\n",
    "\\begin{matrix}\n",
    "x_1 - \\bar{\\mathbf{x}}   & y_1 - \\bar{\\mathbf{y}}   \\\\\n",
    "    x_2 - \\bar{\\mathbf{x}}   & y_2 - \\bar{\\mathbf{y}}   \\\\\n",
    "    \\vdots   & \\vdots   \\\\\n",
    "    x_n - \\bar{\\mathbf{x}}   & y_n - \\bar{\\mathbf{y}}   \\\\\n",
    "\\end{matrix}\n",
    "\\right]_{n \\times 2} \\\\\n",
    "\\left[\n",
    "\\begin{matrix}\n",
    "x_1 - \\bar{\\mathbf{x}} & x_2 - \\bar{\\mathbf{x}} & \\cdots & x_n - \\bar{\\mathbf{x}} \\\\\n",
    "y_1 - \\bar{\\mathbf{y}} & y_2 - \\bar{\\mathbf{y}} & \\cdots & y_n - \\bar{\\mathbf{y}} \\\\\n",
    "\\end{matrix}\n",
    "\\right]_{2 \\times n}\n",
    "\\left[\n",
    "\\begin{matrix}\n",
    "x_1 - \\bar{\\mathbf{x}}   & y_1 - \\bar{\\mathbf{y}}   \\\\\n",
    "    x_2 - \\bar{\\mathbf{x}}   & y_2 - \\bar{\\mathbf{y}}   \\\\\n",
    "    \\vdots   & \\vdots   \\\\\n",
    "    x_n - \\bar{\\mathbf{x}}   & y_n - \\bar{\\mathbf{y}}   \\\\\n",
    "\\end{matrix}\n",
    "\\right]_{n \\times 2} \\\\\n",
    "\\left[\n",
    "\\begin{matrix}\n",
    "\\sum_{i=1}^{n} (x_i - \\bar{\\mathbf{x}})(x_i - \\bar{\\mathbf{x}}) & \\sum_{i=1}^{n} (x_i - \\bar{\\mathbf{x}})(y_i - \\bar{\\mathbf{y}}) \\\\\n",
    "\\sum_{i=1}^{n} (y_i - \\bar{\\mathbf{y}})(x_i - \\bar{\\mathbf{x}}) & \\sum_{i=1}^{n} (y_i - \\bar{\\mathbf{y}})(y_i - \\bar{\\mathbf{y}}) \\\\\n",
    "\\end{matrix}\n",
    "\\right]\n",
    "\\end{align*}\n",
    "$$"
   ]
  },
  {
   "attachments": {},
   "cell_type": "markdown",
   "metadata": {},
   "source": [
    " Our equation is as follows:\n",
    "\n",
    "$$\n",
    "C = (n - 1)^{-1}\\left[ (I -  n^{-1} \\mathbf{1}_{n} \\mathbf{1}_{n}^\\intercal ) X \\right]^\\intercal \\left[ (I -  n^{-1} \\mathbf{1}_{n} \\mathbf{1}_{n}^\\intercal ) X \\right]\n",
    "$$\n",
    "This is pretty verbose, and it's common in textbooks to see some sort of abbreviated version, like the following,\n",
    "$$\n",
    "\\begin{align*}\n",
    "C = (n - 1)^{-1} X_c^\\intercal X_c \\\\\n",
    "\\text{where }X_c = (I -  n^{-1} \\mathbf{1}_{n} \\mathbf{1}_{n}^\\intercal ) X\n",
    "\\end{align*}\n",
    "$$  \n",
    "\n",
    "[@cohen_practical_2022, chapter 7]  "
   ]
  },
  {
   "attachments": {},
   "cell_type": "markdown",
   "metadata": {},
   "source": [
    "We plug in our data as follows:"
   ]
  },
  {
   "cell_type": "code",
   "execution_count": 162,
   "metadata": {},
   "outputs": [
    {
     "data": {
      "text/latex": [
       "$\\displaystyle X_{c} = \\left(- 0.2 \\left[\\begin{matrix}1.0 & 1.0 & 1.0 & 1.0 & 1.0\\\\1.0 & 1.0 & 1.0 & 1.0 & 1.0\\\\1.0 & 1.0 & 1.0 & 1.0 & 1.0\\\\1.0 & 1.0 & 1.0 & 1.0 & 1.0\\\\1.0 & 1.0 & 1.0 & 1.0 & 1.0\\end{matrix}\\right] + \\left[\\begin{matrix}1 & 0 & 0 & 0 & 0\\\\0 & 1 & 0 & 0 & 0\\\\0 & 0 & 1 & 0 & 0\\\\0 & 0 & 0 & 1 & 0\\\\0 & 0 & 0 & 0 & 1\\end{matrix}\\right]\\right) \\left[\\begin{matrix}0.19 & 0.33\\\\0 & 0.16\\\\0 & 0.42\\\\0.04 & 0.77\\\\0.01 & 0.55\\end{matrix}\\right]$"
      ],
      "text/plain": [
       "Eq(X_c, (-0.2*Matrix([\n",
       "[1.0, 1.0, 1.0, 1.0, 1.0],\n",
       "[1.0, 1.0, 1.0, 1.0, 1.0],\n",
       "[1.0, 1.0, 1.0, 1.0, 1.0],\n",
       "[1.0, 1.0, 1.0, 1.0, 1.0],\n",
       "[1.0, 1.0, 1.0, 1.0, 1.0]]) + Matrix([\n",
       "[1, 0, 0, 0, 0],\n",
       "[0, 1, 0, 0, 0],\n",
       "[0, 0, 1, 0, 0],\n",
       "[0, 0, 0, 1, 0],\n",
       "[0, 0, 0, 0, 1]]))*Matrix([\n",
       "[0.19, 0.33],\n",
       "[   0, 0.16],\n",
       "[   0, 0.42],\n",
       "[0.04, 0.77],\n",
       "[0.01, 0.55]]))"
      ]
     },
     "execution_count": 162,
     "metadata": {},
     "output_type": "execute_result"
    }
   ],
   "source": [
    "#| code-fold: true\n",
    "C, X_c = sp.symbols(\"C X_c\")\n",
    "exp = (sp.UnevaluatedExpr(sp.Matrix(np.identity(n).astype(int))) - sp.UnevaluatedExpr(1/n) * sp.UnevaluatedExpr(sp.Matrix(np.ones(shape=(n, 1)) @ np.ones(shape=(n, 1)).T))) * sp.UnevaluatedExpr(sp.Matrix(X))\n",
    "exp_output = (sp.Matrix(\n",
    "    np.round((np.identity(n) - (1/n) * np.ones(shape=(n, 1)) @ np.ones(shape=(n, 1)).T) @ X, 3)\n",
    "    ))\n",
    "sp.Eq(X_c, exp)"
   ]
  },
  {
   "attachments": {},
   "cell_type": "markdown",
   "metadata": {},
   "source": [
    "Which evaluates to:"
   ]
  },
  {
   "cell_type": "code",
   "execution_count": 147,
   "metadata": {},
   "outputs": [
    {
     "data": {
      "text/latex": [
       "$\\displaystyle X_{c} = \\left[\\begin{matrix}0.142 & -0.116\\\\-0.048 & -0.286\\\\-0.048 & -0.026\\\\-0.008 & 0.324\\\\-0.038 & 0.104\\end{matrix}\\right]$"
      ],
      "text/plain": [
       "Eq(X_c, Matrix([\n",
       "[ 0.142, -0.116],\n",
       "[-0.048, -0.286],\n",
       "[-0.048, -0.026],\n",
       "[-0.008,  0.324],\n",
       "[-0.038,  0.104]]))"
      ]
     },
     "execution_count": 147,
     "metadata": {},
     "output_type": "execute_result"
    }
   ],
   "source": [
    "#| code-fold: true\n",
    "sp.Eq(X_c, sp.UnevaluatedExpr(exp_output))"
   ]
  },
  {
   "attachments": {},
   "cell_type": "markdown",
   "metadata": {},
   "source": [
    "And now the main equation:\n",
    "$$\n",
    "C = (n - 1)^{-1} X_c^\\intercal X_c\n",
    "$$"
   ]
  },
  {
   "cell_type": "code",
   "execution_count": 163,
   "metadata": {},
   "outputs": [
    {
     "data": {
      "text/latex": [
       "$\\displaystyle C = \\left[\\begin{matrix}0.142 & -0.048 & -0.048 & -0.008 & -0.038\\\\-0.116 & -0.286 & -0.026 & 0.324 & 0.104\\end{matrix}\\right] \\left[\\begin{matrix}0.142 & -0.116\\\\-0.048 & -0.286\\\\-0.048 & -0.026\\\\-0.008 & 0.324\\\\-0.038 & 0.104\\end{matrix}\\right] \\left(- 1 + 5\\right)^{-1}$"
      ],
      "text/plain": [
       "Eq(C, Matrix([\n",
       "[ 0.142, -0.048, -0.048, -0.008, -0.038],\n",
       "[-0.116, -0.286, -0.026,  0.324,  0.104]])*Matrix([\n",
       "[ 0.142, -0.116],\n",
       "[-0.048, -0.286],\n",
       "[-0.048, -0.026],\n",
       "[-0.008,  0.324],\n",
       "[-0.038,  0.104]])*(-1 + 5)**(-1))"
      ]
     },
     "execution_count": 163,
     "metadata": {},
     "output_type": "execute_result"
    }
   ],
   "source": [
    "#| code-fold: true\n",
    "out = (\n",
    "    sp.UnevaluatedExpr(exp_output.T) * sp.UnevaluatedExpr(exp_output.evalf())\n",
    "    * 1 / (sp.UnevaluatedExpr(len(x)) - sp.UnevaluatedExpr(1))\n",
    "    )\n",
    "sp.Eq(C, out)"
   ]
  },
  {
   "attachments": {},
   "cell_type": "markdown",
   "metadata": {},
   "source": [
    "Already it should become apparent that this multiplication will be a sequential application of the vector formula for covariance. We can make that abundantly clear by visualizing the multiplication result:"
   ]
  },
  {
   "cell_type": "code",
   "execution_count": 156,
   "metadata": {},
   "outputs": [
    {
     "data": {
      "text/latex": [
       "$\\displaystyle \\left[\\begin{matrix}\\left[\\begin{matrix}0.142 & -0.048 & -0.048 & -0.008 & -0.038\\end{matrix}\\right] \\left[\\begin{matrix}0.142\\\\-0.048\\\\-0.048\\\\-0.008\\\\-0.038\\end{matrix}\\right] \\left(- 1 + 5\\right)^{-1} & \\left[\\begin{matrix}0.142 & -0.048 & -0.048 & -0.008 & -0.038\\end{matrix}\\right] \\left[\\begin{matrix}-0.116\\\\-0.286\\\\-0.026\\\\0.324\\\\0.104\\end{matrix}\\right] \\left(- 1 + 5\\right)^{-1}\\\\\\left[\\begin{matrix}-0.116 & -0.286 & -0.026 & 0.324 & 0.104\\end{matrix}\\right] \\left[\\begin{matrix}0.142\\\\-0.048\\\\-0.048\\\\-0.008\\\\-0.038\\end{matrix}\\right] \\left(- 1 + 5\\right)^{-1} & \\left[\\begin{matrix}-0.116 & -0.286 & -0.026 & 0.324 & 0.104\\end{matrix}\\right] \\left[\\begin{matrix}-0.116\\\\-0.286\\\\-0.026\\\\0.324\\\\0.104\\end{matrix}\\right] \\left(- 1 + 5\\right)^{-1}\\end{matrix}\\right]$"
      ],
      "text/plain": [
       "Matrix([\n",
       "[Matrix([[0.142, -0.048, -0.048, -0.008, -0.038]])*Matrix([\n",
       "[ 0.142],\n",
       "[-0.048],\n",
       "[-0.048],\n",
       "[-0.008],\n",
       "[-0.038]])*(-1 + 5)**(-1), Matrix([[0.142, -0.048, -0.048, -0.008, -0.038]])*Matrix([\n",
       "[-0.116],\n",
       "[-0.286],\n",
       "[-0.026],\n",
       "[ 0.324],\n",
       "[ 0.104]])*(-1 + 5)**(-1)],\n",
       "[ Matrix([[-0.116, -0.286, -0.026, 0.324, 0.104]])*Matrix([\n",
       "[ 0.142],\n",
       "[-0.048],\n",
       "[-0.048],\n",
       "[-0.008],\n",
       "[-0.038]])*(-1 + 5)**(-1),  Matrix([[-0.116, -0.286, -0.026, 0.324, 0.104]])*Matrix([\n",
       "[-0.116],\n",
       "[-0.286],\n",
       "[-0.026],\n",
       "[ 0.324],\n",
       "[ 0.104]])*(-1 + 5)**(-1)]])"
      ]
     },
     "execution_count": 156,
     "metadata": {},
     "output_type": "execute_result"
    }
   ],
   "source": [
    "#| code-fold: true\n",
    "out = sp.Matrix([[sp.UnevaluatedExpr(sp.Matrix(x-x.mean()).T) * sp.UnevaluatedExpr(sp.Matrix(x-x.mean()))\n",
    "                  * 1 / (sp.UnevaluatedExpr(len(x)) - sp.UnevaluatedExpr(1)),\n",
    "                  sp.UnevaluatedExpr(sp.Matrix(x-x.mean()).T) * sp.UnevaluatedExpr(sp.Matrix(y-y.mean()))\n",
    "                  * 1 / (sp.UnevaluatedExpr(len(x)) - sp.UnevaluatedExpr(1))],\n",
    "                  [sp.UnevaluatedExpr(sp.Matrix(y-y.mean()).T) * sp.UnevaluatedExpr(sp.Matrix(x-x.mean()))\n",
    "                   * 1 / (sp.UnevaluatedExpr(len(x)) - sp.UnevaluatedExpr(1)),\n",
    "                   sp.UnevaluatedExpr(sp.Matrix(y-y.mean()).T) * sp.UnevaluatedExpr(sp.Matrix(y-y.mean()))\n",
    "                   * 1 / (sp.UnevaluatedExpr(len(x)) - sp.UnevaluatedExpr(1))]\n",
    "                   ])\n",
    "out"
   ]
  },
  {
   "attachments": {},
   "cell_type": "markdown",
   "metadata": {},
   "source": [
    "$$\n",
    "\\begin{align*}\n",
    "&= \\frac{1}{n-1}\n",
    "\\left[\n",
    "\\begin{matrix}\n",
    "\\sum_{i=1}^{n} (x_i - \\bar{\\mathbf{x}})(x_i - \\bar{\\mathbf{x}}) & \\sum_{i=1}^{n} (x_i - \\bar{\\mathbf{x}})(y_i - \\bar{\\mathbf{y}}) \\\\\n",
    "\\sum_{i=1}^{n} (y_i - \\bar{\\mathbf{y}})(x_i - \\bar{\\mathbf{x}}) & \\sum_{i=1}^{n} (y_i - \\bar{\\mathbf{y}})(y_i - \\bar{\\mathbf{y}}) \\\\\n",
    "\\end{matrix}\n",
    "\\right] \\\\\n",
    "&=\n",
    "\\left[\n",
    "\\begin{matrix}\n",
    "    var(\\mathbf{x}) & cov(\\mathbf{x}, \\mathbf{y}) \\\\\n",
    "    cov(\\mathbf{y}, \\mathbf{x}) & var(\\mathbf{y}) \\\\\n",
    "\\end{matrix}\n",
    "\\right]\n",
    "\\end{align*}\n",
    "$$"
   ]
  },
  {
   "attachments": {},
   "cell_type": "markdown",
   "metadata": {},
   "source": [
    "For a sanity check, we can compare our results with those in `numpy` and `pandas`.  \n",
    "our results:"
   ]
  },
  {
   "cell_type": "code",
   "execution_count": 164,
   "metadata": {},
   "outputs": [
    {
     "data": {
      "text/html": [
       "<div>\n",
       "<style scoped>\n",
       "    .dataframe tbody tr th:only-of-type {\n",
       "        vertical-align: middle;\n",
       "    }\n",
       "\n",
       "    .dataframe tbody tr th {\n",
       "        vertical-align: top;\n",
       "    }\n",
       "\n",
       "    .dataframe thead th {\n",
       "        text-align: right;\n",
       "    }\n",
       "</style>\n",
       "<table border=\"1\" class=\"dataframe\">\n",
       "  <thead>\n",
       "    <tr style=\"text-align: right;\">\n",
       "      <th></th>\n",
       "      <th>population</th>\n",
       "      <th>householdsize</th>\n",
       "    </tr>\n",
       "  </thead>\n",
       "  <tbody>\n",
       "    <tr>\n",
       "      <th>population</th>\n",
       "      <td>0.00657</td>\n",
       "      <td>-0.00201</td>\n",
       "    </tr>\n",
       "    <tr>\n",
       "      <th>householdsize</th>\n",
       "      <td>-0.00201</td>\n",
       "      <td>0.05293</td>\n",
       "    </tr>\n",
       "  </tbody>\n",
       "</table>\n",
       "</div>"
      ],
      "text/plain": [
       "               population  householdsize\n",
       "population        0.00657       -0.00201\n",
       "householdsize    -0.00201        0.05293"
      ]
     },
     "execution_count": 164,
     "metadata": {},
     "output_type": "execute_result"
    }
   ],
   "source": [
    "X_c = (np.identity(n) - (1/n) * np.ones(shape=(n, 1)) @ np.ones(shape=(n, 1)).T) @ X\n",
    "(X_c.T @ X_c ) / (len(X_c)-1)"
   ]
  },
  {
   "attachments": {},
   "cell_type": "markdown",
   "metadata": {},
   "source": [
    "`numpy` results:"
   ]
  },
  {
   "cell_type": "code",
   "execution_count": 159,
   "metadata": {},
   "outputs": [
    {
     "data": {
      "text/plain": [
       "array([[ 0.00657, -0.00201],\n",
       "       [-0.00201,  0.05293]])"
      ]
     },
     "execution_count": 159,
     "metadata": {},
     "output_type": "execute_result"
    }
   ],
   "source": [
    "np.cov(x, y)"
   ]
  },
  {
   "attachments": {},
   "cell_type": "markdown",
   "metadata": {},
   "source": [
    "`pandas` results:"
   ]
  },
  {
   "cell_type": "code",
   "execution_count": 165,
   "metadata": {},
   "outputs": [
    {
     "data": {
      "text/html": [
       "<div>\n",
       "<style scoped>\n",
       "    .dataframe tbody tr th:only-of-type {\n",
       "        vertical-align: middle;\n",
       "    }\n",
       "\n",
       "    .dataframe tbody tr th {\n",
       "        vertical-align: top;\n",
       "    }\n",
       "\n",
       "    .dataframe thead th {\n",
       "        text-align: right;\n",
       "    }\n",
       "</style>\n",
       "<table border=\"1\" class=\"dataframe\">\n",
       "  <thead>\n",
       "    <tr style=\"text-align: right;\">\n",
       "      <th></th>\n",
       "      <th>population</th>\n",
       "      <th>householdsize</th>\n",
       "    </tr>\n",
       "  </thead>\n",
       "  <tbody>\n",
       "    <tr>\n",
       "      <th>population</th>\n",
       "      <td>0.00657</td>\n",
       "      <td>-0.00201</td>\n",
       "    </tr>\n",
       "    <tr>\n",
       "      <th>householdsize</th>\n",
       "      <td>-0.00201</td>\n",
       "      <td>0.05293</td>\n",
       "    </tr>\n",
       "  </tbody>\n",
       "</table>\n",
       "</div>"
      ],
      "text/plain": [
       "               population  householdsize\n",
       "population        0.00657       -0.00201\n",
       "householdsize    -0.00201        0.05293"
      ]
     },
     "execution_count": 165,
     "metadata": {},
     "output_type": "execute_result"
    }
   ],
   "source": [
    "X.cov()"
   ]
  },
  {
   "attachments": {},
   "cell_type": "markdown",
   "metadata": {},
   "source": [
    "#### Visualizing the Covariance Matrix\n",
    "We'll now return to our original, full dataset"
   ]
  },
  {
   "cell_type": "code",
   "execution_count": 166,
   "metadata": {},
   "outputs": [
    {
     "data": {
      "text/plain": [
       "(1994, 99)"
      ]
     },
     "execution_count": 166,
     "metadata": {},
     "output_type": "execute_result"
    }
   ],
   "source": [
    "df_num.shape"
   ]
  },
  {
   "attachments": {},
   "cell_type": "markdown",
   "metadata": {},
   "source": [
    "and we'll compute the covariance matrix across al 99 features."
   ]
  },
  {
   "cell_type": "code",
   "execution_count": 23,
   "metadata": {},
   "outputs": [
    {
     "data": {
      "text/plain": [
       "(99, 99)"
      ]
     },
     "execution_count": 23,
     "metadata": {},
     "output_type": "execute_result"
    }
   ],
   "source": [
    "cov_matrix = (df_num - df_num.mean()).T @ (df_num - df_num.mean()) / (len(df_num)-1)\n",
    "\n",
    "cov_matrix.shape"
   ]
  },
  {
   "attachments": {},
   "cell_type": "markdown",
   "metadata": {},
   "source": [
    "Looking at a $99 \\times 99$ matrix is not particularly useful, so it's common to use heatmaps to visualize matrices that show association between many variables."
   ]
  },
  {
   "cell_type": "code",
   "execution_count": 24,
   "metadata": {},
   "outputs": [
    {
     "data": {
      "image/png": "[encoded data removed]",
      "text/plain": [
       "<Figure size 640x480 with 2 Axes>"
      ]
     },
     "metadata": {},
     "output_type": "display_data"
    }
   ],
   "source": [
    "plt.imshow(cov_matrix.values)\n",
    "plt.colorbar();"
   ]
  },
  {
   "attachments": {},
   "cell_type": "markdown",
   "metadata": {},
   "source": [
    "While this looks cool, it's more of less useless as a tool for doing any sort of exploration because the covariances between variables are highly [influenced by the scale of the original variable](https://en.wikipedia.org/wiki/Covariance_and_correlation#:~:text=Notably%2C%20correlation%20is%20dimensionless%20while%20covariance%20is%20in%20units%20obtained%20by%20multiplying%20the%20units%20of%20the%20two%20variables.). This will be much more useful if we convert it into a **correlation matrix**, $R$, wherein the measures of association, $\\rho_{i,j}$ are all normalized, $\\rho_{i,j} \\in [-1, 1]$. This in effect adjusts our measures for scale and allows us to actually see which variables are the most associated.  \n",
    "\n",
    "You can continue onto that blog post here!"
   ]
  },
  {
   "attachments": {},
   "cell_type": "markdown",
   "metadata": {},
   "source": [
    "## The Correlation Matrix"
   ]
  },
  {
   "attachments": {},
   "cell_type": "markdown",
   "metadata": {},
   "source": [
    "While this looks cool, it's more of less useless as a tool for doing any sort of exploration because the covariances between variables are highly [influenced by the scale of the original variable](https://en.wikipedia.org/wiki/Covariance_and_correlation#:~:text=Notably%2C%20correlation%20is%20dimensionless%20while%20covariance%20is%20in%20units%20obtained%20by%20multiplying%20the%20units%20of%20the%20two%20variables.). This will be much more useful if we convert it into a **correlation matrix**, $R$, wherein the measures of association, $\\rho_{i,j}$ are all normalized, $\\rho_{i,j} \\in [-1, 1]$. This in effect adjusts our measures for scale and allows us to actually see which variables are the most associated.  \n",
    "\n",
    "To construct a matrix formulation of correlation, we will start with a univariate formula:  \n",
    "\n",
    "$$\n",
    "\\begin{align*}\n",
    "\\rho_{x,y} &= \\frac{c(x,y)}{\\sqrt{c(x,x)}\\sqrt{c(y,y)}} \\\\\n",
    " &= \\frac{(n-1)^{-1} \\sum_{i=1} ^n (x_i - \\bar{x})(y_i - \\bar{y})}{\\left(\\sqrt{(n-1)^{-1} \\sum_{i=1} ^n (x_i - \\bar{x})(x_i - \\bar{x})}\\right) \\left(\\sqrt{(n-1)^{-1} \\sum_{i=1} ^n (y_i - \\bar{y})(y_i - \\bar{y})}\\right) } \\\\\n",
    "&= \\frac{(n-1)^{-1} \\sum_{i=1} ^n (x_i - \\bar{x})(y_i - \\bar{y})}{(n-1)^{-1} \\left(\\sqrt{\\sum_{i=1} ^n (x_i - \\bar{x})(x_i - \\bar{x})}\\right) \\left(\\sqrt{\\sum_{i=1} ^n (y_i - \\bar{y})(y_i - \\bar{y})}\\right) } \\\\\n",
    "&= \\frac{\\sum_{i=1} ^n (x_i - \\bar{x})(y_i - \\bar{y})}{ \\sqrt{\\sum_{i=1} ^n (x_i - \\bar{x})(x_i - \\bar{x})} \\sqrt{\\sum_{i=1} ^n (y_i - \\bar{y})(y_i - \\bar{y})} }\n",
    "\\end{align*}\n",
    "$$\n",
    "\n",
    "To convert a covariance matrix into a correlation matrix, we take the covariance matrix $C$:\n",
    "$$\n",
    "C = X^\\intercal X \\frac{1}{n-1}\n",
    "$$"
   ]
  },
  {
   "cell_type": "code",
   "execution_count": 25,
   "metadata": {},
   "outputs": [
    {
     "data": {
      "text/html": [
       "<div>\n",
       "<style scoped>\n",
       "    .dataframe tbody tr th:only-of-type {\n",
       "        vertical-align: middle;\n",
       "    }\n",
       "\n",
       "    .dataframe tbody tr th {\n",
       "        vertical-align: top;\n",
       "    }\n",
       "\n",
       "    .dataframe thead th {\n",
       "        text-align: right;\n",
       "    }\n",
       "</style>\n",
       "<table border=\"1\" class=\"dataframe\">\n",
       "  <thead>\n",
       "    <tr style=\"text-align: right;\">\n",
       "      <th></th>\n",
       "      <th>population</th>\n",
       "      <th>householdsize</th>\n",
       "    </tr>\n",
       "  </thead>\n",
       "  <tbody>\n",
       "    <tr>\n",
       "      <th>population</th>\n",
       "      <td>0.00657</td>\n",
       "      <td>-0.00201</td>\n",
       "    </tr>\n",
       "    <tr>\n",
       "      <th>householdsize</th>\n",
       "      <td>-0.00201</td>\n",
       "      <td>0.05293</td>\n",
       "    </tr>\n",
       "  </tbody>\n",
       "</table>\n",
       "</div>"
      ],
      "text/plain": [
       "               population  householdsize\n",
       "population        0.00657       -0.00201\n",
       "householdsize    -0.00201        0.05293"
      ]
     },
     "execution_count": 25,
     "metadata": {},
     "output_type": "execute_result"
    }
   ],
   "source": [
    "C = (A.T @ A ) / (len(A )-1)\n",
    "C"
   ]
  },
  {
   "attachments": {},
   "cell_type": "markdown",
   "metadata": {},
   "source": [
    "and we first calculate its diagonals, which are the variances of each column vector/feature. We convert these variances $\\sigma^2$ into standard deviation, $\\sqrt{\\sigma^2}$, and take the reciprocal, $\\frac{1}{\\sqrt{\\sigma^2}}$, as follows to obtain the diagonal matrix $S$:\n",
    "$$\n",
    "S = (\\text{diag}(C))^{-\\frac{1}{2}}\n",
    "$$  \n",
    "\n",
    "wherein each diagonal element is $\\frac{1}{\\sigma_{j, (j+1)}}$."
   ]
  },
  {
   "cell_type": "code",
   "execution_count": 248,
   "metadata": {},
   "outputs": [
    {
     "name": "stdout",
     "output_type": "stream",
     "text": [
      "C:\n",
      " [[ 0.00657 -0.00201]\n",
      " [-0.00201  0.05293]]\n",
      "\n",
      "diag(C):\n",
      " [[0.00657 0.     ]\n",
      " [0.      0.05293]]\n",
      "\n",
      "diag(C)^(-.5):\n",
      " [[12.33722017  0.        ]\n",
      " [ 0.          4.34659377]]\n"
     ]
    }
   ],
   "source": [
    "print(\"C:\\n\", C.values)\n",
    "print()\n",
    "print(\"diag(C):\\n\", np.diag(np.diag(C)))\n",
    "print()\n",
    "print(\"diag(C)^(-.5):\\n\", np.diag(np.diag(C)**(-.5)))\n",
    "\n",
    "S = np.diag(np.diag(C)**(-.5))"
   ]
  },
  {
   "attachments": {},
   "cell_type": "markdown",
   "metadata": {},
   "source": [
    "With that in hand, we can compute the correlation matrix $R$:\n",
    "$$\n",
    "R = SCS\n",
    "$$"
   ]
  },
  {
   "cell_type": "code",
   "execution_count": 249,
   "metadata": {},
   "outputs": [
    {
     "data": {
      "text/html": [
       "<div>\n",
       "<style scoped>\n",
       "    .dataframe tbody tr th:only-of-type {\n",
       "        vertical-align: middle;\n",
       "    }\n",
       "\n",
       "    .dataframe tbody tr th {\n",
       "        vertical-align: top;\n",
       "    }\n",
       "\n",
       "    .dataframe thead th {\n",
       "        text-align: right;\n",
       "    }\n",
       "</style>\n",
       "<table border=\"1\" class=\"dataframe\">\n",
       "  <thead>\n",
       "    <tr style=\"text-align: right;\">\n",
       "      <th></th>\n",
       "      <th>0</th>\n",
       "      <th>1</th>\n",
       "    </tr>\n",
       "  </thead>\n",
       "  <tbody>\n",
       "    <tr>\n",
       "      <th>0</th>\n",
       "      <td>1.000000</td>\n",
       "      <td>-0.107786</td>\n",
       "    </tr>\n",
       "    <tr>\n",
       "      <th>1</th>\n",
       "      <td>-0.107786</td>\n",
       "      <td>1.000000</td>\n",
       "    </tr>\n",
       "  </tbody>\n",
       "</table>\n",
       "</div>"
      ],
      "text/plain": [
       "          0         1\n",
       "0  1.000000 -0.107786\n",
       "1 -0.107786  1.000000"
      ]
     },
     "execution_count": 249,
     "metadata": {},
     "output_type": "execute_result"
    }
   ],
   "source": [
    "S @ C @ S"
   ]
  },
  {
   "attachments": {},
   "cell_type": "markdown",
   "metadata": {},
   "source": [
    "We double check this with the `pandas` implementation of `corr()`"
   ]
  },
  {
   "cell_type": "code",
   "execution_count": 250,
   "metadata": {},
   "outputs": [
    {
     "data": {
      "text/html": [
       "<div>\n",
       "<style scoped>\n",
       "    .dataframe tbody tr th:only-of-type {\n",
       "        vertical-align: middle;\n",
       "    }\n",
       "\n",
       "    .dataframe tbody tr th {\n",
       "        vertical-align: top;\n",
       "    }\n",
       "\n",
       "    .dataframe thead th {\n",
       "        text-align: right;\n",
       "    }\n",
       "</style>\n",
       "<table border=\"1\" class=\"dataframe\">\n",
       "  <thead>\n",
       "    <tr style=\"text-align: right;\">\n",
       "      <th></th>\n",
       "      <th>population</th>\n",
       "      <th>householdsize</th>\n",
       "    </tr>\n",
       "  </thead>\n",
       "  <tbody>\n",
       "    <tr>\n",
       "      <th>population</th>\n",
       "      <td>1.000000</td>\n",
       "      <td>-0.107786</td>\n",
       "    </tr>\n",
       "    <tr>\n",
       "      <th>householdsize</th>\n",
       "      <td>-0.107786</td>\n",
       "      <td>1.000000</td>\n",
       "    </tr>\n",
       "  </tbody>\n",
       "</table>\n",
       "</div>"
      ],
      "text/plain": [
       "               population  householdsize\n",
       "population       1.000000      -0.107786\n",
       "householdsize   -0.107786       1.000000"
      ]
     },
     "execution_count": 250,
     "metadata": {},
     "output_type": "execute_result"
    }
   ],
   "source": [
    "X.corr()"
   ]
  },
  {
   "attachments": {},
   "cell_type": "markdown",
   "metadata": {},
   "source": [
    "We'll now return to our full dataset and compute the correlation matrix"
   ]
  },
  {
   "cell_type": "code",
   "execution_count": 251,
   "metadata": {},
   "outputs": [
    {
     "data": {
      "text/html": [
       "<div>\n",
       "<style scoped>\n",
       "    .dataframe tbody tr th:only-of-type {\n",
       "        vertical-align: middle;\n",
       "    }\n",
       "\n",
       "    .dataframe tbody tr th {\n",
       "        vertical-align: top;\n",
       "    }\n",
       "\n",
       "    .dataframe thead th {\n",
       "        text-align: right;\n",
       "    }\n",
       "</style>\n",
       "<table border=\"1\" class=\"dataframe\">\n",
       "  <thead>\n",
       "    <tr style=\"text-align: right;\">\n",
       "      <th></th>\n",
       "      <th>0</th>\n",
       "      <th>1</th>\n",
       "      <th>2</th>\n",
       "      <th>3</th>\n",
       "      <th>4</th>\n",
       "    </tr>\n",
       "  </thead>\n",
       "  <tbody>\n",
       "    <tr>\n",
       "      <th>0</th>\n",
       "      <td>1.000000</td>\n",
       "      <td>-0.046148</td>\n",
       "      <td>0.231178</td>\n",
       "      <td>-0.300845</td>\n",
       "      <td>0.181603</td>\n",
       "    </tr>\n",
       "    <tr>\n",
       "      <th>1</th>\n",
       "      <td>-0.046148</td>\n",
       "      <td>1.000000</td>\n",
       "      <td>-0.067109</td>\n",
       "      <td>-0.235907</td>\n",
       "      <td>0.201996</td>\n",
       "    </tr>\n",
       "    <tr>\n",
       "      <th>2</th>\n",
       "      <td>0.231178</td>\n",
       "      <td>-0.067109</td>\n",
       "      <td>1.000000</td>\n",
       "      <td>-0.794389</td>\n",
       "      <td>-0.106738</td>\n",
       "    </tr>\n",
       "    <tr>\n",
       "      <th>3</th>\n",
       "      <td>-0.300845</td>\n",
       "      <td>-0.235907</td>\n",
       "      <td>-0.794389</td>\n",
       "      <td>1.000000</td>\n",
       "      <td>-0.270266</td>\n",
       "    </tr>\n",
       "    <tr>\n",
       "      <th>4</th>\n",
       "      <td>0.181603</td>\n",
       "      <td>0.201996</td>\n",
       "      <td>-0.106738</td>\n",
       "      <td>-0.270266</td>\n",
       "      <td>1.000000</td>\n",
       "    </tr>\n",
       "  </tbody>\n",
       "</table>\n",
       "</div>"
      ],
      "text/plain": [
       "          0         1         2         3         4\n",
       "0  1.000000 -0.046148  0.231178 -0.300845  0.181603\n",
       "1 -0.046148  1.000000 -0.067109 -0.235907  0.201996\n",
       "2  0.231178 -0.067109  1.000000 -0.794389 -0.106738\n",
       "3 -0.300845 -0.235907 -0.794389  1.000000 -0.270266\n",
       "4  0.181603  0.201996 -0.106738 -0.270266  1.000000"
      ]
     },
     "execution_count": 251,
     "metadata": {},
     "output_type": "execute_result"
    }
   ],
   "source": [
    "S_large = np.diag(np.diag(cov_matrix)**(-.5))\n",
    "corr_matrix = S_large @ cov_matrix @ S_large\n",
    "corr_matrix.iloc[:5, :5]"
   ]
  },
  {
   "attachments": {},
   "cell_type": "markdown",
   "metadata": {},
   "source": [
    "When we visualize this matrix, we gain richer information, because we can see, relative to all of the inter-variable relationships in the data, which are the strongest."
   ]
  },
  {
   "cell_type": "code",
   "execution_count": 252,
   "metadata": {},
   "outputs": [
    {
     "data": {
      "image/png": "[encoded data removed]",
      "text/plain": [
       "<Figure size 640x480 with 2 Axes>"
      ]
     },
     "metadata": {},
     "output_type": "display_data"
    }
   ],
   "source": [
    "plt.imshow(corr_matrix.values, vmin=-1, vmax=1)\n",
    "plt.colorbar();"
   ]
  }
 ],
 "metadata": {
  "kernelspec": {
   "display_name": "info251",
   "language": "python",
   "name": "info251"
  },
  "language_info": {
   "codemirror_mode": {
    "name": "ipython",
    "version": 3
   },
   "file_extension": ".py",
   "mimetype": "text/x-python",
   "name": "python",
   "nbconvert_exporter": "python",
   "pygments_lexer": "ipython3",
   "version": "3.9.15"
  },
  "orig_nbformat": 4
 },
 "nbformat": 4,
 "nbformat_minor": 2
}

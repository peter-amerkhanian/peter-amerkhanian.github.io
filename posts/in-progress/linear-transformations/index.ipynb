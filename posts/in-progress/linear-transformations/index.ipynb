{
 "cells": [
  {
   "attachments": {},
   "cell_type": "markdown",
   "metadata": {},
   "source": [
    "---\n",
    "title: \"Linear Transformations\"\n",
    "bibliography: \"../../blog.bib\"\n",
    "author: \"Peter Amerkhanian\"\n",
    "date: \"2024-4-12\"\n",
    "draft: true\n",
    "categories: ['Python', 'Linear Algebra']\n",
    "format:\n",
    "  html:\n",
    "    toc: true\n",
    "    toc-depth: 3\n",
    "    code-fold: false\n",
    "    code-tools: true\n",
    "---"
   ]
  },
  {
   "cell_type": "code",
   "execution_count": 2,
   "metadata": {},
   "outputs": [],
   "source": [
    "import sympy as sp\n",
    "import numpy as np"
   ]
  },
  {
   "attachments": {},
   "cell_type": "markdown",
   "metadata": {},
   "source": [
    "\n",
    "A linear transformation $T: \\R^2 \\rightarrow \\R^2$ is defined by:  \n",
    "$$\n",
    "T(x, y) = (-x+2y, 3x-y)\n",
    "$$"
   ]
  },
  {
   "attachments": {},
   "cell_type": "markdown",
   "metadata": {},
   "source": [
    "First, \"A linear transformation $T: \\R^2 \\rightarrow \\R^2$.\" This is a specific statement of the more general form:  \n",
    "> Let $T$ denote [...] a function. The notation $T: \\mathbb{R}^n \\rightarrow \\mathbb{R}^m$ means that the function $T$ transforms vectors in $\\mathbb{R}^n$ into vectors in $\\mathbb{R}^m$.\n",
    "\n",
    "So in our case, we have a function, $T$ that inputs vectors in $\\R^2$ (e.g. a column vector, $\\vec{x} = [1, 2]^\\intercal \\in \\R^2$) and outputs vectors in $\\R^2$ ($T(\\vec{x}) \\in \\R^2$). \n",
    "\n",
    "Now we'll look at the linear transformation, $T$:  \n",
    "$$\n",
    "T(x, y) = (-x+2y, 3x-y)\n",
    "$$  \n",
    "This is slightly confusing, because there are two different variables, $x, y$, but this is really just the two elements of one input, $\\vec{x}$. This is clearer when we express the linear transformation as a matrix transformation, where $T(\\vec{x}) = A\\vec{x}$. Note:  \n",
    "> It turns out that every linear transformation can be expressed as a matrix transformation, and thus linear transformations are exactly the same as matrix transformations.  \n",
    "> \n",
    "> Let $T: \\R^n \\rightarrow \\R^m$ be a transformation defined by $T(\\vec{x}) = A\\vec{x}$. Then $T$ is a linear transformation.  \n",
    "> \n",
    "Thus in our case:  \n",
    "$$\n",
    "\\begin{align*}\n",
    "T(x, y) &= (-x+2y, 3x-y) \\\\\n",
    "T(x, y) &= \\begin{bmatrix}\n",
    "-1 & 2 \\\\\n",
    "3 & -1 \\\\\n",
    "\\end{bmatrix}\n",
    "\\begin{bmatrix}\n",
    "x \\\\\n",
    "y \\\\\n",
    "\\end{bmatrix} \\\\\n",
    "T(x, y) &= A \\begin{bmatrix}\n",
    "x \\\\\n",
    "y \\\\\n",
    "\\end{bmatrix} \\\\\n",
    "T(\\vec{x}) &= A \\vec{x}\n",
    "\\end{align*}\n",
    "$$"
   ]
  },
  {
   "cell_type": "code",
   "execution_count": 235,
   "metadata": {},
   "outputs": [],
   "source": [
    "def write_equation(left: str, right: sp.UnevaluatedExpr) -> sp.UnevaluatedExpr:\n",
    "    return (\n",
    "        sp.UnevaluatedExpr(\n",
    "            sp.Eq(\n",
    "        sp.symbols(left), \n",
    "        *right \n",
    "        ))\n",
    "    )"
   ]
  },
  {
   "attachments": {},
   "cell_type": "markdown",
   "metadata": {},
   "source": [
    "$A$ defines the matrix transformation, so we'll define that here:"
   ]
  },
  {
   "cell_type": "code",
   "execution_count": 237,
   "metadata": {},
   "outputs": [
    {
     "data": {
      "text/latex": [
       "$\\displaystyle A = \\left[\\begin{matrix}-1 & 2\\\\3 & -1\\end{matrix}\\right]$"
      ],
      "text/plain": [
       "Eq(A, Matrix([\n",
       "[-1,  2],\n",
       "[ 3, -1]]))"
      ]
     },
     "execution_count": 237,
     "metadata": {},
     "output_type": "execute_result"
    }
   ],
   "source": [
    "A = sp.Matrix([\n",
    "    [-1, 2],\n",
    "    [3, -1]\n",
    "])\n",
    "write_equation(\"A\", [sp.UnevaluatedExpr(A)])"
   ]
  },
  {
   "attachments": {},
   "cell_type": "markdown",
   "metadata": {},
   "source": [
    "We can test out this linear transformation with some arbitrary input, $\\vec{x} = [1, 2]^\\intercal$"
   ]
  },
  {
   "cell_type": "code",
   "execution_count": 238,
   "metadata": {},
   "outputs": [
    {
     "data": {
      "text/latex": [
       "$\\displaystyle \\left[\\begin{matrix}1\\\\2\\end{matrix}\\right]$"
      ],
      "text/plain": [
       "Matrix([\n",
       "[1],\n",
       "[2]])"
      ]
     },
     "execution_count": 238,
     "metadata": {},
     "output_type": "execute_result"
    }
   ],
   "source": [
    "x = sp.Matrix([[1, 2]]).T\n",
    "x"
   ]
  },
  {
   "attachments": {},
   "cell_type": "markdown",
   "metadata": {},
   "source": [
    "$T(\\vec{x}) = A \\vec{x}$"
   ]
  },
  {
   "cell_type": "code",
   "execution_count": 239,
   "metadata": {},
   "outputs": [
    {
     "data": {
      "text/latex": [
       "$\\displaystyle T(\\vec{x}) = \\left[\\begin{matrix}-1 & 2\\\\3 & -1\\end{matrix}\\right] \\left[\\begin{matrix}1\\\\2\\end{matrix}\\right]$"
      ],
      "text/plain": [
       "Eq(T(\\vec{x}), Matrix([\n",
       "[-1,  2],\n",
       "[ 3, -1]])*Matrix([\n",
       "[1],\n",
       "[2]]))"
      ]
     },
     "execution_count": 239,
     "metadata": {},
     "output_type": "execute_result"
    }
   ],
   "source": [
    "write_equation(r'T(\\vec{x})',\n",
    "               [sp.UnevaluatedExpr(A) * sp.UnevaluatedExpr(x)])"
   ]
  },
  {
   "cell_type": "code",
   "execution_count": 240,
   "metadata": {},
   "outputs": [
    {
     "ename": "TypeError",
     "evalue": "__new__() takes from 2 to 3 positional arguments but 4 were given",
     "output_type": "error",
     "traceback": [
      "\u001b[1;31m---------------------------------------------------------------------------\u001b[0m",
      "\u001b[1;31mTypeError\u001b[0m                                 Traceback (most recent call last)",
      "Cell \u001b[1;32mIn[240], line 1\u001b[0m\n\u001b[1;32m----> 1\u001b[0m write_equation(\u001b[39mr\u001b[39;49m\u001b[39m'\u001b[39;49m\u001b[39mT(\u001b[39;49m\u001b[39m\\\u001b[39;49m\u001b[39mvec\u001b[39;49m\u001b[39m{x}\u001b[39;49;00m\u001b[39m)\u001b[39;49m\u001b[39m'\u001b[39;49m,\n\u001b[0;32m      2\u001b[0m                [sp\u001b[39m.\u001b[39;49mUnevaluatedExpr(A) \u001b[39m*\u001b[39;49m sp\u001b[39m.\u001b[39;49mUnevaluatedExpr(x), sp\u001b[39m.\u001b[39;49mUnevaluatedExpr(A \u001b[39m@\u001b[39;49m x)])\n",
      "Cell \u001b[1;32mIn[235], line 4\u001b[0m, in \u001b[0;36mwrite_equation\u001b[1;34m(left, right)\u001b[0m\n\u001b[0;32m      1\u001b[0m \u001b[39mdef\u001b[39;00m \u001b[39mwrite_equation\u001b[39m(left: \u001b[39mstr\u001b[39m, right: sp\u001b[39m.\u001b[39mUnevaluatedExpr) \u001b[39m-\u001b[39m\u001b[39m>\u001b[39m sp\u001b[39m.\u001b[39mUnevaluatedExpr:\n\u001b[0;32m      2\u001b[0m     \u001b[39mreturn\u001b[39;00m (\n\u001b[0;32m      3\u001b[0m         sp\u001b[39m.\u001b[39mUnevaluatedExpr(\n\u001b[1;32m----> 4\u001b[0m             sp\u001b[39m.\u001b[39;49mEq(\n\u001b[0;32m      5\u001b[0m         sp\u001b[39m.\u001b[39;49msymbols(left), \n\u001b[0;32m      6\u001b[0m         \u001b[39m*\u001b[39;49mright \n\u001b[0;32m      7\u001b[0m         ))\n\u001b[0;32m      8\u001b[0m     )\n",
      "\u001b[1;31mTypeError\u001b[0m: __new__() takes from 2 to 3 positional arguments but 4 were given"
     ]
    }
   ],
   "source": [
    "write_equation(r'T(\\vec{x})',\n",
    "               [sp.UnevaluatedExpr(A) * sp.UnevaluatedExpr(x), sp.UnevaluatedExpr(A @ x)])"
   ]
  },
  {
   "attachments": {},
   "cell_type": "markdown",
   "metadata": {},
   "source": [
    "we can confirm that $\\vec{x}, T(\\vec{x}) \\in \\R^2$, as was stated when we defined the linear transformation. Now we'll move onto the next part of the question."
   ]
  },
  {
   "attachments": {},
   "cell_type": "markdown",
   "metadata": {},
   "source": [
    "---  \n",
    "\n",
    "Find a matrix of $T$ with respect to the basis $\\mathcal{B} = \\{(2, 1), (1, 1)\\}$ in $\\R^2$.\n",
    "\n",
    "---"
   ]
  },
  {
   "attachments": {},
   "cell_type": "markdown",
   "metadata": {},
   "source": [
    "> Let $\\vec{e}_i$ be the vector in $\\R^n$ which has a $1$ in the $i$ entry and zeros elsewhere, that is the $i$ column of the identity matrix. Then the collection $\\{\\vec{e}_1, \\vec{e}_2, \\ldots, \\vec{e}_n\\}$ is a basis for $\\R^n$ and is called the standard basis of $\\R^n$.\n",
    "\n",
    "We are in $\\R^2$, so the standard basis will be the collection $\\{\\vec{e}_1, \\vec{e}_2\\}$. $\\vec{e}_1$ will have a $1$ in the first entry and zeros elsewhere, so $\\vec{e}_1 = [1, 0]^\\intercal$ and $\\vec{e}_2$ will have a $1$ in the second entry, so $\\vec{e}_2 = [0, 1]^\\intercal$.  \n",
    "So our basis currently defined: $\\mathcal{B} = \\{(1, 0), (0, 1)\\}$ in $\\R^2$."
   ]
  },
  {
   "cell_type": "code",
   "execution_count": 197,
   "metadata": {},
   "outputs": [
    {
     "data": {
      "text/latex": [
       "$\\displaystyle \\left[\\begin{matrix}1 & 0\\\\0 & 1\\end{matrix}\\right]$"
      ],
      "text/plain": [
       "Matrix([\n",
       "[1, 0],\n",
       "[0, 1]])"
      ]
     },
     "execution_count": 197,
     "metadata": {},
     "output_type": "execute_result"
    }
   ],
   "source": [
    "B_old = sp.Matrix([\n",
    "    [1, 0],\n",
    "    [0, 1]\n",
    "])\n",
    "B_old"
   ]
  },
  {
   "cell_type": "code",
   "execution_count": 198,
   "metadata": {},
   "outputs": [
    {
     "data": {
      "text/latex": [
       "$\\displaystyle \\left[\\begin{matrix}-1 & 2\\\\3 & -1\\end{matrix}\\right]$"
      ],
      "text/plain": [
       "Matrix([\n",
       "[-1,  2],\n",
       "[ 3, -1]])"
      ]
     },
     "execution_count": 198,
     "metadata": {},
     "output_type": "execute_result"
    }
   ],
   "source": [
    "X_old = A\n",
    "X_old"
   ]
  },
  {
   "cell_type": "code",
   "execution_count": 231,
   "metadata": {},
   "outputs": [
    {
     "data": {
      "text/latex": [
       "$\\displaystyle \\left[\\begin{matrix}-1 & 2\\\\3 & -1\\end{matrix}\\right]$"
      ],
      "text/plain": [
       "Matrix([\n",
       "[-1,  2],\n",
       "[ 3, -1]])"
      ]
     },
     "execution_count": 231,
     "metadata": {},
     "output_type": "execute_result"
    }
   ],
   "source": [
    "B_old.inv() @ X_old @ B_old"
   ]
  },
  {
   "attachments": {},
   "cell_type": "markdown",
   "metadata": {},
   "source": [
    " We'll now change basis into $\\mathcal{B} = \\{(2, 1), (1, 1)\\}$ in $\\R^2$."
   ]
  },
  {
   "cell_type": "code",
   "execution_count": 152,
   "metadata": {},
   "outputs": [
    {
     "data": {
      "text/latex": [
       "$\\displaystyle \\left[\\begin{matrix}2 & 1\\\\1 & 1\\end{matrix}\\right]$"
      ],
      "text/plain": [
       "Matrix([\n",
       "[2, 1],\n",
       "[1, 1]])"
      ]
     },
     "execution_count": 152,
     "metadata": {},
     "output_type": "execute_result"
    }
   ],
   "source": [
    "B_new = sp.Matrix([\n",
    "    [2, 1],\n",
    "    [1, 1]\n",
    "])\n",
    "B_new"
   ]
  },
  {
   "cell_type": "code",
   "execution_count": 232,
   "metadata": {},
   "outputs": [
    {
     "data": {
      "text/latex": [
       "$\\displaystyle \\left[\\begin{matrix}-5 & -1\\\\10 & 3\\end{matrix}\\right]$"
      ],
      "text/plain": [
       "Matrix([\n",
       "[-5, -1],\n",
       "[10,  3]])"
      ]
     },
     "execution_count": 232,
     "metadata": {},
     "output_type": "execute_result"
    }
   ],
   "source": [
    "B_new.inv() @ X_old @ B_new"
   ]
  }
 ],
 "metadata": {
  "kernelspec": {
   "display_name": "info251",
   "language": "python",
   "name": "info251"
  },
  "language_info": {
   "codemirror_mode": {
    "name": "ipython",
    "version": 3
   },
   "file_extension": ".py",
   "mimetype": "text/x-python",
   "name": "python",
   "nbconvert_exporter": "python",
   "pygments_lexer": "ipython3",
   "version": "3.9.15"
  },
  "orig_nbformat": 4
 },
 "nbformat": 4,
 "nbformat_minor": 2
}

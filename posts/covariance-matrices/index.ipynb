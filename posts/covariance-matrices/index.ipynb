{
 "cells": [
  {
   "attachments": {},
   "cell_type": "markdown",
   "metadata": {},
   "source": [
    "---\n",
    "title: \"The Covariance Matrix from Scratch\"\n",
    "bibliography: \"../../blog.bib\"\n",
    "author: \"Peter Amerkhanian\"\n",
    "date: \"2024-5-31\"\n",
    "categories: ['Python', 'Linear Algebra']\n",
    "image: thumbnail.png\n",
    "format:\n",
    "  html:\n",
    "    toc: true\n",
    "    toc-depth: 3\n",
    "    code-fold: false\n",
    "    code-tools: true\n",
    "editor: \n",
    "  markdown: \n",
    "    wrap: 72\n",
    "---"
   ]
  },
  {
   "cell_type": "code",
   "execution_count": 1,
   "metadata": {},
   "outputs": [],
   "source": [
    "#| code-fold: true\n",
    "import numpy as np\n",
    "import pandas as pd\n",
    "import ucimlrepo\n",
    "import sympy as sp\n",
    "import matplotlib.pyplot as plt"
   ]
  },
  {
   "attachments": {},
   "cell_type": "markdown",
   "metadata": {},
   "source": [
    "The following is an overview of how to construct a covariance matrix. The post is largely based on exercises in [@cohen_practical_2022], an excellent overview of applied, numerical linear algebra in python. I overview how to construct a covariance matrix, but in the process I try to touch on a lot of important concepts in fundamental linear algebra: matrix multiplication, matrix transformations, the centering matrix, and getting from the idea of a matrix operation to the formal notation.\n",
    "\n",
    "I want to stress that the methods and procedures that I overview here are examples of *analytical* linear algebra. I'm looking at a lot of pen and paper methods for defining operations. In *numerical* linear algebra, where we actually compute this stuff on data, methodology is different. If you look into how `numpy` computes covariance, it's not going to look anything like this. However, learning these analytical fundamentals has value -- both in making it easier to read linear algebra heavy textbooks, and in being able to write out operations and ideas in parsimonious mathematical statements.\n",
    "\n",
    "# Question and Data\n",
    "In [@cohen_practical_2022], the covariance exercises are based on the [\"Communities and Crime,\" dataset from the UC Irvine Machine Learning Repository](https://archive.ics.uci.edu/dataset/183/communities+and+crime), which includes data on:  \n",
    "\n",
    "> Communities within the United States. The data combines socio-economic data from the 1990 US Census, law enforcement data from the 1990 US LEMAS survey, and crime data from the 1995 FBI UCR.  \n",
    ">\n",
    "\n",
    "I'll use the same data."
   ]
  },
  {
   "cell_type": "code",
   "execution_count": 2,
   "metadata": {},
   "outputs": [],
   "source": [
    "#| code-fold: true\n",
    "# Fetch the dataset \n",
    "communities_and_crime: ucimlrepo.dotdict = ucimlrepo.fetch_ucirepo(id=183) \n",
    "df: pd.DataFrame = pd.concat([communities_and_crime.data.features,\n",
    "                              communities_and_crime.data.features], axis=1)\n",
    "# Isolate numerical features and clear duplicate columns\n",
    "df_num: pd.DataFrame = df.copy().select_dtypes(include='number')\n",
    "df_num = df_num.loc[:,~df_num.columns.duplicated()]\n",
    "df_num = df_num.iloc[:, 2:]"
   ]
  },
  {
   "attachments": {},
   "cell_type": "markdown",
   "metadata": {},
   "source": [
    "To make the operations as clear as possible, I'm going to focus on the first five rows and first two columns for the majority of this post."
   ]
  },
  {
   "cell_type": "code",
   "execution_count": 3,
   "metadata": {},
   "outputs": [
    {
     "data": {
      "text/html": [
       "<div>\n",
       "<style scoped>\n",
       "    .dataframe tbody tr th:only-of-type {\n",
       "        vertical-align: middle;\n",
       "    }\n",
       "\n",
       "    .dataframe tbody tr th {\n",
       "        vertical-align: top;\n",
       "    }\n",
       "\n",
       "    .dataframe thead th {\n",
       "        text-align: right;\n",
       "    }\n",
       "</style>\n",
       "<table border=\"1\" class=\"dataframe\">\n",
       "  <thead>\n",
       "    <tr style=\"text-align: right;\">\n",
       "      <th></th>\n",
       "      <th>population</th>\n",
       "      <th>householdsize</th>\n",
       "    </tr>\n",
       "  </thead>\n",
       "  <tbody>\n",
       "    <tr>\n",
       "      <th>0</th>\n",
       "      <td>0.19</td>\n",
       "      <td>0.33</td>\n",
       "    </tr>\n",
       "    <tr>\n",
       "      <th>1</th>\n",
       "      <td>0.00</td>\n",
       "      <td>0.16</td>\n",
       "    </tr>\n",
       "    <tr>\n",
       "      <th>2</th>\n",
       "      <td>0.00</td>\n",
       "      <td>0.42</td>\n",
       "    </tr>\n",
       "    <tr>\n",
       "      <th>3</th>\n",
       "      <td>0.04</td>\n",
       "      <td>0.77</td>\n",
       "    </tr>\n",
       "    <tr>\n",
       "      <th>4</th>\n",
       "      <td>0.01</td>\n",
       "      <td>0.55</td>\n",
       "    </tr>\n",
       "  </tbody>\n",
       "</table>\n",
       "</div>"
      ],
      "text/plain": [
       "   population  householdsize\n",
       "0        0.19           0.33\n",
       "1        0.00           0.16\n",
       "2        0.00           0.42\n",
       "3        0.04           0.77\n",
       "4        0.01           0.55"
      ]
     },
     "execution_count": 3,
     "metadata": {},
     "output_type": "execute_result"
    }
   ],
   "source": [
    "example = df_num.head()[['population', 'householdsize']]\n",
    "example"
   ]
  },
  {
   "attachments": {},
   "cell_type": "markdown",
   "metadata": {},
   "source": [
    "## The summation formulation\n",
    "Say we have two columns, `population` and `householdsize`, and we'd like to know to what degree they are associated. I'll refer to these as `x` and `y`, respectively."
   ]
  },
  {
   "cell_type": "code",
   "execution_count": 4,
   "metadata": {},
   "outputs": [],
   "source": [
    "x = example['population']\n",
    "y = example['householdsize']"
   ]
  },
  {
   "attachments": {},
   "cell_type": "markdown",
   "metadata": {},
   "source": [
    "I can compute their covariance statistic via the following equation, where $x$ is `population`, and $y$ is `householdsize`"
   ]
  },
  {
   "attachments": {},
   "cell_type": "markdown",
   "metadata": {},
   "source": [
    "$$\n",
    "c_{x, y} = (n-1)^{-1} \\sum_{i=1} ^n (x_i - \\bar{x})(y_i - \\bar{y})\n",
    "$${#eq-one}\n",
    "[@cohen_practical_2022, chapter 7]"
   ]
  },
  {
   "attachments": {},
   "cell_type": "markdown",
   "metadata": {},
   "source": [
    "I'll create a function that makes the equation operational for any two arrays, `x` and `y`:"
   ]
  },
  {
   "cell_type": "code",
   "execution_count": 5,
   "metadata": {},
   "outputs": [],
   "source": [
    "def bivariate_cov(x: np.array, y: np.array) -> float:\n",
    "    x_bar: float = x.mean()\n",
    "    y_bar: float = y.mean()\n",
    "    n = len(x)\n",
    "    summation = 0\n",
    "    for i in range(n):\n",
    "        summation += (x.loc[i] - x_bar) * (y.loc[i] - y_bar)\n",
    "    return summation / (n-1)"
   ]
  },
  {
   "attachments": {},
   "cell_type": "markdown",
   "metadata": {},
   "source": [
    "For `population` and `householdsize` the covariance statistic is:"
   ]
  },
  {
   "cell_type": "code",
   "execution_count": 6,
   "metadata": {},
   "outputs": [
    {
     "name": "stdout",
     "output_type": "stream",
     "text": [
      "cov(x, y): -0.0020099999999999996\n"
     ]
    }
   ],
   "source": [
    "print(\"cov(x, y):\", bivariate_cov(x, y))"
   ]
  },
  {
   "attachments": {},
   "cell_type": "markdown",
   "metadata": {},
   "source": [
    "I'll check my answer with a built in function, `numpy.cov()`:"
   ]
  },
  {
   "cell_type": "code",
   "execution_count": 7,
   "metadata": {},
   "outputs": [
    {
     "data": {
      "text/plain": [
       "array([[ 0.00657, -0.00201],\n",
       "       [-0.00201,  0.05293]])"
      ]
     },
     "execution_count": 7,
     "metadata": {},
     "output_type": "execute_result"
    }
   ],
   "source": [
    "np.cov(x, y)"
   ]
  },
  {
   "attachments": {},
   "cell_type": "markdown",
   "metadata": {},
   "source": [
    "This is clearly different! Rather than a scalar, this function returned a matrix. However, the upper and lower triangles of the matrix are the same as the covariance value we computed. Indeed, what numpy returned for covariance is the following matrix:\n",
    "$$\n",
    "C = \n",
    "\\left[\n",
    "\\begin{matrix}\n",
    "    var(x) & cov(x, y) \\\\\n",
    "    cov(y, x) & var(y) \\\\\n",
    "\\end{matrix}\n",
    "\\right]\n",
    "$${#eq-cov-matrix}\n",
    "\n",
    "We can compute the variances of $x$ and $y$ to confirm this (note that variance is a special case of covariance where the `x` and `y` input are equal) "
   ]
  },
  {
   "cell_type": "code",
   "execution_count": 8,
   "metadata": {},
   "outputs": [
    {
     "name": "stdout",
     "output_type": "stream",
     "text": [
      "var(x): 0.006570000000000002\n",
      "var(y): 0.05293000000000001\n"
     ]
    }
   ],
   "source": [
    "print(\"var(x):\", bivariate_cov(x, x))\n",
    "print(\"var(y):\", bivariate_cov(y, y))"
   ]
  },
  {
   "attachments": {},
   "cell_type": "markdown",
   "metadata": {},
   "source": [
    "But how do we get the linear algebra formula that `numpy` used to produce that matrix, $C$?"
   ]
  },
  {
   "attachments": {},
   "cell_type": "markdown",
   "metadata": {},
   "source": [
    "## The vector formulation\n",
    "To get our output to match numpy's we'll start by generalizing the covariance equation to input vectors. Recall the summation equation:"
   ]
  },
  {
   "attachments": {},
   "cell_type": "markdown",
   "metadata": {},
   "source": [
    "$$\n",
    "\\begin{align*}\n",
    "c_{x, y} &= (n-1)^{-1} \\sum_{i=1} ^n (x_i - \\bar{x})(y_i - \\bar{y}) \\\\\n",
    "\\end{align*}  \n",
    "$$  \n",
    "\n",
    "To convert this into an equation that uses vectors, we'll note that the $\\sum_{i=1}^n(\\cdots)_i(\\cdots)_i$ term above corresponds to a \"dot product\" in linear algebra. We write this out as follows:\n",
    "$$\n",
    "\\begin{align*}\n",
    "c_{x, y} &= (n-1)^{-1}(\\mathbf {x}_{n \\times 1} - \\bar{\\mathbf {x}})^\\intercal (\\mathbf {y}_{n \\times 1} - \\bar{\\mathbf {y}}) \\\\\n",
    "\\end{align*}  \n",
    "$$\n",
    "\n",
    "[@cohen_practical_2022, chapter 7]  \n",
    "\n",
    "Note the following notational conventions:  \n",
    "\n",
    "- the boldface x, $\\mathbf {x}_{n \\times 1}$ refers to a vector with dimensions $n \\times 1$ and all the elements $x_i$, $i \\in [1,2, \\cdots, n]$\n",
    "- $\\bar{\\mathbf {x}}$ and $\\bar{x}$ are equivalent -- both represent the mean of the vector.\n",
    "- $^\\intercal$ represents the transpose. The short of this is that $(\\mathbf {x}_{n \\times 1} - \\bar{\\mathbf {x}})$ is an $n \\times 1$ vector. When we transpose it, it becomes a $1 \\times n$ vector, which is necessary for this multiplication to work. I'm going to go into detail on this a little later, but for now just know that transposing a vector switches its row and column dimensions. For example, here we convert a column, $n \\times 1$ vector into a row, $1 \\times n$ vector:  \n",
    "\n",
    "$$\n",
    "\\left[\\begin{matrix}x_1\\\\x_2\\\\x_3\\\\x_4\\\\x_5\\end{matrix}\\right]_{n \\times 1}^\\intercal = \\left[\\begin{matrix}x_1&x_2&x_3&x_4&x_5\\end{matrix}\\right]_{1 \\times n}\n",
    "$$\n",
    "\n",
    "Rather than overview every rule of linear algebra operations now, I'll compute the covariance of the two variables in our dataset and we can directly examine how basic vector-scalar and vector-vector operations come out.  \n",
    "I'll denote the vectors and their means below:"
   ]
  },
  {
   "cell_type": "code",
   "execution_count": 9,
   "metadata": {},
   "outputs": [
    {
     "name": "stdout",
     "output_type": "stream",
     "text": [
      "x: [0.19 0.   0.   0.04 0.01] \n",
      "mean(x)= 0.048\n",
      "y: [0.33 0.16 0.42 0.77 0.55] \n",
      "mean(y)= 0.446\n",
      "n =  5\n"
     ]
    }
   ],
   "source": [
    "print(\"x:\", x.values, \"\\nmean(x)=\", x.mean())\n",
    "print(\"y:\", y.values,  \"\\nmean(y)=\", y.mean())\n",
    "print(\"n = \", len(x))"
   ]
  },
  {
   "attachments": {},
   "cell_type": "markdown",
   "metadata": {},
   "source": [
    "And we can now plug everything into that vector formula for covariance:"
   ]
  },
  {
   "attachments": {},
   "cell_type": "markdown",
   "metadata": {},
   "source": [
    "$$\n",
    "\\begin{align*}\n",
    "c_{x, y} &= (n-1)^{-1}(\\mathbf {x}_{n \\times 1} - \\bar{\\mathbf {x}})^\\intercal (\\mathbf {y}_{n \\times 1} - \\bar{\\mathbf {y}}) \\\\\n",
    " &= \\frac{1}{4} (\\left[\\begin{matrix}0.19\\\\0\\\\0\\\\0.04\\\\0.01\\end{matrix}\\right] - 0.048)^\\intercal (\\left[\\begin{matrix}0.33\\\\0.16\\\\0.42\\\\0.77\\\\0.55\\end{matrix}\\right] - 0.446) \\\\\n",
    " &= \\frac{1}{4} (\\left[\\begin{matrix}0.142\\\\-0.048\\\\-0.048\\\\-0.008\\\\-0.038\\end{matrix}\\right]^\\intercal \\left[\\begin{matrix}-0.116\\\\-0.286\\\\-0.026\\\\0.324\\\\0.104\\end{matrix}\\right]) \\\\\n",
    "&= \\frac{1}{4} ((0.142) (-0.116) + (-0.048) (-0.286) \\\\\n",
    "&\\quad \\quad + (-0.048) (-0.026) + (-0.008) (0.324) \\\\\n",
    "&\\quad \\quad + (-0.038) (0.104) )  \\\\\n",
    "&\\approx \\frac{1}{4} (-0.00804) \\\\\n",
    "&\\approx -0.00201\n",
    "\\end{align*}\n",
    "$$"
   ]
  },
  {
   "attachments": {},
   "cell_type": "markdown",
   "metadata": {},
   "source": [
    "In python we can confirm our result, where `@` computes the dot product in python's `numpy` library:"
   ]
  },
  {
   "cell_type": "code",
   "execution_count": 10,
   "metadata": {},
   "outputs": [
    {
     "data": {
      "text/plain": [
       "-0.0020099999999999996"
      ]
     },
     "execution_count": 10,
     "metadata": {},
     "output_type": "execute_result"
    }
   ],
   "source": [
    "x_bar: float = x.mean()\n",
    "y_bar: float = y.mean()\n",
    "n = len(x)\n",
    "((x - x_bar).T @ (y - y_bar)) / (n - 1)"
   ]
  },
  {
   "attachments": {},
   "cell_type": "markdown",
   "metadata": {},
   "source": [
    "## Deriving the matrix formulation\n",
    "The vector formulation is not particularly useful, so we will quickly move on to the matrix formulation, which will produce output equivalent to `np.cov()`. \n",
    "\n",
    "Before we get to the equation, we'll start by defining a matrix, $X$, made up of the vectors $\\mathbf{x}$ and $\\mathbf{y}$:  \n",
    "$$\n",
    "X_{n \\times 2} = \n",
    "\\left[\n",
    "\\begin{matrix}\n",
    "\\vert & \\vert \\\\\n",
    "    \\mathbf{x}   & \\mathbf{y}   \\\\\n",
    "    \\vert & \\vert\n",
    "\\end{matrix}\n",
    "\\right]_{n \\times 2} = \\left[\n",
    "\\begin{matrix}\n",
    "    x_1   & y_1   \\\\\n",
    "    x_2   & y_2   \\\\\n",
    "    \\vdots   & \\vdots   \\\\\n",
    "    x_n   & y_n   \\\\\n",
    "\\end{matrix}\n",
    "\\right]_{n \\times 2}\n",
    "$$  \n",
    "\n",
    "This is really just our full dataset:"
   ]
  },
  {
   "cell_type": "code",
   "execution_count": 11,
   "metadata": {},
   "outputs": [
    {
     "data": {
      "text/html": [
       "<div>\n",
       "<style scoped>\n",
       "    .dataframe tbody tr th:only-of-type {\n",
       "        vertical-align: middle;\n",
       "    }\n",
       "\n",
       "    .dataframe tbody tr th {\n",
       "        vertical-align: top;\n",
       "    }\n",
       "\n",
       "    .dataframe thead th {\n",
       "        text-align: right;\n",
       "    }\n",
       "</style>\n",
       "<table border=\"1\" class=\"dataframe\">\n",
       "  <thead>\n",
       "    <tr style=\"text-align: right;\">\n",
       "      <th></th>\n",
       "      <th>population</th>\n",
       "      <th>householdsize</th>\n",
       "    </tr>\n",
       "  </thead>\n",
       "  <tbody>\n",
       "    <tr>\n",
       "      <th>0</th>\n",
       "      <td>0.19</td>\n",
       "      <td>0.33</td>\n",
       "    </tr>\n",
       "    <tr>\n",
       "      <th>1</th>\n",
       "      <td>0.00</td>\n",
       "      <td>0.16</td>\n",
       "    </tr>\n",
       "    <tr>\n",
       "      <th>2</th>\n",
       "      <td>0.00</td>\n",
       "      <td>0.42</td>\n",
       "    </tr>\n",
       "    <tr>\n",
       "      <th>3</th>\n",
       "      <td>0.04</td>\n",
       "      <td>0.77</td>\n",
       "    </tr>\n",
       "    <tr>\n",
       "      <th>4</th>\n",
       "      <td>0.01</td>\n",
       "      <td>0.55</td>\n",
       "    </tr>\n",
       "  </tbody>\n",
       "</table>\n",
       "</div>"
      ],
      "text/plain": [
       "   population  householdsize\n",
       "0        0.19           0.33\n",
       "1        0.00           0.16\n",
       "2        0.00           0.42\n",
       "3        0.04           0.77\n",
       "4        0.01           0.55"
      ]
     },
     "execution_count": 11,
     "metadata": {},
     "output_type": "execute_result"
    }
   ],
   "source": [
    "X = example[['population', 'householdsize']]\n",
    "X"
   ]
  },
  {
   "attachments": {},
   "cell_type": "markdown",
   "metadata": {},
   "source": [
    "Now we want to create a currently unknown operation that will take in this matrix, $X$, and output the covariance matrix, (@eq-cov-matrix). In thinking about this, lets decompose what exactly that covariance matrix is, incorporating the simple summation formula, then the vector formula we just learned:"
   ]
  },
  {
   "attachments": {},
   "cell_type": "markdown",
   "metadata": {},
   "source": [
    "$$\n",
    "\\begin{align*}\n",
    "???(X) &= \n",
    "\\left[\n",
    "\\begin{matrix}\n",
    "    var(x) & cov(x, y) \\\\\n",
    "    cov(y, x) & var(y) \\\\\n",
    "\\end{matrix}\n",
    "\\right] \\\\\n",
    "&=\\left[\n",
    "\\begin{matrix}\n",
    "\\sum_{i=1}^{n} (x_i - \\bar{\\mathbf{x}})(x_i - \\bar{\\mathbf{x}}) & \\sum_{i=1}^{n} (x_i - \\bar{\\mathbf{x}})(y_i - \\bar{\\mathbf{y}}) \\\\\n",
    "\\sum_{i=1}^{n} (y_i - \\bar{\\mathbf{y}})(x_i - \\bar{\\mathbf{x}}) & \\sum_{i=1}^{n} (y_i - \\bar{\\mathbf{y}})(y_i - \\bar{\\mathbf{y}}) \\\\\n",
    "\\end{matrix}\n",
    "\\right] (n-1)^{-1}\\\\\n",
    "&= \\left[\n",
    "\\begin{matrix}\n",
    "(\\mathbf {x} - \\bar{\\mathbf {x}})^\\intercal (\\mathbf {x} - \\bar{\\mathbf {x}}) & (\\mathbf {x} - \\bar{\\mathbf {x}})^\\intercal (\\mathbf {y} - \\bar{\\mathbf {y}}) \\\\\n",
    "(\\mathbf {y} - \\bar{\\mathbf {y}})^\\intercal (\\mathbf {x} - \\bar{\\mathbf {x}}) & (\\mathbf {y} - \\bar{\\mathbf {y}})^\\intercal (\\mathbf {y} - \\bar{\\mathbf {y}}) \\\\\n",
    "\\end{matrix}\n",
    "\\right] (n-1)^{-1}\n",
    "\\end{align*}\n",
    "$$\n",
    "Set aside the value, $(n-1)^{-1}$ for now, and just consider what this matrix of dot products is made of.  \n",
    "\n",
    "I defer to the [wikipedia entry on matrix-matrix multiplication](https://en.wikipedia.org/wiki/Matrix_multiplication#Vector_times_matrix) to define the exact process, but consider that when you multiply two matrices, each entry in the output matrix is the dot product of the $i$ th row of the left matrix and the $j$ th column of the right matrix. Given that definition and the fact that our output above is a matrix of dot products, lets define it as the output of a multiplication operation between some currently unknown left and right matrix. Specifically:  \n",
    " \n",
    "$$\n",
    "\\begin{align*}\n",
    "\\left[\n",
    "\\begin{matrix}\n",
    "(\\mathbf {x} - \\bar{\\mathbf {x}})^\\intercal (\\mathbf {x} - \\bar{\\mathbf {x}}) & (\\mathbf {x} - \\bar{\\mathbf {x}})^\\intercal (\\mathbf {y} - \\bar{\\mathbf {y}}) \\\\\n",
    "(\\mathbf {y} - \\bar{\\mathbf {y}})^\\intercal (\\mathbf {x} - \\bar{\\mathbf {x}}) & (\\mathbf {y} - \\bar{\\mathbf {y}})^\\intercal (\\mathbf {y} - \\bar{\\mathbf {y}}) \\\\\n",
    "\\end{matrix}\n",
    "\\right] &= \\\\\n",
    "\\left[\n",
    "\\begin{matrix}\n",
    "(\\text{Row 1, Left Matrix}) \\cdot (\\text{Col 1, Right Matrix}) & (\\text{Row 1, Left Matrix}) \\cdot (\\text{Col 2, Right Matrix})  \\\\\n",
    "(\\text{Row 2, Left Matrix}) \\cdot (\\text{Col 1, Right Matrix}) & (\\text{Row 2, Left Matrix}) \\cdot (\\text{Col 2, Right Matrix})\\\\\n",
    "\\end{matrix}\n",
    "\\right]\n",
    "\\end{align*}\n",
    "$$  \n",
    "\n",
    "We can use the equivalence of these two statements to define what the rows and columns are for the left and right matrix:  \n",
    "\n",
    "$$\n",
    "\\begin{align*}\n",
    "C &= \\left[\n",
    "\\begin{matrix}\n",
    "    —&(\\text{Row 1})  &—   \\\\\n",
    "    —& (\\text{Row 2}) &— \n",
    "\\end{matrix}\n",
    "\\right]\n",
    "\\left[\n",
    "\\begin{matrix}\n",
    "\\vert & \\vert \\\\\n",
    "    (\\text{Col 1})   & (\\text{Col 2})   \\\\\n",
    "    \\vert & \\vert\n",
    "\\end{matrix}\n",
    "\\right] (n-1)^{-1}\\\\\n",
    "&=\n",
    "\\left[\n",
    "\\begin{matrix}\n",
    "    —&(\\mathbf{x}-\\bar{\\mathbf{x}})  &—   \\\\\n",
    "    —& (\\mathbf{y}-\\bar{\\mathbf{y}}) &— \n",
    "\\end{matrix}\n",
    "\\right]\n",
    "\\left[\n",
    "\\begin{matrix}\n",
    "\\vert & \\vert \\\\\n",
    "    (\\mathbf{x}-\\bar{\\mathbf{x}})   & (\\mathbf{y}-\\bar{\\mathbf{y}})   \\\\\n",
    "    \\vert & \\vert\n",
    "\\end{matrix}\n",
    "\\right] (n-1)^{-1}\n",
    "\\end{align*}\n",
    "$$\n",
    "This is a good time to explain how a matrix transpose works. We can see that the rows 1 and 2 of the left matrix are the same as the columns 1 and 2 of the right matrix. This means that the left matrix is a transpose of the right matrix (or vice versa).  \n",
    "\n",
    "> I think it’s [...] easy to remember that **transposing swaps rows and columns**  \n",
    "> -- [@cohen_practical_2022, chapter 5]  \n",
    ">\n",
    "\n",
    "$$\n",
    "\\left[\n",
    "\\begin{matrix}\n",
    "\\vert & \\vert \\\\\n",
    "    (\\mathbf{x}-\\bar{\\mathbf{x}})   & (\\mathbf{y}-\\bar{\\mathbf{y}})   \\\\\n",
    "    \\vert & \\vert\n",
    "\\end{matrix}\n",
    "\\right]^\\intercal = \n",
    "\\left[\n",
    "\\begin{matrix}\n",
    "    —&(\\mathbf{x}-\\bar{\\mathbf{x}})  &—   \\\\\n",
    "    —& (\\mathbf{y}-\\bar{\\mathbf{y}}) &— \n",
    "\\end{matrix}\n",
    "\\right]\n",
    "$$\n",
    "\n",
    "When we plug that in, we get the typical formula for covariance.\n",
    "\n",
    "$$\n",
    "\\begin{align*}\n",
    " C &=\n",
    "\\left[\n",
    "\\begin{matrix}\n",
    "x_1 - \\bar{\\mathbf{x}}   & y_1 - \\bar{\\mathbf{y}}   \\\\\n",
    "    x_2 - \\bar{\\mathbf{x}}   & y_2 - \\bar{\\mathbf{y}}   \\\\\n",
    "    \\vdots   & \\vdots   \\\\\n",
    "    x_n - \\bar{\\mathbf{x}}   & y_n - \\bar{\\mathbf{y}}   \\\\\n",
    "\\end{matrix}\n",
    "\\right]_{n \\times 2}^\\intercal\n",
    "\\left[\n",
    "\\begin{matrix}\n",
    "x_1 - \\bar{\\mathbf{x}}   & y_1 - \\bar{\\mathbf{y}}   \\\\\n",
    "    x_2 - \\bar{\\mathbf{x}}   & y_2 - \\bar{\\mathbf{y}}   \\\\\n",
    "    \\vdots   & \\vdots   \\\\\n",
    "    x_n - \\bar{\\mathbf{x}}   & y_n - \\bar{\\mathbf{y}}   \\\\\n",
    "\\end{matrix}\n",
    "\\right]_{n \\times 2} (n-1)^{-1}\n",
    "\\end{align*}\n",
    "$${#eq-cov-mat}  \n"
   ]
  },
  {
   "attachments": {},
   "cell_type": "markdown",
   "metadata": {},
   "source": [
    "So now we know the matrix operation that will yield the covariance matrix, $C$, from the matrix, $X$ -- we find the mean-centered representation of $X$, multiply that with itself, and then multiply the result by the scalar, $(n-1)^{-1}$. This is a fairly straightforward operation, but **it's not really an equation yet.** We will now formalize it into one.\n",
    "\n",
    "### Building the centering matrix\n",
    "\n",
    "We want to subtract the mean of x from the x elements, and the mean of y from the y elements, all in one matrix. In the vector setting above, we set this up as the difference between a vector and its scalar mean. Vector-scalar operations are intuitive in linear algebra: \n",
    "\n",
    "$$\n",
    "\\left[\n",
    "\\begin{matrix}\n",
    "    x_1  \\\\\n",
    "    x_2   \\\\\n",
    "    \\vdots   \\\\\n",
    "    x_n \n",
    "\\end{matrix}\n",
    "\\right]_{n \\times 1} - \\bar{\\mathbf{x}} = \\left[\n",
    "\\begin{matrix}\n",
    "x_1 - \\bar{\\mathbf{x}}   \\\\\n",
    "    x_2 - \\bar{\\mathbf{x}}    \\\\\n",
    "    \\vdots   \\\\\n",
    "    x_n - \\bar{\\mathbf{x}}     \\\\\n",
    "\\end{matrix}\n",
    "\\right]_{n \\times 1}\n",
    "\\, \\text{ and } \\,\n",
    "\\left[\n",
    "\\begin{matrix}\n",
    "    y_1  \\\\\n",
    "    y_2   \\\\\n",
    "    \\vdots   \\\\\n",
    "    y_n \n",
    "\\end{matrix}\n",
    "\\right]_{n \\times 1} - \\bar{\\mathbf{y}} = \\left[\n",
    "\\begin{matrix}\n",
    "y_1 - \\bar{\\mathbf{y}}   \\\\\n",
    "    y_2 - \\bar{\\mathbf{y}}    \\\\\n",
    "    \\vdots   \\\\\n",
    "    y_n - \\bar{\\mathbf{y}}     \\\\\n",
    "\\end{matrix}\n",
    "\\right]_{n \\times 1}\n",
    "$$\n",
    "\n",
    "\n",
    "In a matrix formulation, this is slightly different. \n",
    "  \n",
    "> You add [or subtract] two matrices by adding their corresponding elements. [...]  \n",
    "> Matrix addition [and subtraction] is **defined only between two\n",
    "matrices of the same size.**\n",
    ">\n",
    "> -- [@cohen_practical_2022, chapter 5]\n",
    "\n",
    "Therefore, we would set $x_i - \\bar{x}$ and $y_i - \\bar{y}$ up in a matrix formulation as follows:  \n",
    "\n",
    "$$  \n",
    "\\left[\n",
    "\\begin{matrix}\n",
    "    x_1   & y_1   \\\\\n",
    "    x_2   & y_2   \\\\\n",
    "    \\vdots   & \\vdots   \\\\\n",
    "    x_n   & y_n   \\\\\n",
    "\\end{matrix}\n",
    "\\right]_{n \\times 2} - \n",
    "\\left[\n",
    "\\begin{matrix}\n",
    "    \\bar{\\mathbf{x}}   & \\bar{\\mathbf{y}}   \\\\\n",
    "    \\bar{\\mathbf{x}}   & \\bar{\\mathbf{y}}   \\\\\n",
    "    \\vdots   & \\vdots   \\\\\n",
    "    \\bar{\\mathbf{x}}   & \\bar{\\mathbf{y}}   \\\\\n",
    "\\end{matrix}\n",
    "\\right]_{n \\times 2} = \n",
    "\\left[\n",
    "\\begin{matrix}\n",
    "x_1 - \\bar{\\mathbf{x}}   & y_1 - \\bar{\\mathbf{y}}   \\\\\n",
    "    x_2 - \\bar{\\mathbf{x}}   & y_2 - \\bar{\\mathbf{y}}   \\\\\n",
    "    \\vdots   & \\vdots   \\\\\n",
    "    x_n - \\bar{\\mathbf{x}}   & y_n - \\bar{\\mathbf{y}}   \\\\\n",
    "\\end{matrix}\n",
    "\\right]_{n \\times 2}\n",
    "$$\n",
    "\n",
    "But how do we produce the $n \\times 2$ matrix of column means that this equation requires?  \n",
    "$$\n",
    "??? = \\left[\n",
    "\\begin{matrix}\n",
    "    \\bar{\\mathbf{x}}   & \\bar{\\mathbf{y}}   \\\\\n",
    "    \\bar{\\mathbf{x}}   & \\bar{\\mathbf{y}}   \\\\\n",
    "    \\vdots   & \\vdots   \\\\\n",
    "    \\bar{\\mathbf{x}}   & \\bar{\\mathbf{y}}   \\\\\n",
    "\\end{matrix}\n",
    "\\right]_{n \\times 2}\n",
    "$${#eq-mat-means}\n",
    "\n",
    " Given that these means are functions of the elements of $\\mathbf{x}$ and $\\mathbf{y}$ respectively, we are going to try to create a function that takes in the matrix $X$ and outputs the matrix of means above, (@eq-mat-means)."
   ]
  },
  {
   "attachments": {},
   "cell_type": "markdown",
   "metadata": {},
   "source": [
    "#### The mean as a matrix transformation\n",
    "To build that function, lets start by considering a standard definition of the average and translate it into a \"matrix transformation\". The simple summation formulation for the mean is as follows:  \n",
    "$$\n",
    "\\bar{x} = \\frac{1}{n}\\sum_{i=1}^n x_i = \\sum_{i=1}^n \\frac{1}{n}x_i\n",
    "$$\n",
    "The summation, $\\sum_{i=1}^n \\frac{1}{n}x_i$, maps directly to a simple dot product:  \n",
    "$$\n",
    "\\begin{align*}\n",
    "\\bar{x} &= \\sum_{i=1}^n \\frac{1}{n}x_i \\\\\n",
    "&= \\frac{1}{n}x_1 + \\frac{1}{n}x_2 + \\cdots \\frac{1}{n}x_n \\\\\n",
    "&= \\left[\\begin{matrix}\\frac{1}{n} & \\frac{1}{n} & \\cdots & \\frac{1}{n}\\end{matrix}\\right]_{1 \\times n} \\left[\\begin{matrix}x_1\\\\x_2\\\\\\vdots\\\\x_n\\end{matrix}\\right]_{n \\times 1}\n",
    "\\end{align*}\n",
    "$$\n",
    "This is interesting (really), because it looks like if we multiply $\\left[\\begin{matrix}\\frac{1}{n} & \\frac{1}{n} & \\cdots & \\frac{1}{n}\\end{matrix}\\right]_{1 \\times n}$ by any $n \\times 1$ vector, we get the mean. So it seems like the following is a function that takes in a vector, multiplies it with another vector, and outputs the average of the input vector:\n",
    "$$\n",
    "\\bar{x} = f(\\mathbf{x}_{n \\times 1}) = \\left[\\begin{matrix}\\frac{1}{n} & \\frac{1}{n} & \\cdots & \\frac{1}{n}\\end{matrix}\\right]_{1 \\times n} \\mathbf{x}_{n \\times 1}\n",
    "$${#eq-simple-mean}\n",
    " \n",
    "Lets confirm this behavior with code:"
   ]
  },
  {
   "cell_type": "code",
   "execution_count": 12,
   "metadata": {},
   "outputs": [
    {
     "name": "stdout",
     "output_type": "stream",
     "text": [
      "n = 5\n",
      "[1/n, 1/n, ... 1/n] =  [0.2 0.2 0.2 0.2 0.2]\n",
      "x =  [0.19 0.   0.   0.04 0.01]\n",
      "\n",
      "[1/n, 1/n, ... 1/n] @ x =  0.048\n",
      "mean =  0.048\n",
      "^ these are equal\n"
     ]
    }
   ],
   "source": [
    "print(\"n =\", len(x))\n",
    "print(\"[1/n, 1/n, ... 1/n] = \", 1/len(x) * np.ones(len(x)).T)\n",
    "print(\"x = \", x.values)\n",
    "print()\n",
    "print(\n",
    "    \"[1/n, 1/n, ... 1/n] @ x = \", round(1/len(x) * np.ones(len(x)).T @ x, 5)\n",
    "    )\n",
    "print(\"mean = \", x.mean())\n",
    "print(\"^ these are equal\")"
   ]
  },
  {
   "attachments": {},
   "cell_type": "markdown",
   "metadata": {},
   "source": [
    "Now that we've confirmed that the function works, lets create formal notation for it. Consider the vector of 1s, $\\mathbf{1}$:  \n",
    "$$\n",
    "\\mathbf{1}_{n \\times 1} = \\left[\\begin{matrix}1\\\\1\\\\\\vdots\\\\1\\end{matrix}\\right]_{n \\times 1} \\\\\n",
    "$$\n",
    "If we mutliply that by $1/n$ and transpose the result, we get the vector from our function, (@eq-simple-mean):\n",
    "$$\n",
    "n^{-1}\\mathbf{1}_{n \\times 1}^\\intercal = \\left[\\begin{matrix}\\frac{1}{n} & \\frac{1}{n} & \\cdots & \\frac{1}{n}\\end{matrix}\\right]_{1 \\times n}\n",
    "$$  \n",
    "\n",
    "With that notation, we'll now redefine the function as the matrix transformation, $T_\\text{mean}$, that transforms a $n \\times 1$ matrix (this is just a vector) into its scalar mean.\n",
    "$$\n",
    "T_\\text{mean}: \\mathbb{R}^n \\rightarrow \\mathbb{R}^1 \\quad \\text{defined by} \\quad T(\\mathbf{x}_{n \\times 1}) = n^{-1}\\mathbf{1}_{n \\times 1}^\\intercal \\mathbf{x}_{n \\times 1}\n",
    "$$  \n",
    "\n",
    "Looks weird and potentially useless, but we'll use this same approach to define notation for the matrix of deviations from the mean from (@eq-cov-mat)"
   ]
  },
  {
   "attachments": {},
   "cell_type": "markdown",
   "metadata": {},
   "source": [
    "#### Deviation from the mean as a matrix transformation\n",
    "\n",
    "$T_\\text{mean}$ yields a scalar, $\\bar{x}$, and it could also easily be used to find $\\bar{y}$, but I want the matrix:\n",
    "$$\n",
    "\\left[\n",
    "\\begin{matrix}\n",
    "    \\bar{\\mathbf{x}}   & \\bar{\\mathbf{y}}   \\\\\n",
    "    \\bar{\\mathbf{x}}   & \\bar{\\mathbf{y}}   \\\\\n",
    "    \\vdots   & \\vdots   \\\\\n",
    "    \\bar{\\mathbf{x}}   & \\bar{\\mathbf{y}}   \\\\\n",
    "\\end{matrix}\n",
    "\\right]_{n \\times 2}\n",
    "$$\n",
    "To move towards that output, an $n \\times 2$ matrix, lets consider some points about matrix multiplication.\n",
    "\n",
    "#### An aside about matrix multiplication rules\n",
    "In matrix multiplication, the following properties hold with regards to dimensions of the input and output:  \n",
    "\n",
    "1. Operations are only valid if the column dimension of the left input matrix matches the row dimension of the right input matrix.\n",
    "2. The output has the row dimension of the left matrix and the column dimension of the right matrix.\n",
    "\n",
    "-- [@cohen_practical_2022, chapter 5]  \n",
    "\n",
    "For example, in all of our previous vector $\\times$ vector operations, our dimensionality was as follows:  \n",
    "$$\n",
    "\\begin{align*}\n",
    "(1 \\times \\fbox{n})(\\fbox{n} \\times 1) \\quad& (n = n) \\rightarrow \\text{Operation is valid} \\\\\n",
    "(\\fbox{1} \\times n)(n \\times \\fbox{1}) \\quad& (1 \\times 1) \\rightarrow \\text{Output is scalar} \n",
    "\\end{align*}\n",
    "$$\n",
    "(Sometimes we had to transpose one of the vectors for this to be the case).  \n",
    "\n",
    "If we want to produce an $n \\times 2$ matrix from a multiplication operation involving an $n \\times 2$ input (our data matrix, $X$), we would need a matrix with the following, underlined dimensionality:  \n",
    "$$\n",
    "\\underline{(n \\times n)} (n \\times 2) \\rightarrow \\text{Valid with output: } (n \\times 2)\n",
    "$$\n",
    "Upon some reflection, the $n \\times n$ matrix must be the matrix where every element is $1/n$. The following operation gives us the desired matrix with all elements set as the original column mean:\n",
    "$$\n",
    "\\left[\n",
    "\\begin{matrix}\n",
    "    \\frac{1}{n}   & \\frac{1}{n}   & \\cdots & \\frac{1}{n}\\\\\n",
    "    \\frac{1}{n}   & \\frac{1}{n}   & \\cdots & \\frac{1}{n}\\\\\n",
    "    \\vdots   & \\vdots   & \\cdots & \\frac{1}{n}\\\\\n",
    "    \\frac{1}{n}   & \\frac{1}{n}   & \\cdots & \\frac{1}{n}\n",
    "\\end{matrix}\n",
    "\\right]_{n \\times n}\n",
    "\\left[\n",
    "\\begin{matrix}\n",
    "    x_1   & y_1   \\\\\n",
    "    x_2   & y_2   \\\\\n",
    "    \\vdots   & \\vdots   \\\\\n",
    "    x_n   & y_n   \\\\\n",
    "\\end{matrix}\n",
    "\\right]_{n \\times 2} = \n",
    "\\left[\n",
    "\\begin{matrix}\n",
    "    \\sum_{i=1}^n \\frac{x}{n}   & \\sum_{i=1}^n \\frac{y}{n}   \\\\\n",
    "    \\sum_{i=1}^n \\frac{x}{n}   & \\sum_{i=1}^n \\frac{y}{n}  \\\\\n",
    "    \\vdots   & \\vdots   \\\\\n",
    "    \\sum_{i=1}^n \\frac{x}{n}   & \\sum_{i=1}^n \\frac{y}{n}   \\\\\n",
    "\\end{matrix}\n",
    "\\right]_{n \\times 2} \n",
    "= \\left[\n",
    "\\begin{matrix}\n",
    "    \\bar{\\mathbf{x}}   & \\bar{\\mathbf{y}}   \\\\\n",
    "    \\bar{\\mathbf{x}}   & \\bar{\\mathbf{y}}   \\\\\n",
    "    \\vdots   & \\vdots   \\\\\n",
    "    \\bar{\\mathbf{x}}   & \\bar{\\mathbf{y}}   \\\\\n",
    "\\end{matrix}\n",
    "\\right]_{n \\times 2}\n",
    "$$"
   ]
  },
  {
   "attachments": {},
   "cell_type": "markdown",
   "metadata": {},
   "source": [
    "#### Notation of the transformation\n",
    "We will need that matrix of $1/n$ values in our covariance matrix equation. We'll now formalize the construction of that matrix so that we can write it in an equation, much as we did for the scalar mean in the previous section.\n",
    "\n",
    "We can construct a square matrix of 1s by multiplying the 1s vector with its transpose, $(n \\times 1)(1 \\times n) \\rightarrow (n \\times n)$. Then we can multiply the matrix by $1/n$, which will apply to each element in the matrix:  \n",
    "\n",
    "$$\n",
    "\\begin{align*}\n",
    "n^{-1} \\mathbf{1}_{n \\times 1} \\mathbf{1}_{n \\times 1}^\\intercal &= n^{-1} \\left[\\begin{matrix}1\\\\1\\\\\\vdots\\\\1\\end{matrix}\\right]_{n \\times 1} \\left[\\begin{matrix}1 & 1 & \\cdots & 1\\end{matrix}\\right]_{1 \\times n} \\\\\n",
    "&= n^{-1} \\left[\n",
    "\\begin{matrix}\n",
    "    1   & 1   & \\cdots & 1\\\\\n",
    "    1   & 1   & \\cdots & 1\\\\\n",
    "    \\vdots   & \\vdots   & \\cdots & 1\\\\\n",
    "    1   & 1   & \\cdots & 1\n",
    "\\end{matrix}\n",
    "\\right]_{n \\times n} \\\\\n",
    "&= \\left[\n",
    "\\begin{matrix}\n",
    "    \\frac{1}{n}   & \\frac{1}{n}   & \\cdots & \\frac{1}{n}\\\\\n",
    "    \\frac{1}{n}   & \\frac{1}{n}   & \\cdots & \\frac{1}{n}\\\\\n",
    "    \\vdots   & \\vdots   & \\cdots & \\frac{1}{n}\\\\\n",
    "    \\frac{1}{n}   & \\frac{1}{n}   & \\cdots & \\frac{1}{n}\n",
    "\\end{matrix}\n",
    "\\right]_{n \\times n}\n",
    "\\end{align*}\n",
    "$$\n",
    "\n",
    "Thus the transformation that creates the \"matrix of means,\" (@eq-mat-means) is $n^{-1} \\mathbf{1}_{n \\times 1} \\mathbf{1}_{n \\times 1}^\\intercal$ applied to an input matrix, $X$:  \n",
    "$$\n",
    "\\begin{align*}\n",
    " n^{-1} \\mathbf{1}_{n \\times 1} \\mathbf{1}_{n \\times 1}^\\intercal X_{n \\times 2} &= \\left[\n",
    "\\begin{matrix}\n",
    "    \\frac{1}{n}   & \\frac{1}{n}   & \\cdots & \\frac{1}{n}\\\\\n",
    "    \\frac{1}{n}   & \\frac{1}{n}   & \\cdots & \\frac{1}{n}\\\\\n",
    "    \\vdots   & \\vdots   & \\cdots & \\frac{1}{n}\\\\\n",
    "    \\frac{1}{n}   & \\frac{1}{n}   & \\cdots & \\frac{1}{n}\n",
    "\\end{matrix}\n",
    "\\right]_{n \\times n}\n",
    "\\left[\n",
    "\\begin{matrix}\n",
    "    x_1   & y_1   \\\\\n",
    "    x_2   & y_2   \\\\\n",
    "    \\vdots   & \\vdots   \\\\\n",
    "    x_n   & y_n   \\\\\n",
    "\\end{matrix}\n",
    "\\right]_{n \\times 2} \\\\\n",
    "&= \\left[\n",
    "\\begin{matrix}\n",
    "    \\sum_{i=1}^n \\frac{x}{n}   & \\sum_{i=1}^n \\frac{y}{n}   \\\\\n",
    "    \\sum_{i=1}^n \\frac{x}{n}   & \\sum_{i=1}^n \\frac{y}{n}  \\\\\n",
    "    \\vdots   & \\vdots   \\\\\n",
    "    \\sum_{i=1}^n \\frac{x}{n}   & \\sum_{i=1}^n \\frac{y}{n}   \\\\\n",
    "\\end{matrix}\n",
    "\\right]_{n \\times 2} \\\\\n",
    "&= \\left[\n",
    "\\begin{matrix}\n",
    "    \\bar{\\mathbf{x}}   & \\bar{\\mathbf{y}}   \\\\\n",
    "    \\bar{\\mathbf{x}}   & \\bar{\\mathbf{y}}   \\\\\n",
    "    \\vdots   & \\vdots   \\\\\n",
    "    \\bar{\\mathbf{x}}   & \\bar{\\mathbf{y}}   \\\\\n",
    "\\end{matrix}\n",
    "\\right]_{n \\times 2}\n",
    "\\end{align*}\n",
    "$$\n",
    "\n",
    "Finally, we'll use our \"matrix of means\" to yield the original matrix of interest used in (@eq-cov-mat), where each element is the deviation from its column mean:  \n",
    "\n",
    "$$\n",
    "\\begin{align*}\n",
    "\\left[\n",
    "\\begin{matrix}\n",
    "x_1 - \\bar{\\mathbf{x}}   & y_1 - \\bar{\\mathbf{y}}   \\\\\n",
    "    x_2 - \\bar{\\mathbf{x}}   & y_2 - \\bar{\\mathbf{y}}   \\\\\n",
    "    \\vdots   & \\vdots   \\\\\n",
    "    x_n - \\bar{\\mathbf{x}}   & y_n - \\bar{\\mathbf{y}}   \\\\\n",
    "\\end{matrix}\n",
    "\\right]_{n \\times 2} &= \n",
    "\\left[\n",
    "\\begin{matrix}\n",
    "    x_1   & y_1   \\\\\n",
    "    x_2   & y_2   \\\\\n",
    "    \\vdots   & \\vdots   \\\\\n",
    "    x_n   & y_n   \\\\\n",
    "\\end{matrix}\n",
    "\\right]_{n \\times 2} - \n",
    "\\left[\n",
    "\\begin{matrix}\n",
    "    \\bar{\\mathbf{x}}   & \\bar{\\mathbf{y}}   \\\\\n",
    "    \\bar{\\mathbf{x}}   & \\bar{\\mathbf{y}}   \\\\\n",
    "    \\vdots   & \\vdots   \\\\\n",
    "    \\bar{\\mathbf{x}}   & \\bar{\\mathbf{y}}   \\\\\n",
    "\\end{matrix}\n",
    "\\right]_{n \\times 2}  \\\\\n",
    " &= X_{n \\times m} -  n^{-1} \\mathbf{1}_{n \\times 1} \\mathbf{1}_{n \\times 1}^\\intercal X_{n \\times m} \\\\\n",
    " &=  (I_{n \\times n} -  n^{-1} \\mathbf{1}_{n \\times 1} \\mathbf{1}_{n \\times 1}^\\intercal ) X_{n \\times m}\n",
    " \\end{align*}\n",
    "$$\n",
    "(*note the [identity matrix, $I$](https://en.wikipedia.org/wiki/Identity_matrix), which, in matrix multiplication, acts like a $1$ would in scalar multiplication*)  \n",
    "\n",
    "\n",
    "At this point, we will discard some of the dimension information about the matrices, which I've previously been using as guardrails, and simplify notation as follows:\n",
    "$$\n",
    "\\begin{align*}\n",
    "  &= (I -  n^{-1} \\mathbf{1}_{n} \\mathbf{1}_{n}^\\intercal ) X\n",
    "\\end{align*}\n",
    "$$\n",
    "\n",
    "This yields the function for mean centering the matrix, commonly referred to as the [centering matrix](https://en.wikipedia.org/wiki/Centering_matrix):  \n",
    "$$\n",
    "T_{\\text{center}}: \\mathbb{R}^n \\rightarrow \\mathbb{R}^n \\quad \\text{defined by} \\quad T(X) = (I -  n^{-1} \\mathbf{1}_{n} \\mathbf{1}_{n}^\\intercal ) X\n",
    "$$ "
   ]
  },
  {
   "attachments": {},
   "cell_type": "markdown",
   "metadata": {},
   "source": [
    "In code:"
   ]
  },
  {
   "cell_type": "code",
   "execution_count": 13,
   "metadata": {},
   "outputs": [],
   "source": [
    "def T_center(X: np.array) -> np.array:\n",
    "    n = len(X)\n",
    "    return (np.identity(n) - (1/n)*np.ones(shape=(n, n))) @ X"
   ]
  },
  {
   "attachments": {},
   "cell_type": "markdown",
   "metadata": {},
   "source": [
    "### A note on broadcasting and numerical methods  \n",
    "\n",
    "`numpy` and `pandas` support some invalid linear algebra operations, such as matrix addition/subtraction between different sized matrices (these packages use a method called [broadcasting](https://numpy.org/doc/stable/user/basics.broadcasting.html) to make the operations valid):  "
   ]
  },
  {
   "attachments": {},
   "cell_type": "markdown",
   "metadata": {},
   "source": [
    "![Broadcasting a times b](broadcasting_1.png)  "
   ]
  },
  {
   "attachments": {},
   "cell_type": "markdown",
   "metadata": {},
   "source": [
    "This makes the sort of centering operation we just covered in depth incredibly simple:"
   ]
  },
  {
   "cell_type": "code",
   "execution_count": 14,
   "metadata": {},
   "outputs": [
    {
     "data": {
      "text/html": [
       "<div>\n",
       "<style scoped>\n",
       "    .dataframe tbody tr th:only-of-type {\n",
       "        vertical-align: middle;\n",
       "    }\n",
       "\n",
       "    .dataframe tbody tr th {\n",
       "        vertical-align: top;\n",
       "    }\n",
       "\n",
       "    .dataframe thead th {\n",
       "        text-align: right;\n",
       "    }\n",
       "</style>\n",
       "<table border=\"1\" class=\"dataframe\">\n",
       "  <thead>\n",
       "    <tr style=\"text-align: right;\">\n",
       "      <th></th>\n",
       "      <th>population</th>\n",
       "      <th>householdsize</th>\n",
       "    </tr>\n",
       "  </thead>\n",
       "  <tbody>\n",
       "    <tr>\n",
       "      <th>0</th>\n",
       "      <td>0.142</td>\n",
       "      <td>-0.116</td>\n",
       "    </tr>\n",
       "    <tr>\n",
       "      <th>1</th>\n",
       "      <td>-0.048</td>\n",
       "      <td>-0.286</td>\n",
       "    </tr>\n",
       "    <tr>\n",
       "      <th>2</th>\n",
       "      <td>-0.048</td>\n",
       "      <td>-0.026</td>\n",
       "    </tr>\n",
       "    <tr>\n",
       "      <th>3</th>\n",
       "      <td>-0.008</td>\n",
       "      <td>0.324</td>\n",
       "    </tr>\n",
       "    <tr>\n",
       "      <th>4</th>\n",
       "      <td>-0.038</td>\n",
       "      <td>0.104</td>\n",
       "    </tr>\n",
       "  </tbody>\n",
       "</table>\n",
       "</div>"
      ],
      "text/plain": [
       "   population  householdsize\n",
       "0       0.142         -0.116\n",
       "1      -0.048         -0.286\n",
       "2      -0.048         -0.026\n",
       "3      -0.008          0.324\n",
       "4      -0.038          0.104"
      ]
     },
     "execution_count": 14,
     "metadata": {},
     "output_type": "execute_result"
    }
   ],
   "source": [
    "X - X.mean()"
   ]
  },
  {
   "attachments": {},
   "cell_type": "markdown",
   "metadata": {},
   "source": [
    "We can confirm that our function produced that same centered matrix:"
   ]
  },
  {
   "cell_type": "code",
   "execution_count": 15,
   "metadata": {},
   "outputs": [
    {
     "data": {
      "text/html": [
       "<div>\n",
       "<style scoped>\n",
       "    .dataframe tbody tr th:only-of-type {\n",
       "        vertical-align: middle;\n",
       "    }\n",
       "\n",
       "    .dataframe tbody tr th {\n",
       "        vertical-align: top;\n",
       "    }\n",
       "\n",
       "    .dataframe thead th {\n",
       "        text-align: right;\n",
       "    }\n",
       "</style>\n",
       "<table border=\"1\" class=\"dataframe\">\n",
       "  <thead>\n",
       "    <tr style=\"text-align: right;\">\n",
       "      <th></th>\n",
       "      <th>population</th>\n",
       "      <th>householdsize</th>\n",
       "    </tr>\n",
       "  </thead>\n",
       "  <tbody>\n",
       "    <tr>\n",
       "      <th>0</th>\n",
       "      <td>0.142</td>\n",
       "      <td>-0.116</td>\n",
       "    </tr>\n",
       "    <tr>\n",
       "      <th>1</th>\n",
       "      <td>-0.048</td>\n",
       "      <td>-0.286</td>\n",
       "    </tr>\n",
       "    <tr>\n",
       "      <th>2</th>\n",
       "      <td>-0.048</td>\n",
       "      <td>-0.026</td>\n",
       "    </tr>\n",
       "    <tr>\n",
       "      <th>3</th>\n",
       "      <td>-0.008</td>\n",
       "      <td>0.324</td>\n",
       "    </tr>\n",
       "    <tr>\n",
       "      <th>4</th>\n",
       "      <td>-0.038</td>\n",
       "      <td>0.104</td>\n",
       "    </tr>\n",
       "  </tbody>\n",
       "</table>\n",
       "</div>"
      ],
      "text/plain": [
       "   population  householdsize\n",
       "0       0.142         -0.116\n",
       "1      -0.048         -0.286\n",
       "2      -0.048         -0.026\n",
       "3      -0.008          0.324\n",
       "4      -0.038          0.104"
      ]
     },
     "execution_count": 15,
     "metadata": {},
     "output_type": "execute_result"
    }
   ],
   "source": [
    "T_center(X)"
   ]
  },
  {
   "attachments": {},
   "cell_type": "markdown",
   "metadata": {},
   "source": [
    "At this point we will return to the matrix equation for covariance, (@eq-cov-mat) that we defined earlier:\n",
    "$$\n",
    "\\begin{align*}\n",
    "C = (n-1)^{-1} \\left[\n",
    "\\begin{matrix}\n",
    "x_1 - \\bar{\\mathbf{x}}   & y_1 - \\bar{\\mathbf{y}}   \\\\\n",
    "    x_2 - \\bar{\\mathbf{x}}   & y_2 - \\bar{\\mathbf{y}}   \\\\\n",
    "    \\vdots   & \\vdots   \\\\\n",
    "    x_n - \\bar{\\mathbf{x}}   & y_n - \\bar{\\mathbf{y}}   \\\\\n",
    "\\end{matrix}\n",
    "\\right]_{n \\times 2}^\\intercal\n",
    "\\left[\n",
    "\\begin{matrix}\n",
    "x_1 - \\bar{\\mathbf{x}}   & y_1 - \\bar{\\mathbf{y}}   \\\\\n",
    "    x_2 - \\bar{\\mathbf{x}}   & y_2 - \\bar{\\mathbf{y}}   \\\\\n",
    "    \\vdots   & \\vdots   \\\\\n",
    "    x_n - \\bar{\\mathbf{x}}   & y_n - \\bar{\\mathbf{y}}   \\\\\n",
    "\\end{matrix}\n",
    "\\right]_{n \\times 2}\n",
    "\\end{align*}\n",
    "$$  \n",
    "\n",
    "We'll now express it formally."
   ]
  },
  {
   "attachments": {},
   "cell_type": "markdown",
   "metadata": {},
   "source": [
    "## The matrix formulation"
   ]
  },
  {
   "attachments": {},
   "cell_type": "markdown",
   "metadata": {},
   "source": [
    "Covariance is fairly simple to write out once you have the centering matrix, $T_{\\text{center}}$. Our equation is as follows:\n",
    "\n",
    "$$\n",
    "\\begin{align*}\n",
    "C &= (n - 1)^{-1} T_{\\text{center}}(X)^\\intercal T_{\\text{center}}(X)  \\\\\n",
    "&= (n - 1)^{-1}\\left[ (I -  n^{-1} \\mathbf{1}_{n} \\mathbf{1}_{n}^\\intercal ) X \\right]^\\intercal \\left[ (I -  n^{-1} \\mathbf{1}_{n} \\mathbf{1}_{n}^\\intercal ) X \\right]\n",
    "\\end{align*}\n",
    "$$\n",
    "This is pretty verbose, and it's common in textbooks to see some sort of abbreviated version, like the following,\n",
    "$$\n",
    "\\begin{align*}\n",
    "C = (n - 1)^{-1} X_c^\\intercal X_c \\\\\n",
    "\\text{where }X_c = (I -  n^{-1} \\mathbf{1}_{n} \\mathbf{1}_{n}^\\intercal ) X\n",
    "\\end{align*}\n",
    "$${#eq-cov}  \n",
    "\n",
    "[@cohen_practical_2022, chapter 7]  "
   ]
  },
  {
   "cell_type": "code",
   "execution_count": 16,
   "metadata": {},
   "outputs": [],
   "source": [
    "def covariance_matrix(X: np.array) -> np.array:\n",
    "    n = len(X)\n",
    "    # Center matrix\n",
    "    X_c = T_center(X)\n",
    "    # Compute covariance\n",
    "    return 1/(n-1) * X_c.T @ X_c"
   ]
  },
  {
   "attachments": {},
   "cell_type": "markdown",
   "metadata": {},
   "source": [
    "### Applying it to data"
   ]
  },
  {
   "attachments": {},
   "cell_type": "markdown",
   "metadata": {},
   "source": [
    "We'll test this formula out with our data:"
   ]
  },
  {
   "cell_type": "code",
   "execution_count": 17,
   "metadata": {},
   "outputs": [
    {
     "data": {
      "text/html": [
       "<div>\n",
       "<style scoped>\n",
       "    .dataframe tbody tr th:only-of-type {\n",
       "        vertical-align: middle;\n",
       "    }\n",
       "\n",
       "    .dataframe tbody tr th {\n",
       "        vertical-align: top;\n",
       "    }\n",
       "\n",
       "    .dataframe thead th {\n",
       "        text-align: right;\n",
       "    }\n",
       "</style>\n",
       "<table border=\"1\" class=\"dataframe\">\n",
       "  <thead>\n",
       "    <tr style=\"text-align: right;\">\n",
       "      <th></th>\n",
       "      <th>population</th>\n",
       "      <th>householdsize</th>\n",
       "    </tr>\n",
       "  </thead>\n",
       "  <tbody>\n",
       "    <tr>\n",
       "      <th>0</th>\n",
       "      <td>0.19</td>\n",
       "      <td>0.33</td>\n",
       "    </tr>\n",
       "    <tr>\n",
       "      <th>1</th>\n",
       "      <td>0.00</td>\n",
       "      <td>0.16</td>\n",
       "    </tr>\n",
       "    <tr>\n",
       "      <th>2</th>\n",
       "      <td>0.00</td>\n",
       "      <td>0.42</td>\n",
       "    </tr>\n",
       "    <tr>\n",
       "      <th>3</th>\n",
       "      <td>0.04</td>\n",
       "      <td>0.77</td>\n",
       "    </tr>\n",
       "    <tr>\n",
       "      <th>4</th>\n",
       "      <td>0.01</td>\n",
       "      <td>0.55</td>\n",
       "    </tr>\n",
       "  </tbody>\n",
       "</table>\n",
       "</div>"
      ],
      "text/plain": [
       "   population  householdsize\n",
       "0        0.19           0.33\n",
       "1        0.00           0.16\n",
       "2        0.00           0.42\n",
       "3        0.04           0.77\n",
       "4        0.01           0.55"
      ]
     },
     "execution_count": 17,
     "metadata": {},
     "output_type": "execute_result"
    }
   ],
   "source": [
    "X"
   ]
  },
  {
   "attachments": {},
   "cell_type": "markdown",
   "metadata": {},
   "source": [
    "First we'll define the centered matrix, $X_c = (I -  n^{-1} \\mathbf{1}_{n} \\mathbf{1}_{n}^\\intercal ) X$:"
   ]
  },
  {
   "cell_type": "code",
   "execution_count": 18,
   "metadata": {},
   "outputs": [
    {
     "data": {
      "text/latex": [
       "$\\displaystyle X_{c} = \\left(- 0.2 \\left[\\begin{matrix}1.0 & 1.0 & 1.0 & 1.0 & 1.0\\\\1.0 & 1.0 & 1.0 & 1.0 & 1.0\\\\1.0 & 1.0 & 1.0 & 1.0 & 1.0\\\\1.0 & 1.0 & 1.0 & 1.0 & 1.0\\\\1.0 & 1.0 & 1.0 & 1.0 & 1.0\\end{matrix}\\right] + \\left[\\begin{matrix}1 & 0 & 0 & 0 & 0\\\\0 & 1 & 0 & 0 & 0\\\\0 & 0 & 1 & 0 & 0\\\\0 & 0 & 0 & 1 & 0\\\\0 & 0 & 0 & 0 & 1\\end{matrix}\\right]\\right) \\left[\\begin{matrix}0.19 & 0.33\\\\0 & 0.16\\\\0 & 0.42\\\\0.04 & 0.77\\\\0.01 & 0.55\\end{matrix}\\right]$"
      ],
      "text/plain": [
       "Eq(X_c, (-0.2*Matrix([\n",
       "[1.0, 1.0, 1.0, 1.0, 1.0],\n",
       "[1.0, 1.0, 1.0, 1.0, 1.0],\n",
       "[1.0, 1.0, 1.0, 1.0, 1.0],\n",
       "[1.0, 1.0, 1.0, 1.0, 1.0],\n",
       "[1.0, 1.0, 1.0, 1.0, 1.0]]) + Matrix([\n",
       "[1, 0, 0, 0, 0],\n",
       "[0, 1, 0, 0, 0],\n",
       "[0, 0, 1, 0, 0],\n",
       "[0, 0, 0, 1, 0],\n",
       "[0, 0, 0, 0, 1]]))*Matrix([\n",
       "[0.19, 0.33],\n",
       "[   0, 0.16],\n",
       "[   0, 0.42],\n",
       "[0.04, 0.77],\n",
       "[0.01, 0.55]]))"
      ]
     },
     "execution_count": 18,
     "metadata": {},
     "output_type": "execute_result"
    }
   ],
   "source": [
    "#| code-fold: true\n",
    "C, X_c = sp.symbols(\"C X_c\")\n",
    "exp = (sp.UnevaluatedExpr(sp.Matrix(np.identity(n).astype(int))) - sp.UnevaluatedExpr(1/n) * sp.UnevaluatedExpr(sp.Matrix(np.ones(shape=(n, 1)) @ np.ones(shape=(n, 1)).T))) * sp.UnevaluatedExpr(sp.Matrix(X))\n",
    "exp_output = (sp.Matrix(\n",
    "    np.round((np.identity(n) - (1/n) * np.ones(shape=(n, 1)) @ np.ones(shape=(n, 1)).T) @ X, 3)\n",
    "    ))\n",
    "sp.Eq(X_c, exp)"
   ]
  },
  {
   "attachments": {},
   "cell_type": "markdown",
   "metadata": {},
   "source": [
    "Which evaluates to:"
   ]
  },
  {
   "cell_type": "code",
   "execution_count": 19,
   "metadata": {},
   "outputs": [
    {
     "data": {
      "text/latex": [
       "$\\displaystyle X_{c} = \\left[\\begin{matrix}0.142 & -0.116\\\\-0.048 & -0.286\\\\-0.048 & -0.026\\\\-0.008 & 0.324\\\\-0.038 & 0.104\\end{matrix}\\right]$"
      ],
      "text/plain": [
       "Eq(X_c, Matrix([\n",
       "[ 0.142, -0.116],\n",
       "[-0.048, -0.286],\n",
       "[-0.048, -0.026],\n",
       "[-0.008,  0.324],\n",
       "[-0.038,  0.104]]))"
      ]
     },
     "execution_count": 19,
     "metadata": {},
     "output_type": "execute_result"
    }
   ],
   "source": [
    "#| code-fold: true\n",
    "sp.Eq(X_c, sp.UnevaluatedExpr(exp_output))"
   ]
  },
  {
   "attachments": {},
   "cell_type": "markdown",
   "metadata": {},
   "source": [
    "And now the main equation:\n",
    "$$\n",
    "C = (n - 1)^{-1} X_c^\\intercal X_c\n",
    "$$"
   ]
  },
  {
   "cell_type": "code",
   "execution_count": 20,
   "metadata": {},
   "outputs": [
    {
     "data": {
      "text/latex": [
       "$\\displaystyle C = \\left[\\begin{matrix}0.142 & -0.048 & -0.048 & -0.008 & -0.038\\\\-0.116 & -0.286 & -0.026 & 0.324 & 0.104\\end{matrix}\\right] \\left[\\begin{matrix}0.142 & -0.116\\\\-0.048 & -0.286\\\\-0.048 & -0.026\\\\-0.008 & 0.324\\\\-0.038 & 0.104\\end{matrix}\\right] \\left(- 1 + 5\\right)^{-1}$"
      ],
      "text/plain": [
       "Eq(C, Matrix([\n",
       "[ 0.142, -0.048, -0.048, -0.008, -0.038],\n",
       "[-0.116, -0.286, -0.026,  0.324,  0.104]])*Matrix([\n",
       "[ 0.142, -0.116],\n",
       "[-0.048, -0.286],\n",
       "[-0.048, -0.026],\n",
       "[-0.008,  0.324],\n",
       "[-0.038,  0.104]])*(-1 + 5)**(-1))"
      ]
     },
     "execution_count": 20,
     "metadata": {},
     "output_type": "execute_result"
    }
   ],
   "source": [
    "#| code-fold: true\n",
    "out = (\n",
    "    sp.UnevaluatedExpr(exp_output.T) * sp.UnevaluatedExpr(exp_output.evalf())\n",
    "    * 1 / (sp.UnevaluatedExpr(len(x)) - sp.UnevaluatedExpr(1))\n",
    "    )\n",
    "sp.Eq(C, out)"
   ]
  },
  {
   "attachments": {},
   "cell_type": "markdown",
   "metadata": {},
   "source": [
    "Already it should become apparent that this multiplication will be a sequential application of the vector formula for covariance. We can make that abundantly clear by visualizing the multiplication result:"
   ]
  },
  {
   "cell_type": "code",
   "execution_count": 21,
   "metadata": {},
   "outputs": [
    {
     "data": {
      "text/latex": [
       "$\\displaystyle \\left[\\begin{matrix}\\left[\\begin{matrix}0.142 & -0.048 & -0.048 & -0.008 & -0.038\\end{matrix}\\right] \\left[\\begin{matrix}0.142\\\\-0.048\\\\-0.048\\\\-0.008\\\\-0.038\\end{matrix}\\right] \\left(- 1 + 5\\right)^{-1} & \\left[\\begin{matrix}0.142 & -0.048 & -0.048 & -0.008 & -0.038\\end{matrix}\\right] \\left[\\begin{matrix}-0.116\\\\-0.286\\\\-0.026\\\\0.324\\\\0.104\\end{matrix}\\right] \\left(- 1 + 5\\right)^{-1}\\\\\\left[\\begin{matrix}-0.116 & -0.286 & -0.026 & 0.324 & 0.104\\end{matrix}\\right] \\left[\\begin{matrix}0.142\\\\-0.048\\\\-0.048\\\\-0.008\\\\-0.038\\end{matrix}\\right] \\left(- 1 + 5\\right)^{-1} & \\left[\\begin{matrix}-0.116 & -0.286 & -0.026 & 0.324 & 0.104\\end{matrix}\\right] \\left[\\begin{matrix}-0.116\\\\-0.286\\\\-0.026\\\\0.324\\\\0.104\\end{matrix}\\right] \\left(- 1 + 5\\right)^{-1}\\end{matrix}\\right]$"
      ],
      "text/plain": [
       "Matrix([\n",
       "[Matrix([[0.142, -0.048, -0.048, -0.008, -0.038]])*Matrix([\n",
       "[ 0.142],\n",
       "[-0.048],\n",
       "[-0.048],\n",
       "[-0.008],\n",
       "[-0.038]])*(-1 + 5)**(-1), Matrix([[0.142, -0.048, -0.048, -0.008, -0.038]])*Matrix([\n",
       "[-0.116],\n",
       "[-0.286],\n",
       "[-0.026],\n",
       "[ 0.324],\n",
       "[ 0.104]])*(-1 + 5)**(-1)],\n",
       "[ Matrix([[-0.116, -0.286, -0.026, 0.324, 0.104]])*Matrix([\n",
       "[ 0.142],\n",
       "[-0.048],\n",
       "[-0.048],\n",
       "[-0.008],\n",
       "[-0.038]])*(-1 + 5)**(-1),  Matrix([[-0.116, -0.286, -0.026, 0.324, 0.104]])*Matrix([\n",
       "[-0.116],\n",
       "[-0.286],\n",
       "[-0.026],\n",
       "[ 0.324],\n",
       "[ 0.104]])*(-1 + 5)**(-1)]])"
      ]
     },
     "execution_count": 21,
     "metadata": {},
     "output_type": "execute_result"
    }
   ],
   "source": [
    "#| code-fold: true\n",
    "out = sp.Matrix([[sp.UnevaluatedExpr(sp.Matrix(x-x.mean()).T) * sp.UnevaluatedExpr(sp.Matrix(x-x.mean()))\n",
    "                  * 1 / (sp.UnevaluatedExpr(len(x)) - sp.UnevaluatedExpr(1)),\n",
    "                  sp.UnevaluatedExpr(sp.Matrix(x-x.mean()).T) * sp.UnevaluatedExpr(sp.Matrix(y-y.mean()))\n",
    "                  * 1 / (sp.UnevaluatedExpr(len(x)) - sp.UnevaluatedExpr(1))],\n",
    "                  [sp.UnevaluatedExpr(sp.Matrix(y-y.mean()).T) * sp.UnevaluatedExpr(sp.Matrix(x-x.mean()))\n",
    "                   * 1 / (sp.UnevaluatedExpr(len(x)) - sp.UnevaluatedExpr(1)),\n",
    "                   sp.UnevaluatedExpr(sp.Matrix(y-y.mean()).T) * sp.UnevaluatedExpr(sp.Matrix(y-y.mean()))\n",
    "                   * 1 / (sp.UnevaluatedExpr(len(x)) - sp.UnevaluatedExpr(1))]\n",
    "                   ])\n",
    "out"
   ]
  },
  {
   "attachments": {},
   "cell_type": "markdown",
   "metadata": {},
   "source": [
    "The result:"
   ]
  },
  {
   "cell_type": "code",
   "execution_count": 22,
   "metadata": {},
   "outputs": [
    {
     "data": {
      "text/plain": [
       "array([[ 0.00657, -0.00201],\n",
       "       [-0.00201,  0.05293]])"
      ]
     },
     "execution_count": 22,
     "metadata": {},
     "output_type": "execute_result"
    }
   ],
   "source": [
    "covariance_matrix(X.values)"
   ]
  },
  {
   "attachments": {},
   "cell_type": "markdown",
   "metadata": {},
   "source": [
    "For a sanity check, we can compare our results with those in `numpy` and `pandas`."
   ]
  },
  {
   "attachments": {},
   "cell_type": "markdown",
   "metadata": {},
   "source": [
    "`numpy` results:"
   ]
  },
  {
   "cell_type": "code",
   "execution_count": 23,
   "metadata": {},
   "outputs": [
    {
     "data": {
      "text/plain": [
       "array([[ 0.00657, -0.00201],\n",
       "       [-0.00201,  0.05293]])"
      ]
     },
     "execution_count": 23,
     "metadata": {},
     "output_type": "execute_result"
    }
   ],
   "source": [
    "np.cov(x, y)"
   ]
  },
  {
   "attachments": {},
   "cell_type": "markdown",
   "metadata": {},
   "source": [
    "`pandas` results:"
   ]
  },
  {
   "cell_type": "code",
   "execution_count": 24,
   "metadata": {},
   "outputs": [
    {
     "data": {
      "text/html": [
       "<div>\n",
       "<style scoped>\n",
       "    .dataframe tbody tr th:only-of-type {\n",
       "        vertical-align: middle;\n",
       "    }\n",
       "\n",
       "    .dataframe tbody tr th {\n",
       "        vertical-align: top;\n",
       "    }\n",
       "\n",
       "    .dataframe thead th {\n",
       "        text-align: right;\n",
       "    }\n",
       "</style>\n",
       "<table border=\"1\" class=\"dataframe\">\n",
       "  <thead>\n",
       "    <tr style=\"text-align: right;\">\n",
       "      <th></th>\n",
       "      <th>population</th>\n",
       "      <th>householdsize</th>\n",
       "    </tr>\n",
       "  </thead>\n",
       "  <tbody>\n",
       "    <tr>\n",
       "      <th>population</th>\n",
       "      <td>0.00657</td>\n",
       "      <td>-0.00201</td>\n",
       "    </tr>\n",
       "    <tr>\n",
       "      <th>householdsize</th>\n",
       "      <td>-0.00201</td>\n",
       "      <td>0.05293</td>\n",
       "    </tr>\n",
       "  </tbody>\n",
       "</table>\n",
       "</div>"
      ],
      "text/plain": [
       "               population  householdsize\n",
       "population        0.00657       -0.00201\n",
       "householdsize    -0.00201        0.05293"
      ]
     },
     "execution_count": 24,
     "metadata": {},
     "output_type": "execute_result"
    }
   ],
   "source": [
    "X.cov()"
   ]
  },
  {
   "attachments": {},
   "cell_type": "markdown",
   "metadata": {},
   "source": [
    "#### Visualizing the Covariance Matrix\n",
    "We'll now return to our original, full dataset from the very start of the exercise."
   ]
  },
  {
   "cell_type": "code",
   "execution_count": 25,
   "metadata": {},
   "outputs": [
    {
     "data": {
      "text/plain": [
       "(1994, 99)"
      ]
     },
     "execution_count": 25,
     "metadata": {},
     "output_type": "execute_result"
    }
   ],
   "source": [
    "df_num.shape"
   ]
  },
  {
   "attachments": {},
   "cell_type": "markdown",
   "metadata": {},
   "source": [
    "and we'll compute the covariance matrix across al 99 features."
   ]
  },
  {
   "cell_type": "code",
   "execution_count": 26,
   "metadata": {},
   "outputs": [
    {
     "data": {
      "text/plain": [
       "(99, 99)"
      ]
     },
     "execution_count": 26,
     "metadata": {},
     "output_type": "execute_result"
    }
   ],
   "source": [
    "cov_matrix = covariance_matrix(df_num)\n",
    "\n",
    "cov_matrix.shape"
   ]
  },
  {
   "attachments": {},
   "cell_type": "markdown",
   "metadata": {},
   "source": [
    "Looking at a $99 \\times 99$ matrix is not particularly useful, so it's common to use heatmaps to visualize matrices that show association between many variables."
   ]
  },
  {
   "cell_type": "code",
   "execution_count": 27,
   "metadata": {},
   "outputs": [
    {
     "data": {
      "image/png": "[encoded data removed]",
      "text/plain": [
       "<Figure size 640x480 with 2 Axes>"
      ]
     },
     "metadata": {},
     "output_type": "display_data"
    }
   ],
   "source": [
    "plt.imshow(cov_matrix.values)\n",
    "plt.colorbar();"
   ]
  },
  {
   "cell_type": "code",
   "execution_count": 41,
   "metadata": {},
   "outputs": [
    {
     "data": {
      "image/png": "[encoded data removed]",
      "text/plain": [
       "<Figure size 300x300 with 1 Axes>"
      ]
     },
     "metadata": {},
     "output_type": "display_data"
    }
   ],
   "source": [
    "#| output: false\n",
    "#| echo: false\n",
    "fig, ax = plt.subplots(figsize=(3, 3))\n",
    "ax.imshow(cov_matrix.values[4:11, 4:11], cmap=\"Blues\", alpha=.9)\n",
    "ax.axis(\"off\")\n",
    "# fig.tight_layout()\n",
    "fig.savefig('thumbnail.png', bbox_inches='tight', dpi=400)"
   ]
  },
  {
   "attachments": {},
   "cell_type": "markdown",
   "metadata": {},
   "source": [
    "While this looks cool, I view it as more or less useless as a tool for doing any sort of exploration.\n",
    "\n",
    "The covariances between variables are highly [influenced by the scale of the original variables](https://en.wikipedia.org/wiki/Covariance_and_correlation#:~:text=Notably%2C%20correlation%20is%20dimensionless%20while%20covariance%20is%20in%20units%20obtained%20by%20multiplying%20the%20units%20of%20the%20two%20variables.). This matrix visualization be much more useful if we convert it into a **correlation matrix**, $R$, wherein the measures of association, $\\rho_{i,j}$ are all normalized, $\\rho_{i,j} \\in [-1, 1]$. This in effect adjusts our measures for scale and allows us to actually see which variables are the most associated.  \n",
    "\n",
    "I'll cover that matrix in a coming blog post..."
   ]
  }
 ],
 "metadata": {
  "kernelspec": {
   "display_name": "info251",
   "language": "python",
   "name": "info251"
  },
  "language_info": {
   "codemirror_mode": {
    "name": "ipython",
    "version": 3
   },
   "file_extension": ".py",
   "mimetype": "text/x-python",
   "name": "python",
   "nbconvert_exporter": "python",
   "pygments_lexer": "ipython3",
   "version": "3.9.15"
  },
  "orig_nbformat": 4
 },
 "nbformat": 4,
 "nbformat_minor": 2
}

{
 "cells": [
  {
   "cell_type": "markdown",
   "metadata": {},
   "source": [
    "---\n",
    "title: \"Using The Excel Object Model in Python\"\n",
    "bibliography: \"../../blog.bib\"\n",
    "author: \"Peter Amerkhanian\"\n",
    "description: \"Programmatically interact with Excel using `pandas`, `xlwings`, and `pywin32`.\"\n",
    "date: \"2025-3-12\"\n",
    "image: thumbnail.png\n",
    "draft: true\n",
    "categories: ['Python', 'Data Management']\n",
    "format:\n",
    "  html:\n",
    "    toc: true\n",
    "    toc-depth: 3\n",
    "    code-fold: false\n",
    "    code-tools: true\n",
    "---"
   ]
  },
  {
   "cell_type": "code",
   "execution_count": 257,
   "metadata": {},
   "outputs": [],
   "source": [
    "import pandas as pd\n",
    "import numpy as np\n",
    "import xlwings as xw\n",
    "import os"
   ]
  },
  {
   "cell_type": "markdown",
   "metadata": {},
   "source": [
    "In this post, I'm going to overview how to use Python's `xlwings` and `pywin32` libraries to produce formatted, human-readable tables in Excel. Beyond basic uses of `xlwings`, I'll overview how to leverage `pywin32` and the `.api` attribute to interact directly with the Excel object model using VBA-like Python code. The apporach allows one to produce highly custommizable Excel tables that should satisfy any audience that prefers formatted spreadsheet output.\n",
    "\n",
    "Alongside this blog post, I've been developing an `excel` submodule in my `swiss-code` package, with various wrapper functions for `xlwings` and `pywin32`. I'll showcase some of those functions here as well.  "
   ]
  },
  {
   "cell_type": "markdown",
   "metadata": {},
   "source": [
    "## Problem Setup"
   ]
  },
  {
   "cell_type": "code",
   "execution_count": 258,
   "metadata": {},
   "outputs": [],
   "source": [
    "#| code-fold: true\n",
    "def simulate_df(num_transactions=1000):\n",
    "    np.random.seed(1)\n",
    "    customer_ids = np.random.randint(1000, 5000, num_transactions)\n",
    "    transaction_amounts = np.round(np.random.uniform(5, 500, num_transactions), 2)\n",
    "    payment_methods = np.random.choice([\"Credit Card\", \"Debit Card\", \"PayPal\", \"Cash\"], num_transactions)\n",
    "    categories = np.random.choice([\"Electronics\", \"Clothing\", \"Groceries\", \"Entertainment\"], num_transactions)\n",
    "    transaction_dates = pd.date_range(start=\"2024-01-01\", periods=num_transactions, freq=\"D\")\n",
    "    data = {\n",
    "        \"transaction_id\": range(1, num_transactions + 1),\n",
    "        \"customer_id\": customer_ids,\n",
    "        \"amount\": transaction_amounts,\n",
    "        \"payment_method\": payment_methods,\n",
    "        \"category\": categories,\n",
    "        \"date\": transaction_dates\n",
    "    }\n",
    "\n",
    "    df = pd.DataFrame(data)\n",
    "    return df"
   ]
  },
  {
   "cell_type": "markdown",
   "metadata": {},
   "source": [
    "Say we have a dataset of customer transactions at a department store. I simulated this data arbitrarily."
   ]
  },
  {
   "cell_type": "code",
   "execution_count": 259,
   "metadata": {},
   "outputs": [
    {
     "data": {
      "text/html": [
       "<div>\n",
       "<style scoped>\n",
       "    .dataframe tbody tr th:only-of-type {\n",
       "        vertical-align: middle;\n",
       "    }\n",
       "\n",
       "    .dataframe tbody tr th {\n",
       "        vertical-align: top;\n",
       "    }\n",
       "\n",
       "    .dataframe thead th {\n",
       "        text-align: right;\n",
       "    }\n",
       "</style>\n",
       "<table border=\"1\" class=\"dataframe\">\n",
       "  <thead>\n",
       "    <tr style=\"text-align: right;\">\n",
       "      <th></th>\n",
       "      <th>transaction_id</th>\n",
       "      <th>customer_id</th>\n",
       "      <th>amount</th>\n",
       "      <th>payment_method</th>\n",
       "      <th>category</th>\n",
       "      <th>date</th>\n",
       "    </tr>\n",
       "  </thead>\n",
       "  <tbody>\n",
       "    <tr>\n",
       "      <th>0</th>\n",
       "      <td>1</td>\n",
       "      <td>2061</td>\n",
       "      <td>177.75</td>\n",
       "      <td>Debit Card</td>\n",
       "      <td>Electronics</td>\n",
       "      <td>2024-01-01</td>\n",
       "    </tr>\n",
       "    <tr>\n",
       "      <th>1</th>\n",
       "      <td>2</td>\n",
       "      <td>1235</td>\n",
       "      <td>33.20</td>\n",
       "      <td>Credit Card</td>\n",
       "      <td>Clothing</td>\n",
       "      <td>2024-01-02</td>\n",
       "    </tr>\n",
       "    <tr>\n",
       "      <th>2</th>\n",
       "      <td>3</td>\n",
       "      <td>4980</td>\n",
       "      <td>118.26</td>\n",
       "      <td>Credit Card</td>\n",
       "      <td>Groceries</td>\n",
       "      <td>2024-01-03</td>\n",
       "    </tr>\n",
       "    <tr>\n",
       "      <th>3</th>\n",
       "      <td>4</td>\n",
       "      <td>2096</td>\n",
       "      <td>333.73</td>\n",
       "      <td>Debit Card</td>\n",
       "      <td>Entertainment</td>\n",
       "      <td>2024-01-04</td>\n",
       "    </tr>\n",
       "    <tr>\n",
       "      <th>4</th>\n",
       "      <td>5</td>\n",
       "      <td>4839</td>\n",
       "      <td>251.14</td>\n",
       "      <td>Credit Card</td>\n",
       "      <td>Electronics</td>\n",
       "      <td>2024-01-05</td>\n",
       "    </tr>\n",
       "  </tbody>\n",
       "</table>\n",
       "</div>"
      ],
      "text/plain": [
       "   transaction_id  customer_id  amount payment_method       category  \\\n",
       "0               1         2061  177.75     Debit Card    Electronics   \n",
       "1               2         1235   33.20    Credit Card       Clothing   \n",
       "2               3         4980  118.26    Credit Card      Groceries   \n",
       "3               4         2096  333.73     Debit Card  Entertainment   \n",
       "4               5         4839  251.14    Credit Card    Electronics   \n",
       "\n",
       "        date  \n",
       "0 2024-01-01  \n",
       "1 2024-01-02  \n",
       "2 2024-01-03  \n",
       "3 2024-01-04  \n",
       "4 2024-01-05  "
      ]
     },
     "execution_count": 259,
     "metadata": {},
     "output_type": "execute_result"
    }
   ],
   "source": [
    "df = simulate_df()\n",
    "df.head()"
   ]
  },
  {
   "cell_type": "markdown",
   "metadata": {},
   "source": [
    "Let's imagine the case where a stakeholder asks for a report on total dollars transacted, broken down by key categories and payment method. It's fairly straightforward to use `pandas` to make an attractive pivot table that can serve as such a report, complete with human-readable, title-cased indices and columns. In this case, I've aggregated the total dollars spent, dissagregated by payment method and category of good."
   ]
  },
  {
   "cell_type": "code",
   "execution_count": 260,
   "metadata": {},
   "outputs": [
    {
     "data": {
      "text/html": [
       "<div>\n",
       "<style scoped>\n",
       "    .dataframe tbody tr th:only-of-type {\n",
       "        vertical-align: middle;\n",
       "    }\n",
       "\n",
       "    .dataframe tbody tr th {\n",
       "        vertical-align: top;\n",
       "    }\n",
       "\n",
       "    .dataframe thead th {\n",
       "        text-align: right;\n",
       "    }\n",
       "</style>\n",
       "<table border=\"1\" class=\"dataframe\">\n",
       "  <thead>\n",
       "    <tr style=\"text-align: right;\">\n",
       "      <th>Category</th>\n",
       "      <th>Clothing</th>\n",
       "      <th>Electronics</th>\n",
       "      <th>Entertainment</th>\n",
       "      <th>Groceries</th>\n",
       "    </tr>\n",
       "    <tr>\n",
       "      <th>Payment Method</th>\n",
       "      <th></th>\n",
       "      <th></th>\n",
       "      <th></th>\n",
       "      <th></th>\n",
       "    </tr>\n",
       "  </thead>\n",
       "  <tbody>\n",
       "    <tr>\n",
       "      <th>Cash</th>\n",
       "      <td>15016.00</td>\n",
       "      <td>17026.47</td>\n",
       "      <td>18208.16</td>\n",
       "      <td>18242.88</td>\n",
       "    </tr>\n",
       "    <tr>\n",
       "      <th>Credit Card</th>\n",
       "      <td>16074.92</td>\n",
       "      <td>10960.64</td>\n",
       "      <td>16052.85</td>\n",
       "      <td>20187.25</td>\n",
       "    </tr>\n",
       "    <tr>\n",
       "      <th>Debit Card</th>\n",
       "      <td>14032.23</td>\n",
       "      <td>17325.96</td>\n",
       "      <td>14363.99</td>\n",
       "      <td>17188.67</td>\n",
       "    </tr>\n",
       "    <tr>\n",
       "      <th>PayPal</th>\n",
       "      <td>14143.84</td>\n",
       "      <td>15108.84</td>\n",
       "      <td>16852.17</td>\n",
       "      <td>12065.14</td>\n",
       "    </tr>\n",
       "  </tbody>\n",
       "</table>\n",
       "</div>"
      ],
      "text/plain": [
       "Category        Clothing  Electronics  Entertainment  Groceries\n",
       "Payment Method                                                 \n",
       "Cash            15016.00     17026.47       18208.16   18242.88\n",
       "Credit Card     16074.92     10960.64       16052.85   20187.25\n",
       "Debit Card      14032.23     17325.96       14363.99   17188.67\n",
       "PayPal          14143.84     15108.84       16852.17   12065.14"
      ]
     },
     "execution_count": 260,
     "metadata": {},
     "output_type": "execute_result"
    }
   ],
   "source": [
    "dollars_by_method = df.pivot_table(\n",
    "    index=\"payment_method\",\n",
    "    columns=\"category\",\n",
    "    values=\"amount\",\n",
    "    aggfunc=\"sum\"\n",
    ")\n",
    "dollars_by_method.index.name = \"Payment Method\"\n",
    "dollars_by_method.columns.name = 'Category'\n",
    "dollars_by_method"
   ]
  },
  {
   "cell_type": "markdown",
   "metadata": {},
   "source": [
    "Some users may prefer that the pivot table also include subtotals, and we can flexibly add those for both independent variables by leveraging the axis argument in `df.sum()`"
   ]
  },
  {
   "cell_type": "code",
   "execution_count": 261,
   "metadata": {},
   "outputs": [
    {
     "data": {
      "text/html": [
       "<div>\n",
       "<style scoped>\n",
       "    .dataframe tbody tr th:only-of-type {\n",
       "        vertical-align: middle;\n",
       "    }\n",
       "\n",
       "    .dataframe tbody tr th {\n",
       "        vertical-align: top;\n",
       "    }\n",
       "\n",
       "    .dataframe thead th {\n",
       "        text-align: right;\n",
       "    }\n",
       "</style>\n",
       "<table border=\"1\" class=\"dataframe\">\n",
       "  <thead>\n",
       "    <tr style=\"text-align: right;\">\n",
       "      <th>Category</th>\n",
       "      <th>Clothing</th>\n",
       "      <th>Electronics</th>\n",
       "      <th>Entertainment</th>\n",
       "      <th>Groceries</th>\n",
       "      <th>Total</th>\n",
       "    </tr>\n",
       "    <tr>\n",
       "      <th>Payment Method</th>\n",
       "      <th></th>\n",
       "      <th></th>\n",
       "      <th></th>\n",
       "      <th></th>\n",
       "      <th></th>\n",
       "    </tr>\n",
       "  </thead>\n",
       "  <tbody>\n",
       "    <tr>\n",
       "      <th>Cash</th>\n",
       "      <td>15016.00</td>\n",
       "      <td>17026.47</td>\n",
       "      <td>18208.16</td>\n",
       "      <td>18242.88</td>\n",
       "      <td>68493.51</td>\n",
       "    </tr>\n",
       "    <tr>\n",
       "      <th>Credit Card</th>\n",
       "      <td>16074.92</td>\n",
       "      <td>10960.64</td>\n",
       "      <td>16052.85</td>\n",
       "      <td>20187.25</td>\n",
       "      <td>63275.66</td>\n",
       "    </tr>\n",
       "    <tr>\n",
       "      <th>Debit Card</th>\n",
       "      <td>14032.23</td>\n",
       "      <td>17325.96</td>\n",
       "      <td>14363.99</td>\n",
       "      <td>17188.67</td>\n",
       "      <td>62910.85</td>\n",
       "    </tr>\n",
       "    <tr>\n",
       "      <th>PayPal</th>\n",
       "      <td>14143.84</td>\n",
       "      <td>15108.84</td>\n",
       "      <td>16852.17</td>\n",
       "      <td>12065.14</td>\n",
       "      <td>58169.99</td>\n",
       "    </tr>\n",
       "    <tr>\n",
       "      <th>Total</th>\n",
       "      <td>59266.99</td>\n",
       "      <td>60421.91</td>\n",
       "      <td>65477.17</td>\n",
       "      <td>67683.94</td>\n",
       "      <td>252850.01</td>\n",
       "    </tr>\n",
       "  </tbody>\n",
       "</table>\n",
       "</div>"
      ],
      "text/plain": [
       "Category        Clothing  Electronics  Entertainment  Groceries      Total\n",
       "Payment Method                                                            \n",
       "Cash            15016.00     17026.47       18208.16   18242.88   68493.51\n",
       "Credit Card     16074.92     10960.64       16052.85   20187.25   63275.66\n",
       "Debit Card      14032.23     17325.96       14363.99   17188.67   62910.85\n",
       "PayPal          14143.84     15108.84       16852.17   12065.14   58169.99\n",
       "Total           59266.99     60421.91       65477.17   67683.94  252850.01"
      ]
     },
     "execution_count": 261,
     "metadata": {},
     "output_type": "execute_result"
    }
   ],
   "source": [
    "dollars_by_method.loc[:, 'Total'] = dollars_by_method.sum(axis=1)\n",
    "dollars_by_method.loc['Total', :] = dollars_by_method.sum(axis=0)\n",
    "dollars_by_method"
   ]
  },
  {
   "cell_type": "markdown",
   "metadata": {},
   "source": [
    "That's a fine-enough `pandas` dataframe, but now the question arises of how to best serve this data to the end-user.  \n",
    "\n",
    "There are several options -- lately I've been using Quarto reports or else Tableau dashboards for these sorts of analytics projects. However, those formats are very \"finalized\" and can be a little unsatisfying for end-users who want to further filter or modify table output. If that audience doesn't use R/Python, access to underlying `.ipynb` or `.qmd` files will not be helpful. This is the case where I think that spreadsheet output, and specifically reproducible, formatted Excel worksheets, can be very potent."
   ]
  },
  {
   "cell_type": "code",
   "execution_count": 262,
   "metadata": {},
   "outputs": [
    {
     "data": {
      "image/png": "[encoded data removed]",
      "text/plain": [
       "<Figure size 300x300 with 1 Axes>"
      ]
     },
     "metadata": {},
     "output_type": "display_data"
    }
   ],
   "source": [
    "#| echo: false\n",
    "#| output: false\n",
    "\n",
    "import matplotlib.pyplot as plt\n",
    "import numpy as np\n",
    "\n",
    "np.random.seed(2)\n",
    "rows, cols = 4, 3\n",
    "data = np.random.randint(100, 999, size=(rows, cols))\n",
    "fig, ax = plt.subplots(figsize=(3, 3))\n",
    "\n",
    "for i in range(rows + 1):\n",
    "    for j in range(cols + 1):\n",
    "        # Header row (letters)\n",
    "        if i == 0:\n",
    "            text = chr(65 + j - 1) if j > 0 else \"\"  # A, B, C, etc.\n",
    "            color = \"#404040\"\n",
    "            bgcolor = (.816, .816, .816, .3)\n",
    "            fontsize=16\n",
    "        # Index column (numbers)\n",
    "        elif j == 0:\n",
    "            text = str(i)\n",
    "            color = \"#404040\"\n",
    "            bgcolor = (.816, .816, .816, .3)\n",
    "            fontsize=16\n",
    "        else:\n",
    "            text = np.random.choice([\"☺\", \"☹\"])\n",
    "            color = \"#404040\"\n",
    "            bgcolor = (.122, .467, .706, np.random.uniform()) # Alternating row colors\n",
    "            fontsize=30\n",
    "        ax.add_patch(\n",
    "            plt.Rectangle((j, rows - i), 1, 1, fc=bgcolor, ec=\"#404040\", lw=2)\n",
    "            )\n",
    "        ax.text(j + 0.5, rows - i + 0.5, text, ha=\"center\", va=\"center\", \n",
    "                fontsize=fontsize, fontfamily=\"monospace\", color=color)\n",
    "        \n",
    "ax.add_patch(plt.Rectangle((0, 0), cols + 1, rows + 1, fill=False, edgecolor=\"#404040\", lw=3))\n",
    "ax.set_xlim(0, cols + 1)\n",
    "ax.set_ylim(0, rows + 1)\n",
    "ax.set_xticks([])\n",
    "ax.set_yticks([])\n",
    "ax.spines['top'].set_visible(False)\n",
    "ax.spines['right'].set_visible(False)\n",
    "ax.spines['left'].set_visible(False)\n",
    "ax.spines['bottom'].set_visible(False)\n",
    "\n",
    "fig.tight_layout()\n",
    "fig.savefig('thumbnail.png', dpi=300)"
   ]
  },
  {
   "cell_type": "markdown",
   "metadata": {},
   "source": [
    "## Writing data to Excel"
   ]
  },
  {
   "cell_type": "markdown",
   "metadata": {},
   "source": [
    "To write a `pandas` dataframe out to Excel, we'll first establish an `xw.Book` object, which either creates or opens an existing excel file, in this case `test.xlsx`."
   ]
  },
  {
   "cell_type": "code",
   "execution_count": 263,
   "metadata": {},
   "outputs": [
    {
     "data": {
      "text/plain": [
       "<Book [test.xlsx]>"
      ]
     },
     "execution_count": 263,
     "metadata": {},
     "output_type": "execute_result"
    }
   ],
   "source": [
    "filename = \"test.xlsx\"\n",
    "if os.path.exists(filename):\n",
    "        wb = xw.Book(filename)\n",
    "else:\n",
    "    wb = xw.Book()\n",
    "    wb.save(filename)\n",
    "wb"
   ]
  },
  {
   "cell_type": "markdown",
   "metadata": {},
   "source": [
    "Next, we establish a sheet within that `xw.Book`, in this case `first_test`."
   ]
  },
  {
   "cell_type": "code",
   "execution_count": 264,
   "metadata": {},
   "outputs": [
    {
     "data": {
      "text/plain": [
       "<Sheet [test.xlsx]first_test>"
      ]
     },
     "execution_count": 264,
     "metadata": {},
     "output_type": "execute_result"
    }
   ],
   "source": [
    "sheet_name = 'first_test'\n",
    "try:\n",
    "    sheet_new = wb.sheets.add(sheet_name) \n",
    "except ValueError:\n",
    "    sheet_new = wb.sheets[sheet_name]\n",
    "sheet_new"
   ]
  },
  {
   "cell_type": "markdown",
   "metadata": {},
   "source": [
    "At this point, we can select the sheet, `sheet_new`, select a start range, `A1`, then set it's value with our dataframe object, `dollars_by_method`. This will export the full dataframe into the spreadsheet."
   ]
  },
  {
   "cell_type": "code",
   "execution_count": 265,
   "metadata": {},
   "outputs": [],
   "source": [
    "sheet_new.range(\"A1\").options(index=True, header=True).value = dollars_by_method"
   ]
  },
  {
   "cell_type": "markdown",
   "metadata": {},
   "source": [
    "Then, when we save the book, we can inspect the output."
   ]
  },
  {
   "cell_type": "code",
   "execution_count": 266,
   "metadata": {},
   "outputs": [],
   "source": [
    "wb.save()"
   ]
  },
  {
   "cell_type": "markdown",
   "metadata": {},
   "source": [
    "![](1.png)"
   ]
  },
  {
   "cell_type": "markdown",
   "metadata": {},
   "source": [
    "This is a fairly unattractive table, with no formatting and with poorly fitted columns. This is also equivalent to what we could get if we simply used the `df.to_excel()` method within `pandas`. We'll proceed to formatting this table, where we get the real value out of `xlwings`."
   ]
  },
  {
   "cell_type": "markdown",
   "metadata": {},
   "source": [
    "## Interacting with the Excel Object Model"
   ]
  },
  {
   "cell_type": "markdown",
   "metadata": {},
   "source": [
    "The most powerful aspect of `xlwings` is easily interacting with the Excel object model -- an API that allows for programmatically editing Excel spreadsheets. One would typically interact with Excel's object model via VBA code, but `xlwings` and `pywin32` together allow for us to use Python instead. Microsoft provides a clear overview of the object model concept [in the \"VBA Programming 101\"](https://learn.microsoft.com/en-us/office/vba/library-reference/concepts/getting-started-with-vba-in-office#vba-programming-101) section of the Official VBA Reference, and a complete reference for the [Excel object model](https://learn.microsoft.com/en-us/office/vba/api/overview/excel/object-model) in the Excel VBA Reference."
   ]
  },
  {
   "cell_type": "markdown",
   "metadata": {},
   "source": [
    "![Excel Object Model for VBA Reference](object_model.png){width=80%}"
   ]
  },
  {
   "cell_type": "markdown",
   "metadata": {},
   "source": [
    "For example, here I'll call the `.api` attribute for the whole sheet:"
   ]
  },
  {
   "cell_type": "code",
   "execution_count": 267,
   "metadata": {},
   "outputs": [
    {
     "data": {
      "text/plain": [
       "<win32com.gen_py.Microsoft Excel 16.0 Object Library._Worksheet instance at 0x1492679989520>"
      ]
     },
     "execution_count": 267,
     "metadata": {},
     "output_type": "execute_result"
    }
   ],
   "source": [
    "sheet_new.api"
   ]
  },
  {
   "cell_type": "markdown",
   "metadata": {},
   "source": [
    "This is an instance of the Worksheet object, which has [a documentation page in Excel's VBA reference](https://learn.microsoft.com/en-us/office/vba/api/excel.worksheet).  \n",
    "\n",
    "![The Worksheet Object](worksheet.png){width=80%}\n",
    "\n",
    "The Worksheet object has a property, UsedRange, which is the range "
   ]
  },
  {
   "cell_type": "code",
   "execution_count": 268,
   "metadata": {},
   "outputs": [
    {
     "data": {
      "text/plain": [
       "<win32com.gen_py.Microsoft Excel 16.0 Object Library.Range instance at 0x1492702371504>"
      ]
     },
     "execution_count": 268,
     "metadata": {},
     "output_type": "execute_result"
    }
   ],
   "source": [
    "sheet_new.api.UsedRange"
   ]
  },
  {
   "cell_type": "markdown",
   "metadata": {},
   "source": [
    "The UsedRange https://learn.microsoft.com/en-us/office/vba/api/excel.range.entirecolumn"
   ]
  },
  {
   "cell_type": "code",
   "execution_count": 269,
   "metadata": {},
   "outputs": [
    {
     "data": {
      "text/plain": [
       "<win32com.gen_py.Microsoft Excel 16.0 Object Library.Range instance at 0x1492702385584>"
      ]
     },
     "execution_count": 269,
     "metadata": {},
     "output_type": "execute_result"
    }
   ],
   "source": [
    "sheet_new.api.UsedRange.EntireColumn"
   ]
  },
  {
   "cell_type": "markdown",
   "metadata": {},
   "source": [
    "https://learn.microsoft.com/en-us/office/vba/api/excel.range.autofit"
   ]
  },
  {
   "cell_type": "code",
   "execution_count": 270,
   "metadata": {},
   "outputs": [
    {
     "data": {
      "text/plain": [
       "True"
      ]
     },
     "execution_count": 270,
     "metadata": {},
     "output_type": "execute_result"
    }
   ],
   "source": [
    "sheet_new.api.UsedRange.EntireColumn.AutoFit()"
   ]
  },
  {
   "cell_type": "markdown",
   "metadata": {},
   "source": [
    "![](2.png)"
   ]
  },
  {
   "cell_type": "code",
   "execution_count": 271,
   "metadata": {},
   "outputs": [],
   "source": [
    "sheet_new.used_range.api.EntireColumn.AutoFit()\n",
    "sheet_new.used_range.api.EntireRow.AutoFit()\n",
    "wb.save()"
   ]
  },
  {
   "cell_type": "markdown",
   "metadata": {},
   "source": [
    "### Column Formatting"
   ]
  },
  {
   "cell_type": "code",
   "execution_count": 272,
   "metadata": {},
   "outputs": [
    {
     "data": {
      "text/plain": [
       "['Payment Method',\n",
       " 'Clothing',\n",
       " 'Electronics',\n",
       " 'Entertainment',\n",
       " 'Groceries',\n",
       " 'Total']"
      ]
     },
     "execution_count": 272,
     "metadata": {},
     "output_type": "execute_result"
    }
   ],
   "source": [
    "headers = sheet_new.range(\"A1\").expand(\"right\").value\n",
    "headers"
   ]
  },
  {
   "cell_type": "code",
   "execution_count": 273,
   "metadata": {},
   "outputs": [
    {
     "data": {
      "text/plain": [
       "'B'"
      ]
     },
     "execution_count": 273,
     "metadata": {},
     "output_type": "execute_result"
    }
   ],
   "source": [
    "col_index = headers.index('Clothing') + 1\n",
    "col_letter = xw.utils.col_name(col_index) \n",
    "col_letter"
   ]
  },
  {
   "cell_type": "code",
   "execution_count": 274,
   "metadata": {},
   "outputs": [],
   "source": [
    "(sheet_new\n",
    " .range(f\"{col_letter}2:{col_letter}1048576\")\n",
    " .number_format) = \"$#,##0.00\"\n",
    "wb.save()"
   ]
  },
  {
   "cell_type": "markdown",
   "metadata": {},
   "source": [
    "![](3.png)"
   ]
  },
  {
   "cell_type": "code",
   "execution_count": 275,
   "metadata": {},
   "outputs": [],
   "source": [
    "for col in dollars_by_method.columns:\n",
    "    col_index = headers.index(col) + 1\n",
    "    col_letter = xw.utils.col_name(col_index)\n",
    "    (sheet_new\n",
    "     .range(f\"{col_letter}2:{col_letter}1048576\")\n",
    "     .number_format) = \"$#,##0.00\"\n",
    "wb.save()"
   ]
  },
  {
   "cell_type": "markdown",
   "metadata": {},
   "source": [
    "![](4.png)"
   ]
  },
  {
   "cell_type": "code",
   "execution_count": 276,
   "metadata": {},
   "outputs": [
    {
     "data": {
      "text/plain": [
       "'ABCDEFGHIJKLMNOPQRSTUVWXYZ'"
      ]
     },
     "execution_count": 276,
     "metadata": {},
     "output_type": "execute_result"
    }
   ],
   "source": [
    "import string\n",
    "string.ascii_uppercase"
   ]
  },
  {
   "cell_type": "code",
   "execution_count": 277,
   "metadata": {},
   "outputs": [],
   "source": [
    "end_col = string.ascii_uppercase[dollars_by_method.reset_index().shape[1]-1]\n",
    "header_range = sheet_new.range(f\"A1:{end_col}1\")\n",
    "header_range.font.bold = True\n",
    "wb.save()"
   ]
  },
  {
   "cell_type": "markdown",
   "metadata": {},
   "source": [
    "![](5.png)"
   ]
  },
  {
   "cell_type": "code",
   "execution_count": 278,
   "metadata": {},
   "outputs": [],
   "source": [
    "end_row = dollars_by_method.reset_index().shape[0] + 1\n",
    "header_range = sheet_new.range(f\"A1:A{end_row}\")\n",
    "header_range.font.bold = True\n",
    "wb.save()"
   ]
  },
  {
   "cell_type": "markdown",
   "metadata": {},
   "source": [
    "![](6.png)"
   ]
  },
  {
   "cell_type": "code",
   "execution_count": 279,
   "metadata": {},
   "outputs": [],
   "source": [
    "sheet_new.range(f\"{end_col}1:{end_col}{end_row}\").color = (242, 242, 242)\n",
    "sheet_new.range(f\"A{end_row}:{end_col}{end_row}\").color = (242, 242, 242)\n",
    "wb.save()"
   ]
  },
  {
   "cell_type": "markdown",
   "metadata": {},
   "source": [
    "![](7.png)"
   ]
  },
  {
   "cell_type": "code",
   "execution_count": 280,
   "metadata": {},
   "outputs": [
    {
     "data": {
      "text/plain": [
       "<Range [test.xlsx]first_test!$A$1:$F$6>"
      ]
     },
     "execution_count": 280,
     "metadata": {},
     "output_type": "execute_result"
    }
   ],
   "source": [
    "used_range = sheet_new.used_range\n",
    "used_range"
   ]
  },
  {
   "cell_type": "code",
   "execution_count": 281,
   "metadata": {},
   "outputs": [],
   "source": [
    "used_range.api.Borders.LineStyle = 1\n",
    "used_range.api.Borders.Weight = 2\n",
    "wb.save()"
   ]
  },
  {
   "cell_type": "markdown",
   "metadata": {},
   "source": [
    "https://stackoverflow.com/a/73015199"
   ]
  },
  {
   "cell_type": "markdown",
   "metadata": {},
   "source": [
    "![](8.png)"
   ]
  },
  {
   "cell_type": "markdown",
   "metadata": {},
   "source": [
    "### Package approach"
   ]
  },
  {
   "cell_type": "code",
   "execution_count": 282,
   "metadata": {},
   "outputs": [
    {
     "name": "stdout",
     "output_type": "stream",
     "text": [
      "The autoreload extension is already loaded. To reload it, use:\n",
      "  %reload_ext autoreload\n"
     ]
    }
   ],
   "source": [
    "#| output: false\n",
    "import sys\n",
    "sys.path.append('../../../swiss-code/src')\n",
    "from swiss_code.excel import excel\n",
    "%load_ext autoreload\n",
    "%autoreload 2"
   ]
  },
  {
   "cell_type": "code",
   "execution_count": null,
   "metadata": {},
   "outputs": [],
   "source": [
    "wb = excel.get_or_create_workbook(\"test.xlsx\")\n",
    "function_sheet = excel.select_sheet('function_sheet', wb)\n",
    "edf = excel.write_df_to_excel(df=dollars_by_method,\n",
    "                              sheet=function_sheet,\n",
    "                              cell_start=\"A1\")\n",
    "for col in edf.df.columns:\n",
    "    edf.number_format_column(col, format=\"$#,###.00\")\n",
    "edf.make_borders()\n",
    "edf.format_indices(bold=True, color=None)\n",
    "edf.format_row('Total', bold=\"ignore\", color=\"light_grey\")\n",
    "edf.format_column('Total', bold=\"ignore\", color=\"light_grey\")\n",
    "excel.close_out_book(wb)"
   ]
  },
  {
   "cell_type": "markdown",
   "metadata": {},
   "source": [
    "## Complex Tables"
   ]
  },
  {
   "cell_type": "code",
   "execution_count": 295,
   "metadata": {},
   "outputs": [],
   "source": [
    "df['Year'] = df['date'].dt.year.astype(str)\n",
    "df[\"class\"] = df[\"category\"].map(\n",
    "    {\n",
    "        \"Clothing\": \"Necessity\",\n",
    "        \"Groceries\": \"Necessity\",\n",
    "        \"Electronics\": \"Discretionary\",\n",
    "        \"Entertainment\": \"Discretionary\",\n",
    "    }\n",
    ")"
   ]
  },
  {
   "cell_type": "code",
   "execution_count": 296,
   "metadata": {},
   "outputs": [
    {
     "data": {
      "text/html": [
       "<div>\n",
       "<style scoped>\n",
       "    .dataframe tbody tr th:only-of-type {\n",
       "        vertical-align: middle;\n",
       "    }\n",
       "\n",
       "    .dataframe tbody tr th {\n",
       "        vertical-align: top;\n",
       "    }\n",
       "\n",
       "    .dataframe thead tr th {\n",
       "        text-align: left;\n",
       "    }\n",
       "\n",
       "    .dataframe thead tr:last-of-type th {\n",
       "        text-align: right;\n",
       "    }\n",
       "</style>\n",
       "<table border=\"1\" class=\"dataframe\">\n",
       "  <thead>\n",
       "    <tr>\n",
       "      <th></th>\n",
       "      <th>Class</th>\n",
       "      <th colspan=\"2\" halign=\"left\">Discretionary</th>\n",
       "      <th colspan=\"2\" halign=\"left\">Necessity</th>\n",
       "    </tr>\n",
       "    <tr>\n",
       "      <th></th>\n",
       "      <th>Category</th>\n",
       "      <th>Electronics</th>\n",
       "      <th>Entertainment</th>\n",
       "      <th>Clothing</th>\n",
       "      <th>Groceries</th>\n",
       "    </tr>\n",
       "    <tr>\n",
       "      <th>Year</th>\n",
       "      <th>Payment Method</th>\n",
       "      <th></th>\n",
       "      <th></th>\n",
       "      <th></th>\n",
       "      <th></th>\n",
       "    </tr>\n",
       "  </thead>\n",
       "  <tbody>\n",
       "    <tr>\n",
       "      <th rowspan=\"4\" valign=\"top\">2024</th>\n",
       "      <th>Cash</th>\n",
       "      <td>5182.41</td>\n",
       "      <td>8661.28</td>\n",
       "      <td>5709.71</td>\n",
       "      <td>6552.53</td>\n",
       "    </tr>\n",
       "    <tr>\n",
       "      <th>Credit Card</th>\n",
       "      <td>2976.99</td>\n",
       "      <td>5334.29</td>\n",
       "      <td>5846.53</td>\n",
       "      <td>7983.28</td>\n",
       "    </tr>\n",
       "    <tr>\n",
       "      <th>Debit Card</th>\n",
       "      <td>6997.97</td>\n",
       "      <td>4998.41</td>\n",
       "      <td>4887.89</td>\n",
       "      <td>5603.41</td>\n",
       "    </tr>\n",
       "    <tr>\n",
       "      <th>PayPal</th>\n",
       "      <td>5649.27</td>\n",
       "      <td>7034.34</td>\n",
       "      <td>5225.22</td>\n",
       "      <td>3945.90</td>\n",
       "    </tr>\n",
       "    <tr>\n",
       "      <th rowspan=\"4\" valign=\"top\">2025</th>\n",
       "      <th>Cash</th>\n",
       "      <td>6148.02</td>\n",
       "      <td>5110.80</td>\n",
       "      <td>4651.67</td>\n",
       "      <td>7717.81</td>\n",
       "    </tr>\n",
       "    <tr>\n",
       "      <th>Credit Card</th>\n",
       "      <td>4618.44</td>\n",
       "      <td>5946.31</td>\n",
       "      <td>6843.13</td>\n",
       "      <td>5828.80</td>\n",
       "    </tr>\n",
       "    <tr>\n",
       "      <th>Debit Card</th>\n",
       "      <td>6606.99</td>\n",
       "      <td>7087.51</td>\n",
       "      <td>5801.20</td>\n",
       "      <td>4554.53</td>\n",
       "    </tr>\n",
       "    <tr>\n",
       "      <th>PayPal</th>\n",
       "      <td>5220.53</td>\n",
       "      <td>5592.94</td>\n",
       "      <td>6203.22</td>\n",
       "      <td>3442.25</td>\n",
       "    </tr>\n",
       "    <tr>\n",
       "      <th rowspan=\"4\" valign=\"top\">2026</th>\n",
       "      <th>Cash</th>\n",
       "      <td>5696.04</td>\n",
       "      <td>4436.08</td>\n",
       "      <td>4654.62</td>\n",
       "      <td>3972.54</td>\n",
       "    </tr>\n",
       "    <tr>\n",
       "      <th>Credit Card</th>\n",
       "      <td>3365.21</td>\n",
       "      <td>4772.25</td>\n",
       "      <td>3385.26</td>\n",
       "      <td>6375.17</td>\n",
       "    </tr>\n",
       "    <tr>\n",
       "      <th>Debit Card</th>\n",
       "      <td>3721.00</td>\n",
       "      <td>2278.07</td>\n",
       "      <td>3343.14</td>\n",
       "      <td>7030.73</td>\n",
       "    </tr>\n",
       "    <tr>\n",
       "      <th>PayPal</th>\n",
       "      <td>4239.04</td>\n",
       "      <td>4224.89</td>\n",
       "      <td>2715.40</td>\n",
       "      <td>4676.99</td>\n",
       "    </tr>\n",
       "  </tbody>\n",
       "</table>\n",
       "</div>"
      ],
      "text/plain": [
       "Class               Discretionary               Necessity          \n",
       "Category              Electronics Entertainment  Clothing Groceries\n",
       "Year Payment Method                                                \n",
       "2024 Cash                 5182.41       8661.28   5709.71   6552.53\n",
       "     Credit Card          2976.99       5334.29   5846.53   7983.28\n",
       "     Debit Card           6997.97       4998.41   4887.89   5603.41\n",
       "     PayPal               5649.27       7034.34   5225.22   3945.90\n",
       "2025 Cash                 6148.02       5110.80   4651.67   7717.81\n",
       "     Credit Card          4618.44       5946.31   6843.13   5828.80\n",
       "     Debit Card           6606.99       7087.51   5801.20   4554.53\n",
       "     PayPal               5220.53       5592.94   6203.22   3442.25\n",
       "2026 Cash                 5696.04       4436.08   4654.62   3972.54\n",
       "     Credit Card          3365.21       4772.25   3385.26   6375.17\n",
       "     Debit Card           3721.00       2278.07   3343.14   7030.73\n",
       "     PayPal               4239.04       4224.89   2715.40   4676.99"
      ]
     },
     "execution_count": 296,
     "metadata": {},
     "output_type": "execute_result"
    }
   ],
   "source": [
    "dollars_by_method_yr = df.pivot_table(\n",
    "    index=[\"Year\", \"payment_method\"], \n",
    "    columns=[\"class\", \"category\"],\n",
    "    values=\"amount\",\n",
    "    aggfunc=\"sum\"\n",
    ")\n",
    "dollars_by_method_yr.index.names = [\"Year\", \"Payment Method\"]\n",
    "dollars_by_method_yr.columns.names = ['Class', 'Category']\n",
    "dollars_by_method_yr = dollars_by_method_yr.fillna(0)\n",
    "dollars_by_method_yr"
   ]
  },
  {
   "cell_type": "code",
   "execution_count": 348,
   "metadata": {},
   "outputs": [],
   "source": [
    "wb = excel.get_or_create_workbook(\"test.xlsx\")\n",
    "complex_sheet = excel.select_sheet('complex_sheet', wb)\n",
    "edf = excel.write_df_to_excel(dollars_by_method_yr,\n",
    "                              complex_sheet,\n",
    "                              cell_start=\"A1\")"
   ]
  },
  {
   "cell_type": "code",
   "execution_count": 349,
   "metadata": {},
   "outputs": [],
   "source": [
    "edf.merge_axis(index=1, axis=1)"
   ]
  },
  {
   "cell_type": "code",
   "execution_count": 350,
   "metadata": {},
   "outputs": [],
   "source": [
    "edf.merge_axis(index=1, axis=0)"
   ]
  },
  {
   "cell_type": "code",
   "execution_count": 351,
   "metadata": {},
   "outputs": [],
   "source": [
    "excel.close_out_book(wb)"
   ]
  },
  {
   "cell_type": "code",
   "execution_count": 325,
   "metadata": {},
   "outputs": [],
   "source": [
    "edf.merge_column(index=1, axis=0)"
   ]
  },
  {
   "cell_type": "code",
   "execution_count": 316,
   "metadata": {},
   "outputs": [
    {
     "data": {
      "text/plain": [
       "'F'"
      ]
     },
     "execution_count": 316,
     "metadata": {},
     "output_type": "execute_result"
    }
   ],
   "source": [
    "edf.range.last_cell.address.split(\"$\")[1]"
   ]
  },
  {
   "cell_type": "code",
   "execution_count": 310,
   "metadata": {},
   "outputs": [
    {
     "ename": "com_error",
     "evalue": "(-2147023174, 'The RPC server is unavailable.', None, None)",
     "output_type": "error",
     "traceback": [
      "\u001b[1;31m---------------------------------------------------------------------------\u001b[0m",
      "\u001b[1;31mcom_error\u001b[0m                                 Traceback (most recent call last)",
      "Cell \u001b[1;32mIn[310], line 1\u001b[0m\n\u001b[1;32m----> 1\u001b[0m \u001b[43mexcel\u001b[49m\u001b[38;5;241;43m.\u001b[39;49m\u001b[43mclose_out_book\u001b[49m\u001b[43m(\u001b[49m\u001b[43mwb\u001b[49m\u001b[43m)\u001b[49m\n",
      "File \u001b[1;32m~\\Documents\\Projects\\swiss-code\\src\\swiss_code\\excel\\excel.py:288\u001b[0m, in \u001b[0;36mclose_out_book\u001b[1;34m(wb, autofit)\u001b[0m\n\u001b[0;32m    286\u001b[0m \u001b[38;5;28;01mdef\u001b[39;00m\u001b[38;5;250m \u001b[39m\u001b[38;5;21mclose_out_book\u001b[39m(wb: xw\u001b[38;5;241m.\u001b[39mBook, autofit: \u001b[38;5;28mbool\u001b[39m\u001b[38;5;241m=\u001b[39m\u001b[38;5;28;01mTrue\u001b[39;00m):\n\u001b[0;32m    287\u001b[0m     \u001b[38;5;28;01mif\u001b[39;00m autofit:\n\u001b[1;32m--> 288\u001b[0m         \u001b[43mautofit_all_sheets\u001b[49m\u001b[43m(\u001b[49m\u001b[43mwb\u001b[49m\u001b[43m)\u001b[49m\n\u001b[0;32m    289\u001b[0m     \u001b[38;5;28;01mif\u001b[39;00m \u001b[38;5;124m\"\u001b[39m\u001b[38;5;124mSheet1\u001b[39m\u001b[38;5;124m\"\u001b[39m \u001b[38;5;129;01min\u001b[39;00m [sheet\u001b[38;5;241m.\u001b[39mname \u001b[38;5;28;01mfor\u001b[39;00m sheet \u001b[38;5;129;01min\u001b[39;00m wb\u001b[38;5;241m.\u001b[39msheets]:\n\u001b[0;32m    290\u001b[0m         wb\u001b[38;5;241m.\u001b[39msheets[\u001b[38;5;124m\"\u001b[39m\u001b[38;5;124mSheet1\u001b[39m\u001b[38;5;124m\"\u001b[39m]\u001b[38;5;241m.\u001b[39mdelete()\n",
      "File \u001b[1;32m~\\Documents\\Projects\\swiss-code\\src\\swiss_code\\excel\\excel.py:280\u001b[0m, in \u001b[0;36mautofit_all_sheets\u001b[1;34m(wb)\u001b[0m\n\u001b[0;32m    273\u001b[0m \u001b[38;5;28;01mdef\u001b[39;00m\u001b[38;5;250m \u001b[39m\u001b[38;5;21mautofit_all_sheets\u001b[39m(wb: xw\u001b[38;5;241m.\u001b[39mBook):\n\u001b[0;32m    274\u001b[0m \u001b[38;5;250m    \u001b[39m\u001b[38;5;124;03m\"\"\"\u001b[39;00m\n\u001b[0;32m    275\u001b[0m \u001b[38;5;124;03m    Autofits all columns in all sheets of the given workbook.\u001b[39;00m\n\u001b[0;32m    276\u001b[0m \u001b[38;5;124;03m    \u001b[39;00m\n\u001b[0;32m    277\u001b[0m \u001b[38;5;124;03m    Args:\u001b[39;00m\n\u001b[0;32m    278\u001b[0m \u001b[38;5;124;03m        wb (xlwings.Book): The Excel workbook object.\u001b[39;00m\n\u001b[0;32m    279\u001b[0m \u001b[38;5;124;03m    \"\"\"\u001b[39;00m\n\u001b[1;32m--> 280\u001b[0m     \u001b[38;5;28;01mfor\u001b[39;00m sheet \u001b[38;5;129;01min\u001b[39;00m \u001b[43mwb\u001b[49m\u001b[38;5;241;43m.\u001b[39;49m\u001b[43msheets\u001b[49m:\n\u001b[0;32m    281\u001b[0m         \u001b[38;5;28;01mif\u001b[39;00m sheet\u001b[38;5;241m.\u001b[39mused_range\u001b[38;5;241m.\u001b[39mcolumns\u001b[38;5;241m.\u001b[39mcount \u001b[38;5;241m>\u001b[39m \u001b[38;5;241m1\u001b[39m:  \u001b[38;5;66;03m# Ensure there's data in the sheet\u001b[39;00m\n\u001b[0;32m    282\u001b[0m             sheet\u001b[38;5;241m.\u001b[39mused_range\u001b[38;5;241m.\u001b[39mapi\u001b[38;5;241m.\u001b[39mEntireColumn\u001b[38;5;241m.\u001b[39mAutoFit()  \u001b[38;5;66;03m# Autofit columns\u001b[39;00m\n",
      "File \u001b[1;32mc:\\Users\\pamerkha\\AppData\\Local\\pypoetry\\Cache\\virtualenvs\\swiss-code-Qtyaj3Rb-py3.12\\Lib\\site-packages\\xlwings\\main.py:1119\u001b[0m, in \u001b[0;36mBook.sheets\u001b[1;34m(self)\u001b[0m\n\u001b[0;32m   1112\u001b[0m \u001b[38;5;129m@property\u001b[39m\n\u001b[0;32m   1113\u001b[0m \u001b[38;5;28;01mdef\u001b[39;00m\u001b[38;5;250m \u001b[39m\u001b[38;5;21msheets\u001b[39m(\u001b[38;5;28mself\u001b[39m):\n\u001b[0;32m   1114\u001b[0m \u001b[38;5;250m    \u001b[39m\u001b[38;5;124;03m\"\"\"\u001b[39;00m\n\u001b[0;32m   1115\u001b[0m \u001b[38;5;124;03m    Returns a sheets collection that represents all the sheets in the book.\u001b[39;00m\n\u001b[0;32m   1116\u001b[0m \n\u001b[0;32m   1117\u001b[0m \u001b[38;5;124;03m    .. versionadded:: 0.9.0\u001b[39;00m\n\u001b[0;32m   1118\u001b[0m \u001b[38;5;124;03m    \"\"\"\u001b[39;00m\n\u001b[1;32m-> 1119\u001b[0m     \u001b[38;5;28;01mreturn\u001b[39;00m Sheets(impl\u001b[38;5;241m=\u001b[39m\u001b[38;5;28;43mself\u001b[39;49m\u001b[38;5;241;43m.\u001b[39;49m\u001b[43mimpl\u001b[49m\u001b[38;5;241;43m.\u001b[39;49m\u001b[43msheets\u001b[49m)\n",
      "File \u001b[1;32mc:\\Users\\pamerkha\\AppData\\Local\\pypoetry\\Cache\\virtualenvs\\swiss-code-Qtyaj3Rb-py3.12\\Lib\\site-packages\\xlwings\\_xlwindows.py:841\u001b[0m, in \u001b[0;36mBook.sheets\u001b[1;34m(self)\u001b[0m\n\u001b[0;32m    839\u001b[0m \u001b[38;5;129m@property\u001b[39m\n\u001b[0;32m    840\u001b[0m \u001b[38;5;28;01mdef\u001b[39;00m\u001b[38;5;250m \u001b[39m\u001b[38;5;21msheets\u001b[39m(\u001b[38;5;28mself\u001b[39m):\n\u001b[1;32m--> 841\u001b[0m     \u001b[38;5;28;01mreturn\u001b[39;00m Sheets(xl\u001b[38;5;241m=\u001b[39m\u001b[38;5;28;43mself\u001b[39;49m\u001b[38;5;241;43m.\u001b[39;49m\u001b[43mxl\u001b[49m\u001b[38;5;241;43m.\u001b[39;49m\u001b[43mWorksheets\u001b[49m)\n",
      "File \u001b[1;32mc:\\Users\\pamerkha\\AppData\\Local\\pypoetry\\Cache\\virtualenvs\\swiss-code-Qtyaj3Rb-py3.12\\Lib\\site-packages\\xlwings\\_xlwindows.py:199\u001b[0m, in \u001b[0;36mCOMRetryObjectWrapper.__getattr__\u001b[1;34m(self, item)\u001b[0m\n\u001b[0;32m    197\u001b[0m \u001b[38;5;28;01mwhile\u001b[39;00m \u001b[38;5;28;01mTrue\u001b[39;00m:\n\u001b[0;32m    198\u001b[0m     \u001b[38;5;28;01mtry\u001b[39;00m:\n\u001b[1;32m--> 199\u001b[0m         v \u001b[38;5;241m=\u001b[39m \u001b[38;5;28;43mgetattr\u001b[39;49m\u001b[43m(\u001b[49m\u001b[38;5;28;43mself\u001b[39;49m\u001b[38;5;241;43m.\u001b[39;49m\u001b[43m_inner\u001b[49m\u001b[43m,\u001b[49m\u001b[43m \u001b[49m\u001b[43mitem\u001b[49m\u001b[43m)\u001b[49m\n\u001b[0;32m    200\u001b[0m         \u001b[38;5;28;01mif\u001b[39;00m \u001b[38;5;28misinstance\u001b[39m(v, (CDispatch, CoClassBaseClass, DispatchBaseClass)):\n\u001b[0;32m    201\u001b[0m             \u001b[38;5;28;01mreturn\u001b[39;00m COMRetryObjectWrapper(v)\n",
      "File \u001b[1;32mc:\\Users\\pamerkha\\AppData\\Local\\pypoetry\\Cache\\virtualenvs\\swiss-code-Qtyaj3Rb-py3.12\\Lib\\site-packages\\xlwings\\_win32patch.py:55\u001b[0m, in \u001b[0;36mCoClassBaseClass.__getattr__\u001b[1;34m(self, attr)\u001b[0m\n\u001b[0;32m     53\u001b[0m d \u001b[38;5;241m=\u001b[39m \u001b[38;5;28mself\u001b[39m\u001b[38;5;241m.\u001b[39m\u001b[38;5;18m__dict__\u001b[39m[\u001b[38;5;124m\"\u001b[39m\u001b[38;5;124m_dispobj_\u001b[39m\u001b[38;5;124m\"\u001b[39m]\n\u001b[0;32m     54\u001b[0m \u001b[38;5;28;01mif\u001b[39;00m d \u001b[38;5;129;01mis\u001b[39;00m \u001b[38;5;129;01mnot\u001b[39;00m \u001b[38;5;28;01mNone\u001b[39;00m:\n\u001b[1;32m---> 55\u001b[0m     \u001b[38;5;28;01mreturn\u001b[39;00m \u001b[38;5;28;43mgetattr\u001b[39;49m\u001b[43m(\u001b[49m\u001b[43md\u001b[49m\u001b[43m,\u001b[49m\u001b[43m \u001b[49m\u001b[43mattr\u001b[49m\u001b[43m)\u001b[49m\n\u001b[0;32m     56\u001b[0m \u001b[38;5;28;01mraise\u001b[39;00m \u001b[38;5;167;01mAttributeError\u001b[39;00m(attr)\n",
      "File \u001b[1;32mc:\\Users\\pamerkha\\AppData\\Local\\pypoetry\\Cache\\virtualenvs\\swiss-code-Qtyaj3Rb-py3.12\\Lib\\site-packages\\win32com\\client\\__init__.py:558\u001b[0m, in \u001b[0;36mDispatchBaseClass.__getattr__\u001b[1;34m(self, attr)\u001b[0m\n\u001b[0;32m    556\u001b[0m \u001b[38;5;28;01mif\u001b[39;00m args \u001b[38;5;129;01mis\u001b[39;00m \u001b[38;5;28;01mNone\u001b[39;00m:\n\u001b[0;32m    557\u001b[0m     \u001b[38;5;28;01mraise\u001b[39;00m \u001b[38;5;167;01mAttributeError\u001b[39;00m(\u001b[38;5;124mf\u001b[39m\u001b[38;5;124m\"\u001b[39m\u001b[38;5;124m'\u001b[39m\u001b[38;5;132;01m{\u001b[39;00m\u001b[38;5;28mrepr\u001b[39m(\u001b[38;5;28mself\u001b[39m)\u001b[38;5;132;01m}\u001b[39;00m\u001b[38;5;124m'\u001b[39m\u001b[38;5;124m object has no attribute \u001b[39m\u001b[38;5;124m'\u001b[39m\u001b[38;5;132;01m{\u001b[39;00mattr\u001b[38;5;132;01m}\u001b[39;00m\u001b[38;5;124m'\u001b[39m\u001b[38;5;124m\"\u001b[39m)\n\u001b[1;32m--> 558\u001b[0m \u001b[38;5;28;01mreturn\u001b[39;00m \u001b[38;5;28;43mself\u001b[39;49m\u001b[38;5;241;43m.\u001b[39;49m\u001b[43m_ApplyTypes_\u001b[49m\u001b[43m(\u001b[49m\u001b[38;5;241;43m*\u001b[39;49m\u001b[43margs\u001b[49m\u001b[43m)\u001b[49m\n",
      "File \u001b[1;32mc:\\Users\\pamerkha\\AppData\\Local\\pypoetry\\Cache\\virtualenvs\\swiss-code-Qtyaj3Rb-py3.12\\Lib\\site-packages\\win32com\\client\\__init__.py:549\u001b[0m, in \u001b[0;36mDispatchBaseClass._ApplyTypes_\u001b[1;34m(self, dispid, wFlags, retType, argTypes, user, resultCLSID, *args)\u001b[0m\n\u001b[0;32m    547\u001b[0m \u001b[38;5;28;01mdef\u001b[39;00m\u001b[38;5;250m \u001b[39m\u001b[38;5;21m_ApplyTypes_\u001b[39m(\u001b[38;5;28mself\u001b[39m, dispid, wFlags, retType, argTypes, user, resultCLSID, \u001b[38;5;241m*\u001b[39margs):\n\u001b[0;32m    548\u001b[0m     \u001b[38;5;28;01mreturn\u001b[39;00m \u001b[38;5;28mself\u001b[39m\u001b[38;5;241m.\u001b[39m_get_good_object_(\n\u001b[1;32m--> 549\u001b[0m         \u001b[38;5;28;43mself\u001b[39;49m\u001b[38;5;241;43m.\u001b[39;49m\u001b[43m_oleobj_\u001b[49m\u001b[38;5;241;43m.\u001b[39;49m\u001b[43mInvokeTypes\u001b[49m\u001b[43m(\u001b[49m\u001b[43mdispid\u001b[49m\u001b[43m,\u001b[49m\u001b[43m \u001b[49m\u001b[38;5;241;43m0\u001b[39;49m\u001b[43m,\u001b[49m\u001b[43m \u001b[49m\u001b[43mwFlags\u001b[49m\u001b[43m,\u001b[49m\u001b[43m \u001b[49m\u001b[43mretType\u001b[49m\u001b[43m,\u001b[49m\u001b[43m \u001b[49m\u001b[43margTypes\u001b[49m\u001b[43m,\u001b[49m\u001b[43m \u001b[49m\u001b[38;5;241;43m*\u001b[39;49m\u001b[43margs\u001b[49m\u001b[43m)\u001b[49m,\n\u001b[0;32m    550\u001b[0m         user,\n\u001b[0;32m    551\u001b[0m         resultCLSID,\n\u001b[0;32m    552\u001b[0m     )\n",
      "\u001b[1;31mcom_error\u001b[0m: (-2147023174, 'The RPC server is unavailable.', None, None)"
     ]
    }
   ],
   "source": [
    "excel.close_out_book(wb)"
   ]
  },
  {
   "cell_type": "code",
   "execution_count": 122,
   "metadata": {},
   "outputs": [
    {
     "data": {
      "text/plain": [
       "<Range [test.xlsx]complex_sheet!$A$1:$F$14>"
      ]
     },
     "execution_count": 122,
     "metadata": {},
     "output_type": "execute_result"
    }
   ],
   "source": [
    "xw.Range(f\"A1:{string.ascii_uppercase[6-1]}14\")"
   ]
  },
  {
   "cell_type": "code",
   "execution_count": 120,
   "metadata": {},
   "outputs": [
    {
     "data": {
      "text/plain": [
       "'F'"
      ]
     },
     "execution_count": 120,
     "metadata": {},
     "output_type": "execute_result"
    }
   ],
   "source": [
    "string.ascii_uppercase[6-1]"
   ]
  },
  {
   "cell_type": "code",
   "execution_count": 117,
   "metadata": {},
   "outputs": [
    {
     "data": {
      "text/plain": [
       "array([14,  6])"
      ]
     },
     "execution_count": 117,
     "metadata": {},
     "output_type": "execute_result"
    }
   ],
   "source": [
    "excel.get_df_range(dollars_by_method_yr)"
   ]
  },
  {
   "cell_type": "code",
   "execution_count": null,
   "metadata": {},
   "outputs": [],
   "source": []
  }
 ],
 "metadata": {
  "kernelspec": {
   "display_name": "swiss-code-Qtyaj3Rb-py3.12",
   "language": "python",
   "name": "python3"
  },
  "language_info": {
   "codemirror_mode": {
    "name": "ipython",
    "version": 3
   },
   "file_extension": ".py",
   "mimetype": "text/x-python",
   "name": "python",
   "nbconvert_exporter": "python",
   "pygments_lexer": "ipython3",
   "version": "3.12.7"
  }
 },
 "nbformat": 4,
 "nbformat_minor": 2
}

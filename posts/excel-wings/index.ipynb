{
 "cells": [
  {
   "cell_type": "markdown",
   "metadata": {},
   "source": [
    "---\n",
    "title: \"Output to Excel with `xlwings`\"\n",
    "bibliography: \"../../blog.bib\"\n",
    "author: \"Peter Amerkhanian\"\n",
    "description: \"Computationally producing Excel output with `xlwings`\"\n",
    "date: \"2025-3-12\"\n",
    "image: thumbnail.png\n",
    "draft: true\n",
    "categories: ['Python', 'Data Management']\n",
    "format:\n",
    "  html:\n",
    "    toc: true\n",
    "    toc-depth: 3\n",
    "    code-fold: false\n",
    "    code-tools: true\n",
    "---"
   ]
  },
  {
   "cell_type": "code",
   "execution_count": 157,
   "metadata": {},
   "outputs": [],
   "source": [
    "import pandas as pd\n",
    "import numpy as np\n",
    "import xlwings as xw\n",
    "import os"
   ]
  },
  {
   "cell_type": "code",
   "execution_count": 158,
   "metadata": {},
   "outputs": [],
   "source": [
    "#| code-fold: true\n",
    "def simulate_df(num_transactions=1000):\n",
    "    np.random.seed(1)\n",
    "    customer_ids = np.random.randint(1000, 5000, num_transactions)\n",
    "    transaction_amounts = np.round(np.random.uniform(5, 500, num_transactions), 2)\n",
    "    payment_methods = np.random.choice([\"Credit Card\", \"Debit Card\", \"PayPal\", \"Cash\"], num_transactions)\n",
    "    categories = np.random.choice([\"Electronics\", \"Clothing\", \"Groceries\", \"Entertainment\"], num_transactions)\n",
    "    transaction_dates = pd.date_range(start=\"2024-01-01\", periods=num_transactions, freq=\"D\")\n",
    "    data = {\n",
    "        \"transaction_id\": range(1, num_transactions + 1),\n",
    "        \"customer_id\": customer_ids,\n",
    "        \"amount\": transaction_amounts,\n",
    "        \"payment_method\": payment_methods,\n",
    "        \"category\": categories,\n",
    "        \"date\": transaction_dates\n",
    "    }\n",
    "\n",
    "    df = pd.DataFrame(data)\n",
    "    return df"
   ]
  },
  {
   "cell_type": "code",
   "execution_count": 159,
   "metadata": {},
   "outputs": [
    {
     "data": {
      "text/html": [
       "<div>\n",
       "<style scoped>\n",
       "    .dataframe tbody tr th:only-of-type {\n",
       "        vertical-align: middle;\n",
       "    }\n",
       "\n",
       "    .dataframe tbody tr th {\n",
       "        vertical-align: top;\n",
       "    }\n",
       "\n",
       "    .dataframe thead th {\n",
       "        text-align: right;\n",
       "    }\n",
       "</style>\n",
       "<table border=\"1\" class=\"dataframe\">\n",
       "  <thead>\n",
       "    <tr style=\"text-align: right;\">\n",
       "      <th></th>\n",
       "      <th>transaction_id</th>\n",
       "      <th>customer_id</th>\n",
       "      <th>amount</th>\n",
       "      <th>payment_method</th>\n",
       "      <th>category</th>\n",
       "      <th>date</th>\n",
       "    </tr>\n",
       "  </thead>\n",
       "  <tbody>\n",
       "    <tr>\n",
       "      <th>0</th>\n",
       "      <td>1</td>\n",
       "      <td>2061</td>\n",
       "      <td>177.75</td>\n",
       "      <td>Debit Card</td>\n",
       "      <td>Electronics</td>\n",
       "      <td>2024-01-01</td>\n",
       "    </tr>\n",
       "    <tr>\n",
       "      <th>1</th>\n",
       "      <td>2</td>\n",
       "      <td>1235</td>\n",
       "      <td>33.20</td>\n",
       "      <td>Credit Card</td>\n",
       "      <td>Clothing</td>\n",
       "      <td>2024-01-02</td>\n",
       "    </tr>\n",
       "    <tr>\n",
       "      <th>2</th>\n",
       "      <td>3</td>\n",
       "      <td>4980</td>\n",
       "      <td>118.26</td>\n",
       "      <td>Credit Card</td>\n",
       "      <td>Groceries</td>\n",
       "      <td>2024-01-03</td>\n",
       "    </tr>\n",
       "    <tr>\n",
       "      <th>3</th>\n",
       "      <td>4</td>\n",
       "      <td>2096</td>\n",
       "      <td>333.73</td>\n",
       "      <td>Debit Card</td>\n",
       "      <td>Entertainment</td>\n",
       "      <td>2024-01-04</td>\n",
       "    </tr>\n",
       "    <tr>\n",
       "      <th>4</th>\n",
       "      <td>5</td>\n",
       "      <td>4839</td>\n",
       "      <td>251.14</td>\n",
       "      <td>Credit Card</td>\n",
       "      <td>Electronics</td>\n",
       "      <td>2024-01-05</td>\n",
       "    </tr>\n",
       "  </tbody>\n",
       "</table>\n",
       "</div>"
      ],
      "text/plain": [
       "   transaction_id  customer_id  amount payment_method       category  \\\n",
       "0               1         2061  177.75     Debit Card    Electronics   \n",
       "1               2         1235   33.20    Credit Card       Clothing   \n",
       "2               3         4980  118.26    Credit Card      Groceries   \n",
       "3               4         2096  333.73     Debit Card  Entertainment   \n",
       "4               5         4839  251.14    Credit Card    Electronics   \n",
       "\n",
       "        date  \n",
       "0 2024-01-01  \n",
       "1 2024-01-02  \n",
       "2 2024-01-03  \n",
       "3 2024-01-04  \n",
       "4 2024-01-05  "
      ]
     },
     "execution_count": 159,
     "metadata": {},
     "output_type": "execute_result"
    }
   ],
   "source": [
    "df = simulate_df()\n",
    "df.head()"
   ]
  },
  {
   "cell_type": "code",
   "execution_count": 160,
   "metadata": {},
   "outputs": [
    {
     "data": {
      "text/html": [
       "<div>\n",
       "<style scoped>\n",
       "    .dataframe tbody tr th:only-of-type {\n",
       "        vertical-align: middle;\n",
       "    }\n",
       "\n",
       "    .dataframe tbody tr th {\n",
       "        vertical-align: top;\n",
       "    }\n",
       "\n",
       "    .dataframe thead th {\n",
       "        text-align: right;\n",
       "    }\n",
       "</style>\n",
       "<table border=\"1\" class=\"dataframe\">\n",
       "  <thead>\n",
       "    <tr style=\"text-align: right;\">\n",
       "      <th>Category</th>\n",
       "      <th>Clothing</th>\n",
       "      <th>Electronics</th>\n",
       "      <th>Entertainment</th>\n",
       "      <th>Groceries</th>\n",
       "    </tr>\n",
       "    <tr>\n",
       "      <th>Payment Method</th>\n",
       "      <th></th>\n",
       "      <th></th>\n",
       "      <th></th>\n",
       "      <th></th>\n",
       "    </tr>\n",
       "  </thead>\n",
       "  <tbody>\n",
       "    <tr>\n",
       "      <th>Cash</th>\n",
       "      <td>15016.00</td>\n",
       "      <td>17026.47</td>\n",
       "      <td>18208.16</td>\n",
       "      <td>18242.88</td>\n",
       "    </tr>\n",
       "    <tr>\n",
       "      <th>Credit Card</th>\n",
       "      <td>16074.92</td>\n",
       "      <td>10960.64</td>\n",
       "      <td>16052.85</td>\n",
       "      <td>20187.25</td>\n",
       "    </tr>\n",
       "    <tr>\n",
       "      <th>Debit Card</th>\n",
       "      <td>14032.23</td>\n",
       "      <td>17325.96</td>\n",
       "      <td>14363.99</td>\n",
       "      <td>17188.67</td>\n",
       "    </tr>\n",
       "    <tr>\n",
       "      <th>PayPal</th>\n",
       "      <td>14143.84</td>\n",
       "      <td>15108.84</td>\n",
       "      <td>16852.17</td>\n",
       "      <td>12065.14</td>\n",
       "    </tr>\n",
       "  </tbody>\n",
       "</table>\n",
       "</div>"
      ],
      "text/plain": [
       "Category        Clothing  Electronics  Entertainment  Groceries\n",
       "Payment Method                                                 \n",
       "Cash            15016.00     17026.47       18208.16   18242.88\n",
       "Credit Card     16074.92     10960.64       16052.85   20187.25\n",
       "Debit Card      14032.23     17325.96       14363.99   17188.67\n",
       "PayPal          14143.84     15108.84       16852.17   12065.14"
      ]
     },
     "execution_count": 160,
     "metadata": {},
     "output_type": "execute_result"
    }
   ],
   "source": [
    "dollars_by_method = df.pivot_table(\n",
    "    index=\"payment_method\",\n",
    "    columns=\"category\",\n",
    "    values=\"amount\",\n",
    "    aggfunc=\"sum\"\n",
    ")\n",
    "dollars_by_method.index.name = \"Payment Method\"\n",
    "dollars_by_method.columns.name = 'Category'\n",
    "dollars_by_method"
   ]
  },
  {
   "cell_type": "code",
   "execution_count": 161,
   "metadata": {},
   "outputs": [
    {
     "data": {
      "text/html": [
       "<div>\n",
       "<style scoped>\n",
       "    .dataframe tbody tr th:only-of-type {\n",
       "        vertical-align: middle;\n",
       "    }\n",
       "\n",
       "    .dataframe tbody tr th {\n",
       "        vertical-align: top;\n",
       "    }\n",
       "\n",
       "    .dataframe thead th {\n",
       "        text-align: right;\n",
       "    }\n",
       "</style>\n",
       "<table border=\"1\" class=\"dataframe\">\n",
       "  <thead>\n",
       "    <tr style=\"text-align: right;\">\n",
       "      <th>Category</th>\n",
       "      <th>Clothing</th>\n",
       "      <th>Electronics</th>\n",
       "      <th>Entertainment</th>\n",
       "      <th>Groceries</th>\n",
       "      <th>Total</th>\n",
       "    </tr>\n",
       "    <tr>\n",
       "      <th>Payment Method</th>\n",
       "      <th></th>\n",
       "      <th></th>\n",
       "      <th></th>\n",
       "      <th></th>\n",
       "      <th></th>\n",
       "    </tr>\n",
       "  </thead>\n",
       "  <tbody>\n",
       "    <tr>\n",
       "      <th>Cash</th>\n",
       "      <td>15016.00</td>\n",
       "      <td>17026.47</td>\n",
       "      <td>18208.16</td>\n",
       "      <td>18242.88</td>\n",
       "      <td>68493.51</td>\n",
       "    </tr>\n",
       "    <tr>\n",
       "      <th>Credit Card</th>\n",
       "      <td>16074.92</td>\n",
       "      <td>10960.64</td>\n",
       "      <td>16052.85</td>\n",
       "      <td>20187.25</td>\n",
       "      <td>63275.66</td>\n",
       "    </tr>\n",
       "    <tr>\n",
       "      <th>Debit Card</th>\n",
       "      <td>14032.23</td>\n",
       "      <td>17325.96</td>\n",
       "      <td>14363.99</td>\n",
       "      <td>17188.67</td>\n",
       "      <td>62910.85</td>\n",
       "    </tr>\n",
       "    <tr>\n",
       "      <th>PayPal</th>\n",
       "      <td>14143.84</td>\n",
       "      <td>15108.84</td>\n",
       "      <td>16852.17</td>\n",
       "      <td>12065.14</td>\n",
       "      <td>58169.99</td>\n",
       "    </tr>\n",
       "    <tr>\n",
       "      <th>Total</th>\n",
       "      <td>59266.99</td>\n",
       "      <td>60421.91</td>\n",
       "      <td>65477.17</td>\n",
       "      <td>67683.94</td>\n",
       "      <td>252850.01</td>\n",
       "    </tr>\n",
       "  </tbody>\n",
       "</table>\n",
       "</div>"
      ],
      "text/plain": [
       "Category        Clothing  Electronics  Entertainment  Groceries      Total\n",
       "Payment Method                                                            \n",
       "Cash            15016.00     17026.47       18208.16   18242.88   68493.51\n",
       "Credit Card     16074.92     10960.64       16052.85   20187.25   63275.66\n",
       "Debit Card      14032.23     17325.96       14363.99   17188.67   62910.85\n",
       "PayPal          14143.84     15108.84       16852.17   12065.14   58169.99\n",
       "Total           59266.99     60421.91       65477.17   67683.94  252850.01"
      ]
     },
     "execution_count": 161,
     "metadata": {},
     "output_type": "execute_result"
    }
   ],
   "source": [
    "dollars_by_method.loc[:, 'Total'] = dollars_by_method.sum(axis=1)\n",
    "dollars_by_method.loc['Total', :] = dollars_by_method.sum(axis=0)\n",
    "dollars_by_method"
   ]
  },
  {
   "cell_type": "code",
   "execution_count": 162,
   "metadata": {},
   "outputs": [
    {
     "data": {
      "text/plain": [
       "<Book [test.xlsx]>"
      ]
     },
     "execution_count": 162,
     "metadata": {},
     "output_type": "execute_result"
    }
   ],
   "source": [
    "filename = \"test.xlsx\"\n",
    "if os.path.exists(filename):\n",
    "        wb = xw.Book(filename)\n",
    "else:\n",
    "    wb = xw.Book()\n",
    "    wb.save(filename)\n",
    "wb"
   ]
  },
  {
   "cell_type": "code",
   "execution_count": 163,
   "metadata": {},
   "outputs": [
    {
     "data": {
      "text/plain": [
       "<Sheet [test.xlsx]first_test>"
      ]
     },
     "execution_count": 163,
     "metadata": {},
     "output_type": "execute_result"
    }
   ],
   "source": [
    "sheet_name = 'first_test'\n",
    "try:\n",
    "    sheet_new = wb.sheets.add(sheet_name) \n",
    "except ValueError:\n",
    "    sheet_new = wb.sheets[sheet_name]\n",
    "sheet_new"
   ]
  },
  {
   "cell_type": "code",
   "execution_count": null,
   "metadata": {},
   "outputs": [],
   "source": [
    "sheet_new.range(\"A1\").options(index=True, header=True).value = dollars_by_method"
   ]
  },
  {
   "cell_type": "code",
   "execution_count": 165,
   "metadata": {},
   "outputs": [],
   "source": [
    "wb.save()"
   ]
  },
  {
   "cell_type": "markdown",
   "metadata": {},
   "source": [
    "![](1.png)"
   ]
  },
  {
   "cell_type": "code",
   "execution_count": null,
   "metadata": {},
   "outputs": [],
   "source": [
    "sheet_new.used_range.api.EntireColumn.AutoFit()\n",
    "sheet_new.used_range.api.EntireRow.AutoFit()\n",
    "wb.save()"
   ]
  },
  {
   "cell_type": "markdown",
   "metadata": {},
   "source": [
    "![](2.png)"
   ]
  },
  {
   "cell_type": "code",
   "execution_count": 167,
   "metadata": {},
   "outputs": [
    {
     "data": {
      "text/plain": [
       "['Payment Method',\n",
       " 'Clothing',\n",
       " 'Electronics',\n",
       " 'Entertainment',\n",
       " 'Groceries',\n",
       " 'Total']"
      ]
     },
     "execution_count": 167,
     "metadata": {},
     "output_type": "execute_result"
    }
   ],
   "source": [
    "headers = sheet_new.range(\"A1\").expand(\"right\").value\n",
    "headers"
   ]
  },
  {
   "cell_type": "code",
   "execution_count": 168,
   "metadata": {},
   "outputs": [
    {
     "data": {
      "text/plain": [
       "'B'"
      ]
     },
     "execution_count": 168,
     "metadata": {},
     "output_type": "execute_result"
    }
   ],
   "source": [
    "col_index = headers.index('Clothing') + 1\n",
    "col_letter = xw.utils.col_name(col_index) \n",
    "col_letter"
   ]
  },
  {
   "cell_type": "code",
   "execution_count": 169,
   "metadata": {},
   "outputs": [],
   "source": [
    "(sheet_new\n",
    " .range(f\"{col_letter}2:{col_letter}1048576\")\n",
    " .number_format) = \"$#,##0.00\"\n",
    "wb.save()"
   ]
  },
  {
   "cell_type": "markdown",
   "metadata": {},
   "source": [
    "![](3.png)"
   ]
  },
  {
   "cell_type": "code",
   "execution_count": 170,
   "metadata": {},
   "outputs": [],
   "source": [
    "for col in dollars_by_method.columns:\n",
    "    col_index = headers.index(col) + 1\n",
    "    col_letter = xw.utils.col_name(col_index)\n",
    "    (sheet_new\n",
    "     .range(f\"{col_letter}2:{col_letter}1048576\")\n",
    "     .number_format) = \"$#,##0.00\"\n",
    "wb.save()"
   ]
  },
  {
   "cell_type": "markdown",
   "metadata": {},
   "source": [
    "![](4.png)"
   ]
  },
  {
   "cell_type": "code",
   "execution_count": 171,
   "metadata": {},
   "outputs": [
    {
     "data": {
      "text/plain": [
       "'ABCDEFGHIJKLMNOPQRSTUVWXYZ'"
      ]
     },
     "execution_count": 171,
     "metadata": {},
     "output_type": "execute_result"
    }
   ],
   "source": [
    "import string\n",
    "string.ascii_uppercase"
   ]
  },
  {
   "cell_type": "code",
   "execution_count": 172,
   "metadata": {},
   "outputs": [],
   "source": [
    "end_col = string.ascii_uppercase[dollars_by_method.reset_index().shape[1]-1]\n",
    "header_range = sheet_new.range(f\"A1:{end_col}1\")\n",
    "header_range.font.bold = True\n",
    "wb.save()"
   ]
  },
  {
   "cell_type": "markdown",
   "metadata": {},
   "source": [
    "![](5.png)"
   ]
  },
  {
   "cell_type": "code",
   "execution_count": 173,
   "metadata": {},
   "outputs": [],
   "source": [
    "end_row = dollars_by_method.reset_index().shape[0] + 1\n",
    "header_range = sheet_new.range(f\"A1:A{end_row}\")\n",
    "header_range.font.bold = True\n",
    "wb.save()"
   ]
  },
  {
   "cell_type": "markdown",
   "metadata": {},
   "source": [
    "![](6.png)"
   ]
  },
  {
   "cell_type": "code",
   "execution_count": 174,
   "metadata": {},
   "outputs": [],
   "source": [
    "sheet_new.range(f\"{end_col}1:{end_col}{end_row}\").color = (242, 242, 242)\n",
    "sheet_new.range(f\"A{end_row}:{end_col}{end_row}\").color = (242, 242, 242)\n",
    "wb.save()"
   ]
  },
  {
   "cell_type": "markdown",
   "metadata": {},
   "source": [
    "![](7.png)"
   ]
  },
  {
   "cell_type": "code",
   "execution_count": 175,
   "metadata": {},
   "outputs": [
    {
     "data": {
      "text/plain": [
       "<Range [test.xlsx]first_test!$A$1:$F$6>"
      ]
     },
     "execution_count": 175,
     "metadata": {},
     "output_type": "execute_result"
    }
   ],
   "source": [
    "used_range = sheet_new.used_range\n",
    "used_range"
   ]
  },
  {
   "cell_type": "code",
   "execution_count": 176,
   "metadata": {},
   "outputs": [],
   "source": [
    "used_range.api.Borders.LineStyle = 1\n",
    "used_range.api.Borders.Weight = 2\n",
    "wb.save()"
   ]
  },
  {
   "cell_type": "markdown",
   "metadata": {},
   "source": [
    "https://stackoverflow.com/a/73015199"
   ]
  },
  {
   "cell_type": "markdown",
   "metadata": {},
   "source": [
    "![](8.png)"
   ]
  },
  {
   "cell_type": "code",
   "execution_count": 177,
   "metadata": {},
   "outputs": [
    {
     "data": {
      "text/html": [
       "<div>\n",
       "<style scoped>\n",
       "    .dataframe tbody tr th:only-of-type {\n",
       "        vertical-align: middle;\n",
       "    }\n",
       "\n",
       "    .dataframe tbody tr th {\n",
       "        vertical-align: top;\n",
       "    }\n",
       "\n",
       "    .dataframe thead th {\n",
       "        text-align: right;\n",
       "    }\n",
       "</style>\n",
       "<table border=\"1\" class=\"dataframe\">\n",
       "  <thead>\n",
       "    <tr style=\"text-align: right;\">\n",
       "      <th>Category</th>\n",
       "      <th>Clothing</th>\n",
       "      <th>Electronics</th>\n",
       "      <th>Entertainment</th>\n",
       "      <th>Groceries</th>\n",
       "      <th>Total</th>\n",
       "    </tr>\n",
       "    <tr>\n",
       "      <th>Payment Method</th>\n",
       "      <th></th>\n",
       "      <th></th>\n",
       "      <th></th>\n",
       "      <th></th>\n",
       "      <th></th>\n",
       "    </tr>\n",
       "  </thead>\n",
       "  <tbody>\n",
       "    <tr>\n",
       "      <th>Cash</th>\n",
       "      <td>15016.00</td>\n",
       "      <td>17026.47</td>\n",
       "      <td>18208.16</td>\n",
       "      <td>18242.88</td>\n",
       "      <td>68493.51</td>\n",
       "    </tr>\n",
       "    <tr>\n",
       "      <th>Credit Card</th>\n",
       "      <td>16074.92</td>\n",
       "      <td>10960.64</td>\n",
       "      <td>16052.85</td>\n",
       "      <td>20187.25</td>\n",
       "      <td>63275.66</td>\n",
       "    </tr>\n",
       "    <tr>\n",
       "      <th>Debit Card</th>\n",
       "      <td>14032.23</td>\n",
       "      <td>17325.96</td>\n",
       "      <td>14363.99</td>\n",
       "      <td>17188.67</td>\n",
       "      <td>62910.85</td>\n",
       "    </tr>\n",
       "    <tr>\n",
       "      <th>PayPal</th>\n",
       "      <td>14143.84</td>\n",
       "      <td>15108.84</td>\n",
       "      <td>16852.17</td>\n",
       "      <td>12065.14</td>\n",
       "      <td>58169.99</td>\n",
       "    </tr>\n",
       "    <tr>\n",
       "      <th>Total</th>\n",
       "      <td>59266.99</td>\n",
       "      <td>60421.91</td>\n",
       "      <td>65477.17</td>\n",
       "      <td>67683.94</td>\n",
       "      <td>252850.01</td>\n",
       "    </tr>\n",
       "  </tbody>\n",
       "</table>\n",
       "</div>"
      ],
      "text/plain": [
       "Category        Clothing  Electronics  Entertainment  Groceries      Total\n",
       "Payment Method                                                            \n",
       "Cash            15016.00     17026.47       18208.16   18242.88   68493.51\n",
       "Credit Card     16074.92     10960.64       16052.85   20187.25   63275.66\n",
       "Debit Card      14032.23     17325.96       14363.99   17188.67   62910.85\n",
       "PayPal          14143.84     15108.84       16852.17   12065.14   58169.99\n",
       "Total           59266.99     60421.91       65477.17   67683.94  252850.01"
      ]
     },
     "execution_count": 177,
     "metadata": {},
     "output_type": "execute_result"
    }
   ],
   "source": [
    "dollars_by_method"
   ]
  },
  {
   "cell_type": "code",
   "execution_count": 194,
   "metadata": {},
   "outputs": [],
   "source": [
    "#| code-fold: true\n",
    "\n",
    "def get_or_create_workbook(filename: str,\n",
    "                           display_alerts: bool = False,\n",
    "                           screen_updating: bool= False):\n",
    "    \"\"\"\n",
    "    Checks if the specified Excel file exists. If it does, opens it; \n",
    "    otherwise, creates a new one. Returns the workbook object.\n",
    "\n",
    "    Args:\n",
    "        filename (str): The name of the Excel file. Default is \"output.xlsx\".\n",
    "\n",
    "    Returns:\n",
    "        xlwings.Book: The opened or newly created workbook.\n",
    "    \"\"\"\n",
    "    if os.path.exists(filename):\n",
    "        wb = xw.Book(filename)\n",
    "        wb.app.display_alerts = display_alerts\n",
    "        wb.app.screen_updating = screen_updating\n",
    "    else:\n",
    "        wb = xw.Book()\n",
    "        wb.app.display_alerts = display_alerts\n",
    "        wb.app.screen_updating = screen_updating\n",
    "        wb.save(filename)\n",
    "    return wb\n",
    "\n",
    "def select_sheet(name: str, wb: xw.Book):\n",
    "    \"\"\"\n",
    "    Selects an existing sheet by name or creates a new one if it does not exist.\n",
    "\n",
    "    Args:\n",
    "        name (str): The name of the sheet to select or create.\n",
    "        wb (xlwings.Book): The Excel workbook object.\n",
    "\n",
    "    Returns:\n",
    "        xlwings.Sheet: The selected or newly created sheet.\"\n",
    "    \"\"\"\n",
    "    try:\n",
    "        sheet_new = wb.sheets.add(name) \n",
    "    except ValueError:\n",
    "        sheet_new = wb.sheets[name]\n",
    "    return sheet_new\n",
    "\n",
    "def write_df_to_excel(df: pd.DataFrame,\n",
    "                      sheet: xw.Sheet,\n",
    "                      cell_start: str=\"A1\",\n",
    "                      bold_indexes: bool=True):\n",
    "    \"\"\"\n",
    "    Writes a pandas DataFrame to an Excel sheet and bolds the index and column headers.\n",
    "    \n",
    "    Args:\n",
    "        df (pd.DataFrame): The DataFrame to write.\n",
    "        sheet (xlwings.Sheet): The Excel sheet where the DataFrame will be written.\n",
    "    \"\"\"\n",
    "    # Write the DataFrame to the Excel sheet starting from cell A1\n",
    "    sheet.range(cell_start).options(index=True, header=True).value = df\n",
    "    \n",
    "    if bold_indexes:\n",
    "        # Get the range for the index\n",
    "        index_start_row = 1  # Start from row 2 (since the header is in row 1)\n",
    "        index_end_row = index_start_row + df.shape[0]\n",
    "        # Get the range for the headers\n",
    "        header_start_col = 1  # Start from column B (the first column is the index)\n",
    "        header_end_col = header_start_col + df.reset_index().shape[1] - 1  # Adjust for headers\n",
    "\n",
    "        # For multi-index columns, we need to get the full range\n",
    "        if isinstance(df.index, pd.MultiIndex):\n",
    "            for i in range(df.index.nlevels):\n",
    "                # Define the range for each level of the multi-index\n",
    "                level_range = sheet.range(f\"{string.ascii_uppercase[i]}{index_start_row}:{string.ascii_uppercase[i]}{index_end_row}\")\n",
    "                level_range.font.bold = True\n",
    "                index_end_row = index_start_row + df.shape[0]\n",
    "        else:\n",
    "            index_range = sheet.range(f\"A{index_start_row}:A{index_end_row}\")\n",
    "            index_range.font.bold = True\n",
    "        if isinstance(df.columns, pd.MultiIndex):\n",
    "            for i in range(df.columns.nlevels):\n",
    "                # Define the range for each level of the multi-index\n",
    "                level_range = sheet.range(f\"B{i+1}:{string.ascii_uppercase[header_end_col]}{i+1}\")\n",
    "                level_range.font.bold = True\n",
    "        else:\n",
    "            # If it's a single index, bold the header range directly\n",
    "            header_range = sheet.range(f\"B1:{string.ascii_uppercase[header_end_col - 1]}1\")\n",
    "            header_range.font.bold = True\n",
    "\n",
    "\n",
    "def autofit_all_sheets(wb: xw.Book):\n",
    "    \"\"\"\n",
    "    Autofits all columns in all sheets of the given workbook.\n",
    "    \n",
    "    Args:\n",
    "        wb (xlwings.Book): The Excel workbook object.\n",
    "    \"\"\"\n",
    "    for sheet in wb.sheets:\n",
    "        if sheet.used_range.columns.count > 1:  # Ensure there's data in the sheet\n",
    "            sheet.used_range.api.EntireColumn.AutoFit()  # Autofit columns\n",
    "            sheet.used_range.api.EntireRow.AutoFit()     # Autofit rows\n",
    "\n",
    "def format_dollar_column(sheet, header_name, format=\"$#,##0.00\", header_row=\"A\"):\n",
    "    \"\"\"\n",
    "    Formats the column with the given header name as a dollar amount in an Excel sheet.\n",
    "\n",
    "    Args:\n",
    "        sheet (xlwings.Sheet): The Excel sheet object.\n",
    "        header_name (str): The column header to search for.\n",
    "        format (str, optional): The Excel number format for currency. Default is \"$#,##0.00\".\n",
    "        header_row (str, optional): The row letter where headers are located. Default is \"A\".\n",
    "\n",
    "    Returns:\n",
    "        None\n",
    "    \"\"\"\n",
    "    # Find the column index based on the header\n",
    "    headers = sheet.range(f\"{header_row}1\").expand(\"right\").value  # Read all headers in row 1\n",
    "    if header_name not in headers:\n",
    "        raise ValueError(f\"Header '{header_name}' not found in the sheet.\")\n",
    "    \n",
    "    col_index = headers.index(header_name) + 1  # Convert to Excel 1-based index\n",
    "    col_letter = xw.utils.col_name(col_index)  # Convert to letter (e.g., B, C)\n",
    "    \n",
    "    # Apply dollar format (e.g., $1,234.56)\n",
    "    sheet.range(f\"{col_letter}2:{col_letter}1048576\").number_format = format\n",
    "\n",
    "def make_borders(sheet, linestyle=1, weight=2):\n",
    "    used_range = sheet.used_range\n",
    "    used_range.api.Borders.LineStyle = linestyle\n",
    "    used_range.api.Borders.Weight = weight\n",
    "\n",
    "def close_out_book(wb: xw.Book, autofit: bool=True):\n",
    "    if autofit:\n",
    "        autofit_all_sheets(wb)\n",
    "    if \"Sheet1\" in [sheet.name for sheet in wb.sheets]:\n",
    "        wb.sheets[\"Sheet1\"].delete()\n",
    "    wb.save()\n",
    "    wb.close()"
   ]
  },
  {
   "cell_type": "code",
   "execution_count": null,
   "metadata": {},
   "outputs": [
    {
     "name": "stdout",
     "output_type": "stream",
     "text": [
      "<Range [test.xlsx]function_sheet!$A$1>\n",
      "<Range [test.xlsx]function_sheet!$A$1:$F$6>\n",
      "<Range [test.xlsx]function_sheet!$A$1:$F$6>\n"
     ]
    }
   ],
   "source": [
    "wb = get_or_create_workbook(\"test.xlsx\")\n",
    "function_sheet = select_sheet('function_sheet', wb)\n",
    "write_df_to_excel(dollars_by_method, function_sheet, bold_indexes=True)\n",
    "for col in dollars_by_method.columns:\n",
    "    format_dollar_column(function_sheet, col)\n",
    "make_borders(function_sheet)\n",
    "end_col = string.ascii_uppercase[dollars_by_method.reset_index().shape[1]-1]\n",
    "end_row = dollars_by_method.reset_index().shape[0] + 1\n",
    "function_sheet.range(f\"{end_col}1:{end_col}{end_row}\").color = (242, 242, 242)\n",
    "function_sheet.range(f\"A{end_row}:{end_col}{end_row}\").color = (242, 242, 242)\n",
    "close_out_book(wb)"
   ]
  },
  {
   "cell_type": "code",
   "execution_count": 180,
   "metadata": {},
   "outputs": [
    {
     "data": {
      "text/plain": [
       "<Range [test.xlsx]function_sheet!$A$1:$G$7>"
      ]
     },
     "execution_count": 180,
     "metadata": {},
     "output_type": "execute_result"
    }
   ],
   "source": [
    "function_sheet.used_range"
   ]
  },
  {
   "cell_type": "code",
   "execution_count": 181,
   "metadata": {},
   "outputs": [
    {
     "data": {
      "text/plain": [
       "<Range [test.xlsx]function_sheet!$A$1:$G$7>"
      ]
     },
     "execution_count": 181,
     "metadata": {},
     "output_type": "execute_result"
    }
   ],
   "source": [
    "function_sheet.used_range"
   ]
  },
  {
   "cell_type": "markdown",
   "metadata": {},
   "source": []
  },
  {
   "cell_type": "code",
   "execution_count": 182,
   "metadata": {},
   "outputs": [],
   "source": [
    "df['Year'] = df['date'].dt.year.astype(str)"
   ]
  },
  {
   "cell_type": "code",
   "execution_count": 183,
   "metadata": {},
   "outputs": [
    {
     "data": {
      "text/html": [
       "<div>\n",
       "<style scoped>\n",
       "    .dataframe tbody tr th:only-of-type {\n",
       "        vertical-align: middle;\n",
       "    }\n",
       "\n",
       "    .dataframe tbody tr th {\n",
       "        vertical-align: top;\n",
       "    }\n",
       "\n",
       "    .dataframe thead th {\n",
       "        text-align: right;\n",
       "    }\n",
       "</style>\n",
       "<table border=\"1\" class=\"dataframe\">\n",
       "  <thead>\n",
       "    <tr style=\"text-align: right;\">\n",
       "      <th></th>\n",
       "      <th>Category</th>\n",
       "      <th>Clothing</th>\n",
       "      <th>Electronics</th>\n",
       "      <th>Entertainment</th>\n",
       "      <th>Groceries</th>\n",
       "    </tr>\n",
       "    <tr>\n",
       "      <th>Year</th>\n",
       "      <th>Payment Method</th>\n",
       "      <th></th>\n",
       "      <th></th>\n",
       "      <th></th>\n",
       "      <th></th>\n",
       "    </tr>\n",
       "  </thead>\n",
       "  <tbody>\n",
       "    <tr>\n",
       "      <th rowspan=\"4\" valign=\"top\">2024</th>\n",
       "      <th>Cash</th>\n",
       "      <td>5709.71</td>\n",
       "      <td>5182.41</td>\n",
       "      <td>8661.28</td>\n",
       "      <td>6552.53</td>\n",
       "    </tr>\n",
       "    <tr>\n",
       "      <th>Credit Card</th>\n",
       "      <td>5846.53</td>\n",
       "      <td>2976.99</td>\n",
       "      <td>5334.29</td>\n",
       "      <td>7983.28</td>\n",
       "    </tr>\n",
       "    <tr>\n",
       "      <th>Debit Card</th>\n",
       "      <td>4887.89</td>\n",
       "      <td>6997.97</td>\n",
       "      <td>4998.41</td>\n",
       "      <td>5603.41</td>\n",
       "    </tr>\n",
       "    <tr>\n",
       "      <th>PayPal</th>\n",
       "      <td>5225.22</td>\n",
       "      <td>5649.27</td>\n",
       "      <td>7034.34</td>\n",
       "      <td>3945.90</td>\n",
       "    </tr>\n",
       "    <tr>\n",
       "      <th rowspan=\"4\" valign=\"top\">2025</th>\n",
       "      <th>Cash</th>\n",
       "      <td>4651.67</td>\n",
       "      <td>6148.02</td>\n",
       "      <td>5110.80</td>\n",
       "      <td>7717.81</td>\n",
       "    </tr>\n",
       "    <tr>\n",
       "      <th>Credit Card</th>\n",
       "      <td>6843.13</td>\n",
       "      <td>4618.44</td>\n",
       "      <td>5946.31</td>\n",
       "      <td>5828.80</td>\n",
       "    </tr>\n",
       "    <tr>\n",
       "      <th>Debit Card</th>\n",
       "      <td>5801.20</td>\n",
       "      <td>6606.99</td>\n",
       "      <td>7087.51</td>\n",
       "      <td>4554.53</td>\n",
       "    </tr>\n",
       "    <tr>\n",
       "      <th>PayPal</th>\n",
       "      <td>6203.22</td>\n",
       "      <td>5220.53</td>\n",
       "      <td>5592.94</td>\n",
       "      <td>3442.25</td>\n",
       "    </tr>\n",
       "    <tr>\n",
       "      <th rowspan=\"4\" valign=\"top\">2026</th>\n",
       "      <th>Cash</th>\n",
       "      <td>4654.62</td>\n",
       "      <td>5696.04</td>\n",
       "      <td>4436.08</td>\n",
       "      <td>3972.54</td>\n",
       "    </tr>\n",
       "    <tr>\n",
       "      <th>Credit Card</th>\n",
       "      <td>3385.26</td>\n",
       "      <td>3365.21</td>\n",
       "      <td>4772.25</td>\n",
       "      <td>6375.17</td>\n",
       "    </tr>\n",
       "    <tr>\n",
       "      <th>Debit Card</th>\n",
       "      <td>3343.14</td>\n",
       "      <td>3721.00</td>\n",
       "      <td>2278.07</td>\n",
       "      <td>7030.73</td>\n",
       "    </tr>\n",
       "    <tr>\n",
       "      <th>PayPal</th>\n",
       "      <td>2715.40</td>\n",
       "      <td>4239.04</td>\n",
       "      <td>4224.89</td>\n",
       "      <td>4676.99</td>\n",
       "    </tr>\n",
       "  </tbody>\n",
       "</table>\n",
       "</div>"
      ],
      "text/plain": [
       "Category             Clothing  Electronics  Entertainment  Groceries\n",
       "Year Payment Method                                                 \n",
       "2024 Cash             5709.71      5182.41        8661.28    6552.53\n",
       "     Credit Card      5846.53      2976.99        5334.29    7983.28\n",
       "     Debit Card       4887.89      6997.97        4998.41    5603.41\n",
       "     PayPal           5225.22      5649.27        7034.34    3945.90\n",
       "2025 Cash             4651.67      6148.02        5110.80    7717.81\n",
       "     Credit Card      6843.13      4618.44        5946.31    5828.80\n",
       "     Debit Card       5801.20      6606.99        7087.51    4554.53\n",
       "     PayPal           6203.22      5220.53        5592.94    3442.25\n",
       "2026 Cash             4654.62      5696.04        4436.08    3972.54\n",
       "     Credit Card      3385.26      3365.21        4772.25    6375.17\n",
       "     Debit Card       3343.14      3721.00        2278.07    7030.73\n",
       "     PayPal           2715.40      4239.04        4224.89    4676.99"
      ]
     },
     "execution_count": 183,
     "metadata": {},
     "output_type": "execute_result"
    }
   ],
   "source": [
    "dollars_by_method_yr = df.pivot_table(\n",
    "    index=[\"Year\", \"payment_method\"], \n",
    "    columns=\"category\",\n",
    "    values=\"amount\",\n",
    "    aggfunc=\"sum\"\n",
    ")\n",
    "dollars_by_method_yr.index.names = [\"Year\", \"Payment Method\"]\n",
    "dollars_by_method_yr.columns.name = 'Category'\n",
    "dollars_by_method_yr = dollars_by_method_yr.fillna(0)\n",
    "dollars_by_method_yr"
   ]
  },
  {
   "cell_type": "code",
   "execution_count": null,
   "metadata": {},
   "outputs": [],
   "source": []
  }
 ],
 "metadata": {
  "kernelspec": {
   "display_name": "ag-analysis-IiJpPRWS-py3.12",
   "language": "python",
   "name": "python3"
  },
  "language_info": {
   "codemirror_mode": {
    "name": "ipython",
    "version": 3
   },
   "file_extension": ".py",
   "mimetype": "text/x-python",
   "name": "python",
   "nbconvert_exporter": "python",
   "pygments_lexer": "ipython3",
   "version": "3.12.7"
  }
 },
 "nbformat": 4,
 "nbformat_minor": 2
}

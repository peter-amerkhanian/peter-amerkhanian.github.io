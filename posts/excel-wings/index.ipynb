{
 "cells": [
  {
   "attachments": {},
   "cell_type": "markdown",
   "metadata": {},
   "source": [
    "---\n",
    "title: \"Using The Excel Object Model in Python\"\n",
    "bibliography: \"../../blog.bib\"\n",
    "author: \"Peter Amerkhanian\"\n",
    "description: \"Programmatically interact with Excel using `xlwings` and `pywin32` to produce formatted tables.\"\n",
    "date: \"2025-3-12\"\n",
    "image: thumbnail.png\n",
    "draft: false\n",
    "categories: ['Python', 'Data Management']\n",
    "format:\n",
    "  html:\n",
    "    toc: true\n",
    "    toc-depth: 3\n",
    "    code-fold: false\n",
    "    code-tools: true\n",
    "---"
   ]
  },
  {
   "cell_type": "code",
   "execution_count": 21,
   "metadata": {},
   "outputs": [],
   "source": [
    "import pandas as pd\n",
    "import numpy as np\n",
    "import xlwings as xw\n",
    "import os"
   ]
  },
  {
   "attachments": {},
   "cell_type": "markdown",
   "metadata": {},
   "source": [
    "In this post, I'm going to overview how to use Python's `xlwings` and `pywin32` libraries to produce formatted, human-readable tables in Excel. Beyond basic uses of `xlwings`, I'll overview how to leverage `pywin32` and the `.api` attribute to interact directly with the Excel object model using VBA-like Python code. The approach allows one to produce highly customizable Excel tables that should satisfy any audience that prefers formatted spreadsheet output rather than, say, a quarto doc.\n",
    "\n",
    "Alongside this blog post, I've been developing an `excel` submodule in my `swiss-code` package, with various wrapper functions for `xlwings` and `pywin32`. I'll also use this post to showcase that submodule, and specifically the `ExcelDataFrame` class that I've developed to integrate a given `pandas` dataframe with a corresponding table range in Excel."
   ]
  },
  {
   "attachments": {},
   "cell_type": "markdown",
   "metadata": {},
   "source": [
    "## Problem Setup"
   ]
  },
  {
   "cell_type": "code",
   "execution_count": 22,
   "metadata": {},
   "outputs": [],
   "source": [
    "#| code-fold: true\n",
    "#| code-summary: \"Code for dataset generation\"\n",
    "def simulate_df(num_transactions=1000):\n",
    "    np.random.seed(1)\n",
    "    customer_ids = np.random.randint(1000, 5000, num_transactions)\n",
    "    transaction_amounts = np.round(np.random.uniform(5, 500, num_transactions), 2)\n",
    "    payment_methods = np.random.choice([\"Credit Card\", \"Debit Card\", \"PayPal\", \"Cash\"], num_transactions)\n",
    "    categories = np.random.choice([\"Electronics\", \"Clothing\", \"Groceries\", \"Entertainment\"], num_transactions)\n",
    "    transaction_dates = pd.date_range(start=\"2024-01-01\", periods=num_transactions, freq=\"D\")\n",
    "    data = {\n",
    "        \"transaction_id\": range(1, num_transactions + 1),\n",
    "        \"customer_id\": customer_ids,\n",
    "        \"amount\": transaction_amounts,\n",
    "        \"payment_method\": payment_methods,\n",
    "        \"category\": categories,\n",
    "        \"date\": transaction_dates\n",
    "    }\n",
    "    df = pd.DataFrame(data)\n",
    "    df['year'] = df['date'].dt.year.astype(str)\n",
    "    df[\"class\"] = df[\"category\"].map(\n",
    "        {\n",
    "            \"Clothing\": \"Necessity\",\n",
    "            \"Groceries\": \"Necessity\",\n",
    "            \"Electronics\": \"Discretionary\",\n",
    "            \"Entertainment\": \"Discretionary\",\n",
    "        }\n",
    "    )\n",
    "    return df"
   ]
  },
  {
   "attachments": {},
   "cell_type": "markdown",
   "metadata": {},
   "source": [
    "Say we have a dataset of customer transactions at a super store. I simulated this data arbitrarily."
   ]
  },
  {
   "cell_type": "code",
   "execution_count": 23,
   "metadata": {},
   "outputs": [
    {
     "data": {
      "text/html": [
       "<div>\n",
       "<style scoped>\n",
       "    .dataframe tbody tr th:only-of-type {\n",
       "        vertical-align: middle;\n",
       "    }\n",
       "\n",
       "    .dataframe tbody tr th {\n",
       "        vertical-align: top;\n",
       "    }\n",
       "\n",
       "    .dataframe thead th {\n",
       "        text-align: right;\n",
       "    }\n",
       "</style>\n",
       "<table border=\"1\" class=\"dataframe\">\n",
       "  <thead>\n",
       "    <tr style=\"text-align: right;\">\n",
       "      <th></th>\n",
       "      <th>transaction_id</th>\n",
       "      <th>customer_id</th>\n",
       "      <th>amount</th>\n",
       "      <th>payment_method</th>\n",
       "      <th>category</th>\n",
       "      <th>date</th>\n",
       "      <th>year</th>\n",
       "      <th>class</th>\n",
       "    </tr>\n",
       "  </thead>\n",
       "  <tbody>\n",
       "    <tr>\n",
       "      <th>0</th>\n",
       "      <td>1</td>\n",
       "      <td>2061</td>\n",
       "      <td>177.75</td>\n",
       "      <td>Debit Card</td>\n",
       "      <td>Electronics</td>\n",
       "      <td>2024-01-01</td>\n",
       "      <td>2024</td>\n",
       "      <td>Discretionary</td>\n",
       "    </tr>\n",
       "    <tr>\n",
       "      <th>1</th>\n",
       "      <td>2</td>\n",
       "      <td>1235</td>\n",
       "      <td>33.20</td>\n",
       "      <td>Credit Card</td>\n",
       "      <td>Clothing</td>\n",
       "      <td>2024-01-02</td>\n",
       "      <td>2024</td>\n",
       "      <td>Necessity</td>\n",
       "    </tr>\n",
       "    <tr>\n",
       "      <th>2</th>\n",
       "      <td>3</td>\n",
       "      <td>4980</td>\n",
       "      <td>118.26</td>\n",
       "      <td>Credit Card</td>\n",
       "      <td>Groceries</td>\n",
       "      <td>2024-01-03</td>\n",
       "      <td>2024</td>\n",
       "      <td>Necessity</td>\n",
       "    </tr>\n",
       "    <tr>\n",
       "      <th>3</th>\n",
       "      <td>4</td>\n",
       "      <td>2096</td>\n",
       "      <td>333.73</td>\n",
       "      <td>Debit Card</td>\n",
       "      <td>Entertainment</td>\n",
       "      <td>2024-01-04</td>\n",
       "      <td>2024</td>\n",
       "      <td>Discretionary</td>\n",
       "    </tr>\n",
       "    <tr>\n",
       "      <th>4</th>\n",
       "      <td>5</td>\n",
       "      <td>4839</td>\n",
       "      <td>251.14</td>\n",
       "      <td>Credit Card</td>\n",
       "      <td>Electronics</td>\n",
       "      <td>2024-01-05</td>\n",
       "      <td>2024</td>\n",
       "      <td>Discretionary</td>\n",
       "    </tr>\n",
       "  </tbody>\n",
       "</table>\n",
       "</div>"
      ],
      "text/plain": [
       "   transaction_id  customer_id  amount payment_method       category  \\\n",
       "0               1         2061  177.75     Debit Card    Electronics   \n",
       "1               2         1235   33.20    Credit Card       Clothing   \n",
       "2               3         4980  118.26    Credit Card      Groceries   \n",
       "3               4         2096  333.73     Debit Card  Entertainment   \n",
       "4               5         4839  251.14    Credit Card    Electronics   \n",
       "\n",
       "        date  year          class  \n",
       "0 2024-01-01  2024  Discretionary  \n",
       "1 2024-01-02  2024      Necessity  \n",
       "2 2024-01-03  2024      Necessity  \n",
       "3 2024-01-04  2024  Discretionary  \n",
       "4 2024-01-05  2024  Discretionary  "
      ]
     },
     "execution_count": 23,
     "metadata": {},
     "output_type": "execute_result"
    }
   ],
   "source": [
    "df = simulate_df()\n",
    "df.head()"
   ]
  },
  {
   "attachments": {},
   "cell_type": "markdown",
   "metadata": {},
   "source": [
    "Let's imagine the case where a stakeholder asks for a report on the following:  \n",
    "\n",
    "- Total dollars transacted, broken down by key categories and payment method.\n",
    "\n",
    "It's fairly straightforward to use `pandas` to make a pivot table report, complete with human-readable, title-cased indices and columns. In this case, I've aggregated the total dollars spent, dissagregated by payment method and category of good. Some users prefer that the pivot table also include subtotals, and we flexibly add those with `margins=True`."
   ]
  },
  {
   "cell_type": "code",
   "execution_count": 24,
   "metadata": {},
   "outputs": [
    {
     "data": {
      "text/html": [
       "<div>\n",
       "<style scoped>\n",
       "    .dataframe tbody tr th:only-of-type {\n",
       "        vertical-align: middle;\n",
       "    }\n",
       "\n",
       "    .dataframe tbody tr th {\n",
       "        vertical-align: top;\n",
       "    }\n",
       "\n",
       "    .dataframe thead th {\n",
       "        text-align: right;\n",
       "    }\n",
       "</style>\n",
       "<table border=\"1\" class=\"dataframe\">\n",
       "  <thead>\n",
       "    <tr style=\"text-align: right;\">\n",
       "      <th>Category</th>\n",
       "      <th>Clothing</th>\n",
       "      <th>Electronics</th>\n",
       "      <th>Entertainment</th>\n",
       "      <th>Groceries</th>\n",
       "      <th>Total</th>\n",
       "    </tr>\n",
       "    <tr>\n",
       "      <th>Payment Method</th>\n",
       "      <th></th>\n",
       "      <th></th>\n",
       "      <th></th>\n",
       "      <th></th>\n",
       "      <th></th>\n",
       "    </tr>\n",
       "  </thead>\n",
       "  <tbody>\n",
       "    <tr>\n",
       "      <th>Cash</th>\n",
       "      <td>15016.00</td>\n",
       "      <td>17026.47</td>\n",
       "      <td>18208.16</td>\n",
       "      <td>18242.88</td>\n",
       "      <td>68493.51</td>\n",
       "    </tr>\n",
       "    <tr>\n",
       "      <th>Credit Card</th>\n",
       "      <td>16074.92</td>\n",
       "      <td>10960.64</td>\n",
       "      <td>16052.85</td>\n",
       "      <td>20187.25</td>\n",
       "      <td>63275.66</td>\n",
       "    </tr>\n",
       "    <tr>\n",
       "      <th>Debit Card</th>\n",
       "      <td>14032.23</td>\n",
       "      <td>17325.96</td>\n",
       "      <td>14363.99</td>\n",
       "      <td>17188.67</td>\n",
       "      <td>62910.85</td>\n",
       "    </tr>\n",
       "    <tr>\n",
       "      <th>PayPal</th>\n",
       "      <td>14143.84</td>\n",
       "      <td>15108.84</td>\n",
       "      <td>16852.17</td>\n",
       "      <td>12065.14</td>\n",
       "      <td>58169.99</td>\n",
       "    </tr>\n",
       "    <tr>\n",
       "      <th>Total</th>\n",
       "      <td>59266.99</td>\n",
       "      <td>60421.91</td>\n",
       "      <td>65477.17</td>\n",
       "      <td>67683.94</td>\n",
       "      <td>252850.01</td>\n",
       "    </tr>\n",
       "  </tbody>\n",
       "</table>\n",
       "</div>"
      ],
      "text/plain": [
       "Category        Clothing  Electronics  Entertainment  Groceries      Total\n",
       "Payment Method                                                            \n",
       "Cash            15016.00     17026.47       18208.16   18242.88   68493.51\n",
       "Credit Card     16074.92     10960.64       16052.85   20187.25   63275.66\n",
       "Debit Card      14032.23     17325.96       14363.99   17188.67   62910.85\n",
       "PayPal          14143.84     15108.84       16852.17   12065.14   58169.99\n",
       "Total           59266.99     60421.91       65477.17   67683.94  252850.01"
      ]
     },
     "execution_count": 24,
     "metadata": {},
     "output_type": "execute_result"
    }
   ],
   "source": [
    "dollars_by_method = df.pivot_table(\n",
    "    index=\"payment_method\",\n",
    "    columns=\"category\",\n",
    "    values=\"amount\",\n",
    "    aggfunc=\"sum\",\n",
    "    margins=True,\n",
    "    margins_name=\"Total\",\n",
    ")\n",
    "dollars_by_method.index.name = \"Payment Method\"\n",
    "dollars_by_method.columns.name = \"Category\"\n",
    "dollars_by_method"
   ]
  },
  {
   "attachments": {},
   "cell_type": "markdown",
   "metadata": {},
   "source": [
    "That's a fine-enough `pandas` dataframe, but now the question arises of how to best serve this data to the end-user.  \n",
    "\n",
    "There are several options -- lately I've been using Quarto reports or else Tableau dashboards for these sorts of analytics projects. However, those formats are very \"finalized\" and can be a little unsatisfying for end-users who want to further filter or modify table output. If that audience doesn't use R/Python, access to underlying `.ipynb` or `.qmd` files will not be helpful. This is the case where I think that spreadsheet output, and specifically reproducible, formatted Excel worksheets, can be very potent."
   ]
  },
  {
   "cell_type": "code",
   "execution_count": 25,
   "metadata": {},
   "outputs": [
    {
     "data": {
      "image/png": "[encoded data removed]",
      "text/plain": [
       "<Figure size 300x300 with 1 Axes>"
      ]
     },
     "metadata": {},
     "output_type": "display_data"
    }
   ],
   "source": [
    "#| echo: false\n",
    "#| output: false\n",
    "import matplotlib.pyplot as plt\n",
    "import numpy as np\n",
    "\n",
    "np.random.seed(2)\n",
    "rows, cols = 4, 3\n",
    "data = np.random.randint(100, 999, size=(rows, cols))\n",
    "fig, ax = plt.subplots(figsize=(3, 3))\n",
    "\n",
    "for i in range(rows + 1):\n",
    "    for j in range(cols + 1):\n",
    "        # Header row (letters)\n",
    "        if i == 0:\n",
    "            text = chr(65 + j - 1) if j > 0 else \"\"  # A, B, C, etc.\n",
    "            color = \"#404040\"\n",
    "            bgcolor = (.816, .816, .816, .2)\n",
    "            fontsize=16\n",
    "        # Index column (numbers)\n",
    "        elif j == 0:\n",
    "            text = str(i)\n",
    "            color = \"#404040\"\n",
    "            bgcolor = (.816, .816, .816, .2)\n",
    "            fontsize=16\n",
    "        else:\n",
    "            text = np.random.choice([\"☺\", \"☹\"])\n",
    "            color = \"#404040\"\n",
    "            bgcolor = (.122, .467, .706, np.random.uniform()) # Alternating row colors\n",
    "            fontsize=30\n",
    "        ax.add_patch(\n",
    "            plt.Rectangle((j, rows - i), 1, 1, fc=bgcolor, ec=\"white\", lw=3)\n",
    "            )\n",
    "        ax.text(j + 0.5, rows - i + 0.5, text, ha=\"center\", va=\"center\", \n",
    "                fontsize=fontsize, fontfamily=\"monospace\", color=color)\n",
    "        \n",
    "ax.add_patch(plt.Rectangle((0, 0), cols + 1, rows + 1, fill=False, edgecolor=\"white\", lw=5))\n",
    "ax.set_xlim(0, cols + 1)\n",
    "ax.set_ylim(0, rows + 1)\n",
    "ax.set_xticks([])\n",
    "ax.set_yticks([])\n",
    "ax.spines['top'].set_visible(False)\n",
    "ax.spines['right'].set_visible(False)\n",
    "ax.spines['left'].set_visible(False)\n",
    "ax.spines['bottom'].set_visible(False)\n",
    "\n",
    "fig.tight_layout()\n",
    "fig.savefig('thumbnail.png', dpi=300)"
   ]
  },
  {
   "attachments": {},
   "cell_type": "markdown",
   "metadata": {},
   "source": [
    "## Getting connected to Excel"
   ]
  },
  {
   "attachments": {},
   "cell_type": "markdown",
   "metadata": {},
   "source": [
    "To write a `pandas` dataframe out to Excel, we'll work through the Excel/`xlwings` [object hierarchy](https://docs.xlwings.org/en/stable/syntax_overview.html#object-hierarchy):  \n",
    "\n",
    "- Application^[Dealing with the Application object in `xlwings` is optional, and the workflow outlined in this blog just ignores it.] $\\rightarrow$ Work Book $\\rightarrow$ Sheet $\\rightarrow$ Range.  \n",
    "\n",
    "\n",
    "In `xlwings` we'll establish a `xw.Book` object, which either creates or opens an existing excel work book, in this case `test.xlsx`."
   ]
  },
  {
   "cell_type": "code",
   "execution_count": 26,
   "metadata": {},
   "outputs": [
    {
     "data": {
      "text/plain": [
       "<Book [test.xlsx]>"
      ]
     },
     "execution_count": 26,
     "metadata": {},
     "output_type": "execute_result"
    }
   ],
   "source": [
    "filename = \"test.xlsx\"\n",
    "if os.path.exists(filename):\n",
    "        wb = xw.Book(filename)\n",
    "else:\n",
    "    wb = xw.Book()\n",
    "    wb.save(filename)\n",
    "wb"
   ]
  },
  {
   "attachments": {},
   "cell_type": "markdown",
   "metadata": {},
   "source": [
    "Next, we establish an `xw.Sheet` within that `xw.Book` object, in this case I'll call the sheet `first_test`."
   ]
  },
  {
   "cell_type": "code",
   "execution_count": 27,
   "metadata": {},
   "outputs": [
    {
     "data": {
      "text/plain": [
       "<Sheet [test.xlsx]first_test>"
      ]
     },
     "execution_count": 27,
     "metadata": {},
     "output_type": "execute_result"
    }
   ],
   "source": [
    "sheet_name = 'first_test'\n",
    "try:\n",
    "    sheet_new = wb.sheets.add(sheet_name) \n",
    "except ValueError:\n",
    "    sheet_new = wb.sheets[sheet_name]\n",
    "sheet_new"
   ]
  },
  {
   "attachments": {},
   "cell_type": "markdown",
   "metadata": {},
   "source": [
    "At this point, we can select the sheet, `sheet_new`, select a start range, \"A1\", then set it's value with our dataframe object from the previous section, `dollars_by_method`. This will export the full dataframe into the spreadsheet."
   ]
  },
  {
   "cell_type": "code",
   "execution_count": 28,
   "metadata": {},
   "outputs": [],
   "source": [
    "sheet_new.range(\"A1\").options(index=True, header=True).value = dollars_by_method"
   ]
  },
  {
   "attachments": {},
   "cell_type": "markdown",
   "metadata": {},
   "source": [
    "Then, when we save the book, we can inspect the output by opening `text.xlsx`. Note that the data were entered into cell `A1` and expanded as needed."
   ]
  },
  {
   "cell_type": "code",
   "execution_count": 29,
   "metadata": {},
   "outputs": [],
   "source": [
    "wb.save()"
   ]
  },
  {
   "attachments": {},
   "cell_type": "markdown",
   "metadata": {},
   "source": [
    "![](1.png)"
   ]
  },
  {
   "attachments": {},
   "cell_type": "markdown",
   "metadata": {},
   "source": [
    "This is an unattractive table, with no formatting and with poorly fitted columns. This is also equivalent to what we could get if we simply used the `df.to_excel()` method within `pandas`. We'll proceed to format this table, that that is where we get the real value out of `xlwings`."
   ]
  },
  {
   "attachments": {},
   "cell_type": "markdown",
   "metadata": {},
   "source": [
    "## Interacting with the Excel Object Model"
   ]
  },
  {
   "attachments": {},
   "cell_type": "markdown",
   "metadata": {},
   "source": [
    "The most powerful aspect of `xlwings` is that it allows for interacting with the Excel object model -- an API for programmatically editing Excel spreadsheets. One would typically interact with Excel's object model via VBA code, but `xlwings` and `pywin32` together allow for us to use Python for a conceptually similar workflow.  \n",
    "\n",
    "Note that Microsoft provides a few key pieces of documentation that augment [`xlwings`' own API reference](https://docs.xlwings.org/en/stable/api/index.html).\n",
    "\n",
    "1. An overview of the object model concept and typical VBA workflows in [in the \"VBA Programming 101\"](https://learn.microsoft.com/en-us/office/vba/library-reference/concepts/getting-started-with-vba-in-office#vba-programming-101) section of the Official VBA Reference, and,\n",
    "2. A complete reference for the [Excel object model](https://learn.microsoft.com/en-us/office/vba/api/overview/excel/object-model) in the Official VBA Reference.\n"
   ]
  },
  {
   "attachments": {},
   "cell_type": "markdown",
   "metadata": {},
   "source": [
    "![Excel Object Model for VBA Reference](object_model.png){width=80%}"
   ]
  },
  {
   "attachments": {},
   "cell_type": "markdown",
   "metadata": {},
   "source": [
    "We can access the object model API from an `xw.Sheet` object by calling the `.api` attribute:"
   ]
  },
  {
   "cell_type": "code",
   "execution_count": 30,
   "metadata": {},
   "outputs": [
    {
     "data": {
      "text/plain": [
       "<win32com.gen_py.Microsoft Excel 16.0 Object Library._Worksheet instance at 0x2714414253696>"
      ]
     },
     "execution_count": 30,
     "metadata": {},
     "output_type": "execute_result"
    }
   ],
   "source": [
    "sheet_new.api"
   ]
  },
  {
   "attachments": {},
   "cell_type": "markdown",
   "metadata": {},
   "source": [
    "This is an instance of VBA's Worksheet object, which has [a documentation page in the VBA reference](https://learn.microsoft.com/en-us/office/vba/api/excel.worksheet).  \n",
    "\n",
    "![The Worksheet Object](worksheet.png){width=80%}"
   ]
  },
  {
   "attachments": {},
   "cell_type": "markdown",
   "metadata": {},
   "source": [
    "### AutoFit"
   ]
  },
  {
   "attachments": {},
   "cell_type": "markdown",
   "metadata": {},
   "source": [
    "Python objects have attributes and methods, whereas the VBA Worksheet object has properties and methods. One particularly useful property is `UsedRange`, which stores the range of cells that have data. We often access that property when we want to format a table."
   ]
  },
  {
   "cell_type": "code",
   "execution_count": 31,
   "metadata": {},
   "outputs": [
    {
     "data": {
      "text/plain": [
       "<win32com.gen_py.Microsoft Excel 16.0 Object Library.Range instance at 0x2712378707792>"
      ]
     },
     "execution_count": 31,
     "metadata": {},
     "output_type": "execute_result"
    }
   ],
   "source": [
    "sheet_new.api.UsedRange"
   ]
  },
  {
   "attachments": {},
   "cell_type": "markdown",
   "metadata": {},
   "source": [
    "For very popular properties and methods from the Excel object model, such as `UsedRange`, the `xlwings` api has simplified python attributes and methods that allow one to avoid explicity accessing the object model api. E.g. we can call `xw.Sheet.used_range` for similar functionality to `xw.Sheet.UsedRange`."
   ]
  },
  {
   "cell_type": "code",
   "execution_count": 32,
   "metadata": {},
   "outputs": [
    {
     "data": {
      "text/plain": [
       "<Range [test.xlsx]first_test!$A$1:$F$6>"
      ]
     },
     "execution_count": 32,
     "metadata": {},
     "output_type": "execute_result"
    }
   ],
   "source": [
    "sheet_new.used_range"
   ]
  },
  {
   "attachments": {},
   "cell_type": "markdown",
   "metadata": {},
   "source": [
    "I'll stick with the former approach for now."
   ]
  },
  {
   "attachments": {},
   "cell_type": "markdown",
   "metadata": {},
   "source": [
    "From the `UsedRange` attribute, which is a `Range` object, we can access the [EntireColumn](https://learn.microsoft.com/en-us/office/vba/api/excel.range.entirecolumn) property, which selects the entire columns for a given range."
   ]
  },
  {
   "cell_type": "code",
   "execution_count": 33,
   "metadata": {},
   "outputs": [
    {
     "data": {
      "text/plain": [
       "<win32com.gen_py.Microsoft Excel 16.0 Object Library.Range instance at 0x2712379336816>"
      ]
     },
     "execution_count": 33,
     "metadata": {},
     "output_type": "execute_result"
    }
   ],
   "source": [
    "sheet_new.api.UsedRange.EntireColumn"
   ]
  },
  {
   "attachments": {},
   "cell_type": "markdown",
   "metadata": {},
   "source": [
    "This is equivalent to the following selection:"
   ]
  },
  {
   "attachments": {},
   "cell_type": "markdown",
   "metadata": {},
   "source": [
    "![](1.5.png)"
   ]
  },
  {
   "attachments": {},
   "cell_type": "markdown",
   "metadata": {},
   "source": [
    "For that `Range` object, we will now call the [Autofit() method](https://learn.microsoft.com/en-us/office/vba/api/excel.range.autofit)."
   ]
  },
  {
   "cell_type": "code",
   "execution_count": 34,
   "metadata": {},
   "outputs": [
    {
     "data": {
      "text/plain": [
       "True"
      ]
     },
     "execution_count": 34,
     "metadata": {},
     "output_type": "execute_result"
    }
   ],
   "source": [
    "sheet_new.api.UsedRange.EntireColumn.AutoFit()"
   ]
  },
  {
   "attachments": {},
   "cell_type": "markdown",
   "metadata": {},
   "source": [
    "We get the following in Excel:"
   ]
  },
  {
   "attachments": {},
   "cell_type": "markdown",
   "metadata": {},
   "source": [
    "![](2.png)"
   ]
  },
  {
   "attachments": {},
   "cell_type": "markdown",
   "metadata": {},
   "source": [
    "Let's autofit the rows and the columns where there is currently data."
   ]
  },
  {
   "cell_type": "code",
   "execution_count": 35,
   "metadata": {},
   "outputs": [],
   "source": [
    "sheet_new.api.UsedRange.EntireColumn.AutoFit()\n",
    "sheet_new.api.UsedRange.EntireRow.AutoFit()\n",
    "wb.save()"
   ]
  },
  {
   "attachments": {},
   "cell_type": "markdown",
   "metadata": {},
   "source": [
    "### Number Formatting"
   ]
  },
  {
   "attachments": {},
   "cell_type": "markdown",
   "metadata": {},
   "source": [
    "Now we'll move onto formatting the data, which represent dollar totals, as follows:  \n",
    "\n",
    "- `11020` $\\rightarrow$ `$11,020`\n",
    "\n",
    "I'll be using a mix of `xlwings` wrapper methods/attributes, and explicit calls to the Excel object model via `.api`, with no real commitment as to when to use which. Given that we get equivalent results, I'm of the mind that it doesn't particularly matter.  \n",
    "\n",
    "We can apply dollar formatting to any range in Excel via the [NumberFormat](https://learn.microsoft.com/en-us/office/vba/api/excel.range.numberformat) property -- [`number_format`](https://docs.xlwings.org/en/stable/api/range.html#xlwings.Range.number_format) in `xlwings`. But to do that, we'll first need to define a range that captures exactly where there is numerical data.  \n",
    "\n",
    "I'll first select the top row of the sheet and retrieve its values, which are the column headers:"
   ]
  },
  {
   "cell_type": "code",
   "execution_count": 36,
   "metadata": {},
   "outputs": [
    {
     "data": {
      "text/plain": [
       "['Payment Method',\n",
       " 'Clothing',\n",
       " 'Electronics',\n",
       " 'Entertainment',\n",
       " 'Groceries',\n",
       " 'Total']"
      ]
     },
     "execution_count": 36,
     "metadata": {},
     "output_type": "execute_result"
    }
   ],
   "source": [
    "headers = sheet_new.range(\"A1\").expand(\"right\").value\n",
    "headers"
   ]
  },
  {
   "attachments": {},
   "cell_type": "markdown",
   "metadata": {},
   "source": [
    "We now want to access those columns that actually contain data (Payment Method is the index title and doesn't contain data). We'll do this by taking the index of Clothing, the first column with data, adding one,^[Excel indexes from 1 whereas python indexes from 0, so adding 1 will be common in a lot of these workflows]"
   ]
  },
  {
   "cell_type": "code",
   "execution_count": 37,
   "metadata": {},
   "outputs": [
    {
     "data": {
      "text/plain": [
       "2"
      ]
     },
     "execution_count": 37,
     "metadata": {},
     "output_type": "execute_result"
    }
   ],
   "source": [
    "col_index = headers.index('Clothing') + 1\n",
    "col_index"
   ]
  },
  {
   "attachments": {},
   "cell_type": "markdown",
   "metadata": {},
   "source": [
    "then retrieving the letter that corresponds to that index:"
   ]
  },
  {
   "cell_type": "code",
   "execution_count": 38,
   "metadata": {},
   "outputs": [
    {
     "data": {
      "text/plain": [
       "'B'"
      ]
     },
     "execution_count": 38,
     "metadata": {},
     "output_type": "execute_result"
    }
   ],
   "source": [
    "col_letter = xw.utils.col_name(col_index) \n",
    "col_letter"
   ]
  },
  {
   "attachments": {},
   "cell_type": "markdown",
   "metadata": {},
   "source": [
    "Given the column letter, we can now select all of the data in that column:"
   ]
  },
  {
   "cell_type": "code",
   "execution_count": 39,
   "metadata": {},
   "outputs": [
    {
     "data": {
      "text/plain": [
       "'B2:B1000000'"
      ]
     },
     "execution_count": 39,
     "metadata": {},
     "output_type": "execute_result"
    }
   ],
   "source": [
    "selection = f\"{col_letter}2:{col_letter}1000000\"\n",
    "selection"
   ]
  },
  {
   "attachments": {},
   "cell_type": "markdown",
   "metadata": {},
   "source": [
    "Then we can set the number format (see [supported Number format codes](https://support.microsoft.com/en-us/office/number-format-codes-in-excel-for-mac-5026bbd6-04bc-48cd-bf33-80f18b4eae68)):"
   ]
  },
  {
   "cell_type": "code",
   "execution_count": 40,
   "metadata": {},
   "outputs": [],
   "source": [
    "sheet_new.range(selection).number_format = \"$#,###.##\"\n",
    "wb.save()"
   ]
  },
  {
   "attachments": {},
   "cell_type": "markdown",
   "metadata": {},
   "source": [
    "![](3.png)"
   ]
  },
  {
   "attachments": {},
   "cell_type": "markdown",
   "metadata": {},
   "source": [
    "To format all of the data, we'll just iterate through the columns and execute that same chunk of code:"
   ]
  },
  {
   "cell_type": "code",
   "execution_count": 41,
   "metadata": {},
   "outputs": [],
   "source": [
    "for col in dollars_by_method.columns:\n",
    "    col_index = headers.index(col) + 1\n",
    "    col_letter = xw.utils.col_name(col_index)\n",
    "    selection = f\"{col_letter}2:{col_letter}1048576\"\n",
    "    sheet_new.range(selection).number_format = \"$#,###.##\"\n",
    "wb.save()"
   ]
  },
  {
   "attachments": {},
   "cell_type": "markdown",
   "metadata": {},
   "source": [
    "![](4.png)"
   ]
  },
  {
   "attachments": {},
   "cell_type": "markdown",
   "metadata": {},
   "source": [
    "### Text Formatting"
   ]
  },
  {
   "attachments": {},
   "cell_type": "markdown",
   "metadata": {},
   "source": [
    "Now I'd like to bold-format the index to differentiate it from the data.\n",
    "\n",
    "We'll use a similar process to make the column and index headers bold. I'll translate the dataframe's headers into an Excel range as follows -- I retrieve the numerical index of the last column (indexed from 1)"
   ]
  },
  {
   "cell_type": "code",
   "execution_count": 42,
   "metadata": {},
   "outputs": [
    {
     "data": {
      "text/plain": [
       "6"
      ]
     },
     "execution_count": 42,
     "metadata": {},
     "output_type": "execute_result"
    }
   ],
   "source": [
    "last_column_index = dollars_by_method.reset_index().shape[1]\n",
    "last_column_index"
   ]
  },
  {
   "attachments": {},
   "cell_type": "markdown",
   "metadata": {},
   "source": [
    "I translate that into its column letter:"
   ]
  },
  {
   "cell_type": "code",
   "execution_count": 43,
   "metadata": {},
   "outputs": [
    {
     "data": {
      "text/plain": [
       "'F'"
      ]
     },
     "execution_count": 43,
     "metadata": {},
     "output_type": "execute_result"
    }
   ],
   "source": [
    "end_col = xw.utils.col_name(last_column_index)\n",
    "end_col"
   ]
  },
  {
   "attachments": {},
   "cell_type": "markdown",
   "metadata": {},
   "source": [
    "Then I use that to define the range of the columns, which are all in row 1:"
   ]
  },
  {
   "cell_type": "code",
   "execution_count": 44,
   "metadata": {},
   "outputs": [
    {
     "data": {
      "text/plain": [
       "'A1:F1'"
      ]
     },
     "execution_count": 44,
     "metadata": {},
     "output_type": "execute_result"
    }
   ],
   "source": [
    "selection = f\"A1:{end_col}1\"\n",
    "selection"
   ]
  },
  {
   "attachments": {},
   "cell_type": "markdown",
   "metadata": {},
   "source": [
    "With that range selection, we can access the [`.font` attribute in `xlwings`](https://docs.xlwings.org/en/stable/api/font.html), which corresponds to the [Font object](https://learn.microsoft.com/en-us/office/vba/api/excel.font(object)) in the Excel object model, and set `bold = True`."
   ]
  },
  {
   "cell_type": "code",
   "execution_count": 45,
   "metadata": {},
   "outputs": [],
   "source": [
    "header_range = sheet_new.range(selection)\n",
    "header_range.font.bold = True\n",
    "wb.save()"
   ]
  },
  {
   "attachments": {},
   "cell_type": "markdown",
   "metadata": {},
   "source": [
    "![](5.png)"
   ]
  },
  {
   "attachments": {},
   "cell_type": "markdown",
   "metadata": {},
   "source": [
    "I'll do the same with the index, capturing its range then setting `bold = True`"
   ]
  },
  {
   "cell_type": "code",
   "execution_count": 46,
   "metadata": {},
   "outputs": [
    {
     "data": {
      "text/plain": [
       "'A1:A6'"
      ]
     },
     "execution_count": 46,
     "metadata": {},
     "output_type": "execute_result"
    }
   ],
   "source": [
    "end_row = dollars_by_method.reset_index().shape[0] + 1\n",
    "selection = f\"A1:A{end_row}\"\n",
    "selection"
   ]
  },
  {
   "cell_type": "code",
   "execution_count": 47,
   "metadata": {},
   "outputs": [],
   "source": [
    "header_range = sheet_new.range(selection)\n",
    "header_range.font.bold = True\n",
    "wb.save()"
   ]
  },
  {
   "attachments": {},
   "cell_type": "markdown",
   "metadata": {},
   "source": [
    "![](6.png)"
   ]
  },
  {
   "attachments": {},
   "cell_type": "markdown",
   "metadata": {},
   "source": [
    "### Shading and Borders"
   ]
  },
  {
   "attachments": {},
   "cell_type": "markdown",
   "metadata": {},
   "source": [
    "To finish the formatting, I'd also like to shade in the grand total column/row so as to differentiate it from unaggregated data, and add basic black borders on all cells.  \n",
    "\n",
    "We'll be doing much the same as before when it comes to shading in rows/columns -- we define a range that captures an entire target row/column, then access the appropriate object to format that range. I'll reuse the `end_col` and `end_row` values defined above to get the range of the last column"
   ]
  },
  {
   "cell_type": "code",
   "execution_count": 48,
   "metadata": {},
   "outputs": [
    {
     "data": {
      "text/plain": [
       "'F1:F6'"
      ]
     },
     "execution_count": 48,
     "metadata": {},
     "output_type": "execute_result"
    }
   ],
   "source": [
    "total_col = f\"{end_col}1:{end_col}{end_row}\"\n",
    "total_col"
   ]
  },
  {
   "attachments": {},
   "cell_type": "markdown",
   "metadata": {},
   "source": [
    "In excel, we set colors using RGB codes, which I like to get from [https://htmlcolorcodes.com/](https://htmlcolorcodes.com/), though any color-swatch site should suffice."
   ]
  },
  {
   "cell_type": "code",
   "execution_count": 49,
   "metadata": {},
   "outputs": [
    {
     "name": "stdout",
     "output_type": "stream",
     "text": [
      "Total Column: F1:F6 \n",
      "Total Row: A6:F6\n"
     ]
    }
   ],
   "source": [
    "total_col = f\"{end_col}1:{end_col}{end_row}\"\n",
    "sheet_new.range(total_col).color = (242, 242, 242)\n",
    "total_row = f\"A{end_row}:{end_col}{end_row}\"\n",
    "sheet_new.range(total_row).color = (242, 242, 242)\n",
    "print(\"Total Column:\", total_col, \"\\nTotal Row:\", total_row)\n",
    "wb.save()"
   ]
  },
  {
   "attachments": {},
   "cell_type": "markdown",
   "metadata": {},
   "source": [
    "![](7.png)"
   ]
  },
  {
   "attachments": {},
   "cell_type": "markdown",
   "metadata": {},
   "source": [
    "For defining borders, we'll just access the [Borders object](https://learn.microsoft.com/en-us/office/vba/api/excel.borders) from the UsedRange, so that we apply the borders only where there is currently data. We set two properties for the Border:  \n",
    "\n",
    "- [LineStyle](https://learn.microsoft.com/en-us/office/vba/api/excel.xllinestyle), e.g. solid versus dashed.\n",
    "- [Weight](https://learn.microsoft.com/en-us/office/vba/api/excel.xlborderweight), e.g. hairline versus thick.\n",
    "- There are several other properties we can change as needed in the [Border object's properties](https://learn.microsoft.com/en-us/office/vba/api/excel.borders#properties), but I typically just focus on style and weight.^[I found out about these pages through this [excellent stackoverflow answer](https://stackoverflow.com/questions/73014614/win32com-linestyle-excel/73015199#73015199)]"
   ]
  },
  {
   "cell_type": "code",
   "execution_count": 50,
   "metadata": {},
   "outputs": [],
   "source": [
    "sheet_new.used_range.api.Borders.LineStyle = 1\n",
    "sheet_new.used_range.api.Borders.Weight = 2\n",
    "wb.save()"
   ]
  },
  {
   "attachments": {},
   "cell_type": "markdown",
   "metadata": {},
   "source": [
    "![](8.png)"
   ]
  },
  {
   "attachments": {},
   "cell_type": "markdown",
   "metadata": {},
   "source": [
    "## A Package approach"
   ]
  },
  {
   "attachments": {},
   "cell_type": "markdown",
   "metadata": {},
   "source": [
    "`xlwings` is great, but sometimes bridging the gap between working on a `pandas` dataframe and an Excel object can be a little involved. For example, formatting a column requires finding that column within Excel then programatically defining its range, being mindful of the different numerical indexing systems in Python vs. Excel, potential issues with `pd.MultiIndex` objects, etc.  \n",
    "\n",
    "This can require a lot of code, so I defined a set of wrapper functions, and eventually an entire class, `ExcelDataFrame`, to facilitate moving between `pandas` and Excel. This class is part of the submodule, `swiss_code.excel`, which is a part of my [larger `swiss_code` package](https://github.com/peter-amerkhanian/swiss-code).  \n",
    "\n",
    "You can download as follows:"
   ]
  },
  {
   "attachments": {},
   "cell_type": "markdown",
   "metadata": {},
   "source": [
    "```\n",
    "pip install git+https://github.com/peter-amerkhanian/swiss-code.git@main\n",
    "```"
   ]
  },
  {
   "cell_type": "code",
   "execution_count": 51,
   "metadata": {},
   "outputs": [],
   "source": [
    "#| code-fold: true\n",
    "#| code-summary: \"My environment specific setup\"\n",
    "#| output: false\n",
    "import sys\n",
    "sys.path.append('../../../swiss-code/src')\n",
    "%load_ext autoreload\n",
    "%autoreload 2"
   ]
  },
  {
   "attachments": {},
   "cell_type": "markdown",
   "metadata": {},
   "source": [
    "Once you have the package installed, you can import the `excel` submodule."
   ]
  },
  {
   "cell_type": "code",
   "execution_count": 52,
   "metadata": {},
   "outputs": [],
   "source": [
    "from swiss_code.excel import excel"
   ]
  },
  {
   "attachments": {},
   "cell_type": "markdown",
   "metadata": {},
   "source": [
    "Given a `pandas` dataframe and an Excel sheet, we can establish an `ExcelDataFrame` object via the `excel.write_df_to_excel` function. This will write the `pandas` dataframe into the Excel sheet, and establish an object that can be further manipulated."
   ]
  },
  {
   "cell_type": "code",
   "execution_count": 53,
   "metadata": {},
   "outputs": [
    {
     "data": {
      "text/plain": [
       "ACTIVE ExcelDataFrame(sheet=function_sheet, range=$A$1:$F$6, df_shape=(5, 5))"
      ]
     },
     "execution_count": 53,
     "metadata": {},
     "output_type": "execute_result"
    }
   ],
   "source": [
    "wb = excel.get_or_create_workbook(\"test.xlsx\")\n",
    "function_sheet = excel.select_sheet('function_sheet', wb)\n",
    "edf = excel.write_df_to_excel(df=dollars_by_method,\n",
    "                              sheet=function_sheet,\n",
    "                              cell_start=\"A1\")\n",
    "edf"
   ]
  },
  {
   "attachments": {},
   "cell_type": "markdown",
   "metadata": {},
   "source": [
    "We'll now complete all the same formatting tasks as before via method calls:"
   ]
  },
  {
   "cell_type": "code",
   "execution_count": 54,
   "metadata": {},
   "outputs": [],
   "source": [
    "for col in edf.df.columns:\n",
    "    edf.format_column_data(col, format=\"$#,###.##\")\n",
    "edf.make_borders()\n",
    "edf.format_indices(bold=True, color=None)\n",
    "edf.format_row('Total', bold=\"ignore\", color=\"light_grey\")\n",
    "edf.format_column('Total', bold=\"ignore\", color=\"light_grey\")\n",
    "excel.close_out_book(wb)"
   ]
  },
  {
   "attachments": {},
   "cell_type": "markdown",
   "metadata": {},
   "source": [
    "Once `excel.close_out_book(wb)` has been called, the `edf` no longer has an active connection to any workbook. "
   ]
  },
  {
   "cell_type": "code",
   "execution_count": 55,
   "metadata": {},
   "outputs": [
    {
     "data": {
      "text/plain": [
       " DISCONNECTED ExcelDataFrame(sheet=NA, range=NA, df_shape=(5, 5))"
      ]
     },
     "execution_count": 55,
     "metadata": {},
     "output_type": "execute_result"
    }
   ],
   "source": [
    "edf"
   ]
  },
  {
   "attachments": {},
   "cell_type": "markdown",
   "metadata": {},
   "source": [
    "## Complex Tables"
   ]
  },
  {
   "attachments": {},
   "cell_type": "markdown",
   "metadata": {},
   "source": [
    "I'll show some further functionality of the `ExcelDataFrame` class in the case of a much more complicated pivot table. Let's say that a stakeholder wants something like the previous report, but with more disaggregation:  \n",
    "\n",
    "- Total dollars transacted, broken down by discretionary vs. essential, and broken down by key categories and payment method, for each year available. Include subtotals for each year.  \n",
    "\n",
    "This is a fairly complex pivot table, and requires a little bit for code beyond just `pd.pivot_table`. I'll iterate over years and generate pivot tables with subtotals for each, then I'll concatenate them together:"
   ]
  },
  {
   "cell_type": "code",
   "execution_count": 56,
   "metadata": {},
   "outputs": [
    {
     "data": {
      "text/html": [
       "<div>\n",
       "<style scoped>\n",
       "    .dataframe tbody tr th:only-of-type {\n",
       "        vertical-align: middle;\n",
       "    }\n",
       "\n",
       "    .dataframe tbody tr th {\n",
       "        vertical-align: top;\n",
       "    }\n",
       "\n",
       "    .dataframe thead tr th {\n",
       "        text-align: left;\n",
       "    }\n",
       "\n",
       "    .dataframe thead tr:last-of-type th {\n",
       "        text-align: right;\n",
       "    }\n",
       "</style>\n",
       "<table border=\"1\" class=\"dataframe\">\n",
       "  <thead>\n",
       "    <tr>\n",
       "      <th></th>\n",
       "      <th>class</th>\n",
       "      <th colspan=\"2\" halign=\"left\">Discretionary</th>\n",
       "      <th colspan=\"2\" halign=\"left\">Necessity</th>\n",
       "      <th>Total</th>\n",
       "    </tr>\n",
       "    <tr>\n",
       "      <th></th>\n",
       "      <th>category</th>\n",
       "      <th>Electronics</th>\n",
       "      <th>Entertainment</th>\n",
       "      <th>Clothing</th>\n",
       "      <th>Groceries</th>\n",
       "      <th></th>\n",
       "    </tr>\n",
       "    <tr>\n",
       "      <th>Year</th>\n",
       "      <th>payment_method</th>\n",
       "      <th></th>\n",
       "      <th></th>\n",
       "      <th></th>\n",
       "      <th></th>\n",
       "      <th></th>\n",
       "    </tr>\n",
       "  </thead>\n",
       "  <tbody>\n",
       "    <tr>\n",
       "      <th rowspan=\"5\" valign=\"top\">2024</th>\n",
       "      <th>Cash</th>\n",
       "      <td>5182.41</td>\n",
       "      <td>8661.28</td>\n",
       "      <td>5709.71</td>\n",
       "      <td>6552.53</td>\n",
       "      <td>26105.93</td>\n",
       "    </tr>\n",
       "    <tr>\n",
       "      <th>Credit Card</th>\n",
       "      <td>2976.99</td>\n",
       "      <td>5334.29</td>\n",
       "      <td>5846.53</td>\n",
       "      <td>7983.28</td>\n",
       "      <td>22141.09</td>\n",
       "    </tr>\n",
       "    <tr>\n",
       "      <th>Debit Card</th>\n",
       "      <td>6997.97</td>\n",
       "      <td>4998.41</td>\n",
       "      <td>4887.89</td>\n",
       "      <td>5603.41</td>\n",
       "      <td>22487.68</td>\n",
       "    </tr>\n",
       "    <tr>\n",
       "      <th>PayPal</th>\n",
       "      <td>5649.27</td>\n",
       "      <td>7034.34</td>\n",
       "      <td>5225.22</td>\n",
       "      <td>3945.90</td>\n",
       "      <td>21854.73</td>\n",
       "    </tr>\n",
       "    <tr>\n",
       "      <th>Total</th>\n",
       "      <td>20806.64</td>\n",
       "      <td>26028.32</td>\n",
       "      <td>21669.35</td>\n",
       "      <td>24085.12</td>\n",
       "      <td>92589.43</td>\n",
       "    </tr>\n",
       "    <tr>\n",
       "      <th rowspan=\"5\" valign=\"top\">2025</th>\n",
       "      <th>Cash</th>\n",
       "      <td>6148.02</td>\n",
       "      <td>5110.80</td>\n",
       "      <td>4651.67</td>\n",
       "      <td>7717.81</td>\n",
       "      <td>23628.30</td>\n",
       "    </tr>\n",
       "    <tr>\n",
       "      <th>Credit Card</th>\n",
       "      <td>4618.44</td>\n",
       "      <td>5946.31</td>\n",
       "      <td>6843.13</td>\n",
       "      <td>5828.80</td>\n",
       "      <td>23236.68</td>\n",
       "    </tr>\n",
       "    <tr>\n",
       "      <th>Debit Card</th>\n",
       "      <td>6606.99</td>\n",
       "      <td>7087.51</td>\n",
       "      <td>5801.20</td>\n",
       "      <td>4554.53</td>\n",
       "      <td>24050.23</td>\n",
       "    </tr>\n",
       "    <tr>\n",
       "      <th>PayPal</th>\n",
       "      <td>5220.53</td>\n",
       "      <td>5592.94</td>\n",
       "      <td>6203.22</td>\n",
       "      <td>3442.25</td>\n",
       "      <td>20458.94</td>\n",
       "    </tr>\n",
       "    <tr>\n",
       "      <th>Total</th>\n",
       "      <td>22593.98</td>\n",
       "      <td>23737.56</td>\n",
       "      <td>23499.22</td>\n",
       "      <td>21543.39</td>\n",
       "      <td>91374.15</td>\n",
       "    </tr>\n",
       "    <tr>\n",
       "      <th rowspan=\"5\" valign=\"top\">2026</th>\n",
       "      <th>Cash</th>\n",
       "      <td>5696.04</td>\n",
       "      <td>4436.08</td>\n",
       "      <td>4654.62</td>\n",
       "      <td>3972.54</td>\n",
       "      <td>18759.28</td>\n",
       "    </tr>\n",
       "    <tr>\n",
       "      <th>Credit Card</th>\n",
       "      <td>3365.21</td>\n",
       "      <td>4772.25</td>\n",
       "      <td>3385.26</td>\n",
       "      <td>6375.17</td>\n",
       "      <td>17897.89</td>\n",
       "    </tr>\n",
       "    <tr>\n",
       "      <th>Debit Card</th>\n",
       "      <td>3721.00</td>\n",
       "      <td>2278.07</td>\n",
       "      <td>3343.14</td>\n",
       "      <td>7030.73</td>\n",
       "      <td>16372.94</td>\n",
       "    </tr>\n",
       "    <tr>\n",
       "      <th>PayPal</th>\n",
       "      <td>4239.04</td>\n",
       "      <td>4224.89</td>\n",
       "      <td>2715.40</td>\n",
       "      <td>4676.99</td>\n",
       "      <td>15856.32</td>\n",
       "    </tr>\n",
       "    <tr>\n",
       "      <th>Total</th>\n",
       "      <td>17021.29</td>\n",
       "      <td>15711.29</td>\n",
       "      <td>14098.42</td>\n",
       "      <td>22055.43</td>\n",
       "      <td>68886.43</td>\n",
       "    </tr>\n",
       "  </tbody>\n",
       "</table>\n",
       "</div>"
      ],
      "text/plain": [
       "class               Discretionary               Necessity               Total\n",
       "category              Electronics Entertainment  Clothing Groceries          \n",
       "Year payment_method                                                          \n",
       "2024 Cash                 5182.41       8661.28   5709.71   6552.53  26105.93\n",
       "     Credit Card          2976.99       5334.29   5846.53   7983.28  22141.09\n",
       "     Debit Card           6997.97       4998.41   4887.89   5603.41  22487.68\n",
       "     PayPal               5649.27       7034.34   5225.22   3945.90  21854.73\n",
       "     Total               20806.64      26028.32  21669.35  24085.12  92589.43\n",
       "2025 Cash                 6148.02       5110.80   4651.67   7717.81  23628.30\n",
       "     Credit Card          4618.44       5946.31   6843.13   5828.80  23236.68\n",
       "     Debit Card           6606.99       7087.51   5801.20   4554.53  24050.23\n",
       "     PayPal               5220.53       5592.94   6203.22   3442.25  20458.94\n",
       "     Total               22593.98      23737.56  23499.22  21543.39  91374.15\n",
       "2026 Cash                 5696.04       4436.08   4654.62   3972.54  18759.28\n",
       "     Credit Card          3365.21       4772.25   3385.26   6375.17  17897.89\n",
       "     Debit Card           3721.00       2278.07   3343.14   7030.73  16372.94\n",
       "     PayPal               4239.04       4224.89   2715.40   4676.99  15856.32\n",
       "     Total               17021.29      15711.29  14098.42  22055.43  68886.43"
      ]
     },
     "execution_count": 56,
     "metadata": {},
     "output_type": "execute_result"
    }
   ],
   "source": [
    "# Year Pivots w/ subtotals\n",
    "dollars_by_method_yr = pd.concat(\n",
    "    [df[df['year'] == year]\n",
    "     .pivot_table(index=[\"payment_method\"], \n",
    "                  columns=[\"class\", \"category\"],\n",
    "                  values=\"amount\",\n",
    "                  aggfunc=\"sum\",\n",
    "                  margins=True,\n",
    "                  margins_name=\"Total\")\n",
    "                  .reset_index()\n",
    "                  .assign(Year=year)\n",
    "                  .set_index(['Year', 'payment_method'])\n",
    "                  for year in ['2024', '2025', '2026']],\n",
    "                  axis=0)\n",
    "dollars_by_method_yr = dollars_by_method_yr.fillna(0)\n",
    "dollars_by_method_yr"
   ]
  },
  {
   "attachments": {},
   "cell_type": "markdown",
   "metadata": {},
   "source": [
    "Then I'll attach a grand total at the bottom:"
   ]
  },
  {
   "cell_type": "code",
   "execution_count": 57,
   "metadata": {},
   "outputs": [
    {
     "data": {
      "text/html": [
       "<div>\n",
       "<style scoped>\n",
       "    .dataframe tbody tr th:only-of-type {\n",
       "        vertical-align: middle;\n",
       "    }\n",
       "\n",
       "    .dataframe tbody tr th {\n",
       "        vertical-align: top;\n",
       "    }\n",
       "\n",
       "    .dataframe thead tr th {\n",
       "        text-align: left;\n",
       "    }\n",
       "\n",
       "    .dataframe thead tr:last-of-type th {\n",
       "        text-align: right;\n",
       "    }\n",
       "</style>\n",
       "<table border=\"1\" class=\"dataframe\">\n",
       "  <thead>\n",
       "    <tr>\n",
       "      <th></th>\n",
       "      <th>Class</th>\n",
       "      <th colspan=\"2\" halign=\"left\">Discretionary</th>\n",
       "      <th colspan=\"2\" halign=\"left\">Necessity</th>\n",
       "      <th>Total</th>\n",
       "    </tr>\n",
       "    <tr>\n",
       "      <th></th>\n",
       "      <th>Category</th>\n",
       "      <th>Electronics</th>\n",
       "      <th>Entertainment</th>\n",
       "      <th>Clothing</th>\n",
       "      <th>Groceries</th>\n",
       "      <th></th>\n",
       "    </tr>\n",
       "    <tr>\n",
       "      <th>Year</th>\n",
       "      <th>Payment Method</th>\n",
       "      <th></th>\n",
       "      <th></th>\n",
       "      <th></th>\n",
       "      <th></th>\n",
       "      <th></th>\n",
       "    </tr>\n",
       "  </thead>\n",
       "  <tbody>\n",
       "    <tr>\n",
       "      <th rowspan=\"5\" valign=\"top\">2024</th>\n",
       "      <th>Cash</th>\n",
       "      <td>5182.41</td>\n",
       "      <td>8661.28</td>\n",
       "      <td>5709.71</td>\n",
       "      <td>6552.53</td>\n",
       "      <td>26105.93</td>\n",
       "    </tr>\n",
       "    <tr>\n",
       "      <th>Credit Card</th>\n",
       "      <td>2976.99</td>\n",
       "      <td>5334.29</td>\n",
       "      <td>5846.53</td>\n",
       "      <td>7983.28</td>\n",
       "      <td>22141.09</td>\n",
       "    </tr>\n",
       "    <tr>\n",
       "      <th>Debit Card</th>\n",
       "      <td>6997.97</td>\n",
       "      <td>4998.41</td>\n",
       "      <td>4887.89</td>\n",
       "      <td>5603.41</td>\n",
       "      <td>22487.68</td>\n",
       "    </tr>\n",
       "    <tr>\n",
       "      <th>PayPal</th>\n",
       "      <td>5649.27</td>\n",
       "      <td>7034.34</td>\n",
       "      <td>5225.22</td>\n",
       "      <td>3945.90</td>\n",
       "      <td>21854.73</td>\n",
       "    </tr>\n",
       "    <tr>\n",
       "      <th>Total</th>\n",
       "      <td>20806.64</td>\n",
       "      <td>26028.32</td>\n",
       "      <td>21669.35</td>\n",
       "      <td>24085.12</td>\n",
       "      <td>92589.43</td>\n",
       "    </tr>\n",
       "    <tr>\n",
       "      <th rowspan=\"5\" valign=\"top\">2025</th>\n",
       "      <th>Cash</th>\n",
       "      <td>6148.02</td>\n",
       "      <td>5110.80</td>\n",
       "      <td>4651.67</td>\n",
       "      <td>7717.81</td>\n",
       "      <td>23628.30</td>\n",
       "    </tr>\n",
       "    <tr>\n",
       "      <th>Credit Card</th>\n",
       "      <td>4618.44</td>\n",
       "      <td>5946.31</td>\n",
       "      <td>6843.13</td>\n",
       "      <td>5828.80</td>\n",
       "      <td>23236.68</td>\n",
       "    </tr>\n",
       "    <tr>\n",
       "      <th>Debit Card</th>\n",
       "      <td>6606.99</td>\n",
       "      <td>7087.51</td>\n",
       "      <td>5801.20</td>\n",
       "      <td>4554.53</td>\n",
       "      <td>24050.23</td>\n",
       "    </tr>\n",
       "    <tr>\n",
       "      <th>PayPal</th>\n",
       "      <td>5220.53</td>\n",
       "      <td>5592.94</td>\n",
       "      <td>6203.22</td>\n",
       "      <td>3442.25</td>\n",
       "      <td>20458.94</td>\n",
       "    </tr>\n",
       "    <tr>\n",
       "      <th>Total</th>\n",
       "      <td>22593.98</td>\n",
       "      <td>23737.56</td>\n",
       "      <td>23499.22</td>\n",
       "      <td>21543.39</td>\n",
       "      <td>91374.15</td>\n",
       "    </tr>\n",
       "    <tr>\n",
       "      <th rowspan=\"5\" valign=\"top\">2026</th>\n",
       "      <th>Cash</th>\n",
       "      <td>5696.04</td>\n",
       "      <td>4436.08</td>\n",
       "      <td>4654.62</td>\n",
       "      <td>3972.54</td>\n",
       "      <td>18759.28</td>\n",
       "    </tr>\n",
       "    <tr>\n",
       "      <th>Credit Card</th>\n",
       "      <td>3365.21</td>\n",
       "      <td>4772.25</td>\n",
       "      <td>3385.26</td>\n",
       "      <td>6375.17</td>\n",
       "      <td>17897.89</td>\n",
       "    </tr>\n",
       "    <tr>\n",
       "      <th>Debit Card</th>\n",
       "      <td>3721.00</td>\n",
       "      <td>2278.07</td>\n",
       "      <td>3343.14</td>\n",
       "      <td>7030.73</td>\n",
       "      <td>16372.94</td>\n",
       "    </tr>\n",
       "    <tr>\n",
       "      <th>PayPal</th>\n",
       "      <td>4239.04</td>\n",
       "      <td>4224.89</td>\n",
       "      <td>2715.40</td>\n",
       "      <td>4676.99</td>\n",
       "      <td>15856.32</td>\n",
       "    </tr>\n",
       "    <tr>\n",
       "      <th>Total</th>\n",
       "      <td>17021.29</td>\n",
       "      <td>15711.29</td>\n",
       "      <td>14098.42</td>\n",
       "      <td>22055.43</td>\n",
       "      <td>68886.43</td>\n",
       "    </tr>\n",
       "    <tr>\n",
       "      <th>Grand Total</th>\n",
       "      <th></th>\n",
       "      <td>60421.91</td>\n",
       "      <td>65477.17</td>\n",
       "      <td>59266.99</td>\n",
       "      <td>67683.94</td>\n",
       "      <td>252850.01</td>\n",
       "    </tr>\n",
       "  </tbody>\n",
       "</table>\n",
       "</div>"
      ],
      "text/plain": [
       "Class                      Discretionary               Necessity            \\\n",
       "Category                     Electronics Entertainment  Clothing Groceries   \n",
       "Year        Payment Method                                                   \n",
       "2024        Cash                 5182.41       8661.28   5709.71   6552.53   \n",
       "            Credit Card          2976.99       5334.29   5846.53   7983.28   \n",
       "            Debit Card           6997.97       4998.41   4887.89   5603.41   \n",
       "            PayPal               5649.27       7034.34   5225.22   3945.90   \n",
       "            Total               20806.64      26028.32  21669.35  24085.12   \n",
       "2025        Cash                 6148.02       5110.80   4651.67   7717.81   \n",
       "            Credit Card          4618.44       5946.31   6843.13   5828.80   \n",
       "            Debit Card           6606.99       7087.51   5801.20   4554.53   \n",
       "            PayPal               5220.53       5592.94   6203.22   3442.25   \n",
       "            Total               22593.98      23737.56  23499.22  21543.39   \n",
       "2026        Cash                 5696.04       4436.08   4654.62   3972.54   \n",
       "            Credit Card          3365.21       4772.25   3385.26   6375.17   \n",
       "            Debit Card           3721.00       2278.07   3343.14   7030.73   \n",
       "            PayPal               4239.04       4224.89   2715.40   4676.99   \n",
       "            Total               17021.29      15711.29  14098.42  22055.43   \n",
       "Grand Total                     60421.91      65477.17  59266.99  67683.94   \n",
       "\n",
       "Class                           Total  \n",
       "Category                               \n",
       "Year        Payment Method             \n",
       "2024        Cash             26105.93  \n",
       "            Credit Card      22141.09  \n",
       "            Debit Card       22487.68  \n",
       "            PayPal           21854.73  \n",
       "            Total            92589.43  \n",
       "2025        Cash             23628.30  \n",
       "            Credit Card      23236.68  \n",
       "            Debit Card       24050.23  \n",
       "            PayPal           20458.94  \n",
       "            Total            91374.15  \n",
       "2026        Cash             18759.28  \n",
       "            Credit Card      17897.89  \n",
       "            Debit Card       16372.94  \n",
       "            PayPal           15856.32  \n",
       "            Total            68886.43  \n",
       "Grand Total                 252850.01  "
      ]
     },
     "execution_count": 57,
     "metadata": {},
     "output_type": "execute_result"
    }
   ],
   "source": [
    "# Grand Total\n",
    "dollars_by_method_yr.loc[(\"Grand Total\", \"\"), :] = (\n",
    "    df.pivot_table(\n",
    "        index=[\"class\", \"category\"],\n",
    "        values=\"amount\",\n",
    "        aggfunc=\"sum\",\n",
    "        margins=True,\n",
    "        margins_name=\"Total\"\n",
    "        )[\"amount\"]\n",
    "        )\n",
    "# Table Formatting\n",
    "dollars_by_method_yr.index.names = [\"Year\", \"Payment Method\"]\n",
    "dollars_by_method_yr.columns.names = ['Class', 'Category']\n",
    "dollars_by_method_yr"
   ]
  },
  {
   "attachments": {},
   "cell_type": "markdown",
   "metadata": {},
   "source": [
    "Getting that complex table into a formatted Excel table presents a couple complications:  \n",
    "\n",
    "- There is a multi-index, which `pandas` presents as merged. In Excel, these merged multi-indexes will just render with the value repeated over the merged range.\n",
    "- We will want to shade and bold all subtotals to match the previous table's formatting. This will be a little more difficult given that they exist for each year."
   ]
  },
  {
   "cell_type": "code",
   "execution_count": 58,
   "metadata": {},
   "outputs": [],
   "source": [
    "wb = excel.get_or_create_workbook(\"test.xlsx\")\n",
    "complex_sheet = excel.select_sheet('complex_sheet', wb)\n",
    "edf = excel.write_df_to_excel(dollars_by_method_yr,\n",
    "                              complex_sheet,\n",
    "                              cell_start=\"A1\")"
   ]
  },
  {
   "attachments": {},
   "cell_type": "markdown",
   "metadata": {},
   "source": [
    "![](9.png)"
   ]
  },
  {
   "attachments": {},
   "cell_type": "markdown",
   "metadata": {},
   "source": [
    "I've defined a suit of methods to deal with this -- notably `edf.merge_axis` for dealing with any cell merging problems, and I can use simple for loops to format the \"total\" rows. I also added in some vertical and horizontal alignment options when formatting."
   ]
  },
  {
   "cell_type": "code",
   "execution_count": 59,
   "metadata": {},
   "outputs": [],
   "source": [
    "edf.merge_axis(index=1, axis=1)\n",
    "edf.merge_axis(index=1, axis=0)\n",
    "edf.format_indices(bold=True, color=\"light_grey\", v_align='Center', h_align='Center')\n",
    "for col in edf.df.columns:\n",
    "    edf.format_column_data(col, format=\"$#,###.##\")\n",
    "for year in df['year'].unique():\n",
    "    edf.format_row((year, 'Total'), bold=True, color=\"light_grey\")\n",
    "edf.format_row(('Grand Total', ''), bold=True, color=\"light_grey\")\n",
    "edf.format_column(('Total', ''), bold=True, color=\"light_grey\")\n",
    "edf.make_borders()\n",
    "excel.close_out_book(wb)"
   ]
  },
  {
   "attachments": {},
   "cell_type": "markdown",
   "metadata": {},
   "source": [
    "![](complex.png)"
   ]
  },
  {
   "attachments": {},
   "cell_type": "markdown",
   "metadata": {},
   "source": [
    "This package is a work in progress, so feel free to let me know if you have any ideas of how the design could be improved!"
   ]
  }
 ],
 "metadata": {
  "kernelspec": {
   "display_name": "swiss-code-Qtyaj3Rb-py3.12",
   "language": "python",
   "name": "python3"
  },
  "language_info": {
   "codemirror_mode": {
    "name": "ipython",
    "version": 3
   },
   "file_extension": ".py",
   "mimetype": "text/x-python",
   "name": "python",
   "nbconvert_exporter": "python",
   "pygments_lexer": "ipython3",
   "version": "3.12.7"
  }
 },
 "nbformat": 4,
 "nbformat_minor": 2
}

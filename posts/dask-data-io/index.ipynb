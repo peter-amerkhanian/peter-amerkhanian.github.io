{
 "cells": [
  {
   "attachments": {},
   "cell_type": "markdown",
   "metadata": {},
   "source": [
    "---\n",
    "title: \"Scraping with `bs4`, parquet, and `dask`\"\n",
    "bibliography: \"../../blog.bib\"\n",
    "author: \"Peter Amerkhanian\"\n",
    "date: \"2024-4-12\"\n",
    "image: thumbnail.png\n",
    "draft: false\n",
    "categories: ['Python', 'Data Management']\n",
    "format:\n",
    "  html:\n",
    "    toc: true\n",
    "    toc-depth: 3\n",
    "    code-fold: false\n",
    "    code-tools: true\n",
    "---"
   ]
  },
  {
   "attachments": {},
   "cell_type": "markdown",
   "metadata": {},
   "source": [
    "The following example involves a situation where I want to analyze historical data on Bay Area Rapid Transit (BART) ridership at the station/hour level. BART kindly makes such ridership information publicly available on their [open data portal](https://www.bart.gov/about/reports/ridership). This post will examine the following workflow:  \n",
    "\n",
    "1. Use `bs4` and `requests` to reverse engineer an API for the data and batch download it.\n",
    "2. Use the [apache parquet](https://parquet.apache.org/) to efficiently store the data locally.\n",
    "3. Use [`dask`](https://docs.dask.org/en/stable/) for efficient read-in of the data.  \n",
    "\n",
    "This walkthrough largely serves to highlight the efficiency and the ease of use of `dask` and parquet. I find that:    \n",
    "**1.) Parquet is a relatively efficient format for storage** (@fig-1)  \n",
    "![Storage Efficiency](fig1.png){#fig-storage width=70%}  \n",
    "**2.) `dask`+parquet is a relatively fast for data IO** (@fig-2)  \n",
    "![Read-in Efficiency](fig2.png){#fig-readin width=70%}\n",
    "\n",
    "\n",
    "I should note that my adoption of `dask` and parquet storage is due to the influence of two of my day-job coworkers, Batool Hasan and Konrad Franco, after we leveraged them for an internal project with a similar workflow.  \n",
    "\n",
    "As an aside, I highly recommend watching the [\"Background\" section of this talk](https://www.youtube.com/watch?v=wKH0-zs2g_U&t=118s) for some basic information on `dask` and how it differs from Spark, DuckDB, and `polars`. The talk also features some comprehensive benchmarks of `dask` and establishes the core differences between [`dask` and Spark] in one group, and [`polars` and DuckDB] in the other.\n"
   ]
  },
  {
   "cell_type": "code",
   "execution_count": 1,
   "metadata": {},
   "outputs": [],
   "source": [
    "import pandas as pd\n",
    "import numpy as np\n",
    "import dask.dataframe as dd\n",
    "\n",
    "# Timers\n",
    "from dask.diagnostics import ProgressBar\n",
    "from tqdm import tqdm\n",
    "import time\n",
    "\n",
    "# I/O Utilities\n",
    "import requests\n",
    "from bs4 import BeautifulSoup\n",
    "import re\n",
    "import os\n",
    "from datetime import datetime\n",
    "import gc\n",
    "\n",
    "# Display\n",
    "import matplotlib.pyplot as plt"
   ]
  },
  {
   "attachments": {},
   "cell_type": "markdown",
   "metadata": {},
   "source": [
    "## Scraping our data\n",
    "Anyways, to start, here is the homepage of the BART data portal:  \n",
    "\n",
    "![BART data portal](portal.png){width=80% #fig-zero}  \n",
    "\n",
    "I'll set up a scraping script using `requests` and `BeautifulSoup` to build access to the BART hourly ridership data."
   ]
  },
  {
   "cell_type": "code",
   "execution_count": 2,
   "metadata": {},
   "outputs": [
    {
     "data": {
      "text/plain": [
       "'https://afcweb.bart.gov/ridership/origin-destination/'"
      ]
     },
     "execution_count": 2,
     "metadata": {},
     "output_type": "execute_result"
    }
   ],
   "source": [
    "# URL of the webpage to scrape\n",
    "url = 'https://afcweb.bart.gov/ridership/origin-destination/'\n",
    "url"
   ]
  },
  {
   "cell_type": "code",
   "execution_count": 3,
   "metadata": {},
   "outputs": [],
   "source": [
    "# Send an HTTP GET request to the webpage\n",
    "response = requests.get(url)\n",
    "# Check if the request was successful\n",
    "if response.status_code == 200:\n",
    "    # Parse the content of the webpage with Beautiful Soup\n",
    "    soup = BeautifulSoup(response.text, 'html.parser')\n",
    "else:\n",
    "    print(\"Failed to retrieve the webpage\")\n"
   ]
  },
  {
   "attachments": {},
   "cell_type": "markdown",
   "metadata": {},
   "source": [
    "The page is laid out as follows:  \n",
    "\n",
    "![Origin-destination pairing data](pairings.png){width=80% #fig-pointfive}\n",
    "\n",
    "My target here is the set of .csv.gz (compressed .csv files) that contain hourly ridership totals between each station pairing. These are all links, thus are in `<a> </a>` tags, and have an `href` that ends in `.csv.gz`. The following captures links to that specification:"
   ]
  },
  {
   "cell_type": "code",
   "execution_count": 4,
   "metadata": {},
   "outputs": [
    {
     "data": {
      "text/plain": [
       "<a href=\"date-hour-soo-dest-2018.csv.gz\"> date-hour-soo-dest-2018.csv.gz</a>"
      ]
     },
     "execution_count": 4,
     "metadata": {},
     "output_type": "execute_result"
    }
   ],
   "source": [
    "links = soup.find_all(\n",
    "    # final all <a></a> content\n",
    "    'a',\n",
    "    # filter to only those links with href ending in .csv.gz\n",
    "    href=lambda x: x and x.endswith(\".csv.gz\")\n",
    "    )\n",
    "# example output\n",
    "links[0]"
   ]
  },
  {
   "attachments": {},
   "cell_type": "markdown",
   "metadata": {},
   "source": [
    "I'm specifically interested in the file that this piece of html links to, which is contained in the `href` tag. I can capture the `href` for each of these pieces of html as follows"
   ]
  },
  {
   "cell_type": "code",
   "execution_count": 5,
   "metadata": {},
   "outputs": [
    {
     "data": {
      "text/plain": [
       "'date-hour-soo-dest-2018.csv.gz'"
      ]
     },
     "execution_count": 5,
     "metadata": {},
     "output_type": "execute_result"
    }
   ],
   "source": [
    "files = [l.get('href') for l in links]\n",
    "# example output\n",
    "files[0]"
   ]
  },
  {
   "attachments": {},
   "cell_type": "markdown",
   "metadata": {},
   "source": [
    "I've now captured the filename, which is a relative url. To download this, I'll need to convert this to a full url, by concatenating the base url to each of the files' relative urls. This leaves us with direct links that each prompt the download of one year's worth of hourly trip totals between the station pairings in the system:"
   ]
  },
  {
   "cell_type": "code",
   "execution_count": 6,
   "metadata": {},
   "outputs": [
    {
     "data": {
      "text/plain": [
       "['https://afcweb.bart.gov/ridership/origin-destination/date-hour-soo-dest-2018.csv.gz',\n",
       " 'https://afcweb.bart.gov/ridership/origin-destination/date-hour-soo-dest-2019.csv.gz',\n",
       " 'https://afcweb.bart.gov/ridership/origin-destination/date-hour-soo-dest-2020.csv.gz',\n",
       " 'https://afcweb.bart.gov/ridership/origin-destination/date-hour-soo-dest-2021.csv.gz',\n",
       " 'https://afcweb.bart.gov/ridership/origin-destination/date-hour-soo-dest-2022.csv.gz',\n",
       " 'https://afcweb.bart.gov/ridership/origin-destination/date-hour-soo-dest-2023.csv.gz',\n",
       " 'https://afcweb.bart.gov/ridership/origin-destination/date-hour-soo-dest-2024.csv.gz']"
      ]
     },
     "execution_count": 6,
     "metadata": {},
     "output_type": "execute_result"
    }
   ],
   "source": [
    "file_urls = [url + f for f in files]\n",
    "file_urls"
   ]
  },
  {
   "attachments": {},
   "cell_type": "markdown",
   "metadata": {},
   "source": [
    "This is our target data, so before proceeding to download all of it for local storage, we'll profile the sizes of each file and the total download:"
   ]
  },
  {
   "cell_type": "code",
   "execution_count": 7,
   "metadata": {},
   "outputs": [
    {
     "name": "stdout",
     "output_type": "stream",
     "text": [
      "File 1 size: 38627139 bytes (38.63 mega-bytes)\n",
      "File 2 size: 38177159 bytes (38.18 mega-bytes)\n",
      "File 3 size: 21415653 bytes (21.42 mega-bytes)\n",
      "File 4 size: 24350926 bytes (24.35 mega-bytes)\n",
      "File 5 size: 30546036 bytes (30.55 mega-bytes)\n",
      "File 6 size: 32224174 bytes (32.22 mega-bytes)\n",
      "File 7 size: 11183443 bytes (11.18 mega-bytes)\n",
      "Total size of data: 196.52453 mega-bytes\n"
     ]
    }
   ],
   "source": [
    "counter = 1\n",
    "total = 0\n",
    "\n",
    "for f in file_urls:\n",
    "    response = requests.head(f)\n",
    "    # Retrieve the file size for each file\n",
    "    file_size = int(response.headers.get('Content-Length', 0))\n",
    "    # Keep track of the total file size\n",
    "    total += file_size\n",
    "    print(f\"File {counter} size: {file_size} bytes ({round(file_size*10e-7, 2)} mega-bytes)\")\n",
    "    counter += 1\n",
    "print(f\"Total size of data: {total*10e-7} mega-bytes\")"
   ]
  },
  {
   "attachments": {},
   "cell_type": "markdown",
   "metadata": {},
   "source": [
    "We'll proceed to download all of this into a folder, `data`. Here I take advantage of `tqdm`'s progress bar so that I can track the potentially large job's progress. I also add logic for two conditions:  \n",
    " \n",
    "- make sure that the ingest doesn't re-read files that I already store locally.\n",
    "- UNLESS, it the data is from the current year, in which case it likely contains more data than the present file for that year."
   ]
  },
  {
   "cell_type": "code",
   "execution_count": 8,
   "metadata": {},
   "outputs": [
    {
     "name": "stderr",
     "output_type": "stream",
     "text": [
      "100%|██████████| 7/7 [00:03<00:00,  2.29it/s]\n"
     ]
    }
   ],
   "source": [
    "current_year: str = str(datetime.today().year)\n",
    "# Create the \"data\" folder if it doesn't exist\n",
    "if not os.path.exists('data'):\n",
    "    os.makedirs('data')\n",
    "# Download and save the files\n",
    "for url in tqdm(file_urls):\n",
    "    filename: str = os.path.join('data', os.path.basename(url))\n",
    "    current_year_data: bool = re.search(\"\\d{4}\", url)[0] == current_year\n",
    "    file_exists: bool = os.path.exists(filename)\n",
    "    if file_exists and not current_year_data:\n",
    "        pass\n",
    "    else:\n",
    "        response = requests.get(url)\n",
    "        if response.status_code == 200:\n",
    "            with open(filename, 'wb') as file:\n",
    "                file.write(response.content)\n",
    "        else:\n",
    "            print(f\"Failed to download: {url}\")"
   ]
  },
  {
   "attachments": {},
   "cell_type": "markdown",
   "metadata": {},
   "source": [
    "Since we are storing a large amount of data in the project directory, we will also set up a `.gitignore` to make sure that it doesn't end up being tracked in version control."
   ]
  },
  {
   "cell_type": "code",
   "execution_count": 9,
   "metadata": {},
   "outputs": [],
   "source": [
    "# Create a .gitignore file\n",
    "gitignore_content = \"data/\\n\"  # Content to exclude the \"data\" folder\n",
    "with open('.gitignore', 'w') as gitignore_file:\n",
    "    gitignore_file.write(gitignore_content)"
   ]
  },
  {
   "attachments": {},
   "cell_type": "markdown",
   "metadata": {},
   "source": [
    "I now have the raw data stored locally in the following paths."
   ]
  },
  {
   "cell_type": "code",
   "execution_count": 10,
   "metadata": {},
   "outputs": [
    {
     "data": {
      "text/plain": [
       "['data/date-hour-soo-dest-2018.csv.gz',\n",
       " 'data/date-hour-soo-dest-2019.csv.gz',\n",
       " 'data/date-hour-soo-dest-2020.csv.gz',\n",
       " 'data/date-hour-soo-dest-2021.csv.gz',\n",
       " 'data/date-hour-soo-dest-2022.csv.gz',\n",
       " 'data/date-hour-soo-dest-2023.csv.gz',\n",
       " 'data/date-hour-soo-dest-2024.csv.gz']"
      ]
     },
     "execution_count": 10,
     "metadata": {},
     "output_type": "execute_result"
    }
   ],
   "source": [
    "data_paths = [\"data/\" + f for f in files]\n",
    "data_paths"
   ]
  },
  {
   "attachments": {},
   "cell_type": "markdown",
   "metadata": {},
   "source": [
    "## Storage with parquet"
   ]
  },
  {
   "attachments": {},
   "cell_type": "markdown",
   "metadata": {},
   "source": [
    "Since these are in a usable form now, I decided against implementing any other processing steps to the data and preserve a raw form in storage, but I'll proceed to batch convert this directory and set of files into a directory of parquet files for more efficient data I/O.  \n",
    "\n",
    "When we convert to parquet we'll get two core benefits:  \n",
    "\n",
    "1. The files will be smaller (see @fig-1 ).\n",
    "2. The files can be read into memory much faster."
   ]
  },
  {
   "attachments": {},
   "cell_type": "markdown",
   "metadata": {},
   "source": [
    "To do the batch transfer from `.csv.gz` into parquet, I'll lazily read in the full directory of `.csv.gz` files using `dask`:"
   ]
  },
  {
   "attachments": {},
   "cell_type": "markdown",
   "metadata": {},
   "source": [
    "Note that what I downloaded above is not all of the BART data I have -- just what is currently on the website. I've previously downloaded extracts going back to 2011:"
   ]
  },
  {
   "cell_type": "code",
   "execution_count": 11,
   "metadata": {},
   "outputs": [
    {
     "data": {
      "text/plain": [
       "['data/date-hour-soo-dest-2011.csv.gz',\n",
       " 'data/date-hour-soo-dest-2012.csv.gz',\n",
       " 'data/date-hour-soo-dest-2013.csv.gz',\n",
       " 'data/date-hour-soo-dest-2014.csv.gz',\n",
       " 'data/date-hour-soo-dest-2015.csv.gz',\n",
       " 'data/date-hour-soo-dest-2016.csv.gz',\n",
       " 'data/date-hour-soo-dest-2017.csv.gz',\n",
       " 'data/date-hour-soo-dest-2018.csv.gz',\n",
       " 'data/date-hour-soo-dest-2019.csv.gz',\n",
       " 'data/date-hour-soo-dest-2020.csv.gz',\n",
       " 'data/date-hour-soo-dest-2021.csv.gz',\n",
       " 'data/date-hour-soo-dest-2022.csv.gz',\n",
       " 'data/date-hour-soo-dest-2023.csv.gz',\n",
       " 'data/date-hour-soo-dest-2024.csv.gz']"
      ]
     },
     "execution_count": 11,
     "metadata": {},
     "output_type": "execute_result"
    }
   ],
   "source": [
    "all_csv_paths = [\"data/\" + f for f in os.listdir(\"data\") if f.endswith(\".gz\")]\n",
    "all_csv_paths"
   ]
  },
  {
   "cell_type": "code",
   "execution_count": 12,
   "metadata": {},
   "outputs": [
    {
     "data": {
      "text/html": [
       "<div><strong>Dask DataFrame Structure:</strong></div>\n",
       "<table border=\"1\" class=\"dataframe\">\n",
       "  <thead>\n",
       "    <tr style=\"text-align: right;\">\n",
       "      <th></th>\n",
       "      <th>Date</th>\n",
       "      <th>Hour</th>\n",
       "      <th>Start</th>\n",
       "      <th>End</th>\n",
       "      <th>Riders</th>\n",
       "    </tr>\n",
       "    <tr>\n",
       "      <th>npartitions=14</th>\n",
       "      <th></th>\n",
       "      <th></th>\n",
       "      <th></th>\n",
       "      <th></th>\n",
       "      <th></th>\n",
       "    </tr>\n",
       "  </thead>\n",
       "  <tbody>\n",
       "    <tr>\n",
       "      <th></th>\n",
       "      <td>string</td>\n",
       "      <td>int64</td>\n",
       "      <td>string</td>\n",
       "      <td>string</td>\n",
       "      <td>int64</td>\n",
       "    </tr>\n",
       "    <tr>\n",
       "      <th></th>\n",
       "      <td>...</td>\n",
       "      <td>...</td>\n",
       "      <td>...</td>\n",
       "      <td>...</td>\n",
       "      <td>...</td>\n",
       "    </tr>\n",
       "    <tr>\n",
       "      <th>...</th>\n",
       "      <td>...</td>\n",
       "      <td>...</td>\n",
       "      <td>...</td>\n",
       "      <td>...</td>\n",
       "      <td>...</td>\n",
       "    </tr>\n",
       "    <tr>\n",
       "      <th></th>\n",
       "      <td>...</td>\n",
       "      <td>...</td>\n",
       "      <td>...</td>\n",
       "      <td>...</td>\n",
       "      <td>...</td>\n",
       "    </tr>\n",
       "    <tr>\n",
       "      <th></th>\n",
       "      <td>...</td>\n",
       "      <td>...</td>\n",
       "      <td>...</td>\n",
       "      <td>...</td>\n",
       "      <td>...</td>\n",
       "    </tr>\n",
       "  </tbody>\n",
       "</table>\n",
       "<div>Dask Name: operation, 2 expressions</div>"
      ],
      "text/plain": [
       "Dask DataFrame Structure:\n",
       "                  Date   Hour   Start     End Riders\n",
       "npartitions=14                                      \n",
       "                string  int64  string  string  int64\n",
       "                   ...    ...     ...     ...    ...\n",
       "...                ...    ...     ...     ...    ...\n",
       "                   ...    ...     ...     ...    ...\n",
       "                   ...    ...     ...     ...    ...\n",
       "Dask Name: operation, 2 expressions\n",
       "Expr=ColumnsSetter(frame=ReadCSV(3822019), columns=['Date', 'Hour', 'Start', 'End', 'Riders'])"
      ]
     },
     "execution_count": 12,
     "metadata": {},
     "output_type": "execute_result"
    }
   ],
   "source": [
    "data = dd.read_csv(all_csv_paths, blocksize=None, compression='gzip')\n",
    "data.columns = ['Date', 'Hour', 'Start', 'End', 'Riders']\n",
    "data"
   ]
  },
  {
   "attachments": {},
   "cell_type": "markdown",
   "metadata": {},
   "source": [
    "...  \n",
    "\n",
    "Now I'll establish a subdirectory in `data` that's just for the parquet directory"
   ]
  },
  {
   "cell_type": "code",
   "execution_count": 13,
   "metadata": {},
   "outputs": [],
   "source": [
    "if not os.path.exists('data/parquet_data'):\n",
    "    os.makedirs('data/parquet_data')"
   ]
  },
  {
   "attachments": {},
   "cell_type": "markdown",
   "metadata": {},
   "source": [
    "and I'll write out to that folder using `dask`, with a progress bar to monitor how long this takes (note that these progress bars may not be visible in this document)."
   ]
  },
  {
   "cell_type": "code",
   "execution_count": 14,
   "metadata": {},
   "outputs": [],
   "source": [
    "pbar = ProgressBar()\n",
    "pbar.register()"
   ]
  },
  {
   "attachments": {},
   "cell_type": "markdown",
   "metadata": {},
   "source": [
    "For data of this size, the one-time conversion takes under two minutes"
   ]
  },
  {
   "cell_type": "code",
   "execution_count": 15,
   "metadata": {},
   "outputs": [
    {
     "name": "stdout",
     "output_type": "stream",
     "text": [
      "[########################################] | 100% Completed | 121.58 s\n"
     ]
    }
   ],
   "source": [
    "#| output: false\n",
    "data.to_parquet('data/parquet_data', write_index=False)"
   ]
  },
  {
   "attachments": {},
   "cell_type": "markdown",
   "metadata": {},
   "source": [
    "### Storage Comparison\n",
    "Now that we have the files saved, we can conduct a quick check on how storage size differs. I'll write a helper function to calculate the total bytes of all the files in a given directory."
   ]
  },
  {
   "cell_type": "code",
   "execution_count": 16,
   "metadata": {},
   "outputs": [],
   "source": [
    "def get_local_bytes(directory: str) -> int:\n",
    "    contents: list[str] = os.listdir(directory)\n",
    "    contents_w_path: list[str] = [os.path.join(directory, f) for f in contents]\n",
    "    files_not_folders: list[str] = [f for f in contents_w_path\n",
    "                         if os.path.isfile(f)]\n",
    "    return sum(os.path.getsize(f) for f in files_not_folders)"
   ]
  },
  {
   "cell_type": "code",
   "execution_count": 17,
   "metadata": {},
   "outputs": [
    {
     "data": {
      "image/png": "[encoded data removed]",
      "text/plain": [
       "<Figure size 640x480 with 1 Axes>"
      ]
     },
     "metadata": {},
     "output_type": "display_data"
    }
   ],
   "source": [
    "#| label: fig-1\n",
    "#| fig-cap: \"Storage Comparison: .csv.gz versus parquet\"\n",
    "#| code-fold: true\n",
    "fig, ax = plt.subplots()\n",
    "pd.DataFrame(\n",
    "    {\n",
    "        '.csv.gz': [round(get_local_bytes('data')*10e-7, 2)],\n",
    "        'parquet': [round(get_local_bytes('data/parquet_data')*10e-7, 2)]\n",
    "    }, index=['Bart Data Size']\n",
    ").T.plot.bar(ax=ax)\n",
    "ax.bar_label(ax.containers[0], fmt=\"%g megabytes\")\n",
    "ax.set(ylabel='Megabytes', xlabel='File Type')\n",
    "ax.tick_params(axis='x', rotation=0)\n",
    "fig.tight_layout()\n",
    "fig.savefig('fig1.png', dpi=300)"
   ]
  },
  {
   "attachments": {},
   "cell_type": "markdown",
   "metadata": {},
   "source": [
    "`parquet` is pretty good here."
   ]
  },
  {
   "attachments": {},
   "cell_type": "markdown",
   "metadata": {},
   "source": [
    "## Reading parquet"
   ]
  },
  {
   "attachments": {},
   "cell_type": "markdown",
   "metadata": {},
   "source": [
    "With the data in parquet, it's now very easy to read in and analyze all of this ridership data, and we'll see that it's much faster that working with `.csv.gz` data (see @fig-2 for the efficiency conclusions).\n",
    "\n",
    "### `dask` with parquet\n",
    "\n",
    "Here I'll use `dask` to read in about 52 million rows of data in well under 30 seconds, in a single line of code.  \n",
    "\n",
    "Note that the code for reading in the data, `dd.read_parquet('data/parquet_data')` executes lazily -- it's not reading data into memory yet! I've seen some guides online that benchmark `dask` and `pandas` based on un-computed `dask` commands, which completely misses how `dask` works. Here, I'm going to explicitly call the `compute()` method at the end of the code, which prompts the actual reading in of the data from local file to memory."
   ]
  },
  {
   "cell_type": "code",
   "execution_count": 18,
   "metadata": {},
   "outputs": [
    {
     "name": "stdout",
     "output_type": "stream",
     "text": [
      "[########################################] | 100% Completed | 32.26 s\n"
     ]
    }
   ],
   "source": [
    "#| output: false\n",
    "start = time.time()\n",
    "df = dd.read_parquet('data/parquet_data').compute()\n",
    "dask_parquet_end = time.time() - start"
   ]
  },
  {
   "attachments": {},
   "cell_type": "markdown",
   "metadata": {},
   "source": [
    "Note that I called `start = time.time()` and `dask_parquet_endtime = time.time()` to store the time that it takes to complete this task."
   ]
  },
  {
   "attachments": {},
   "cell_type": "markdown",
   "metadata": {},
   "source": [
    "Anyways, we just loaded in fairly large data:"
   ]
  },
  {
   "cell_type": "code",
   "execution_count": 19,
   "metadata": {},
   "outputs": [
    {
     "data": {
      "text/plain": [
       "(121427227, 5)"
      ]
     },
     "execution_count": 19,
     "metadata": {},
     "output_type": "execute_result"
    }
   ],
   "source": [
    "df.shape"
   ]
  },
  {
   "attachments": {},
   "cell_type": "markdown",
   "metadata": {},
   "source": [
    "In what seems like a short amount of time:"
   ]
  },
  {
   "cell_type": "code",
   "execution_count": 20,
   "metadata": {},
   "outputs": [
    {
     "name": "stdout",
     "output_type": "stream",
     "text": [
      "32.5 seconds\n"
     ]
    }
   ],
   "source": [
    "print(round(dask_parquet_end, 2), \"seconds\")"
   ]
  },
  {
   "attachments": {},
   "cell_type": "markdown",
   "metadata": {},
   "source": [
    "and this data is now all in memory as a `pandas` dataframe, ready for typical use."
   ]
  },
  {
   "cell_type": "code",
   "execution_count": 21,
   "metadata": {},
   "outputs": [
    {
     "data": {
      "text/html": [
       "<div>\n",
       "<style scoped>\n",
       "    .dataframe tbody tr th:only-of-type {\n",
       "        vertical-align: middle;\n",
       "    }\n",
       "\n",
       "    .dataframe tbody tr th {\n",
       "        vertical-align: top;\n",
       "    }\n",
       "\n",
       "    .dataframe thead th {\n",
       "        text-align: right;\n",
       "    }\n",
       "</style>\n",
       "<table border=\"1\" class=\"dataframe\">\n",
       "  <thead>\n",
       "    <tr style=\"text-align: right;\">\n",
       "      <th></th>\n",
       "      <th>Date</th>\n",
       "      <th>Hour</th>\n",
       "      <th>Start</th>\n",
       "      <th>End</th>\n",
       "      <th>Riders</th>\n",
       "    </tr>\n",
       "  </thead>\n",
       "  <tbody>\n",
       "    <tr>\n",
       "      <th>0</th>\n",
       "      <td>2011-01-01</td>\n",
       "      <td>0</td>\n",
       "      <td>12TH</td>\n",
       "      <td>16TH</td>\n",
       "      <td>1</td>\n",
       "    </tr>\n",
       "    <tr>\n",
       "      <th>1</th>\n",
       "      <td>2011-01-01</td>\n",
       "      <td>0</td>\n",
       "      <td>12TH</td>\n",
       "      <td>24TH</td>\n",
       "      <td>3</td>\n",
       "    </tr>\n",
       "    <tr>\n",
       "      <th>2</th>\n",
       "      <td>2011-01-01</td>\n",
       "      <td>0</td>\n",
       "      <td>12TH</td>\n",
       "      <td>ASHB</td>\n",
       "      <td>2</td>\n",
       "    </tr>\n",
       "    <tr>\n",
       "      <th>3</th>\n",
       "      <td>2011-01-01</td>\n",
       "      <td>0</td>\n",
       "      <td>12TH</td>\n",
       "      <td>BAYF</td>\n",
       "      <td>5</td>\n",
       "    </tr>\n",
       "    <tr>\n",
       "      <th>4</th>\n",
       "      <td>2011-01-01</td>\n",
       "      <td>0</td>\n",
       "      <td>12TH</td>\n",
       "      <td>CIVC</td>\n",
       "      <td>3</td>\n",
       "    </tr>\n",
       "  </tbody>\n",
       "</table>\n",
       "</div>"
      ],
      "text/plain": [
       "         Date  Hour Start   End  Riders\n",
       "0  2011-01-01     0  12TH  16TH       1\n",
       "1  2011-01-01     0  12TH  24TH       3\n",
       "2  2011-01-01     0  12TH  ASHB       2\n",
       "3  2011-01-01     0  12TH  BAYF       5\n",
       "4  2011-01-01     0  12TH  CIVC       3"
      ]
     },
     "execution_count": 21,
     "metadata": {},
     "output_type": "execute_result"
    }
   ],
   "source": [
    "df.head()"
   ]
  },
  {
   "attachments": {},
   "cell_type": "markdown",
   "metadata": {},
   "source": [
    "## Benchmarking the read-in task"
   ]
  },
  {
   "attachments": {},
   "cell_type": "markdown",
   "metadata": {},
   "source": [
    "Before we celebrate too much, lets compare that performance to our other possible cases. We'll compare how the following read-in setups compare:  \n",
    "\n",
    "- `dask` + parquet\n",
    "- `dask` + `.csv.gz`\n",
    "- `pandas` + parquet\n",
    "- `pandas` + `.csv.gz`"
   ]
  },
  {
   "attachments": {},
   "cell_type": "markdown",
   "metadata": {},
   "source": [
    "Before I start doing these benchmarks, I'll need to do some memory cleaning so that I can repeatedly read these files in:"
   ]
  },
  {
   "cell_type": "code",
   "execution_count": 22,
   "metadata": {},
   "outputs": [
    {
     "data": {
      "text/plain": [
       "58"
      ]
     },
     "execution_count": 22,
     "metadata": {},
     "output_type": "execute_result"
    }
   ],
   "source": [
    "#| output: false\n",
    "del df\n",
    "gc.collect()"
   ]
  },
  {
   "attachments": {},
   "cell_type": "markdown",
   "metadata": {},
   "source": [
    "### `dask` with .csv.gz"
   ]
  },
  {
   "attachments": {},
   "cell_type": "markdown",
   "metadata": {},
   "source": [
    "Here we simply use the `.csv.gz` files with `dask` -- does the parallel processing in `dask` make the conversion from `.csv.gz` to parquet not worth it?"
   ]
  },
  {
   "cell_type": "code",
   "execution_count": 23,
   "metadata": {},
   "outputs": [],
   "source": [
    "#| output: false\n",
    "if not os.path.exists(\"times.csv\"):\n",
    "    start = time.time()\n",
    "    df_dask_csv = dd.read_csv(data_paths,\n",
    "                              blocksize=None,\n",
    "                              compression='gzip').compute()\n",
    "    dask_csv_end = time.time() - start\n",
    "    del df_dask_csv\n",
    "    gc.collect()"
   ]
  },
  {
   "attachments": {},
   "cell_type": "markdown",
   "metadata": {},
   "source": [
    "### `pandas` with .csv.gz"
   ]
  },
  {
   "attachments": {},
   "cell_type": "markdown",
   "metadata": {},
   "source": [
    "Here we simply use the `.csv.gz` files with `pandas` for read-in -- how do things look if we use no new libraries and do no file conversions?"
   ]
  },
  {
   "cell_type": "code",
   "execution_count": 24,
   "metadata": {},
   "outputs": [],
   "source": [
    "#| output: false\n",
    "if not os.path.exists(\"times.csv\"):\n",
    "    dfs = []\n",
    "    start = time.time()\n",
    "    for csv_path in tqdm(data_paths):\n",
    "        dfs.append(pd.read_csv(csv_path))\n",
    "    df_pandas = pd.concat(dfs)\n",
    "    pandas_csv_end = time.time() - start\n",
    "    del df_pandas\n",
    "    gc.collect()"
   ]
  },
  {
   "attachments": {},
   "cell_type": "markdown",
   "metadata": {},
   "source": [
    "### `pandas` with parquet"
   ]
  },
  {
   "attachments": {},
   "cell_type": "markdown",
   "metadata": {},
   "source": [
    "Finally, we'll take advantage of the fact that `pandas` also supports the read-in of directories of parquet data and try the parquet files with `pandas` for read-in -- can we avoid using `dask`?"
   ]
  },
  {
   "cell_type": "code",
   "execution_count": 25,
   "metadata": {},
   "outputs": [],
   "source": [
    "#| output: false\n",
    "if not os.path.exists(\"times.csv\"):\n",
    "    start = time.time()\n",
    "    df_pandas_parquet = pd.read_parquet('data/parquet_data')\n",
    "    pandas_parquet_end = time.time() - start\n",
    "    del df_pandas_parquet\n",
    "    gc.collect()"
   ]
  },
  {
   "attachments": {},
   "cell_type": "markdown",
   "metadata": {},
   "source": [
    "We'll answer all of those questions at once with a plot:"
   ]
  },
  {
   "cell_type": "code",
   "execution_count": 26,
   "metadata": {},
   "outputs": [
    {
     "data": {
      "image/png": "[encoded data removed]",
      "text/plain": [
       "<Figure size 640x480 with 1 Axes>"
      ]
     },
     "metadata": {},
     "output_type": "display_data"
    }
   ],
   "source": [
    "#| label: fig-2\n",
    "#| fig-cap: \"Storage Comparison: .csv.gz versus parquet\"\n",
    "#| code-fold: true\n",
    "if not os.path.exists(\"times.csv\"):\n",
    "    times = pd.DataFrame(\n",
    "        {\n",
    "            'dask + parquet': [round(dask_parquet_end, 2)],\n",
    "            'dask + .csv.gz': [round(dask_csv_end, 2)],\n",
    "            'pandas + parquet': [round(pandas_parquet_end, 2)],\n",
    "            'pandas + .csv.gz': [round(pandas_csv_end, 2)],\n",
    "        }, index=['Bart Data Read-In Time']\n",
    "    )\n",
    "    times.to_csv('times.csv')\n",
    "else:\n",
    "    times = pd.read_csv('times.csv', index_col=0)\n",
    "fig, ax = plt.subplots()\n",
    "times.T.sort_values(by='Bart Data Read-In Time', ascending=False).plot.barh(ax=ax)\n",
    "ax.bar_label(ax.containers[0], fmt=\" %g seconds\")\n",
    "ax.set(xlabel='Seconds', ylabel='Package + Storage Method', xlim=(0, 85))\n",
    "ax.tick_params(axis='x', rotation=0)\n",
    "fig.tight_layout()\n",
    "fig.savefig('fig2.png', dpi=300)"
   ]
  },
  {
   "attachments": {},
   "cell_type": "markdown",
   "metadata": {},
   "source": [
    "Again, parquet, and especially parquet with `dask`, looks pretty good here."
   ]
  },
  {
   "attachments": {},
   "cell_type": "markdown",
   "metadata": {},
   "source": [
    "### Some reflection\n",
    "\n",
    "These differences in seconds aren't so massive in the context of this 52 million row dataset. Indeed, in my experience with smaller row counts, just using .csv.gz/.csv with `pandas` is faster, as `dask` has to take time to set up parallel jobs at the start, and a parquet conversion has a fixed time cost up front. However, as the size of the data increases, one would expect the gap between the dask + parquet approach to start to diverge from the others more, and the efficiency gains become more important.  \n",
    "\n",
    "Even beyond the time differences, I'm especially partial to `dask`+parquet due to the difference in how much code is required at read-in. I also love the fact that `dask` can read in an entire directory of data easily in one line of code:  \n",
    "\n",
    "```{python}\n",
    "df = dd.read_parquet('data/parquet_data').compute()\n",
    "```"
   ]
  }
 ],
 "metadata": {
  "kernelspec": {
   "display_name": "info251",
   "language": "python",
   "name": "info251"
  },
  "language_info": {
   "codemirror_mode": {
    "name": "ipython",
    "version": 3
   },
   "file_extension": ".py",
   "mimetype": "text/x-python",
   "name": "python",
   "nbconvert_exporter": "python",
   "pygments_lexer": "ipython3",
   "version": "3.9.15"
  },
  "orig_nbformat": 4
 },
 "nbformat": 4,
 "nbformat_minor": 2
}
